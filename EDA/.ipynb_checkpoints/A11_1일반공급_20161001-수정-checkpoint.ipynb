{
 "cells": [
  {
   "cell_type": "code",
   "execution_count": 330,
   "metadata": {
    "collapsed": false
   },
   "outputs": [],
   "source": [
    "import sys\n",
    "import pandas as pd\n",
    "import numpy as np\n",
    "sys.path.append(\"..\") # 시스템 경로 변경(MySQLConnect 클래스 부르기 위함)"
   ]
  },
  {
   "cell_type": "code",
   "execution_count": 331,
   "metadata": {
    "collapsed": true
   },
   "outputs": [],
   "source": [
    "from MySQLConnect import MySQLConnect"
   ]
  },
  {
   "cell_type": "code",
   "execution_count": 332,
   "metadata": {
    "collapsed": true
   },
   "outputs": [],
   "source": [
    "# 접속정보\n",
    "host = 'kmaster.czypjmusens3.ap-northeast-2.rds.amazonaws.com'\n",
    "user = 'KMaster'\n",
    "password = 'kookmin1234'\n",
    "db = 'km_db'"
   ]
  },
  {
   "cell_type": "code",
   "execution_count": 333,
   "metadata": {
    "collapsed": false
   },
   "outputs": [
    {
     "name": "stdout",
     "output_type": "stream",
     "text": [
      "del\n"
     ]
    }
   ],
   "source": [
    "dc = MySQLConnect(host, user, password, db)"
   ]
  },
  {
   "cell_type": "code",
   "execution_count": 334,
   "metadata": {
    "collapsed": false
   },
   "outputs": [],
   "source": [
    "# 조회조건 들어갈 변수\n",
    "block_nm = 'A11-1';A_6 = '59형'; A_11 = '본인'; general_1 = '일%'; general_2 = 'N%'; general_3 = '';"
   ]
  },
  {
   "cell_type": "code",
   "execution_count": 335,
   "metadata": {
    "collapsed": true
   },
   "outputs": [],
   "source": [
    "# 데이터 담을 dataframe\n",
    "full_data = pd.DataFrame(index = range(1))"
   ]
  },
  {
   "cell_type": "code",
   "execution_count": 336,
   "metadata": {
    "collapsed": false
   },
   "outputs": [],
   "source": [
    "# 일반공급 Query 시에만 사용\n",
    "A11_general = pd.DataFrame(list(dc.getRecord(\"*\", \"LEASE_DATA\", \"BLOCK_NM = '\"+block_nm+\"' and A_6 = '\"+A_6+\"' and A_11 = '\"+A_11+\"' and (W_14 like '\"+general_1+\"' or W_14 like '\"+general_2+\"' or W_14 = '\"+general_3+ \"') \" )))"
   ]
  },
  {
   "cell_type": "code",
   "execution_count": 337,
   "metadata": {
    "collapsed": false,
    "scrolled": true
   },
   "outputs": [
    {
     "data": {
      "text/plain": [
       "966"
      ]
     },
     "execution_count": 337,
     "metadata": {},
     "output_type": "execute_result"
    }
   ],
   "source": [
    "len(A11_general) # 전체인원수"
   ]
  },
  {
   "cell_type": "code",
   "execution_count": 338,
   "metadata": {
    "collapsed": false,
    "scrolled": true
   },
   "outputs": [],
   "source": [
    "full_data['신청인원'] = len(A11_general)"
   ]
  },
  {
   "cell_type": "markdown",
   "metadata": {},
   "source": [
    "###### 일반공급 이면서 당첨/탈락 으로 분류"
   ]
  },
  {
   "cell_type": "code",
   "execution_count": 339,
   "metadata": {
    "collapsed": true
   },
   "outputs": [],
   "source": [
    "A11_general_win = A11_general.ix[A11_general.W_4==\"당첨\"]\n",
    "A11_general_lose = A11_general.ix[A11_general.W_4!=\"당첨\"]"
   ]
  },
  {
   "cell_type": "code",
   "execution_count": 340,
   "metadata": {
    "collapsed": false,
    "scrolled": false
   },
   "outputs": [
    {
     "data": {
      "text/plain": [
       "42"
      ]
     },
     "execution_count": 340,
     "metadata": {},
     "output_type": "execute_result"
    }
   ],
   "source": [
    "len(A11_general_win) # 당첨 : 57명"
   ]
  },
  {
   "cell_type": "code",
   "execution_count": 341,
   "metadata": {
    "collapsed": false,
    "scrolled": true
   },
   "outputs": [
    {
     "data": {
      "text/plain": [
       "924"
      ]
     },
     "execution_count": 341,
     "metadata": {},
     "output_type": "execute_result"
    }
   ],
   "source": [
    "len(A11_general_lose) # 탈락 : 63명"
   ]
  },
  {
   "cell_type": "markdown",
   "metadata": {},
   "source": [
    "###### 일반공급 ###########################################################################################################\n",
    "###### 소득70%적용(W_16 == 'Y') -> 당첨자신청순위(W_13 : 3순위부터) -> 3자녀이상여부(A_33) (Y/N 순으로)\n",
    "###### 소득70%적용(W_16 != 'Y') -> 당첨자신청순위(W_13 : 3순위부터) -> 3자녀이상여부(A_33) (Y/N 순으로)\n",
    "###### 일반공급 ###########################################################################################################"
   ]
  },
  {
   "cell_type": "code",
   "execution_count": 342,
   "metadata": {
    "collapsed": false
   },
   "outputs": [
    {
     "data": {
      "text/plain": [
       "W_16  W_13  A_33\n",
       "      1순위   N       12\n",
       "            Y        7\n",
       "Y     1순위   N       13\n",
       "            Y        2\n",
       "Name: W_21, dtype: int64"
      ]
     },
     "execution_count": 342,
     "metadata": {},
     "output_type": "execute_result"
    }
   ],
   "source": [
    "A11_general_win.groupby(['W_16', 'W_13', 'A_33'])['W_21'].min() # A_33 : 3자녀이상 여부"
   ]
  },
  {
   "cell_type": "code",
   "execution_count": 393,
   "metadata": {
    "collapsed": false
   },
   "outputs": [],
   "source": [
    "full_data['커트라인점수'] = str(2)+'(70%/1순위/Y)' # 3자녀 여부만 확인"
   ]
  },
  {
   "cell_type": "code",
   "execution_count": 394,
   "metadata": {
    "collapsed": false
   },
   "outputs": [
    {
     "data": {
      "text/html": [
       "<div>\n",
       "<table border=\"1\" class=\"dataframe\">\n",
       "  <thead>\n",
       "    <tr style=\"text-align: right;\">\n",
       "      <th></th>\n",
       "      <th>신청인원</th>\n",
       "      <th>커트라인점수</th>\n",
       "      <th>50%이하_당첨</th>\n",
       "      <th>50%이하_탈락</th>\n",
       "      <th>50%초과_당첨</th>\n",
       "      <th>50%초과_탈락</th>\n",
       "      <th>세대주_50세이상_당첨</th>\n",
       "      <th>세대주_50세이상_탈락</th>\n",
       "      <th>세대주_40세이상_당첨</th>\n",
       "      <th>세대주_40세이상_탈락</th>\n",
       "      <th>...</th>\n",
       "      <th>65세_미부양_당첨</th>\n",
       "      <th>65세_미부양_탈락</th>\n",
       "      <th>제조업_근무_당첨</th>\n",
       "      <th>제조업_근무_탈락</th>\n",
       "      <th>제조업_미근무_당첨</th>\n",
       "      <th>제조업_미근무_탈락</th>\n",
       "      <th>사회취약계층_해당_당첨</th>\n",
       "      <th>사회취약계층_해당_탈락</th>\n",
       "      <th>사회취약계층_미해당_당첨</th>\n",
       "      <th>사회취약계층_미해당_탈락</th>\n",
       "    </tr>\n",
       "  </thead>\n",
       "  <tbody>\n",
       "    <tr>\n",
       "      <th>0</th>\n",
       "      <td>966</td>\n",
       "      <td>2(70%/1순위/Y)</td>\n",
       "      <td>23</td>\n",
       "      <td>679</td>\n",
       "      <td>19</td>\n",
       "      <td>245</td>\n",
       "      <td>7</td>\n",
       "      <td>317</td>\n",
       "      <td>22</td>\n",
       "      <td>226</td>\n",
       "      <td>...</td>\n",
       "      <td>37</td>\n",
       "      <td>828</td>\n",
       "      <td>2</td>\n",
       "      <td>30</td>\n",
       "      <td>40</td>\n",
       "      <td>894</td>\n",
       "      <td>3</td>\n",
       "      <td>67</td>\n",
       "      <td>39</td>\n",
       "      <td>857</td>\n",
       "    </tr>\n",
       "  </tbody>\n",
       "</table>\n",
       "<p>1 rows × 60 columns</p>\n",
       "</div>"
      ],
      "text/plain": [
       "   신청인원        커트라인점수  50%이하_당첨  50%이하_탈락  50%초과_당첨  50%초과_탈락  세대주_50세이상_당첨  \\\n",
       "0   966  2(70%/1순위/Y)        23       679        19       245             7   \n",
       "\n",
       "   세대주_50세이상_탈락  세대주_40세이상_당첨  세대주_40세이상_탈락      ...        65세_미부양_당첨  \\\n",
       "0           317            22           226      ...                37   \n",
       "\n",
       "   65세_미부양_탈락  제조업_근무_당첨  제조업_근무_탈락  제조업_미근무_당첨  제조업_미근무_탈락  사회취약계층_해당_당첨  \\\n",
       "0         828          2         30          40         894             3   \n",
       "\n",
       "   사회취약계층_해당_탈락  사회취약계층_미해당_당첨  사회취약계층_미해당_탈락  \n",
       "0            67             39            857  \n",
       "\n",
       "[1 rows x 60 columns]"
      ]
     },
     "execution_count": 394,
     "metadata": {},
     "output_type": "execute_result"
    }
   ],
   "source": [
    "full_data"
   ]
  },
  {
   "cell_type": "markdown",
   "metadata": {},
   "source": [
    "###### 50% 이하 / 초과 데이터 나누기(A11_general : 원본 데이터 에서 진행)"
   ]
  },
  {
   "cell_type": "code",
   "execution_count": 345,
   "metadata": {
    "collapsed": true
   },
   "outputs": [],
   "source": [
    "## 일반 당첨 50%이하/초과\n",
    "A11_general_win_50down = A11_general_win.ix[A11_general_win.A_32 == '50%이하']\n",
    "A11_general_win_50up = A11_general_win.ix[A11_general_win.A_32 != '50%이하']\n",
    "## 일반 탈락 50%이하/초과\n",
    "A11_general_lose_50down = A11_general_lose.ix[A11_general_lose.A_32 == '50%이하']\n",
    "A11_general_lose_50up = A11_general_lose.ix[A11_general_lose.A_32 != '50%이하']"
   ]
  },
  {
   "cell_type": "code",
   "execution_count": 346,
   "metadata": {
    "collapsed": true
   },
   "outputs": [],
   "source": [
    "full_data['50%이하_당첨'] = len(A11_general_win_50down)"
   ]
  },
  {
   "cell_type": "code",
   "execution_count": 347,
   "metadata": {
    "collapsed": true
   },
   "outputs": [],
   "source": [
    "full_data['50%이하_탈락'] = len(A11_general_lose_50down)"
   ]
  },
  {
   "cell_type": "code",
   "execution_count": 348,
   "metadata": {
    "collapsed": true
   },
   "outputs": [],
   "source": [
    "full_data['50%초과_당첨'] = len(A11_general_win_50up)"
   ]
  },
  {
   "cell_type": "code",
   "execution_count": 349,
   "metadata": {
    "collapsed": true
   },
   "outputs": [],
   "source": [
    "full_data['50%초과_탈락'] = len(A11_general_lose_50up)"
   ]
  },
  {
   "cell_type": "markdown",
   "metadata": {},
   "source": [
    "##### 세대주 나이 구간화"
   ]
  },
  {
   "cell_type": "code",
   "execution_count": 350,
   "metadata": {
    "collapsed": true
   },
   "outputs": [],
   "source": [
    "bins = [29,39,49,99] # range 범위 지정\n",
    "group_names = ['30대이상', '40대이상', '50대이상'] # 지정할 그룹명\n",
    "categories_win = pd.cut(A11_general_win['A_34'], bins, labels=group_names) # 일반 당첨\n",
    "categories_lose = pd.cut(A11_general_lose['A_34'], bins, labels=group_names) # 일반 당첨"
   ]
  },
  {
   "cell_type": "code",
   "execution_count": 351,
   "metadata": {
    "collapsed": false,
    "scrolled": true
   },
   "outputs": [
    {
     "name": "stderr",
     "output_type": "stream",
     "text": [
      "C:\\Users\\Administrator\\Anaconda3\\lib\\site-packages\\ipykernel\\__main__.py:1: SettingWithCopyWarning: \n",
      "A value is trying to be set on a copy of a slice from a DataFrame.\n",
      "Try using .loc[row_indexer,col_indexer] = value instead\n",
      "\n",
      "See the caveats in the documentation: http://pandas.pydata.org/pandas-docs/stable/indexing.html#indexing-view-versus-copy\n",
      "  if __name__ == '__main__':\n",
      "C:\\Users\\Administrator\\Anaconda3\\lib\\site-packages\\ipykernel\\__main__.py:2: SettingWithCopyWarning: \n",
      "A value is trying to be set on a copy of a slice from a DataFrame.\n",
      "Try using .loc[row_indexer,col_indexer] = value instead\n",
      "\n",
      "See the caveats in the documentation: http://pandas.pydata.org/pandas-docs/stable/indexing.html#indexing-view-versus-copy\n",
      "  from ipykernel import kernelapp as app\n"
     ]
    }
   ],
   "source": [
    "A11_general_win['세대주나이분류'] = categories_win\n",
    "A11_general_lose['세대주나이분류'] = categories_lose"
   ]
  },
  {
   "cell_type": "code",
   "execution_count": 352,
   "metadata": {
    "collapsed": false,
    "scrolled": true
   },
   "outputs": [],
   "source": [
    "## 일반 당첨 30/40/50\n",
    "A11_general_win_30 = A11_general_win.ix[A11_general_win.세대주나이분류 == '30대이상']\n",
    "A11_general_win_40 = A11_general_win.ix[A11_general_win.세대주나이분류 == '40대이상']\n",
    "A11_general_win_50 = A11_general_win.ix[A11_general_win.세대주나이분류 == '50대이상']\n",
    "## 일반 탈락 30/40/50\n",
    "A11_general_lose_30 = A11_general_lose.ix[A11_general_lose.세대주나이분류 == '30대이상']\n",
    "A11_general_lose_40 = A11_general_lose.ix[A11_general_lose.세대주나이분류 == '40대이상']\n",
    "A11_general_lose_50 = A11_general_lose.ix[A11_general_lose.세대주나이분류 == '50대이상']"
   ]
  },
  {
   "cell_type": "code",
   "execution_count": 353,
   "metadata": {
    "collapsed": true
   },
   "outputs": [],
   "source": [
    "full_data['세대주_50세이상_당첨'] = len(A11_general_win_50)"
   ]
  },
  {
   "cell_type": "code",
   "execution_count": 354,
   "metadata": {
    "collapsed": true
   },
   "outputs": [],
   "source": [
    "full_data['세대주_50세이상_탈락'] = len(A11_general_lose_50)"
   ]
  },
  {
   "cell_type": "code",
   "execution_count": 355,
   "metadata": {
    "collapsed": true
   },
   "outputs": [],
   "source": [
    "full_data['세대주_40세이상_당첨'] = len(A11_general_win_40)"
   ]
  },
  {
   "cell_type": "code",
   "execution_count": 356,
   "metadata": {
    "collapsed": true
   },
   "outputs": [],
   "source": [
    "full_data['세대주_40세이상_탈락'] = len(A11_general_lose_40)"
   ]
  },
  {
   "cell_type": "code",
   "execution_count": 357,
   "metadata": {
    "collapsed": true
   },
   "outputs": [],
   "source": [
    "full_data['세대주_30세이상_당첨'] = len(A11_general_win_30)"
   ]
  },
  {
   "cell_type": "code",
   "execution_count": 358,
   "metadata": {
    "collapsed": true
   },
   "outputs": [],
   "source": [
    "full_data['세대주_30세이상_탈락'] = len(A11_general_lose_30)"
   ]
  },
  {
   "cell_type": "markdown",
   "metadata": {},
   "source": [
    "##### 부양가족 수 구간화"
   ]
  },
  {
   "cell_type": "code",
   "execution_count": 359,
   "metadata": {
    "collapsed": false
   },
   "outputs": [],
   "source": [
    "child_bins = [0,1,2,9] # range 범위 지정\n",
    "child_group_names = ['1인', '2인', '3인'] # 지정할 그룹명\n",
    "child_categories_win = pd.cut(A11_general_win['A_35'], child_bins, labels=child_group_names) # 일반 부양 당첨\n",
    "child_categories_lose = pd.cut(A11_general_lose['A_35'], child_bins, labels=child_group_names) # 일반 부양 탈락"
   ]
  },
  {
   "cell_type": "code",
   "execution_count": 360,
   "metadata": {
    "collapsed": false,
    "scrolled": true
   },
   "outputs": [
    {
     "name": "stderr",
     "output_type": "stream",
     "text": [
      "C:\\Users\\Administrator\\Anaconda3\\lib\\site-packages\\ipykernel\\__main__.py:1: SettingWithCopyWarning: \n",
      "A value is trying to be set on a copy of a slice from a DataFrame.\n",
      "Try using .loc[row_indexer,col_indexer] = value instead\n",
      "\n",
      "See the caveats in the documentation: http://pandas.pydata.org/pandas-docs/stable/indexing.html#indexing-view-versus-copy\n",
      "  if __name__ == '__main__':\n",
      "C:\\Users\\Administrator\\Anaconda3\\lib\\site-packages\\ipykernel\\__main__.py:2: SettingWithCopyWarning: \n",
      "A value is trying to be set on a copy of a slice from a DataFrame.\n",
      "Try using .loc[row_indexer,col_indexer] = value instead\n",
      "\n",
      "See the caveats in the documentation: http://pandas.pydata.org/pandas-docs/stable/indexing.html#indexing-view-versus-copy\n",
      "  from ipykernel import kernelapp as app\n"
     ]
    }
   ],
   "source": [
    "A11_general_win['부양가족구분'] = child_categories_win\n",
    "A11_general_lose['부양가족구분'] = child_categories_lose"
   ]
  },
  {
   "cell_type": "code",
   "execution_count": 361,
   "metadata": {
    "collapsed": false
   },
   "outputs": [],
   "source": [
    "# 일반 당첨 1/2/3인\n",
    "A11_general_win_child1 = A11_general_win.ix[A11_general_win['부양가족구분'] == '1인']\n",
    "A11_general_win_child2 = A11_general_win.ix[A11_general_win['부양가족구분'] == '2인']\n",
    "A11_general_win_child3 = A11_general_win.ix[A11_general_win['부양가족구분'] == '3인']\n",
    "# 일반 탈락 1/2/3인\n",
    "A11_general_lose_child1 = A11_general_lose.ix[A11_general_lose['부양가족구분'] == '1인']\n",
    "A11_general_lose_child2 = A11_general_lose.ix[A11_general_lose['부양가족구분'] == '2인']\n",
    "A11_general_lose_child3 = A11_general_lose.ix[A11_general_lose['부양가족구분'] == '3인']"
   ]
  },
  {
   "cell_type": "code",
   "execution_count": 362,
   "metadata": {
    "collapsed": false
   },
   "outputs": [],
   "source": [
    "full_data['부양가족_3인_당첨'] = len(A11_general_win_child3)\n",
    "full_data['부양가족_3인_탈락'] = len(A11_general_lose_child3)\n",
    "full_data['부양가족_2인_당첨'] = len(A11_general_win_child2)\n",
    "full_data['부양가족_2인_탈락'] = len(A11_general_lose_child2)\n",
    "full_data['부양가족_1인_당첨'] = len(A11_general_win_child1)\n",
    "full_data['부양가족_1인_탈락'] = len(A11_general_lose_child1)"
   ]
  },
  {
   "cell_type": "markdown",
   "metadata": {},
   "source": [
    "##### 거주기간 구간화"
   ]
  },
  {
   "cell_type": "code",
   "execution_count": 363,
   "metadata": {
    "collapsed": false
   },
   "outputs": [],
   "source": [
    "resi_bins = [1,3,5,100] # range 범위 지정\n",
    "resi_group_names = ['1_3년', '3_5년', '5년이상'] # 지정할 그룹명\n",
    "resi_categories_win = pd.cut(A11_general_win['A_22'],  resi_bins,False, labels=resi_group_names) # 일반 거주 당첨\n",
    "resi_categories_lose = pd.cut(A11_general_lose['A_22'],  resi_bins,False, labels=resi_group_names) # 일반 거주 탈락"
   ]
  },
  {
   "cell_type": "code",
   "execution_count": 364,
   "metadata": {
    "collapsed": false
   },
   "outputs": [
    {
     "name": "stderr",
     "output_type": "stream",
     "text": [
      "C:\\Users\\Administrator\\Anaconda3\\lib\\site-packages\\ipykernel\\__main__.py:1: SettingWithCopyWarning: \n",
      "A value is trying to be set on a copy of a slice from a DataFrame.\n",
      "Try using .loc[row_indexer,col_indexer] = value instead\n",
      "\n",
      "See the caveats in the documentation: http://pandas.pydata.org/pandas-docs/stable/indexing.html#indexing-view-versus-copy\n",
      "  if __name__ == '__main__':\n",
      "C:\\Users\\Administrator\\Anaconda3\\lib\\site-packages\\ipykernel\\__main__.py:2: SettingWithCopyWarning: \n",
      "A value is trying to be set on a copy of a slice from a DataFrame.\n",
      "Try using .loc[row_indexer,col_indexer] = value instead\n",
      "\n",
      "See the caveats in the documentation: http://pandas.pydata.org/pandas-docs/stable/indexing.html#indexing-view-versus-copy\n",
      "  from ipykernel import kernelapp as app\n"
     ]
    }
   ],
   "source": [
    "A11_general_win['거주기간구분'] = resi_categories_win\n",
    "A11_general_lose['거주기간구분'] = resi_categories_lose"
   ]
  },
  {
   "cell_type": "code",
   "execution_count": 365,
   "metadata": {
    "collapsed": true
   },
   "outputs": [],
   "source": [
    "# 일반 당첨 \n",
    "A11_general_win_oneTothree = A11_general_win.ix[A11_general_win.거주기간구분 == \"1_3년\"]\n",
    "A11_general_win_threeTofive = A11_general_win.ix[A11_general_win.거주기간구분 == \"3_5년\"]\n",
    "A11_general_win_five = A11_general_win.ix[A11_general_win.거주기간구분 == \"5년이상\"]\n",
    "# 일반 탈락\n",
    "A11_general_lose_oneTothree = A11_general_lose.ix[A11_general_lose.거주기간구분 == \"1_3년\"]\n",
    "A11_general_lose_threeTofive = A11_general_lose.ix[A11_general_lose.거주기간구분 == \"3_5년\"]\n",
    "A11_general_lose_five = A11_general_lose.ix[A11_general_lose.거주기간구분 == \"5년이상\"]"
   ]
  },
  {
   "cell_type": "markdown",
   "metadata": {},
   "source": [
    "###### 1~3년 이상 당첨/탈락 데이터 나누기"
   ]
  },
  {
   "cell_type": "code",
   "execution_count": 366,
   "metadata": {
    "collapsed": false
   },
   "outputs": [],
   "source": [
    "full_data['거주기간_5년_당첨'] = len(A11_general_win_five)\n",
    "full_data['거주기간_5년_탈락'] = len(A11_general_lose_five)\n",
    "full_data['거주기간_3_5년_당첨'] = len(A11_general_win_threeTofive)\n",
    "full_data['거주기간_3_5년_탈락'] = len(A11_general_lose_threeTofive)\n",
    "full_data['거주기간_1_3년_당첨'] = len(A11_general_win_oneTothree)\n",
    "full_data['거주기간_1_3년_탈락'] = len(A11_general_lose_oneTothree)"
   ]
  },
  {
   "cell_type": "markdown",
   "metadata": {},
   "source": [
    "###### 미성년자 3명이상 여부 데이터 나누기"
   ]
  },
  {
   "cell_type": "code",
   "execution_count": 367,
   "metadata": {
    "collapsed": true
   },
   "outputs": [],
   "source": [
    "# 일반 당첨 \n",
    "A11_general_win_threeup = A11_general_win.ix[A11_general_win.W_17 >= 3]\n",
    "A11_general_win_threedown = A11_general_win.ix[A11_general_win.W_17 < 3 ]\n",
    "# 일반 탈락\n",
    "A11_general_lose_threeup = A11_general_lose.ix[A11_general_lose.W_17 >= 3]\n",
    "A11_general_lose_threedown = A11_general_lose.ix[A11_general_lose.W_17 < 3 ]"
   ]
  },
  {
   "cell_type": "code",
   "execution_count": 368,
   "metadata": {
    "collapsed": true
   },
   "outputs": [],
   "source": [
    "full_data['미성년_3명이상_당첨'] = len(A11_general_win_threeup)"
   ]
  },
  {
   "cell_type": "code",
   "execution_count": 369,
   "metadata": {
    "collapsed": true
   },
   "outputs": [],
   "source": [
    "full_data['미성년_3명이상_탈락'] = len(A11_general_lose_threeup)"
   ]
  },
  {
   "cell_type": "code",
   "execution_count": 370,
   "metadata": {
    "collapsed": true
   },
   "outputs": [],
   "source": [
    "full_data['미성년_3명미만_당첨'] = len(A11_general_win_threedown)"
   ]
  },
  {
   "cell_type": "code",
   "execution_count": 371,
   "metadata": {
    "collapsed": true
   },
   "outputs": [],
   "source": [
    "full_data['미성년_3명미만_탈락'] = len(A11_general_lose_threedown)"
   ]
  },
  {
   "cell_type": "code",
   "execution_count": 372,
   "metadata": {
    "collapsed": true
   },
   "outputs": [],
   "source": [
    "## 일반 당첨\n",
    "A11_general_win_structY = A11_general_win.ix[A11_general_win.W_36 == 'Y'] \n",
    "A11_general_win_structN = A11_general_win.ix[A11_general_win.W_36 != 'Y']\n",
    "## 일반 탈락\n",
    "A11_general_lose_structY = A11_general_lose.ix[A11_general_lose.W_36 == 'Y'] \n",
    "A11_general_lose_structN = A11_general_lose.ix[A11_general_lose.W_36 != 'Y']"
   ]
  },
  {
   "cell_type": "code",
   "execution_count": 373,
   "metadata": {
    "collapsed": true
   },
   "outputs": [],
   "source": [
    "full_data['건설근로자_3점_당첨'] = len(A11_general_win_structY)"
   ]
  },
  {
   "cell_type": "code",
   "execution_count": 374,
   "metadata": {
    "collapsed": true
   },
   "outputs": [],
   "source": [
    "full_data['건설근로자_3점_탈락'] = len(A11_general_lose_structY)"
   ]
  },
  {
   "cell_type": "code",
   "execution_count": 375,
   "metadata": {
    "collapsed": true
   },
   "outputs": [],
   "source": [
    "full_data['건설근로자_0점_당첨'] = len(A11_general_win_structN)"
   ]
  },
  {
   "cell_type": "code",
   "execution_count": 376,
   "metadata": {
    "collapsed": true
   },
   "outputs": [],
   "source": [
    "full_data['건설근로자_0점_탈락'] = len(A11_general_lose_structN) "
   ]
  },
  {
   "cell_type": "markdown",
   "metadata": {},
   "source": [
    "##### 청약 불입회수 분리"
   ]
  },
  {
   "cell_type": "code",
   "execution_count": 377,
   "metadata": {
    "collapsed": true
   },
   "outputs": [],
   "source": [
    "not_save_bins = [36,48,60,200] # range 범위 지정\n",
    "not_save_group_names = ['36회이상', '48회이상', '60회이상'] # 지정할 그룹명\n",
    "not_save_categories_win = pd.cut(A11_general_win['A_46'],  not_save_bins,False, labels=not_save_group_names) # 일반당첨 분류\n",
    "not_save_categories_lose = pd.cut(A11_general_lose['A_46'],  not_save_bins,False, labels=not_save_group_names) # 일반탈락 분류"
   ]
  },
  {
   "cell_type": "code",
   "execution_count": 378,
   "metadata": {
    "collapsed": false
   },
   "outputs": [
    {
     "name": "stderr",
     "output_type": "stream",
     "text": [
      "C:\\Users\\Administrator\\Anaconda3\\lib\\site-packages\\ipykernel\\__main__.py:1: SettingWithCopyWarning: \n",
      "A value is trying to be set on a copy of a slice from a DataFrame.\n",
      "Try using .loc[row_indexer,col_indexer] = value instead\n",
      "\n",
      "See the caveats in the documentation: http://pandas.pydata.org/pandas-docs/stable/indexing.html#indexing-view-versus-copy\n",
      "  if __name__ == '__main__':\n",
      "C:\\Users\\Administrator\\Anaconda3\\lib\\site-packages\\ipykernel\\__main__.py:2: SettingWithCopyWarning: \n",
      "A value is trying to be set on a copy of a slice from a DataFrame.\n",
      "Try using .loc[row_indexer,col_indexer] = value instead\n",
      "\n",
      "See the caveats in the documentation: http://pandas.pydata.org/pandas-docs/stable/indexing.html#indexing-view-versus-copy\n",
      "  from ipykernel import kernelapp as app\n"
     ]
    }
   ],
   "source": [
    "A11_general_win['청약횟수분리'] = not_save_categories_win\n",
    "A11_general_lose['청약횟수분리'] = not_save_categories_lose"
   ]
  },
  {
   "cell_type": "code",
   "execution_count": 379,
   "metadata": {
    "collapsed": true
   },
   "outputs": [],
   "source": [
    "# 일반 당첨\n",
    "A11_general_win_36 = A11_general_win.ix[A11_general_win.청약횟수분리 == '36회이상']\n",
    "A11_general_win_48 = A11_general_win.ix[A11_general_win.청약횟수분리 == '48회이상']\n",
    "A11_general_win_60 = A11_general_win.ix[A11_general_win.청약횟수분리 == '60회이상']\n",
    "# 일반 탈락\n",
    "A11_general_lose_36 = A11_general_lose.ix[A11_general_lose.청약횟수분리 == '36회이상']\n",
    "A11_general_lose_48 = A11_general_lose.ix[A11_general_lose.청약횟수분리 == '48회이상']\n",
    "A11_general_lose_60 = A11_general_lose.ix[A11_general_lose.청약횟수분리 == '60회이상']"
   ]
  },
  {
   "cell_type": "code",
   "execution_count": 380,
   "metadata": {
    "collapsed": false
   },
   "outputs": [],
   "source": [
    "full_data['청약저축_60이상_당첨'] = len(A11_general_win_60)\n",
    "full_data['청약저축_60이상_탈락'] = len(A11_general_lose_60)\n",
    "full_data['청약저축_48이상_당첨'] = len(A11_general_win_48)\n",
    "full_data['청약저축_48이상_탈락'] = len(A11_general_lose_48)\n",
    "full_data['청약저축_36이상_당첨'] = len(A11_general_win_36)\n",
    "full_data['청약저축_36이상_탈락'] = len(A11_general_lose_36)"
   ]
  },
  {
   "cell_type": "markdown",
   "metadata": {},
   "source": [
    "###### 계약사실 분리 데이터"
   ]
  },
  {
   "cell_type": "code",
   "execution_count": 381,
   "metadata": {
    "collapsed": true
   },
   "outputs": [],
   "source": [
    "## 계약사실 분리 함수\n",
    "def f(x) :\n",
    "    if x['W_24'] == -5:\n",
    "        return \"1년이내\"\n",
    "    elif x['W_24'] == -3:\n",
    "        return \"3년이내\" \n",
    "    else:\n",
    "        return \"해당없음\""
   ]
  },
  {
   "cell_type": "code",
   "execution_count": 382,
   "metadata": {
    "collapsed": false,
    "scrolled": true
   },
   "outputs": [
    {
     "name": "stderr",
     "output_type": "stream",
     "text": [
      "C:\\Users\\Administrator\\Anaconda3\\lib\\site-packages\\ipykernel\\__main__.py:1: SettingWithCopyWarning: \n",
      "A value is trying to be set on a copy of a slice from a DataFrame.\n",
      "Try using .loc[row_indexer,col_indexer] = value instead\n",
      "\n",
      "See the caveats in the documentation: http://pandas.pydata.org/pandas-docs/stable/indexing.html#indexing-view-versus-copy\n",
      "  if __name__ == '__main__':\n",
      "C:\\Users\\Administrator\\Anaconda3\\lib\\site-packages\\ipykernel\\__main__.py:2: SettingWithCopyWarning: \n",
      "A value is trying to be set on a copy of a slice from a DataFrame.\n",
      "Try using .loc[row_indexer,col_indexer] = value instead\n",
      "\n",
      "See the caveats in the documentation: http://pandas.pydata.org/pandas-docs/stable/indexing.html#indexing-view-versus-copy\n",
      "  from ipykernel import kernelapp as app\n"
     ]
    }
   ],
   "source": [
    "A11_general_win['계약사실구분'] = A11_general_win.apply(f, axis=1)\n",
    "A11_general_lose['계약사실구분'] = A11_general_lose.apply(f, axis=1)"
   ]
  },
  {
   "cell_type": "markdown",
   "metadata": {},
   "source": [
    "###### 계약사실 데이터 1년이내/3년이내 나누기"
   ]
  },
  {
   "cell_type": "code",
   "execution_count": 383,
   "metadata": {
    "collapsed": false,
    "scrolled": true
   },
   "outputs": [],
   "source": [
    "## 일반 당첨\n",
    "A11_general_win_one = A11_general_win.ix[A11_general_win.계약사실구분 == \"1년이내\"]\n",
    "A11_general_win_three = A11_general_win.ix[A11_general_win.계약사실구분 == \"3년이내\"]\n",
    "## 일반 탈락\n",
    "A11_general_lose_one = A11_general_lose.ix[A11_general_lose.계약사실구분 == \"1년이내\"]\n",
    "A11_general_lose_three = A11_general_lose.ix[A11_general_lose.계약사실구분 == \"3년이내\"]"
   ]
  },
  {
   "cell_type": "code",
   "execution_count": 384,
   "metadata": {
    "collapsed": true
   },
   "outputs": [],
   "source": [
    "full_data['계약사실_1년이내_당첨'] = len(A11_general_win_one)"
   ]
  },
  {
   "cell_type": "code",
   "execution_count": 385,
   "metadata": {
    "collapsed": true
   },
   "outputs": [],
   "source": [
    "full_data['계약사실_1년이내_탈락'] = len(A11_general_lose_one)"
   ]
  },
  {
   "cell_type": "code",
   "execution_count": 386,
   "metadata": {
    "collapsed": true
   },
   "outputs": [],
   "source": [
    "full_data['게약사실_3년이내_당첨'] = len(A11_general_win_three)"
   ]
  },
  {
   "cell_type": "code",
   "execution_count": 387,
   "metadata": {
    "collapsed": true
   },
   "outputs": [],
   "source": [
    "full_data['게약사실_3년이내_탈락'] = len(A11_general_lose_three)"
   ]
  },
  {
   "cell_type": "code",
   "execution_count": 388,
   "metadata": {
    "collapsed": true
   },
   "outputs": [],
   "source": [
    "## 일반 당첨 \n",
    "A11_general_win_parent_care = A11_general_win.ix[A11_general_win.W_30 =='Y']\n",
    "A11_general_win_parent_careless = A11_general_win.ix[A11_general_win.W_30 != 'Y']\n",
    "A11_general_win_manufac = A11_general_win.ix[A11_general_win.W_31 == 'Y']\n",
    "A11_general_win_not_manufac = A11_general_win.ix[A11_general_win.W_31 != 'Y']\n",
    "A11_general_win_weekness_o = A11_general_win.ix[A11_general_win.W_32 == 'Y']\n",
    "A11_general_win_weekness_x = A11_general_win.ix[A11_general_win.W_32 != 'Y']\n",
    "A11_general_win_dang_one = A11_general_win.ix[A11_general_win.W_13 == '1순위']\n",
    "A11_general_win_dang_two = A11_general_win.ix[A11_general_win.W_13 == '2순위']\n",
    "A11_general_win_dang_three = A11_general_win.ix[A11_general_win.W_13 == '3순위']\n",
    "## 일반 탈락\n",
    "A11_general_lose_parent_care = A11_general_lose.ix[A11_general_lose.W_30 =='Y']\n",
    "A11_general_lose_parent_careless = A11_general_lose.ix[A11_general_lose.W_30 != 'Y']\n",
    "A11_general_lose_manufac = A11_general_lose.ix[A11_general_lose.W_31 == 'Y']\n",
    "A11_general_lose_not_manufac = A11_general_lose.ix[A11_general_lose.W_31 != 'Y']\n",
    "A11_general_lose_weekness_o = A11_general_lose.ix[A11_general_lose.W_32 == 'Y']\n",
    "A11_general_lose_weekness_x = A11_general_lose.ix[A11_general_lose.W_32 != 'Y']\n",
    "A11_general_lose_dang_one = A11_general_lose.ix[A11_general_lose.W_13 == '1순위']\n",
    "A11_general_lose_dang_two = A11_general_lose.ix[A11_general_lose.W_13 == '2순위']\n",
    "A11_general_lose_dang_three = A11_general_lose.ix[A11_general_lose.W_13 == '3순위']"
   ]
  },
  {
   "cell_type": "code",
   "execution_count": 389,
   "metadata": {
    "collapsed": true
   },
   "outputs": [],
   "source": [
    "full_data['당해_1순위_당첨'] = len(A11_general_win_dang_one)\n",
    "full_data['당해_1순위_탈락'] = len(A11_general_lose_dang_one)\n",
    "full_data['당해_2순위_당첨'] = len(A11_general_win_dang_two)\n",
    "full_data['당해_2순위_탈락'] = len(A11_general_lose_dang_two)\n",
    "full_data['당해_3순위_당첨'] = len(A11_general_win_dang_three)\n",
    "full_data['당해_3순위_탈락'] = len(A11_general_lose_dang_three)\n",
    "full_data['65세_부양_당첨'] = len(A11_general_win_parent_care)\n",
    "full_data['65세_부양_탈락'] = len(A11_general_lose_parent_care)\n",
    "full_data['65세_미부양_당첨'] = len(A11_general_win_parent_careless)\n",
    "full_data['65세_미부양_탈락'] = len(A11_general_lose_parent_careless)\n",
    "full_data['제조업_근무_당첨'] = len(A11_general_win_manufac)\n",
    "full_data['제조업_근무_탈락'] = len(A11_general_lose_manufac)\n",
    "full_data['제조업_미근무_당첨'] = len(A11_general_win_not_manufac)\n",
    "full_data['제조업_미근무_탈락'] = len(A11_general_lose_not_manufac)\n",
    "full_data['사회취약계층_해당_당첨'] = len(A11_general_win_weekness_o)\n",
    "full_data['사회취약계층_해당_탈락'] = len(A11_general_lose_weekness_o)\n",
    "full_data['사회취약계층_미해당_당첨'] = len(A11_general_win_weekness_x)\n",
    "full_data['사회취약계층_미해당_탈락'] = len(A11_general_lose_weekness_x)"
   ]
  },
  {
   "cell_type": "code",
   "execution_count": 395,
   "metadata": {
    "collapsed": false,
    "scrolled": true
   },
   "outputs": [
    {
     "data": {
      "text/html": [
       "<div>\n",
       "<table border=\"1\" class=\"dataframe\">\n",
       "  <thead>\n",
       "    <tr style=\"text-align: right;\">\n",
       "      <th></th>\n",
       "      <th>신청인원</th>\n",
       "      <th>커트라인점수</th>\n",
       "      <th>50%이하_당첨</th>\n",
       "      <th>50%이하_탈락</th>\n",
       "      <th>50%초과_당첨</th>\n",
       "      <th>50%초과_탈락</th>\n",
       "      <th>세대주_50세이상_당첨</th>\n",
       "      <th>세대주_50세이상_탈락</th>\n",
       "      <th>세대주_40세이상_당첨</th>\n",
       "      <th>세대주_40세이상_탈락</th>\n",
       "      <th>...</th>\n",
       "      <th>65세_미부양_당첨</th>\n",
       "      <th>65세_미부양_탈락</th>\n",
       "      <th>제조업_근무_당첨</th>\n",
       "      <th>제조업_근무_탈락</th>\n",
       "      <th>제조업_미근무_당첨</th>\n",
       "      <th>제조업_미근무_탈락</th>\n",
       "      <th>사회취약계층_해당_당첨</th>\n",
       "      <th>사회취약계층_해당_탈락</th>\n",
       "      <th>사회취약계층_미해당_당첨</th>\n",
       "      <th>사회취약계층_미해당_탈락</th>\n",
       "    </tr>\n",
       "  </thead>\n",
       "  <tbody>\n",
       "    <tr>\n",
       "      <th>0</th>\n",
       "      <td>966</td>\n",
       "      <td>2(70%/1순위/Y)</td>\n",
       "      <td>23</td>\n",
       "      <td>679</td>\n",
       "      <td>19</td>\n",
       "      <td>245</td>\n",
       "      <td>7</td>\n",
       "      <td>317</td>\n",
       "      <td>22</td>\n",
       "      <td>226</td>\n",
       "      <td>...</td>\n",
       "      <td>37</td>\n",
       "      <td>828</td>\n",
       "      <td>2</td>\n",
       "      <td>30</td>\n",
       "      <td>40</td>\n",
       "      <td>894</td>\n",
       "      <td>3</td>\n",
       "      <td>67</td>\n",
       "      <td>39</td>\n",
       "      <td>857</td>\n",
       "    </tr>\n",
       "  </tbody>\n",
       "</table>\n",
       "<p>1 rows × 60 columns</p>\n",
       "</div>"
      ],
      "text/plain": [
       "   신청인원        커트라인점수  50%이하_당첨  50%이하_탈락  50%초과_당첨  50%초과_탈락  세대주_50세이상_당첨  \\\n",
       "0   966  2(70%/1순위/Y)        23       679        19       245             7   \n",
       "\n",
       "   세대주_50세이상_탈락  세대주_40세이상_당첨  세대주_40세이상_탈락      ...        65세_미부양_당첨  \\\n",
       "0           317            22           226      ...                37   \n",
       "\n",
       "   65세_미부양_탈락  제조업_근무_당첨  제조업_근무_탈락  제조업_미근무_당첨  제조업_미근무_탈락  사회취약계층_해당_당첨  \\\n",
       "0         828          2         30          40         894             3   \n",
       "\n",
       "   사회취약계층_해당_탈락  사회취약계층_미해당_당첨  사회취약계층_미해당_탈락  \n",
       "0            67             39            857  \n",
       "\n",
       "[1 rows x 60 columns]"
      ]
     },
     "execution_count": 395,
     "metadata": {},
     "output_type": "execute_result"
    }
   ],
   "source": [
    "full_data # 잘들어갔는지 확인"
   ]
  },
  {
   "cell_type": "code",
   "execution_count": 396,
   "metadata": {
    "collapsed": false
   },
   "outputs": [],
   "source": [
    "## 엑셀저장block_nm = '';A_6 = ''; A_11 = '';A_24 = '';\n",
    "filename = block_nm+\"_\"+A_6+\"_\"+\"일반공급.xlsx\"\n",
    "writer = pd.ExcelWriter(filename)\n",
    "full_data.to_excel(writer,'Sheet1')\n",
    "writer.save()"
   ]
  },
  {
   "cell_type": "code",
   "execution_count": 392,
   "metadata": {
    "collapsed": true
   },
   "outputs": [],
   "source": [
    "dc.dbCursor.close()"
   ]
  }
 ],
 "metadata": {
  "kernelspec": {
   "display_name": "Python 3",
   "language": "python",
   "name": "python3"
  },
  "language_info": {
   "codemirror_mode": {
    "name": "ipython",
    "version": 3
   },
   "file_extension": ".py",
   "mimetype": "text/x-python",
   "name": "python",
   "nbconvert_exporter": "python",
   "pygments_lexer": "ipython3",
   "version": "3.5.1"
  }
 },
 "nbformat": 4,
 "nbformat_minor": 0
}
