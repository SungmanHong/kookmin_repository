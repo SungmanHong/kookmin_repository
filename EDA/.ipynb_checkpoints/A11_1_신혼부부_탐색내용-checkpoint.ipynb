{
 "cells": [
  {
   "cell_type": "code",
   "execution_count": 126,
   "metadata": {
    "collapsed": false
   },
   "outputs": [],
   "source": [
    "import sys\n",
    "import pandas as pd\n",
    "import numpy as np\n",
    "sys.path.append(\"..\") # 시스템 경로 변경(MySQLConnect 클래스 부르기 위함)"
   ]
  },
  {
   "cell_type": "code",
   "execution_count": 127,
   "metadata": {
    "collapsed": true
   },
   "outputs": [],
   "source": [
    "from MySQLConnect import MySQLConnect"
   ]
  },
  {
   "cell_type": "code",
   "execution_count": 128,
   "metadata": {
    "collapsed": true
   },
   "outputs": [],
   "source": [
    "# 접속정보\n",
    "host = 'kmaster.czypjmusens3.ap-northeast-2.rds.amazonaws.com'\n",
    "user = 'KMaster'\n",
    "password = 'kookmin1234'\n",
    "db = 'km_db'"
   ]
  },
  {
   "cell_type": "code",
   "execution_count": 129,
   "metadata": {
    "collapsed": false
   },
   "outputs": [
    {
     "name": "stdout",
     "output_type": "stream",
     "text": [
      "del\n"
     ]
    }
   ],
   "source": [
    "dc = MySQLConnect(host, user, password, db)"
   ]
  },
  {
   "cell_type": "code",
   "execution_count": 130,
   "metadata": {
    "collapsed": false
   },
   "outputs": [
    {
     "data": {
      "text/plain": [
       "tuple"
      ]
     },
     "execution_count": 130,
     "metadata": {},
     "output_type": "execute_result"
    }
   ],
   "source": [
    "type(dc.getRecord(\"*\", \"LEASE_DATA\", \"A_6 = '26형' and A_11 = '본인' and A_24 = '신혼부부' and W_14 != '잔(고)'\" ))"
   ]
  },
  {
   "cell_type": "markdown",
   "metadata": {},
   "source": [
    "###### A11-1 블록의 26형 신청자가 본인이면서 고령자 인 경우(우선공급&일반공급)"
   ]
  },
  {
   "cell_type": "code",
   "execution_count": 131,
   "metadata": {
    "collapsed": false
   },
   "outputs": [],
   "source": [
    "A11_data_highage = pd.DataFrame(list(dc.getRecord(\"*\", \"LEASE_DATA\", \"BLOCK_NM = 'A11-1' and A_6 = '26형' and A_11 = '본인' and A_24 = '신혼부부'\" )))"
   ]
  },
  {
   "cell_type": "code",
   "execution_count": 133,
   "metadata": {
    "collapsed": false,
    "scrolled": true
   },
   "outputs": [
    {
     "data": {
      "text/plain": [
       "68"
      ]
     },
     "execution_count": 133,
     "metadata": {},
     "output_type": "execute_result"
    }
   ],
   "source": [
    "len(A11_data_highage) # 68 row"
   ]
  },
  {
   "cell_type": "markdown",
   "metadata": {},
   "source": [
    "###### 우(고) 와 그외 나머지 데이터로 나누기"
   ]
  },
  {
   "cell_type": "code",
   "execution_count": 134,
   "metadata": {
    "collapsed": true
   },
   "outputs": [],
   "source": [
    "A11_highage_priority = A11_data_highage.ix[A11_data_highage.W_14 == \"우(고)\"]\n",
    "A11_highage_general = A11_data_highage.ix[A11_data_highage.W_14 != \"우(고)\"]"
   ]
  },
  {
   "cell_type": "code",
   "execution_count": 135,
   "metadata": {
    "collapsed": false
   },
   "outputs": [
    {
     "data": {
      "text/plain": [
       "12"
      ]
     },
     "execution_count": 135,
     "metadata": {},
     "output_type": "execute_result"
    }
   ],
   "source": [
    "len(A11_highage_priority) # 우선공급 19 row "
   ]
  },
  {
   "cell_type": "code",
   "execution_count": 136,
   "metadata": {
    "collapsed": false
   },
   "outputs": [
    {
     "data": {
      "text/plain": [
       "56"
      ]
     },
     "execution_count": 136,
     "metadata": {},
     "output_type": "execute_result"
    }
   ],
   "source": [
    "len(A11_highage_general) # 우선공급 외 120 row"
   ]
  },
  {
   "cell_type": "markdown",
   "metadata": {},
   "source": [
    "###### 우선공급의 당첨여부 확인"
   ]
  },
  {
   "cell_type": "code",
   "execution_count": 137,
   "metadata": {
    "collapsed": false
   },
   "outputs": [
    {
     "data": {
      "text/plain": [
       "array(['당첨'], dtype=object)"
      ]
     },
     "execution_count": 137,
     "metadata": {},
     "output_type": "execute_result"
    }
   ],
   "source": [
    "A11_highage_priority.W_4.unique()"
   ]
  },
  {
   "cell_type": "markdown",
   "metadata": {},
   "source": [
    "###### 일반공급의 당첨여부 확인"
   ]
  },
  {
   "cell_type": "code",
   "execution_count": 138,
   "metadata": {
    "collapsed": false,
    "scrolled": true
   },
   "outputs": [
    {
     "data": {
      "text/plain": [
       "array(['서류(제)', '당첨', '예비', '우선(부)', '서류(부)'], dtype=object)"
      ]
     },
     "execution_count": 138,
     "metadata": {},
     "output_type": "execute_result"
    }
   ],
   "source": [
    "A11_highage_general.W_4.unique()"
   ]
  },
  {
   "cell_type": "markdown",
   "metadata": {},
   "source": [
    "###### 일반공급이면서 당첨인 경우의 건수 확인"
   ]
  },
  {
   "cell_type": "code",
   "execution_count": 139,
   "metadata": {
    "collapsed": false
   },
   "outputs": [
    {
     "data": {
      "text/plain": [
       "19"
      ]
     },
     "execution_count": 139,
     "metadata": {},
     "output_type": "execute_result"
    }
   ],
   "source": [
    "len(A11_highage_general.ix[A11_highage_general.W_4==\"당첨\"]) # 57건"
   ]
  },
  {
   "cell_type": "markdown",
   "metadata": {},
   "source": [
    "###### 일반공급 이면서 당첨/탈락 으로 분류"
   ]
  },
  {
   "cell_type": "code",
   "execution_count": 140,
   "metadata": {
    "collapsed": true
   },
   "outputs": [],
   "source": [
    "A11_highage_general_win = A11_highage_general.ix[A11_highage_general.W_4==\"당첨\"]\n",
    "A11_highage_general_lose = A11_highage_general.ix[A11_highage_general.W_4!=\"당첨\"]"
   ]
  },
  {
   "cell_type": "code",
   "execution_count": 141,
   "metadata": {
    "collapsed": false,
    "scrolled": false
   },
   "outputs": [
    {
     "data": {
      "text/plain": [
       "19"
      ]
     },
     "execution_count": 141,
     "metadata": {},
     "output_type": "execute_result"
    }
   ],
   "source": [
    "len(A11_highage_general_win) # 당첨 : 57명"
   ]
  },
  {
   "cell_type": "code",
   "execution_count": 142,
   "metadata": {
    "collapsed": false,
    "scrolled": false
   },
   "outputs": [
    {
     "data": {
      "text/plain": [
       "37"
      ]
     },
     "execution_count": 142,
     "metadata": {},
     "output_type": "execute_result"
    }
   ],
   "source": [
    "len(A11_highage_general_lose) # 탈락 : 63명"
   ]
  },
  {
   "cell_type": "markdown",
   "metadata": {},
   "source": [
    "###### 일반 당첨 데이터 중에 '잔' 이 들어간 데이터 확인"
   ]
  },
  {
   "cell_type": "code",
   "execution_count": 143,
   "metadata": {
    "collapsed": false
   },
   "outputs": [
    {
     "data": {
      "text/plain": [
       "array(['일(고)', '잔(고)'], dtype=object)"
      ]
     },
     "execution_count": 143,
     "metadata": {},
     "output_type": "execute_result"
    }
   ],
   "source": [
    "A11_highage_general_win.W_14.unique()"
   ]
  },
  {
   "cell_type": "code",
   "execution_count": 144,
   "metadata": {
    "collapsed": true
   },
   "outputs": [],
   "source": [
    "A11_highage_general_win = A11_highage_general_win.ix[A11_highage_general_win.W_14 != '잔(고)']"
   ]
  },
  {
   "cell_type": "code",
   "execution_count": 145,
   "metadata": {
    "collapsed": false
   },
   "outputs": [
    {
     "data": {
      "text/plain": [
       "15"
      ]
     },
     "execution_count": 145,
     "metadata": {},
     "output_type": "execute_result"
    }
   ],
   "source": [
    "len(A11_highage_general_win) # 잔(고) 를 뺀 나머지 데이터"
   ]
  },
  {
   "cell_type": "markdown",
   "metadata": {},
   "source": [
    "###### 경쟁률 계산(전체건수 / 당첨자 건수- 잔은 제외한)"
   ]
  },
  {
   "cell_type": "code",
   "execution_count": 147,
   "metadata": {
    "collapsed": false,
    "scrolled": true
   },
   "outputs": [
    {
     "data": {
      "text/plain": [
       "2.5185185185185186"
      ]
     },
     "execution_count": 147,
     "metadata": {},
     "output_type": "execute_result"
    }
   ],
   "source": [
    "len(A11_data_highage) /  (len(A11_highage_priority) + len(A11_highage_general_win))"
   ]
  },
  {
   "cell_type": "markdown",
   "metadata": {},
   "source": [
    "###### 커트라인 계산"
   ]
  },
  {
   "cell_type": "code",
   "execution_count": 148,
   "metadata": {
    "collapsed": false,
    "scrolled": true
   },
   "outputs": [
    {
     "data": {
      "text/plain": [
       "6"
      ]
     },
     "execution_count": 148,
     "metadata": {},
     "output_type": "execute_result"
    }
   ],
   "source": [
    "A11_highage_priority.W_19.min()"
   ]
  },
  {
   "cell_type": "markdown",
   "metadata": {},
   "source": [
    "###### 50% 이하 / 초과 데이터 나누기(A11_data_highage : 원본 데이터 에서 진행)"
   ]
  },
  {
   "cell_type": "code",
   "execution_count": 150,
   "metadata": {
    "collapsed": true
   },
   "outputs": [],
   "source": [
    "All_highage_50down = A11_data_highage.ix[A11_data_highage.A_32 == '50%이하']\n",
    "All_highage_50up = A11_data_highage.ix[A11_data_highage.A_32 != '50%이하']"
   ]
  },
  {
   "cell_type": "code",
   "execution_count": 151,
   "metadata": {
    "collapsed": false
   },
   "outputs": [
    {
     "data": {
      "text/plain": [
       "68"
      ]
     },
     "execution_count": 151,
     "metadata": {},
     "output_type": "execute_result"
    }
   ],
   "source": [
    "len(All_highage_50down) # 50% 이하 133 명"
   ]
  },
  {
   "cell_type": "code",
   "execution_count": 152,
   "metadata": {
    "collapsed": false
   },
   "outputs": [
    {
     "data": {
      "text/plain": [
       "0"
      ]
     },
     "execution_count": 152,
     "metadata": {},
     "output_type": "execute_result"
    }
   ],
   "source": [
    "len(All_highage_50up) # 50% 초과 6명"
   ]
  },
  {
   "cell_type": "markdown",
   "metadata": {},
   "source": [
    "###### 50% 이하 중 당첨/탈락 데이터 나누기"
   ]
  },
  {
   "cell_type": "code",
   "execution_count": 153,
   "metadata": {
    "collapsed": true
   },
   "outputs": [],
   "source": [
    "All_highage_50down_win = All_highage_50down.ix[All_highage_50down.W_4 == \"당첨\"]\n",
    "All_highage_50down_down = All_highage_50down.ix[All_highage_50down.W_4 != \"당첨\"]"
   ]
  },
  {
   "cell_type": "code",
   "execution_count": 154,
   "metadata": {
    "collapsed": false
   },
   "outputs": [
    {
     "data": {
      "text/plain": [
       "31"
      ]
     },
     "execution_count": 154,
     "metadata": {},
     "output_type": "execute_result"
    }
   ],
   "source": [
    "len(All_highage_50down_win) # 50%이하 중 당첨 76"
   ]
  },
  {
   "cell_type": "code",
   "execution_count": 155,
   "metadata": {
    "collapsed": false,
    "scrolled": true
   },
   "outputs": [
    {
     "data": {
      "text/plain": [
       "37"
      ]
     },
     "execution_count": 155,
     "metadata": {},
     "output_type": "execute_result"
    }
   ],
   "source": [
    "len(All_highage_50down_down) # 50% 이하 중 탈락 57"
   ]
  },
  {
   "cell_type": "markdown",
   "metadata": {},
   "source": [
    "###### 50% 이하 당첨자 중 '잔' 있는지 확인"
   ]
  },
  {
   "cell_type": "code",
   "execution_count": 156,
   "metadata": {
    "collapsed": false
   },
   "outputs": [
    {
     "data": {
      "text/plain": [
       "array(['우(고)', '일(고)', '잔(고)'], dtype=object)"
      ]
     },
     "execution_count": 156,
     "metadata": {},
     "output_type": "execute_result"
    }
   ],
   "source": [
    "All_highage_50down_win.W_14.unique()"
   ]
  },
  {
   "cell_type": "code",
   "execution_count": 157,
   "metadata": {
    "collapsed": true
   },
   "outputs": [],
   "source": [
    "All_highage_50down_win = All_highage_50down_win.ix[All_highage_50down_win.W_14 != '잔(고)']"
   ]
  },
  {
   "cell_type": "code",
   "execution_count": 158,
   "metadata": {
    "collapsed": false,
    "scrolled": true
   },
   "outputs": [
    {
     "data": {
      "text/plain": [
       "27"
      ]
     },
     "execution_count": 158,
     "metadata": {},
     "output_type": "execute_result"
    }
   ],
   "source": [
    "len(All_highage_50down_win)"
   ]
  },
  {
   "cell_type": "code",
   "execution_count": 159,
   "metadata": {
    "collapsed": false
   },
   "outputs": [
    {
     "data": {
      "text/plain": [
       "0.39705882352941174"
      ]
     },
     "execution_count": 159,
     "metadata": {},
     "output_type": "execute_result"
    }
   ],
   "source": [
    "len(All_highage_50down_win)/len(All_highage_50down)"
   ]
  },
  {
   "cell_type": "code",
   "execution_count": 160,
   "metadata": {
    "collapsed": false
   },
   "outputs": [
    {
     "data": {
      "text/plain": [
       "0.5441176470588235"
      ]
     },
     "execution_count": 160,
     "metadata": {},
     "output_type": "execute_result"
    }
   ],
   "source": [
    "len(All_highage_50down_down)/len(All_highage_50down)"
   ]
  },
  {
   "cell_type": "code",
   "execution_count": 161,
   "metadata": {
    "collapsed": false
   },
   "outputs": [
    {
     "data": {
      "text/plain": [
       "0.058823529411764705"
      ]
     },
     "execution_count": 161,
     "metadata": {},
     "output_type": "execute_result"
    }
   ],
   "source": [
    "4/len(All_highage_50down)"
   ]
  },
  {
   "cell_type": "code",
   "execution_count": 162,
   "metadata": {
    "collapsed": false
   },
   "outputs": [
    {
     "data": {
      "text/plain": [
       "1.0"
      ]
     },
     "execution_count": 162,
     "metadata": {},
     "output_type": "execute_result"
    }
   ],
   "source": [
    "0.03007518796992481 + 0.42857142857142855 + 0.5413533834586466"
   ]
  },
  {
   "cell_type": "markdown",
   "metadata": {},
   "source": [
    "###### 50% 초과 중 당첨/탈락 데이터 만들기  "
   ]
  },
  {
   "cell_type": "code",
   "execution_count": 163,
   "metadata": {
    "collapsed": true
   },
   "outputs": [],
   "source": [
    "All_highage_50up_win = All_highage_50up.ix[All_highage_50up.W_4 == '당첨']\n",
    "All_highage_50up_down = All_highage_50up.ix[All_highage_50up.W_4 != '당첨']"
   ]
  },
  {
   "cell_type": "code",
   "execution_count": 164,
   "metadata": {
    "collapsed": false
   },
   "outputs": [
    {
     "data": {
      "text/plain": [
       "0"
      ]
     },
     "execution_count": 164,
     "metadata": {},
     "output_type": "execute_result"
    }
   ],
   "source": [
    "len(All_highage_50up_win)"
   ]
  },
  {
   "cell_type": "code",
   "execution_count": 165,
   "metadata": {
    "collapsed": false
   },
   "outputs": [
    {
     "data": {
      "text/plain": [
       "0"
      ]
     },
     "execution_count": 165,
     "metadata": {},
     "output_type": "execute_result"
    }
   ],
   "source": [
    "len(All_highage_50up_down)"
   ]
  },
  {
   "cell_type": "markdown",
   "metadata": {},
   "source": [
    "###### 세대주 나이(모집일 당시) 별로 데이터 나누기(A11_data_highage : 원본 데이터 에서 진행)"
   ]
  },
  {
   "cell_type": "code",
   "execution_count": 166,
   "metadata": {
    "collapsed": false,
    "scrolled": false
   },
   "outputs": [
    {
     "data": {
      "text/html": [
       "<div>\n",
       "<table border=\"1\" class=\"dataframe\">\n",
       "  <thead>\n",
       "    <tr style=\"text-align: right;\">\n",
       "      <th></th>\n",
       "      <th>A_10</th>\n",
       "      <th>A_11</th>\n",
       "      <th>A_12</th>\n",
       "      <th>A_13</th>\n",
       "      <th>A_14</th>\n",
       "      <th>A_15</th>\n",
       "      <th>A_16</th>\n",
       "      <th>A_17</th>\n",
       "      <th>A_18</th>\n",
       "      <th>A_19</th>\n",
       "      <th>...</th>\n",
       "      <th>W_39</th>\n",
       "      <th>W_4</th>\n",
       "      <th>W_40</th>\n",
       "      <th>W_41</th>\n",
       "      <th>W_42</th>\n",
       "      <th>W_5</th>\n",
       "      <th>W_6</th>\n",
       "      <th>W_7</th>\n",
       "      <th>W_8</th>\n",
       "      <th>W_9</th>\n",
       "    </tr>\n",
       "  </thead>\n",
       "  <tbody>\n",
       "  </tbody>\n",
       "</table>\n",
       "<p>0 rows × 102 columns</p>\n",
       "</div>"
      ],
      "text/plain": [
       "Empty DataFrame\n",
       "Columns: [A_10, A_11, A_12, A_13, A_14, A_15, A_16, A_17, A_18, A_19, A_20, A_21, A_22, A_23, A_24, A_25, A_26, A_27, A_28, A_29, A_30, A_31, A_32, A_33, A_34, A_35, A_36, A_37, A_38, A_39, A_4, A_40, A_41, A_42, A_43, A_44, A_45, A_46, A_47, A_48, A_49, A_5, A_50, A_51, A_52, A_53, A_54, A_55, A_56, A_57, A_58, A_59, A_6, A_7, A_8, A_9, BLOCK_NM, REGNUM_BLOCK, SEQ_, SEQ_NUM, W_1, W_10, W_11, W_12, W_13, W_14, W_15, W_16, W_17, W_18, W_19, W_2, W_20, W_21, W_22, W_23, W_24, W_25, W_26, W_27, W_28, W_29, W_3, W_30, W_31, W_32, W_33, W_34, W_35, W_36, W_37, W_38, W_39, W_4, W_40, W_41, W_42, W_5, W_6, W_7, ...]\n",
       "Index: []\n",
       "\n",
       "[0 rows x 102 columns]"
      ]
     },
     "execution_count": 166,
     "metadata": {},
     "output_type": "execute_result"
    }
   ],
   "source": [
    "A11_data_highage.ix[A11_data_highage.A_34 <= 50] # 50살 보다 작은사람 없음"
   ]
  },
  {
   "cell_type": "markdown",
   "metadata": {},
   "source": [
    "##### 세대주 나이 구간화"
   ]
  },
  {
   "cell_type": "code",
   "execution_count": 180,
   "metadata": {
    "collapsed": true
   },
   "outputs": [],
   "source": [
    "bins = [50,99] # range 범위 지정\n",
    "group_names = ['50대이상'] # 지정할 그룹명\n",
    "categories = pd.cut(A11_data_highage['A_34'], bins, labels=group_names) # range 변수"
   ]
  },
  {
   "cell_type": "code",
   "execution_count": 181,
   "metadata": {
    "collapsed": true
   },
   "outputs": [],
   "source": [
    "A11_data_highage['categories'] = pd.cut(A11_data_highage['A_34'], bins, labels=group_names) # range column 추가"
   ]
  },
  {
   "cell_type": "code",
   "execution_count": 169,
   "metadata": {
    "collapsed": true
   },
   "outputs": [
    {
     "data": {
      "text/plain": [
       "0     False\n",
       "1      True\n",
       "2      True\n",
       "3     False\n",
       "4      True\n",
       "5      True\n",
       "6      True\n",
       "7      True\n",
       "8     False\n",
       "9     False\n",
       "10    False\n",
       "11    False\n",
       "12     True\n",
       "13    False\n",
       "14     True\n",
       "15     True\n",
       "16     True\n",
       "17    False\n",
       "18    False\n",
       "19    False\n",
       "20     True\n",
       "21     True\n",
       "22    False\n",
       "23    False\n",
       "24    False\n",
       "25     True\n",
       "26    False\n",
       "27     True\n",
       "28     True\n",
       "29    False\n",
       "      ...  \n",
       "38    False\n",
       "39     True\n",
       "40    False\n",
       "41    False\n",
       "42    False\n",
       "43    False\n",
       "44     True\n",
       "45     True\n",
       "46    False\n",
       "47    False\n",
       "48     True\n",
       "49    False\n",
       "50     True\n",
       "51     True\n",
       "52     True\n",
       "53     True\n",
       "54    False\n",
       "55    False\n",
       "56    False\n",
       "57    False\n",
       "58    False\n",
       "59     True\n",
       "60    False\n",
       "61    False\n",
       "62    False\n",
       "63    False\n",
       "64     True\n",
       "65    False\n",
       "66    False\n",
       "67    False\n",
       "Name: W_4, dtype: bool"
      ]
     },
     "execution_count": 169,
     "metadata": {},
     "output_type": "execute_result"
    }
   ],
   "source": [
    "A11_data_highage.W_4 == \"당첨\""
   ]
  },
  {
   "cell_type": "code",
   "execution_count": 182,
   "metadata": {
    "collapsed": false
   },
   "outputs": [
    {
     "data": {
      "text/plain": [
       "[50대이상]\n",
       "Categories (1, object): [50대이상]"
      ]
     },
     "execution_count": 182,
     "metadata": {},
     "output_type": "execute_result"
    }
   ],
   "source": [
    "A11_data_highage.categories.unique()"
   ]
  },
  {
   "cell_type": "markdown",
   "metadata": {},
   "source": [
    "###### 50대이상 데이터 중 당첨/탈락 데이터 나누기"
   ]
  },
  {
   "cell_type": "code",
   "execution_count": 183,
   "metadata": {
    "collapsed": true
   },
   "outputs": [],
   "source": [
    "A11_data_highage_win = A11_data_highage.ix[A11_data_highage.W_4 == '당첨']\n",
    "A11_data_highage_down = A11_data_highage.ix[A11_data_highage.W_4 != '당첨']"
   ]
  },
  {
   "cell_type": "code",
   "execution_count": 184,
   "metadata": {
    "collapsed": false
   },
   "outputs": [
    {
     "data": {
      "text/plain": [
       "31"
      ]
     },
     "execution_count": 184,
     "metadata": {},
     "output_type": "execute_result"
    }
   ],
   "source": [
    "len(A11_data_highage_win) # 잔(고) 빼기 전 31row"
   ]
  },
  {
   "cell_type": "code",
   "execution_count": 186,
   "metadata": {
    "collapsed": false
   },
   "outputs": [
    {
     "data": {
      "text/plain": [
       "37"
      ]
     },
     "execution_count": 186,
     "metadata": {},
     "output_type": "execute_result"
    }
   ],
   "source": [
    "len(A11_data_highage_down) # 탈락 데이터 37row"
   ]
  },
  {
   "cell_type": "markdown",
   "metadata": {},
   "source": [
    "###### 당첨자 데이터 중 잔 확인"
   ]
  },
  {
   "cell_type": "code",
   "execution_count": 187,
   "metadata": {
    "collapsed": false
   },
   "outputs": [
    {
     "data": {
      "text/plain": [
       "array(['우(고)', '일(고)', '잔(고)'], dtype=object)"
      ]
     },
     "execution_count": 187,
     "metadata": {},
     "output_type": "execute_result"
    }
   ],
   "source": [
    "A11_data_highage_win.W_14.unique()"
   ]
  },
  {
   "cell_type": "code",
   "execution_count": 188,
   "metadata": {
    "collapsed": true
   },
   "outputs": [],
   "source": [
    "A11_data_highage_win = A11_data_highage_win.ix[A11_data_highage_win.W_14 != '잔(고)']"
   ]
  },
  {
   "cell_type": "code",
   "execution_count": 189,
   "metadata": {
    "collapsed": false
   },
   "outputs": [
    {
     "data": {
      "text/plain": [
       "27"
      ]
     },
     "execution_count": 189,
     "metadata": {},
     "output_type": "execute_result"
    }
   ],
   "source": [
    "len(A11_data_highage_win) # 잔(고) 뺀 데이터 72row"
   ]
  },
  {
   "cell_type": "code",
   "execution_count": 190,
   "metadata": {
    "collapsed": false
   },
   "outputs": [
    {
     "data": {
      "text/plain": [
       "0.39705882352941174"
      ]
     },
     "execution_count": 190,
     "metadata": {},
     "output_type": "execute_result"
    }
   ],
   "source": [
    "len(A11_data_highage_win)/len(A11_data_highage)"
   ]
  },
  {
   "cell_type": "code",
   "execution_count": 191,
   "metadata": {
    "collapsed": false
   },
   "outputs": [
    {
     "data": {
      "text/plain": [
       "0.5441176470588235"
      ]
     },
     "execution_count": 191,
     "metadata": {},
     "output_type": "execute_result"
    }
   ],
   "source": [
    "len(A11_data_highage_down)/len(A11_data_highage)"
   ]
  },
  {
   "cell_type": "code",
   "execution_count": 192,
   "metadata": {
    "collapsed": false
   },
   "outputs": [
    {
     "data": {
      "text/plain": [
       "0.058823529411764705"
      ]
     },
     "execution_count": 192,
     "metadata": {},
     "output_type": "execute_result"
    }
   ],
   "source": [
    "4/len(A11_data_highage)"
   ]
  },
  {
   "cell_type": "code",
   "execution_count": 193,
   "metadata": {
    "collapsed": false
   },
   "outputs": [
    {
     "data": {
      "text/plain": [
       "1.0"
      ]
     },
     "execution_count": 193,
     "metadata": {},
     "output_type": "execute_result"
    }
   ],
   "source": [
    "0.39705882352941174+0.5441176470588235+0.058823529411764705"
   ]
  },
  {
   "cell_type": "markdown",
   "metadata": {},
   "source": [
    "##### 부양가족 수 구간화"
   ]
  },
  {
   "cell_type": "code",
   "execution_count": 194,
   "metadata": {
    "collapsed": false
   },
   "outputs": [],
   "source": [
    "child_bins = [0,1,2,3] # range 범위 지정\n",
    "child_group_names = ['1인', '2인', '3인'] # 지정할 그룹명\n",
    "child_categories = pd.cut(A11_data_highage['A_35'], child_bins, labels=child_group_names) # range 변수"
   ]
  },
  {
   "cell_type": "code",
   "execution_count": 195,
   "metadata": {
    "collapsed": false,
    "scrolled": true
   },
   "outputs": [],
   "source": [
    "A11_data_highage['child_div'] = pd.cut(A11_data_highage['A_35'], child_bins, labels=child_group_names) # range column 추가"
   ]
  },
  {
   "cell_type": "code",
   "execution_count": 196,
   "metadata": {
    "collapsed": false,
    "scrolled": true
   },
   "outputs": [
    {
     "data": {
      "text/plain": [
       "7"
      ]
     },
     "execution_count": 196,
     "metadata": {},
     "output_type": "execute_result"
    }
   ],
   "source": [
    "A11_data_highage['child_div'].count()"
   ]
  },
  {
   "cell_type": "code",
   "execution_count": 197,
   "metadata": {
    "collapsed": false
   },
   "outputs": [],
   "source": [
    "A11_highage_child1 = A11_data_highage.ix[A11_data_highage['child_div'] == '1인']\n",
    "A11_highage_child2 = A11_data_highage.ix[A11_data_highage['child_div'] == '2인']\n",
    "A11_highage_child3 = A11_data_highage.ix[A11_data_highage['child_div'] == '3인']"
   ]
  },
  {
   "cell_type": "code",
   "execution_count": 198,
   "metadata": {
    "collapsed": false
   },
   "outputs": [
    {
     "data": {
      "text/plain": [
       "6"
      ]
     },
     "execution_count": 198,
     "metadata": {},
     "output_type": "execute_result"
    }
   ],
   "source": [
    "len(A11_highage_child1) # 1인 12명"
   ]
  },
  {
   "cell_type": "code",
   "execution_count": 199,
   "metadata": {
    "collapsed": false
   },
   "outputs": [
    {
     "data": {
      "text/plain": [
       "0"
      ]
     },
     "execution_count": 199,
     "metadata": {},
     "output_type": "execute_result"
    }
   ],
   "source": [
    "len(A11_highage_child2) # 2인 2명"
   ]
  },
  {
   "cell_type": "code",
   "execution_count": 200,
   "metadata": {
    "collapsed": false
   },
   "outputs": [
    {
     "data": {
      "text/plain": [
       "1"
      ]
     },
     "execution_count": 200,
     "metadata": {},
     "output_type": "execute_result"
    }
   ],
   "source": [
    "len(A11_highage_child3) # 3인 1명"
   ]
  },
  {
   "cell_type": "markdown",
   "metadata": {},
   "source": [
    "###### 1인 부양가족의 당첨/탈락 데이터 나누기"
   ]
  },
  {
   "cell_type": "code",
   "execution_count": 210,
   "metadata": {
    "collapsed": true
   },
   "outputs": [],
   "source": [
    "A11_highage_child1_win = A11_highage_child1.ix[A11_highage_child1.W_4 == \"당첨\"]\n",
    "A11_highage_child1_down = A11_highage_child1.ix[A11_highage_child1.W_4 != '당첨']"
   ]
  },
  {
   "cell_type": "code",
   "execution_count": 211,
   "metadata": {
    "collapsed": false
   },
   "outputs": [
    {
     "data": {
      "text/plain": [
       "3"
      ]
     },
     "execution_count": 211,
     "metadata": {},
     "output_type": "execute_result"
    }
   ],
   "source": [
    "len(A11_highage_child1_win)"
   ]
  },
  {
   "cell_type": "code",
   "execution_count": 212,
   "metadata": {
    "collapsed": false
   },
   "outputs": [
    {
     "data": {
      "text/plain": [
       "3"
      ]
     },
     "execution_count": 212,
     "metadata": {},
     "output_type": "execute_result"
    }
   ],
   "source": [
    "len(A11_highage_child1_down)"
   ]
  },
  {
   "cell_type": "code",
   "execution_count": 213,
   "metadata": {
    "collapsed": false,
    "scrolled": true
   },
   "outputs": [
    {
     "data": {
      "text/plain": [
       "array(['우(고)', '잔(고)'], dtype=object)"
      ]
     },
     "execution_count": 213,
     "metadata": {},
     "output_type": "execute_result"
    }
   ],
   "source": [
    "A11_highage_child1_win.W_14.unique()"
   ]
  },
  {
   "cell_type": "code",
   "execution_count": 214,
   "metadata": {
    "collapsed": true
   },
   "outputs": [],
   "source": [
    "A11_highage_child1_win = A11_highage_child1_win.ix[A11_highage_child1_win.W_14 != '잔(고)']"
   ]
  },
  {
   "cell_type": "code",
   "execution_count": 215,
   "metadata": {
    "collapsed": false,
    "scrolled": true
   },
   "outputs": [
    {
     "data": {
      "text/plain": [
       "2"
      ]
     },
     "execution_count": 215,
     "metadata": {},
     "output_type": "execute_result"
    }
   ],
   "source": [
    "len(A11_highage_child1_win)"
   ]
  },
  {
   "cell_type": "code",
   "execution_count": 216,
   "metadata": {
    "collapsed": false
   },
   "outputs": [
    {
     "data": {
      "text/plain": [
       "0.3333333333333333"
      ]
     },
     "execution_count": 216,
     "metadata": {},
     "output_type": "execute_result"
    }
   ],
   "source": [
    "len(A11_highage_child1_win)/len(A11_highage_child1)"
   ]
  },
  {
   "cell_type": "code",
   "execution_count": 217,
   "metadata": {
    "collapsed": false
   },
   "outputs": [
    {
     "data": {
      "text/plain": [
       "0.5"
      ]
     },
     "execution_count": 217,
     "metadata": {},
     "output_type": "execute_result"
    }
   ],
   "source": [
    "len(A11_highage_child1_down)/len(A11_highage_child1)"
   ]
  },
  {
   "cell_type": "code",
   "execution_count": 218,
   "metadata": {
    "collapsed": false,
    "scrolled": true
   },
   "outputs": [
    {
     "data": {
      "text/plain": [
       "0.16666666666666666"
      ]
     },
     "execution_count": 218,
     "metadata": {},
     "output_type": "execute_result"
    }
   ],
   "source": [
    "1/len(A11_highage_child1)"
   ]
  },
  {
   "cell_type": "code",
   "execution_count": 219,
   "metadata": {
    "collapsed": false
   },
   "outputs": [
    {
     "data": {
      "text/plain": [
       "0.9999999999999999"
      ]
     },
     "execution_count": 219,
     "metadata": {},
     "output_type": "execute_result"
    }
   ],
   "source": [
    "0.3333333333333333 + 0.5+0.16666666666666666"
   ]
  },
  {
   "cell_type": "markdown",
   "metadata": {},
   "source": [
    "###### 부양가족수 2인 인 경우 당첨인원"
   ]
  },
  {
   "cell_type": "code",
   "execution_count": 220,
   "metadata": {
    "collapsed": false,
    "scrolled": true
   },
   "outputs": [
    {
     "data": {
      "text/plain": [
       "Series([], Name: W_4, dtype: object)"
      ]
     },
     "execution_count": 220,
     "metadata": {},
     "output_type": "execute_result"
    }
   ],
   "source": [
    "A11_highage_child2.W_4"
   ]
  },
  {
   "cell_type": "markdown",
   "metadata": {},
   "source": [
    "###### 부양가족수 3인 인 경우 당첨인원"
   ]
  },
  {
   "cell_type": "code",
   "execution_count": 221,
   "metadata": {
    "collapsed": false,
    "scrolled": true
   },
   "outputs": [
    {
     "data": {
      "text/plain": [
       "9    서류(제)\n",
       "Name: W_4, dtype: object"
      ]
     },
     "execution_count": 221,
     "metadata": {},
     "output_type": "execute_result"
    }
   ],
   "source": [
    "A11_highage_child3.W_4"
   ]
  },
  {
   "cell_type": "markdown",
   "metadata": {},
   "source": [
    "##### 거주기간 구간화"
   ]
  },
  {
   "cell_type": "code",
   "execution_count": 222,
   "metadata": {
    "collapsed": false
   },
   "outputs": [],
   "source": [
    "resi_bins = [0,3,5,100] # range 범위 지정\n",
    "resi_group_names = ['1_3년', '3_5년', '5년이상'] # 지정할 그룹명\n",
    "resi_categories = pd.cut(A11_data_highage['A_22'],  resi_bins,False, labels=resi_group_names) # range 변수"
   ]
  },
  {
   "cell_type": "code",
   "execution_count": 223,
   "metadata": {
    "collapsed": true
   },
   "outputs": [],
   "source": [
    "A11_data_highage['resi_categories'] = pd.cut(A11_data_highage['A_22'], resi_bins, labels=resi_group_names) # range column 추가"
   ]
  },
  {
   "cell_type": "code",
   "execution_count": 224,
   "metadata": {
    "collapsed": true
   },
   "outputs": [
    {
     "data": {
      "text/html": [
       "<div>\n",
       "<table border=\"1\" class=\"dataframe\">\n",
       "  <thead>\n",
       "    <tr style=\"text-align: right;\">\n",
       "      <th></th>\n",
       "      <th>A_22</th>\n",
       "      <th>resi_categories</th>\n",
       "    </tr>\n",
       "  </thead>\n",
       "  <tbody>\n",
       "    <tr>\n",
       "      <th>0</th>\n",
       "      <td>0</td>\n",
       "      <td>NaN</td>\n",
       "    </tr>\n",
       "    <tr>\n",
       "      <th>1</th>\n",
       "      <td>3</td>\n",
       "      <td>1_3년</td>\n",
       "    </tr>\n",
       "    <tr>\n",
       "      <th>2</th>\n",
       "      <td>35</td>\n",
       "      <td>5년이상</td>\n",
       "    </tr>\n",
       "    <tr>\n",
       "      <th>3</th>\n",
       "      <td>0</td>\n",
       "      <td>NaN</td>\n",
       "    </tr>\n",
       "    <tr>\n",
       "      <th>4</th>\n",
       "      <td>4</td>\n",
       "      <td>3_5년</td>\n",
       "    </tr>\n",
       "    <tr>\n",
       "      <th>5</th>\n",
       "      <td>0</td>\n",
       "      <td>NaN</td>\n",
       "    </tr>\n",
       "    <tr>\n",
       "      <th>6</th>\n",
       "      <td>0</td>\n",
       "      <td>NaN</td>\n",
       "    </tr>\n",
       "    <tr>\n",
       "      <th>7</th>\n",
       "      <td>0</td>\n",
       "      <td>NaN</td>\n",
       "    </tr>\n",
       "    <tr>\n",
       "      <th>8</th>\n",
       "      <td>0</td>\n",
       "      <td>NaN</td>\n",
       "    </tr>\n",
       "    <tr>\n",
       "      <th>9</th>\n",
       "      <td>0</td>\n",
       "      <td>NaN</td>\n",
       "    </tr>\n",
       "    <tr>\n",
       "      <th>10</th>\n",
       "      <td>0</td>\n",
       "      <td>NaN</td>\n",
       "    </tr>\n",
       "    <tr>\n",
       "      <th>11</th>\n",
       "      <td>0</td>\n",
       "      <td>NaN</td>\n",
       "    </tr>\n",
       "    <tr>\n",
       "      <th>12</th>\n",
       "      <td>3</td>\n",
       "      <td>1_3년</td>\n",
       "    </tr>\n",
       "    <tr>\n",
       "      <th>13</th>\n",
       "      <td>0</td>\n",
       "      <td>NaN</td>\n",
       "    </tr>\n",
       "    <tr>\n",
       "      <th>14</th>\n",
       "      <td>4</td>\n",
       "      <td>3_5년</td>\n",
       "    </tr>\n",
       "    <tr>\n",
       "      <th>15</th>\n",
       "      <td>0</td>\n",
       "      <td>NaN</td>\n",
       "    </tr>\n",
       "    <tr>\n",
       "      <th>16</th>\n",
       "      <td>5</td>\n",
       "      <td>3_5년</td>\n",
       "    </tr>\n",
       "    <tr>\n",
       "      <th>17</th>\n",
       "      <td>0</td>\n",
       "      <td>NaN</td>\n",
       "    </tr>\n",
       "    <tr>\n",
       "      <th>18</th>\n",
       "      <td>0</td>\n",
       "      <td>NaN</td>\n",
       "    </tr>\n",
       "    <tr>\n",
       "      <th>19</th>\n",
       "      <td>0</td>\n",
       "      <td>NaN</td>\n",
       "    </tr>\n",
       "    <tr>\n",
       "      <th>20</th>\n",
       "      <td>3</td>\n",
       "      <td>1_3년</td>\n",
       "    </tr>\n",
       "    <tr>\n",
       "      <th>21</th>\n",
       "      <td>10</td>\n",
       "      <td>5년이상</td>\n",
       "    </tr>\n",
       "    <tr>\n",
       "      <th>22</th>\n",
       "      <td>0</td>\n",
       "      <td>NaN</td>\n",
       "    </tr>\n",
       "    <tr>\n",
       "      <th>23</th>\n",
       "      <td>0</td>\n",
       "      <td>NaN</td>\n",
       "    </tr>\n",
       "    <tr>\n",
       "      <th>24</th>\n",
       "      <td>0</td>\n",
       "      <td>NaN</td>\n",
       "    </tr>\n",
       "    <tr>\n",
       "      <th>25</th>\n",
       "      <td>1</td>\n",
       "      <td>1_3년</td>\n",
       "    </tr>\n",
       "    <tr>\n",
       "      <th>26</th>\n",
       "      <td>0</td>\n",
       "      <td>NaN</td>\n",
       "    </tr>\n",
       "    <tr>\n",
       "      <th>27</th>\n",
       "      <td>11</td>\n",
       "      <td>5년이상</td>\n",
       "    </tr>\n",
       "    <tr>\n",
       "      <th>28</th>\n",
       "      <td>2</td>\n",
       "      <td>1_3년</td>\n",
       "    </tr>\n",
       "    <tr>\n",
       "      <th>29</th>\n",
       "      <td>0</td>\n",
       "      <td>NaN</td>\n",
       "    </tr>\n",
       "    <tr>\n",
       "      <th>...</th>\n",
       "      <td>...</td>\n",
       "      <td>...</td>\n",
       "    </tr>\n",
       "    <tr>\n",
       "      <th>38</th>\n",
       "      <td>0</td>\n",
       "      <td>NaN</td>\n",
       "    </tr>\n",
       "    <tr>\n",
       "      <th>39</th>\n",
       "      <td>1</td>\n",
       "      <td>1_3년</td>\n",
       "    </tr>\n",
       "    <tr>\n",
       "      <th>40</th>\n",
       "      <td>0</td>\n",
       "      <td>NaN</td>\n",
       "    </tr>\n",
       "    <tr>\n",
       "      <th>41</th>\n",
       "      <td>0</td>\n",
       "      <td>NaN</td>\n",
       "    </tr>\n",
       "    <tr>\n",
       "      <th>42</th>\n",
       "      <td>0</td>\n",
       "      <td>NaN</td>\n",
       "    </tr>\n",
       "    <tr>\n",
       "      <th>43</th>\n",
       "      <td>0</td>\n",
       "      <td>NaN</td>\n",
       "    </tr>\n",
       "    <tr>\n",
       "      <th>44</th>\n",
       "      <td>0</td>\n",
       "      <td>NaN</td>\n",
       "    </tr>\n",
       "    <tr>\n",
       "      <th>45</th>\n",
       "      <td>3</td>\n",
       "      <td>1_3년</td>\n",
       "    </tr>\n",
       "    <tr>\n",
       "      <th>46</th>\n",
       "      <td>0</td>\n",
       "      <td>NaN</td>\n",
       "    </tr>\n",
       "    <tr>\n",
       "      <th>47</th>\n",
       "      <td>0</td>\n",
       "      <td>NaN</td>\n",
       "    </tr>\n",
       "    <tr>\n",
       "      <th>48</th>\n",
       "      <td>0</td>\n",
       "      <td>NaN</td>\n",
       "    </tr>\n",
       "    <tr>\n",
       "      <th>49</th>\n",
       "      <td>0</td>\n",
       "      <td>NaN</td>\n",
       "    </tr>\n",
       "    <tr>\n",
       "      <th>50</th>\n",
       "      <td>5</td>\n",
       "      <td>3_5년</td>\n",
       "    </tr>\n",
       "    <tr>\n",
       "      <th>51</th>\n",
       "      <td>0</td>\n",
       "      <td>NaN</td>\n",
       "    </tr>\n",
       "    <tr>\n",
       "      <th>52</th>\n",
       "      <td>2</td>\n",
       "      <td>1_3년</td>\n",
       "    </tr>\n",
       "    <tr>\n",
       "      <th>53</th>\n",
       "      <td>3</td>\n",
       "      <td>1_3년</td>\n",
       "    </tr>\n",
       "    <tr>\n",
       "      <th>54</th>\n",
       "      <td>0</td>\n",
       "      <td>NaN</td>\n",
       "    </tr>\n",
       "    <tr>\n",
       "      <th>55</th>\n",
       "      <td>0</td>\n",
       "      <td>NaN</td>\n",
       "    </tr>\n",
       "    <tr>\n",
       "      <th>56</th>\n",
       "      <td>0</td>\n",
       "      <td>NaN</td>\n",
       "    </tr>\n",
       "    <tr>\n",
       "      <th>57</th>\n",
       "      <td>0</td>\n",
       "      <td>NaN</td>\n",
       "    </tr>\n",
       "    <tr>\n",
       "      <th>58</th>\n",
       "      <td>0</td>\n",
       "      <td>NaN</td>\n",
       "    </tr>\n",
       "    <tr>\n",
       "      <th>59</th>\n",
       "      <td>11</td>\n",
       "      <td>5년이상</td>\n",
       "    </tr>\n",
       "    <tr>\n",
       "      <th>60</th>\n",
       "      <td>0</td>\n",
       "      <td>NaN</td>\n",
       "    </tr>\n",
       "    <tr>\n",
       "      <th>61</th>\n",
       "      <td>0</td>\n",
       "      <td>NaN</td>\n",
       "    </tr>\n",
       "    <tr>\n",
       "      <th>62</th>\n",
       "      <td>0</td>\n",
       "      <td>NaN</td>\n",
       "    </tr>\n",
       "    <tr>\n",
       "      <th>63</th>\n",
       "      <td>0</td>\n",
       "      <td>NaN</td>\n",
       "    </tr>\n",
       "    <tr>\n",
       "      <th>64</th>\n",
       "      <td>3</td>\n",
       "      <td>1_3년</td>\n",
       "    </tr>\n",
       "    <tr>\n",
       "      <th>65</th>\n",
       "      <td>0</td>\n",
       "      <td>NaN</td>\n",
       "    </tr>\n",
       "    <tr>\n",
       "      <th>66</th>\n",
       "      <td>0</td>\n",
       "      <td>NaN</td>\n",
       "    </tr>\n",
       "    <tr>\n",
       "      <th>67</th>\n",
       "      <td>0</td>\n",
       "      <td>NaN</td>\n",
       "    </tr>\n",
       "  </tbody>\n",
       "</table>\n",
       "<p>68 rows × 2 columns</p>\n",
       "</div>"
      ],
      "text/plain": [
       "    A_22 resi_categories\n",
       "0      0             NaN\n",
       "1      3            1_3년\n",
       "2     35            5년이상\n",
       "3      0             NaN\n",
       "4      4            3_5년\n",
       "5      0             NaN\n",
       "6      0             NaN\n",
       "7      0             NaN\n",
       "8      0             NaN\n",
       "9      0             NaN\n",
       "10     0             NaN\n",
       "11     0             NaN\n",
       "12     3            1_3년\n",
       "13     0             NaN\n",
       "14     4            3_5년\n",
       "15     0             NaN\n",
       "16     5            3_5년\n",
       "17     0             NaN\n",
       "18     0             NaN\n",
       "19     0             NaN\n",
       "20     3            1_3년\n",
       "21    10            5년이상\n",
       "22     0             NaN\n",
       "23     0             NaN\n",
       "24     0             NaN\n",
       "25     1            1_3년\n",
       "26     0             NaN\n",
       "27    11            5년이상\n",
       "28     2            1_3년\n",
       "29     0             NaN\n",
       "..   ...             ...\n",
       "38     0             NaN\n",
       "39     1            1_3년\n",
       "40     0             NaN\n",
       "41     0             NaN\n",
       "42     0             NaN\n",
       "43     0             NaN\n",
       "44     0             NaN\n",
       "45     3            1_3년\n",
       "46     0             NaN\n",
       "47     0             NaN\n",
       "48     0             NaN\n",
       "49     0             NaN\n",
       "50     5            3_5년\n",
       "51     0             NaN\n",
       "52     2            1_3년\n",
       "53     3            1_3년\n",
       "54     0             NaN\n",
       "55     0             NaN\n",
       "56     0             NaN\n",
       "57     0             NaN\n",
       "58     0             NaN\n",
       "59    11            5년이상\n",
       "60     0             NaN\n",
       "61     0             NaN\n",
       "62     0             NaN\n",
       "63     0             NaN\n",
       "64     3            1_3년\n",
       "65     0             NaN\n",
       "66     0             NaN\n",
       "67     0             NaN\n",
       "\n",
       "[68 rows x 2 columns]"
      ]
     },
     "execution_count": 224,
     "metadata": {},
     "output_type": "execute_result"
    }
   ],
   "source": [
    "A11_data_highage[['A_22','resi_categories']]"
   ]
  },
  {
   "cell_type": "markdown",
   "metadata": {},
   "source": [
    "##### 거주기간 별로 data 분리"
   ]
  },
  {
   "cell_type": "code",
   "execution_count": 225,
   "metadata": {
    "collapsed": true
   },
   "outputs": [],
   "source": [
    "A11_highage_oneTothree = A11_data_highage.ix[A11_data_highage.resi_categories == \"1_3년\"]\n",
    "A11_highage_threeTofive = A11_data_highage.ix[A11_data_highage.resi_categories == \"3_5년\"]\n",
    "A11_highage_five = A11_data_highage.ix[A11_data_highage.resi_categories == \"5년이상\"]"
   ]
  },
  {
   "cell_type": "code",
   "execution_count": 226,
   "metadata": {
    "collapsed": false
   },
   "outputs": [
    {
     "data": {
      "text/plain": [
       "11"
      ]
     },
     "execution_count": 226,
     "metadata": {},
     "output_type": "execute_result"
    }
   ],
   "source": [
    "len(A11_highage_oneTothree)"
   ]
  },
  {
   "cell_type": "code",
   "execution_count": 227,
   "metadata": {
    "collapsed": false,
    "scrolled": true
   },
   "outputs": [
    {
     "data": {
      "text/plain": [
       "4"
      ]
     },
     "execution_count": 227,
     "metadata": {},
     "output_type": "execute_result"
    }
   ],
   "source": [
    "len(A11_highage_threeTofive)"
   ]
  },
  {
   "cell_type": "code",
   "execution_count": 228,
   "metadata": {
    "collapsed": false
   },
   "outputs": [
    {
     "data": {
      "text/plain": [
       "6"
      ]
     },
     "execution_count": 228,
     "metadata": {},
     "output_type": "execute_result"
    }
   ],
   "source": [
    "len(A11_highage_five)"
   ]
  },
  {
   "cell_type": "markdown",
   "metadata": {},
   "source": [
    "###### 1~3년 이상 당첨/탈락 데이터 나누기"
   ]
  },
  {
   "cell_type": "code",
   "execution_count": 229,
   "metadata": {
    "collapsed": false
   },
   "outputs": [],
   "source": [
    "A11_highage_oneTothree_win = A11_highage_oneTothree.ix[A11_highage_oneTothree.W_4 == '당첨']\n",
    "A11_highage_oneTothree_lose = A11_highage_oneTothree.ix[A11_highage_oneTothree.W_4 != '당첨']"
   ]
  },
  {
   "cell_type": "code",
   "execution_count": 230,
   "metadata": {
    "collapsed": false
   },
   "outputs": [
    {
     "data": {
      "text/plain": [
       "11"
      ]
     },
     "execution_count": 230,
     "metadata": {},
     "output_type": "execute_result"
    }
   ],
   "source": [
    "len(A11_highage_oneTothree_win) # 당첨자 11명"
   ]
  },
  {
   "cell_type": "code",
   "execution_count": 231,
   "metadata": {
    "collapsed": false,
    "scrolled": true
   },
   "outputs": [
    {
     "data": {
      "text/plain": [
       "0"
      ]
     },
     "execution_count": 231,
     "metadata": {},
     "output_type": "execute_result"
    }
   ],
   "source": [
    "len(A11_highage_oneTothree_lose) # 탈락자 없음"
   ]
  },
  {
   "cell_type": "code",
   "execution_count": 232,
   "metadata": {
    "collapsed": true
   },
   "outputs": [
    {
     "data": {
      "text/plain": [
       "1     우(고)\n",
       "12    일(고)\n",
       "20    우(고)\n",
       "25    일(고)\n",
       "28    일(고)\n",
       "32    잔(고)\n",
       "39    일(고)\n",
       "45    잔(고)\n",
       "52    일(고)\n",
       "53    우(고)\n",
       "64    잔(고)\n",
       "Name: W_14, dtype: object"
      ]
     },
     "execution_count": 232,
     "metadata": {},
     "output_type": "execute_result"
    }
   ],
   "source": [
    "A11_highage_oneTothree_win.W_14"
   ]
  },
  {
   "cell_type": "code",
   "execution_count": 233,
   "metadata": {
    "collapsed": true
   },
   "outputs": [],
   "source": [
    "A11_highage_oneTothree_win = A11_highage_oneTothree_win.ix[A11_highage_oneTothree_win.W_14 != '잔(고)']"
   ]
  },
  {
   "cell_type": "code",
   "execution_count": 234,
   "metadata": {
    "collapsed": false
   },
   "outputs": [
    {
     "data": {
      "text/plain": [
       "8"
      ]
     },
     "execution_count": 234,
     "metadata": {},
     "output_type": "execute_result"
    }
   ],
   "source": [
    "len(A11_highage_oneTothree_win)"
   ]
  },
  {
   "cell_type": "code",
   "execution_count": 235,
   "metadata": {
    "collapsed": false
   },
   "outputs": [
    {
     "data": {
      "text/plain": [
       "0.7272727272727273"
      ]
     },
     "execution_count": 235,
     "metadata": {},
     "output_type": "execute_result"
    }
   ],
   "source": [
    "len(A11_highage_oneTothree_win)/len(A11_highage_oneTothree)"
   ]
  },
  {
   "cell_type": "code",
   "execution_count": 236,
   "metadata": {
    "collapsed": false
   },
   "outputs": [
    {
     "data": {
      "text/plain": [
       "0.0"
      ]
     },
     "execution_count": 236,
     "metadata": {},
     "output_type": "execute_result"
    }
   ],
   "source": [
    "len(A11_highage_oneTothree_lose)/len(A11_highage_oneTothree)"
   ]
  },
  {
   "cell_type": "code",
   "execution_count": 237,
   "metadata": {
    "collapsed": false
   },
   "outputs": [
    {
     "data": {
      "text/plain": [
       "0.2727272727272727"
      ]
     },
     "execution_count": 237,
     "metadata": {},
     "output_type": "execute_result"
    }
   ],
   "source": [
    "3/len(A11_highage_oneTothree)"
   ]
  },
  {
   "cell_type": "code",
   "execution_count": 238,
   "metadata": {
    "collapsed": false
   },
   "outputs": [
    {
     "data": {
      "text/plain": [
       "1.0"
      ]
     },
     "execution_count": 238,
     "metadata": {},
     "output_type": "execute_result"
    }
   ],
   "source": [
    "0.7272727272727273+0.2727272727272727+0.0"
   ]
  },
  {
   "cell_type": "markdown",
   "metadata": {},
   "source": [
    "###### 3~5년 데이터 당첨/탈락 데이터 나누기"
   ]
  },
  {
   "cell_type": "code",
   "execution_count": 239,
   "metadata": {
    "collapsed": true
   },
   "outputs": [],
   "source": [
    "A11_highage_threeTofive_win = A11_highage_threeTofive.ix[A11_highage_threeTofive.W_4 == '당첨']\n",
    "A11_highage_threeTofive_lose = A11_highage_threeTofive.ix[A11_highage_threeTofive.W_4 != '당첨']"
   ]
  },
  {
   "cell_type": "code",
   "execution_count": 240,
   "metadata": {
    "collapsed": false
   },
   "outputs": [
    {
     "data": {
      "text/plain": [
       "4"
      ]
     },
     "execution_count": 240,
     "metadata": {},
     "output_type": "execute_result"
    }
   ],
   "source": [
    "len(A11_highage_threeTofive_win)"
   ]
  },
  {
   "cell_type": "code",
   "execution_count": 241,
   "metadata": {
    "collapsed": false
   },
   "outputs": [
    {
     "data": {
      "text/plain": [
       "0"
      ]
     },
     "execution_count": 241,
     "metadata": {},
     "output_type": "execute_result"
    }
   ],
   "source": [
    "len(A11_highage_threeTofive_lose)"
   ]
  },
  {
   "cell_type": "code",
   "execution_count": 242,
   "metadata": {
    "collapsed": false
   },
   "outputs": [
    {
     "data": {
      "text/plain": [
       "array(['일(고)', '잔(고)', '우(고)'], dtype=object)"
      ]
     },
     "execution_count": 242,
     "metadata": {},
     "output_type": "execute_result"
    }
   ],
   "source": [
    "A11_highage_threeTofive_win.W_14.unique()"
   ]
  },
  {
   "cell_type": "code",
   "execution_count": 243,
   "metadata": {
    "collapsed": true
   },
   "outputs": [],
   "source": [
    "A11_highage_threeTofive_win = A11_highage_threeTofive_win.ix[A11_highage_threeTofive_win.W_14 != '잔(고)']"
   ]
  },
  {
   "cell_type": "code",
   "execution_count": 244,
   "metadata": {
    "collapsed": false,
    "scrolled": true
   },
   "outputs": [
    {
     "data": {
      "text/plain": [
       "3"
      ]
     },
     "execution_count": 244,
     "metadata": {},
     "output_type": "execute_result"
    }
   ],
   "source": [
    "len(A11_highage_threeTofive_win)"
   ]
  },
  {
   "cell_type": "code",
   "execution_count": 245,
   "metadata": {
    "collapsed": false
   },
   "outputs": [
    {
     "data": {
      "text/plain": [
       "0.75"
      ]
     },
     "execution_count": 245,
     "metadata": {},
     "output_type": "execute_result"
    }
   ],
   "source": [
    "len(A11_highage_threeTofive_win)/len(A11_highage_threeTofive)"
   ]
  },
  {
   "cell_type": "code",
   "execution_count": 246,
   "metadata": {
    "collapsed": false
   },
   "outputs": [
    {
     "data": {
      "text/plain": [
       "0.25"
      ]
     },
     "execution_count": 246,
     "metadata": {},
     "output_type": "execute_result"
    }
   ],
   "source": [
    "1/len(A11_highage_threeTofive)"
   ]
  },
  {
   "cell_type": "code",
   "execution_count": 149,
   "metadata": {
    "collapsed": false
   },
   "outputs": [
    {
     "data": {
      "text/plain": [
       "1.0"
      ]
     },
     "execution_count": 149,
     "metadata": {},
     "output_type": "execute_result"
    }
   ],
   "source": [
    "0.8+0.2"
   ]
  },
  {
   "cell_type": "markdown",
   "metadata": {},
   "source": [
    "###### 5년이상 데이터 당첨/탈락 데이터 나누기"
   ]
  },
  {
   "cell_type": "code",
   "execution_count": 255,
   "metadata": {
    "collapsed": true
   },
   "outputs": [],
   "source": [
    "A11_highage_five_win = A11_highage_five.ix[A11_highage_five.W_4 == '당첨']\n",
    "A11_highage_five_lose = A11_highage_five.ix[A11_highage_five.W_4 != '당첨']"
   ]
  },
  {
   "cell_type": "code",
   "execution_count": 256,
   "metadata": {
    "collapsed": false
   },
   "outputs": [
    {
     "data": {
      "text/plain": [
       "6"
      ]
     },
     "execution_count": 256,
     "metadata": {},
     "output_type": "execute_result"
    }
   ],
   "source": [
    "len(A11_highage_five_win)"
   ]
  },
  {
   "cell_type": "code",
   "execution_count": 257,
   "metadata": {
    "collapsed": false
   },
   "outputs": [
    {
     "data": {
      "text/plain": [
       "0"
      ]
     },
     "execution_count": 257,
     "metadata": {},
     "output_type": "execute_result"
    }
   ],
   "source": [
    "len(A11_highage_five_lose)"
   ]
  },
  {
   "cell_type": "code",
   "execution_count": 258,
   "metadata": {
    "collapsed": false
   },
   "outputs": [
    {
     "data": {
      "text/plain": [
       "array(['우(고)'], dtype=object)"
      ]
     },
     "execution_count": 258,
     "metadata": {},
     "output_type": "execute_result"
    }
   ],
   "source": [
    "A11_highage_five_win.W_14.unique()"
   ]
  },
  {
   "cell_type": "code",
   "execution_count": 259,
   "metadata": {
    "collapsed": false
   },
   "outputs": [
    {
     "data": {
      "text/plain": [
       "1.0"
      ]
     },
     "execution_count": 259,
     "metadata": {},
     "output_type": "execute_result"
    }
   ],
   "source": [
    "len(A11_highage_five_win)/len(A11_highage_five)"
   ]
  },
  {
   "cell_type": "code",
   "execution_count": 260,
   "metadata": {
    "collapsed": false
   },
   "outputs": [
    {
     "data": {
      "text/plain": [
       "0.0"
      ]
     },
     "execution_count": 260,
     "metadata": {},
     "output_type": "execute_result"
    }
   ],
   "source": [
    "len(A11_highage_five_lose)/len(A11_highage_five)"
   ]
  },
  {
   "cell_type": "code",
   "execution_count": 261,
   "metadata": {
    "collapsed": false
   },
   "outputs": [
    {
     "data": {
      "text/plain": [
       "1.0"
      ]
     },
     "execution_count": 261,
     "metadata": {},
     "output_type": "execute_result"
    }
   ],
   "source": [
    "1.0+0.0"
   ]
  },
  {
   "cell_type": "markdown",
   "metadata": {},
   "source": [
    "###### 미성년자 3명이상 여부 데이터 나누기"
   ]
  },
  {
   "cell_type": "code",
   "execution_count": 300,
   "metadata": {
    "collapsed": true
   },
   "outputs": [],
   "source": [
    "A11_data_highage_threeup = A11_data_highage.ix[A11_data_highage.W_35 == 'Y']\n",
    "A11_data_highage_threedown = A11_data_highage.ix[A11_data_highage.W_35 != 'Y']"
   ]
  },
  {
   "cell_type": "code",
   "execution_count": 301,
   "metadata": {
    "collapsed": false,
    "scrolled": true
   },
   "outputs": [
    {
     "data": {
      "text/html": [
       "<div>\n",
       "<table border=\"1\" class=\"dataframe\">\n",
       "  <thead>\n",
       "    <tr style=\"text-align: right;\">\n",
       "      <th></th>\n",
       "      <th>A_10</th>\n",
       "      <th>A_11</th>\n",
       "      <th>A_12</th>\n",
       "      <th>A_13</th>\n",
       "      <th>A_14</th>\n",
       "      <th>A_15</th>\n",
       "      <th>A_16</th>\n",
       "      <th>A_17</th>\n",
       "      <th>A_18</th>\n",
       "      <th>A_19</th>\n",
       "      <th>...</th>\n",
       "      <th>W_5</th>\n",
       "      <th>W_6</th>\n",
       "      <th>W_7</th>\n",
       "      <th>W_8</th>\n",
       "      <th>W_9</th>\n",
       "      <th>categories</th>\n",
       "      <th>child_div</th>\n",
       "      <th>resi_categories</th>\n",
       "      <th>not_save_categories</th>\n",
       "      <th>minus_div</th>\n",
       "    </tr>\n",
       "  </thead>\n",
       "  <tbody>\n",
       "  </tbody>\n",
       "</table>\n",
       "<p>0 rows × 107 columns</p>\n",
       "</div>"
      ],
      "text/plain": [
       "Empty DataFrame\n",
       "Columns: [A_10, A_11, A_12, A_13, A_14, A_15, A_16, A_17, A_18, A_19, A_20, A_21, A_22, A_23, A_24, A_25, A_26, A_27, A_28, A_29, A_30, A_31, A_32, A_33, A_34, A_35, A_36, A_37, A_38, A_39, A_4, A_40, A_41, A_42, A_43, A_44, A_45, A_46, A_47, A_48, A_49, A_5, A_50, A_51, A_52, A_53, A_54, A_55, A_56, A_57, A_58, A_59, A_6, A_7, A_8, A_9, BLOCK_NM, REGNUM_BLOCK, SEQ_, SEQ_NUM, W_1, W_10, W_11, W_12, W_13, W_14, W_15, W_16, W_17, W_18, W_19, W_2, W_20, W_21, W_22, W_23, W_24, W_25, W_26, W_27, W_28, W_29, W_3, W_30, W_31, W_32, W_33, W_34, W_35, W_36, W_37, W_38, W_39, W_4, W_40, W_41, W_42, W_5, W_6, W_7, ...]\n",
       "Index: []\n",
       "\n",
       "[0 rows x 107 columns]"
      ]
     },
     "execution_count": 301,
     "metadata": {},
     "output_type": "execute_result"
    }
   ],
   "source": [
    "A11_data_highage_threeup"
   ]
  },
  {
   "cell_type": "code",
   "execution_count": 302,
   "metadata": {
    "collapsed": true
   },
   "outputs": [
    {
     "data": {
      "text/html": [
       "<div>\n",
       "<table border=\"1\" class=\"dataframe\">\n",
       "  <thead>\n",
       "    <tr style=\"text-align: right;\">\n",
       "      <th></th>\n",
       "      <th>A_10</th>\n",
       "      <th>A_11</th>\n",
       "      <th>A_12</th>\n",
       "      <th>A_13</th>\n",
       "      <th>A_14</th>\n",
       "      <th>A_15</th>\n",
       "      <th>A_16</th>\n",
       "      <th>A_17</th>\n",
       "      <th>A_18</th>\n",
       "      <th>A_19</th>\n",
       "      <th>...</th>\n",
       "      <th>W_5</th>\n",
       "      <th>W_6</th>\n",
       "      <th>W_7</th>\n",
       "      <th>W_8</th>\n",
       "      <th>W_9</th>\n",
       "      <th>categories</th>\n",
       "      <th>child_div</th>\n",
       "      <th>resi_categories</th>\n",
       "      <th>not_save_categories</th>\n",
       "      <th>minus_div</th>\n",
       "    </tr>\n",
       "  </thead>\n",
       "  <tbody>\n",
       "    <tr>\n",
       "      <th>0</th>\n",
       "      <td>000000-0******</td>\n",
       "      <td>본인</td>\n",
       "      <td>- 세대주와의 관계 -</td>\n",
       "      <td></td>\n",
       "      <td></td>\n",
       "      <td></td>\n",
       "      <td></td>\n",
       "      <td></td>\n",
       "      <td></td>\n",
       "      <td></td>\n",
       "      <td>...</td>\n",
       "      <td>282</td>\n",
       "      <td>99997</td>\n",
       "      <td>0</td>\n",
       "      <td>1510</td>\n",
       "      <td></td>\n",
       "      <td>50대이상</td>\n",
       "      <td>NaN</td>\n",
       "      <td>NaN</td>\n",
       "      <td>NaN</td>\n",
       "      <td>해당없음</td>\n",
       "    </tr>\n",
       "    <tr>\n",
       "      <th>1</th>\n",
       "      <td>430920-1******</td>\n",
       "      <td>본인</td>\n",
       "      <td>- 세대주와의 관계 -</td>\n",
       "      <td></td>\n",
       "      <td></td>\n",
       "      <td></td>\n",
       "      <td></td>\n",
       "      <td></td>\n",
       "      <td>121**</td>\n",
       "      <td>경기도 남양주시 별내5로</td>\n",
       "      <td>...</td>\n",
       "      <td>36</td>\n",
       "      <td>45</td>\n",
       "      <td>0</td>\n",
       "      <td>1526</td>\n",
       "      <td>위수*</td>\n",
       "      <td>50대이상</td>\n",
       "      <td>1인</td>\n",
       "      <td>1_3년</td>\n",
       "      <td>NaN</td>\n",
       "      <td>해당없음</td>\n",
       "    </tr>\n",
       "    <tr>\n",
       "      <th>2</th>\n",
       "      <td>450116-2******</td>\n",
       "      <td>본인</td>\n",
       "      <td>- 세대주와의 관계 -</td>\n",
       "      <td></td>\n",
       "      <td></td>\n",
       "      <td></td>\n",
       "      <td></td>\n",
       "      <td></td>\n",
       "      <td>121**</td>\n",
       "      <td>경기도 남양주시 별내5로</td>\n",
       "      <td>...</td>\n",
       "      <td>43</td>\n",
       "      <td>45</td>\n",
       "      <td>0</td>\n",
       "      <td>1527</td>\n",
       "      <td>이태*</td>\n",
       "      <td>50대이상</td>\n",
       "      <td>NaN</td>\n",
       "      <td>5년이상</td>\n",
       "      <td>NaN</td>\n",
       "      <td>해당없음</td>\n",
       "    </tr>\n",
       "    <tr>\n",
       "      <th>3</th>\n",
       "      <td>400927-2******</td>\n",
       "      <td>본인</td>\n",
       "      <td>- 세대주와의 관계 -</td>\n",
       "      <td></td>\n",
       "      <td></td>\n",
       "      <td></td>\n",
       "      <td></td>\n",
       "      <td></td>\n",
       "      <td>138**</td>\n",
       "      <td>서울 송파구 삼학사로</td>\n",
       "      <td>...</td>\n",
       "      <td>276</td>\n",
       "      <td>99997</td>\n",
       "      <td>0</td>\n",
       "      <td>2001</td>\n",
       "      <td>김윤*</td>\n",
       "      <td>50대이상</td>\n",
       "      <td>NaN</td>\n",
       "      <td>NaN</td>\n",
       "      <td>48회이상</td>\n",
       "      <td>1년이내</td>\n",
       "    </tr>\n",
       "    <tr>\n",
       "      <th>4</th>\n",
       "      <td>340506-2******</td>\n",
       "      <td>본인</td>\n",
       "      <td>- 세대주와의 관계 -</td>\n",
       "      <td></td>\n",
       "      <td></td>\n",
       "      <td></td>\n",
       "      <td></td>\n",
       "      <td></td>\n",
       "      <td>121**</td>\n",
       "      <td>경기도 남양주시 별내5로</td>\n",
       "      <td>...</td>\n",
       "      <td>56</td>\n",
       "      <td>58</td>\n",
       "      <td>0</td>\n",
       "      <td>2004</td>\n",
       "      <td>김정*</td>\n",
       "      <td>50대이상</td>\n",
       "      <td>NaN</td>\n",
       "      <td>3_5년</td>\n",
       "      <td>NaN</td>\n",
       "      <td>해당없음</td>\n",
       "    </tr>\n",
       "    <tr>\n",
       "      <th>5</th>\n",
       "      <td>420603-1******</td>\n",
       "      <td>본인</td>\n",
       "      <td>- 세대주와의 관계 -</td>\n",
       "      <td></td>\n",
       "      <td></td>\n",
       "      <td></td>\n",
       "      <td></td>\n",
       "      <td></td>\n",
       "      <td>472**</td>\n",
       "      <td>경기 남야주시 별내면</td>\n",
       "      <td>...</td>\n",
       "      <td>122</td>\n",
       "      <td>126</td>\n",
       "      <td>0</td>\n",
       "      <td>2006</td>\n",
       "      <td>김종*</td>\n",
       "      <td>50대이상</td>\n",
       "      <td>NaN</td>\n",
       "      <td>NaN</td>\n",
       "      <td>NaN</td>\n",
       "      <td>해당없음</td>\n",
       "    </tr>\n",
       "    <tr>\n",
       "      <th>6</th>\n",
       "      <td>270920-2******</td>\n",
       "      <td>본인</td>\n",
       "      <td>- 세대주와의 관계 -</td>\n",
       "      <td></td>\n",
       "      <td></td>\n",
       "      <td></td>\n",
       "      <td></td>\n",
       "      <td></td>\n",
       "      <td>121**</td>\n",
       "      <td>경기도 남양주시 별내5로</td>\n",
       "      <td>...</td>\n",
       "      <td>68</td>\n",
       "      <td>76</td>\n",
       "      <td>0</td>\n",
       "      <td>3014</td>\n",
       "      <td>한간*</td>\n",
       "      <td>50대이상</td>\n",
       "      <td>NaN</td>\n",
       "      <td>NaN</td>\n",
       "      <td>NaN</td>\n",
       "      <td>해당없음</td>\n",
       "    </tr>\n",
       "    <tr>\n",
       "      <th>7</th>\n",
       "      <td>460505-2******</td>\n",
       "      <td>본인</td>\n",
       "      <td>- 세대주와의 관계 -</td>\n",
       "      <td></td>\n",
       "      <td></td>\n",
       "      <td></td>\n",
       "      <td></td>\n",
       "      <td></td>\n",
       "      <td>121**</td>\n",
       "      <td>경기도 남양주시 별내5로</td>\n",
       "      <td>...</td>\n",
       "      <td>42</td>\n",
       "      <td>45</td>\n",
       "      <td>0</td>\n",
       "      <td>3018</td>\n",
       "      <td>심정*</td>\n",
       "      <td>50대이상</td>\n",
       "      <td>NaN</td>\n",
       "      <td>NaN</td>\n",
       "      <td>60회이상</td>\n",
       "      <td>해당없음</td>\n",
       "    </tr>\n",
       "    <tr>\n",
       "      <th>8</th>\n",
       "      <td>360825-1******</td>\n",
       "      <td>본인</td>\n",
       "      <td>- 세대주와의 관계 -</td>\n",
       "      <td></td>\n",
       "      <td></td>\n",
       "      <td></td>\n",
       "      <td></td>\n",
       "      <td></td>\n",
       "      <td>134**</td>\n",
       "      <td>서울 강동구 천호대로</td>\n",
       "      <td>...</td>\n",
       "      <td>235</td>\n",
       "      <td>268</td>\n",
       "      <td>58</td>\n",
       "      <td>3040</td>\n",
       "      <td>서종*</td>\n",
       "      <td>50대이상</td>\n",
       "      <td>NaN</td>\n",
       "      <td>NaN</td>\n",
       "      <td>NaN</td>\n",
       "      <td>해당없음</td>\n",
       "    </tr>\n",
       "    <tr>\n",
       "      <th>9</th>\n",
       "      <td>000000-0******</td>\n",
       "      <td>본인</td>\n",
       "      <td>- 세대주와의 관계 -</td>\n",
       "      <td></td>\n",
       "      <td></td>\n",
       "      <td></td>\n",
       "      <td></td>\n",
       "      <td></td>\n",
       "      <td></td>\n",
       "      <td></td>\n",
       "      <td>...</td>\n",
       "      <td>270</td>\n",
       "      <td>99997</td>\n",
       "      <td>0</td>\n",
       "      <td>3080</td>\n",
       "      <td></td>\n",
       "      <td>50대이상</td>\n",
       "      <td>3인</td>\n",
       "      <td>NaN</td>\n",
       "      <td>NaN</td>\n",
       "      <td>해당없음</td>\n",
       "    </tr>\n",
       "    <tr>\n",
       "      <th>10</th>\n",
       "      <td>391230-2******</td>\n",
       "      <td>본인</td>\n",
       "      <td>- 세대주와의 관계 -</td>\n",
       "      <td></td>\n",
       "      <td></td>\n",
       "      <td></td>\n",
       "      <td></td>\n",
       "      <td></td>\n",
       "      <td>121**</td>\n",
       "      <td>경기도 남양주시 별내5로</td>\n",
       "      <td>...</td>\n",
       "      <td>228</td>\n",
       "      <td>268</td>\n",
       "      <td>47</td>\n",
       "      <td>3514</td>\n",
       "      <td>조원*</td>\n",
       "      <td>50대이상</td>\n",
       "      <td>NaN</td>\n",
       "      <td>NaN</td>\n",
       "      <td>NaN</td>\n",
       "      <td>해당없음</td>\n",
       "    </tr>\n",
       "    <tr>\n",
       "      <th>11</th>\n",
       "      <td>000000-0******</td>\n",
       "      <td>본인</td>\n",
       "      <td>- 세대주와의 관계 -</td>\n",
       "      <td></td>\n",
       "      <td></td>\n",
       "      <td></td>\n",
       "      <td></td>\n",
       "      <td></td>\n",
       "      <td></td>\n",
       "      <td></td>\n",
       "      <td>...</td>\n",
       "      <td>272</td>\n",
       "      <td>99997</td>\n",
       "      <td>0</td>\n",
       "      <td>3515</td>\n",
       "      <td></td>\n",
       "      <td>50대이상</td>\n",
       "      <td>NaN</td>\n",
       "      <td>NaN</td>\n",
       "      <td>NaN</td>\n",
       "      <td>해당없음</td>\n",
       "    </tr>\n",
       "    <tr>\n",
       "      <th>12</th>\n",
       "      <td>250929-1******</td>\n",
       "      <td>본인</td>\n",
       "      <td>- 세대주와의 관계 -</td>\n",
       "      <td></td>\n",
       "      <td></td>\n",
       "      <td></td>\n",
       "      <td></td>\n",
       "      <td></td>\n",
       "      <td>472**</td>\n",
       "      <td>경기 남양주 오남읍</td>\n",
       "      <td>...</td>\n",
       "      <td>97</td>\n",
       "      <td>88</td>\n",
       "      <td>0</td>\n",
       "      <td>3519</td>\n",
       "      <td>강병*</td>\n",
       "      <td>50대이상</td>\n",
       "      <td>NaN</td>\n",
       "      <td>1_3년</td>\n",
       "      <td>NaN</td>\n",
       "      <td>해당없음</td>\n",
       "    </tr>\n",
       "    <tr>\n",
       "      <th>13</th>\n",
       "      <td>000000-0******</td>\n",
       "      <td>본인</td>\n",
       "      <td>- 세대주와의 관계 -</td>\n",
       "      <td></td>\n",
       "      <td></td>\n",
       "      <td></td>\n",
       "      <td></td>\n",
       "      <td></td>\n",
       "      <td></td>\n",
       "      <td></td>\n",
       "      <td>...</td>\n",
       "      <td>263</td>\n",
       "      <td>99997</td>\n",
       "      <td>0</td>\n",
       "      <td>3525</td>\n",
       "      <td></td>\n",
       "      <td>50대이상</td>\n",
       "      <td>NaN</td>\n",
       "      <td>NaN</td>\n",
       "      <td>NaN</td>\n",
       "      <td>해당없음</td>\n",
       "    </tr>\n",
       "    <tr>\n",
       "      <th>14</th>\n",
       "      <td>331211-2******</td>\n",
       "      <td>본인</td>\n",
       "      <td>- 세대주와의 관계 -</td>\n",
       "      <td></td>\n",
       "      <td></td>\n",
       "      <td></td>\n",
       "      <td></td>\n",
       "      <td></td>\n",
       "      <td>121**</td>\n",
       "      <td>경기도 남양주시 별내5로</td>\n",
       "      <td>...</td>\n",
       "      <td>89</td>\n",
       "      <td>88</td>\n",
       "      <td>0</td>\n",
       "      <td>3527</td>\n",
       "      <td>양승*</td>\n",
       "      <td>50대이상</td>\n",
       "      <td>NaN</td>\n",
       "      <td>3_5년</td>\n",
       "      <td>NaN</td>\n",
       "      <td>해당없음</td>\n",
       "    </tr>\n",
       "    <tr>\n",
       "      <th>15</th>\n",
       "      <td>330501-2******</td>\n",
       "      <td>본인</td>\n",
       "      <td>- 세대주와의 관계 -</td>\n",
       "      <td></td>\n",
       "      <td></td>\n",
       "      <td></td>\n",
       "      <td></td>\n",
       "      <td></td>\n",
       "      <td>472**</td>\n",
       "      <td>경기 남양주시 화도읍</td>\n",
       "      <td>...</td>\n",
       "      <td>125</td>\n",
       "      <td>126</td>\n",
       "      <td>0</td>\n",
       "      <td>4024</td>\n",
       "      <td>노옥*</td>\n",
       "      <td>50대이상</td>\n",
       "      <td>NaN</td>\n",
       "      <td>NaN</td>\n",
       "      <td>NaN</td>\n",
       "      <td>해당없음</td>\n",
       "    </tr>\n",
       "    <tr>\n",
       "      <th>16</th>\n",
       "      <td>400325-1******</td>\n",
       "      <td>본인</td>\n",
       "      <td>- 세대주와의 관계 -</td>\n",
       "      <td></td>\n",
       "      <td></td>\n",
       "      <td></td>\n",
       "      <td></td>\n",
       "      <td></td>\n",
       "      <td>121**</td>\n",
       "      <td>경기도 남양주시 별내5로</td>\n",
       "      <td>...</td>\n",
       "      <td>41</td>\n",
       "      <td>45</td>\n",
       "      <td>0</td>\n",
       "      <td>4033</td>\n",
       "      <td>김명*</td>\n",
       "      <td>50대이상</td>\n",
       "      <td>NaN</td>\n",
       "      <td>3_5년</td>\n",
       "      <td>NaN</td>\n",
       "      <td>해당없음</td>\n",
       "    </tr>\n",
       "    <tr>\n",
       "      <th>17</th>\n",
       "      <td>431023-1******</td>\n",
       "      <td>본인</td>\n",
       "      <td>- 세대주와의 관계 -</td>\n",
       "      <td></td>\n",
       "      <td></td>\n",
       "      <td></td>\n",
       "      <td></td>\n",
       "      <td></td>\n",
       "      <td>121**</td>\n",
       "      <td>경기도 남양주시 별내5로</td>\n",
       "      <td>...</td>\n",
       "      <td>222</td>\n",
       "      <td>268</td>\n",
       "      <td>35</td>\n",
       "      <td>4508</td>\n",
       "      <td>이규*</td>\n",
       "      <td>50대이상</td>\n",
       "      <td>NaN</td>\n",
       "      <td>NaN</td>\n",
       "      <td>NaN</td>\n",
       "      <td>해당없음</td>\n",
       "    </tr>\n",
       "    <tr>\n",
       "      <th>18</th>\n",
       "      <td>000000-0******</td>\n",
       "      <td>본인</td>\n",
       "      <td>- 세대주와의 관계 -</td>\n",
       "      <td></td>\n",
       "      <td></td>\n",
       "      <td></td>\n",
       "      <td></td>\n",
       "      <td></td>\n",
       "      <td></td>\n",
       "      <td></td>\n",
       "      <td>...</td>\n",
       "      <td>266</td>\n",
       "      <td>99997</td>\n",
       "      <td>0</td>\n",
       "      <td>4521</td>\n",
       "      <td></td>\n",
       "      <td>50대이상</td>\n",
       "      <td>NaN</td>\n",
       "      <td>NaN</td>\n",
       "      <td>NaN</td>\n",
       "      <td>해당없음</td>\n",
       "    </tr>\n",
       "    <tr>\n",
       "      <th>19</th>\n",
       "      <td>390822-2******</td>\n",
       "      <td>본인</td>\n",
       "      <td>- 세대주와의 관계 -</td>\n",
       "      <td></td>\n",
       "      <td></td>\n",
       "      <td></td>\n",
       "      <td></td>\n",
       "      <td></td>\n",
       "      <td>487**</td>\n",
       "      <td>경기도 포천시 태봉로</td>\n",
       "      <td>...</td>\n",
       "      <td>224</td>\n",
       "      <td>268</td>\n",
       "      <td>40</td>\n",
       "      <td>4534</td>\n",
       "      <td>김기*</td>\n",
       "      <td>50대이상</td>\n",
       "      <td>NaN</td>\n",
       "      <td>NaN</td>\n",
       "      <td>NaN</td>\n",
       "      <td>해당없음</td>\n",
       "    </tr>\n",
       "    <tr>\n",
       "      <th>20</th>\n",
       "      <td>450116-2******</td>\n",
       "      <td>본인</td>\n",
       "      <td>- 세대주와의 관계 -</td>\n",
       "      <td></td>\n",
       "      <td></td>\n",
       "      <td></td>\n",
       "      <td></td>\n",
       "      <td></td>\n",
       "      <td>121**</td>\n",
       "      <td>경기도 남양주시 별내5로</td>\n",
       "      <td>...</td>\n",
       "      <td>16</td>\n",
       "      <td>17</td>\n",
       "      <td>0</td>\n",
       "      <td>4541</td>\n",
       "      <td>이숙*</td>\n",
       "      <td>50대이상</td>\n",
       "      <td>NaN</td>\n",
       "      <td>1_3년</td>\n",
       "      <td>48회이상</td>\n",
       "      <td>해당없음</td>\n",
       "    </tr>\n",
       "    <tr>\n",
       "      <th>21</th>\n",
       "      <td>340122-2******</td>\n",
       "      <td>본인</td>\n",
       "      <td>- 세대주와의 관계 -</td>\n",
       "      <td></td>\n",
       "      <td></td>\n",
       "      <td></td>\n",
       "      <td></td>\n",
       "      <td></td>\n",
       "      <td>121**</td>\n",
       "      <td>경기도 남양주시 별내5로</td>\n",
       "      <td>...</td>\n",
       "      <td>40</td>\n",
       "      <td>45</td>\n",
       "      <td>0</td>\n",
       "      <td>5014</td>\n",
       "      <td>전영*</td>\n",
       "      <td>50대이상</td>\n",
       "      <td>NaN</td>\n",
       "      <td>5년이상</td>\n",
       "      <td>NaN</td>\n",
       "      <td>해당없음</td>\n",
       "    </tr>\n",
       "    <tr>\n",
       "      <th>22</th>\n",
       "      <td>000000-0******</td>\n",
       "      <td>본인</td>\n",
       "      <td>- 세대주와의 관계 -</td>\n",
       "      <td></td>\n",
       "      <td></td>\n",
       "      <td></td>\n",
       "      <td></td>\n",
       "      <td></td>\n",
       "      <td></td>\n",
       "      <td></td>\n",
       "      <td>...</td>\n",
       "      <td>283</td>\n",
       "      <td>99997</td>\n",
       "      <td>0</td>\n",
       "      <td>5519</td>\n",
       "      <td></td>\n",
       "      <td>50대이상</td>\n",
       "      <td>NaN</td>\n",
       "      <td>NaN</td>\n",
       "      <td>NaN</td>\n",
       "      <td>해당없음</td>\n",
       "    </tr>\n",
       "    <tr>\n",
       "      <th>23</th>\n",
       "      <td>331027-2******</td>\n",
       "      <td>본인</td>\n",
       "      <td>- 세대주와의 관계 -</td>\n",
       "      <td></td>\n",
       "      <td></td>\n",
       "      <td></td>\n",
       "      <td></td>\n",
       "      <td></td>\n",
       "      <td>121**</td>\n",
       "      <td>경기도 남양주시 별내5로</td>\n",
       "      <td>...</td>\n",
       "      <td>225</td>\n",
       "      <td>268</td>\n",
       "      <td>41</td>\n",
       "      <td>5520</td>\n",
       "      <td>박한*</td>\n",
       "      <td>50대이상</td>\n",
       "      <td>NaN</td>\n",
       "      <td>NaN</td>\n",
       "      <td>NaN</td>\n",
       "      <td>해당없음</td>\n",
       "    </tr>\n",
       "    <tr>\n",
       "      <th>24</th>\n",
       "      <td>420325-1******</td>\n",
       "      <td>본인</td>\n",
       "      <td>- 세대주와의 관계 -</td>\n",
       "      <td></td>\n",
       "      <td></td>\n",
       "      <td></td>\n",
       "      <td></td>\n",
       "      <td></td>\n",
       "      <td>121**</td>\n",
       "      <td>경기도 남양주시 별내5로</td>\n",
       "      <td>...</td>\n",
       "      <td>262</td>\n",
       "      <td>99997</td>\n",
       "      <td>0</td>\n",
       "      <td>6018</td>\n",
       "      <td>권택*</td>\n",
       "      <td>50대이상</td>\n",
       "      <td>NaN</td>\n",
       "      <td>NaN</td>\n",
       "      <td>NaN</td>\n",
       "      <td>해당없음</td>\n",
       "    </tr>\n",
       "    <tr>\n",
       "      <th>25</th>\n",
       "      <td>440417-2******</td>\n",
       "      <td>본인</td>\n",
       "      <td>- 세대주와의 관계 -</td>\n",
       "      <td></td>\n",
       "      <td></td>\n",
       "      <td></td>\n",
       "      <td></td>\n",
       "      <td></td>\n",
       "      <td>472**</td>\n",
       "      <td>경기도 남양주시 해밀예당3로</td>\n",
       "      <td>...</td>\n",
       "      <td>107</td>\n",
       "      <td>111</td>\n",
       "      <td>0</td>\n",
       "      <td>6019</td>\n",
       "      <td>윤명*</td>\n",
       "      <td>50대이상</td>\n",
       "      <td>NaN</td>\n",
       "      <td>1_3년</td>\n",
       "      <td>NaN</td>\n",
       "      <td>3년이내</td>\n",
       "    </tr>\n",
       "    <tr>\n",
       "      <th>26</th>\n",
       "      <td>410725-1******</td>\n",
       "      <td>본인</td>\n",
       "      <td>- 세대주와의 관계 -</td>\n",
       "      <td></td>\n",
       "      <td></td>\n",
       "      <td></td>\n",
       "      <td></td>\n",
       "      <td></td>\n",
       "      <td>120**</td>\n",
       "      <td>서울 성북구 돌곶이로8아길</td>\n",
       "      <td>...</td>\n",
       "      <td>258</td>\n",
       "      <td>99997</td>\n",
       "      <td>0</td>\n",
       "      <td>6035</td>\n",
       "      <td>이용*</td>\n",
       "      <td>50대이상</td>\n",
       "      <td>1인</td>\n",
       "      <td>NaN</td>\n",
       "      <td>NaN</td>\n",
       "      <td>해당없음</td>\n",
       "    </tr>\n",
       "    <tr>\n",
       "      <th>27</th>\n",
       "      <td>390511-2******</td>\n",
       "      <td>본인</td>\n",
       "      <td>- 세대주와의 관계 -</td>\n",
       "      <td></td>\n",
       "      <td></td>\n",
       "      <td></td>\n",
       "      <td></td>\n",
       "      <td></td>\n",
       "      <td>121**</td>\n",
       "      <td>경기도 남양주시 별내5로</td>\n",
       "      <td>...</td>\n",
       "      <td>34</td>\n",
       "      <td>45</td>\n",
       "      <td>0</td>\n",
       "      <td>6041</td>\n",
       "      <td>박탐*</td>\n",
       "      <td>50대이상</td>\n",
       "      <td>NaN</td>\n",
       "      <td>5년이상</td>\n",
       "      <td>NaN</td>\n",
       "      <td>해당없음</td>\n",
       "    </tr>\n",
       "    <tr>\n",
       "      <th>28</th>\n",
       "      <td>340602-2******</td>\n",
       "      <td>본인</td>\n",
       "      <td>- 세대주와의 관계 -</td>\n",
       "      <td></td>\n",
       "      <td></td>\n",
       "      <td></td>\n",
       "      <td></td>\n",
       "      <td></td>\n",
       "      <td>121**</td>\n",
       "      <td>경기도 남양주시 별내5로</td>\n",
       "      <td>...</td>\n",
       "      <td>109</td>\n",
       "      <td>111</td>\n",
       "      <td>0</td>\n",
       "      <td>7005</td>\n",
       "      <td>오정*</td>\n",
       "      <td>50대이상</td>\n",
       "      <td>NaN</td>\n",
       "      <td>1_3년</td>\n",
       "      <td>NaN</td>\n",
       "      <td>해당없음</td>\n",
       "    </tr>\n",
       "    <tr>\n",
       "      <th>29</th>\n",
       "      <td>000000-0******</td>\n",
       "      <td>본인</td>\n",
       "      <td>- 세대주와의 관계 -</td>\n",
       "      <td></td>\n",
       "      <td></td>\n",
       "      <td></td>\n",
       "      <td></td>\n",
       "      <td></td>\n",
       "      <td></td>\n",
       "      <td></td>\n",
       "      <td>...</td>\n",
       "      <td>280</td>\n",
       "      <td>99997</td>\n",
       "      <td>0</td>\n",
       "      <td>7029</td>\n",
       "      <td></td>\n",
       "      <td>50대이상</td>\n",
       "      <td>NaN</td>\n",
       "      <td>NaN</td>\n",
       "      <td>NaN</td>\n",
       "      <td>해당없음</td>\n",
       "    </tr>\n",
       "    <tr>\n",
       "      <th>...</th>\n",
       "      <td>...</td>\n",
       "      <td>...</td>\n",
       "      <td>...</td>\n",
       "      <td>...</td>\n",
       "      <td>...</td>\n",
       "      <td>...</td>\n",
       "      <td>...</td>\n",
       "      <td>...</td>\n",
       "      <td>...</td>\n",
       "      <td>...</td>\n",
       "      <td>...</td>\n",
       "      <td>...</td>\n",
       "      <td>...</td>\n",
       "      <td>...</td>\n",
       "      <td>...</td>\n",
       "      <td>...</td>\n",
       "      <td>...</td>\n",
       "      <td>...</td>\n",
       "      <td>...</td>\n",
       "      <td>...</td>\n",
       "      <td>...</td>\n",
       "    </tr>\n",
       "    <tr>\n",
       "      <th>38</th>\n",
       "      <td>310920-2******</td>\n",
       "      <td>본인</td>\n",
       "      <td>- 세대주와의 관계 -</td>\n",
       "      <td></td>\n",
       "      <td></td>\n",
       "      <td></td>\n",
       "      <td></td>\n",
       "      <td></td>\n",
       "      <td>138**</td>\n",
       "      <td>서울 송파구 잠실동</td>\n",
       "      <td>...</td>\n",
       "      <td>279</td>\n",
       "      <td>99997</td>\n",
       "      <td>0</td>\n",
       "      <td>12035</td>\n",
       "      <td>양복*</td>\n",
       "      <td>50대이상</td>\n",
       "      <td>NaN</td>\n",
       "      <td>NaN</td>\n",
       "      <td>60회이상</td>\n",
       "      <td>해당없음</td>\n",
       "    </tr>\n",
       "    <tr>\n",
       "      <th>39</th>\n",
       "      <td>460422-2******</td>\n",
       "      <td>본인</td>\n",
       "      <td>- 세대주와의 관계 -</td>\n",
       "      <td></td>\n",
       "      <td></td>\n",
       "      <td></td>\n",
       "      <td></td>\n",
       "      <td></td>\n",
       "      <td>121**</td>\n",
       "      <td>경기도 남양주시 별내5로</td>\n",
       "      <td>...</td>\n",
       "      <td>116</td>\n",
       "      <td>111</td>\n",
       "      <td>0</td>\n",
       "      <td>12045</td>\n",
       "      <td>소복*</td>\n",
       "      <td>50대이상</td>\n",
       "      <td>NaN</td>\n",
       "      <td>1_3년</td>\n",
       "      <td>NaN</td>\n",
       "      <td>3년이내</td>\n",
       "    </tr>\n",
       "    <tr>\n",
       "      <th>40</th>\n",
       "      <td>000000-0******</td>\n",
       "      <td>본인</td>\n",
       "      <td>- 세대주와의 관계 -</td>\n",
       "      <td></td>\n",
       "      <td></td>\n",
       "      <td></td>\n",
       "      <td></td>\n",
       "      <td></td>\n",
       "      <td></td>\n",
       "      <td></td>\n",
       "      <td>...</td>\n",
       "      <td>265</td>\n",
       "      <td>99997</td>\n",
       "      <td>0</td>\n",
       "      <td>12050</td>\n",
       "      <td></td>\n",
       "      <td>50대이상</td>\n",
       "      <td>NaN</td>\n",
       "      <td>NaN</td>\n",
       "      <td>60회이상</td>\n",
       "      <td>해당없음</td>\n",
       "    </tr>\n",
       "    <tr>\n",
       "      <th>41</th>\n",
       "      <td>291228-2******</td>\n",
       "      <td>본인</td>\n",
       "      <td>- 세대주와의 관계 -</td>\n",
       "      <td></td>\n",
       "      <td></td>\n",
       "      <td></td>\n",
       "      <td></td>\n",
       "      <td></td>\n",
       "      <td>121**</td>\n",
       "      <td>경기도 남양주시 별내5로</td>\n",
       "      <td>...</td>\n",
       "      <td>229</td>\n",
       "      <td>268</td>\n",
       "      <td>49</td>\n",
       "      <td>12053</td>\n",
       "      <td>김분*</td>\n",
       "      <td>50대이상</td>\n",
       "      <td>NaN</td>\n",
       "      <td>NaN</td>\n",
       "      <td>NaN</td>\n",
       "      <td>해당없음</td>\n",
       "    </tr>\n",
       "    <tr>\n",
       "      <th>42</th>\n",
       "      <td>000000-0******</td>\n",
       "      <td>본인</td>\n",
       "      <td>- 세대주와의 관계 -</td>\n",
       "      <td></td>\n",
       "      <td></td>\n",
       "      <td></td>\n",
       "      <td></td>\n",
       "      <td></td>\n",
       "      <td></td>\n",
       "      <td></td>\n",
       "      <td>...</td>\n",
       "      <td>256</td>\n",
       "      <td>99997</td>\n",
       "      <td>0</td>\n",
       "      <td>12506</td>\n",
       "      <td></td>\n",
       "      <td>50대이상</td>\n",
       "      <td>NaN</td>\n",
       "      <td>NaN</td>\n",
       "      <td>60회이상</td>\n",
       "      <td>해당없음</td>\n",
       "    </tr>\n",
       "    <tr>\n",
       "      <th>43</th>\n",
       "      <td>000000-0******</td>\n",
       "      <td>본인</td>\n",
       "      <td>- 세대주와의 관계 -</td>\n",
       "      <td></td>\n",
       "      <td></td>\n",
       "      <td></td>\n",
       "      <td></td>\n",
       "      <td></td>\n",
       "      <td></td>\n",
       "      <td></td>\n",
       "      <td>...</td>\n",
       "      <td>269</td>\n",
       "      <td>99997</td>\n",
       "      <td>0</td>\n",
       "      <td>12511</td>\n",
       "      <td></td>\n",
       "      <td>50대이상</td>\n",
       "      <td>NaN</td>\n",
       "      <td>NaN</td>\n",
       "      <td>NaN</td>\n",
       "      <td>해당없음</td>\n",
       "    </tr>\n",
       "    <tr>\n",
       "      <th>44</th>\n",
       "      <td>421110-2******</td>\n",
       "      <td>본인</td>\n",
       "      <td>- 세대주와의 관계 -</td>\n",
       "      <td></td>\n",
       "      <td></td>\n",
       "      <td></td>\n",
       "      <td></td>\n",
       "      <td></td>\n",
       "      <td>472**</td>\n",
       "      <td>경기도 남양주시 별내5로</td>\n",
       "      <td>...</td>\n",
       "      <td>187</td>\n",
       "      <td>193</td>\n",
       "      <td>0</td>\n",
       "      <td>12524</td>\n",
       "      <td>김진*</td>\n",
       "      <td>50대이상</td>\n",
       "      <td>NaN</td>\n",
       "      <td>NaN</td>\n",
       "      <td>NaN</td>\n",
       "      <td>해당없음</td>\n",
       "    </tr>\n",
       "    <tr>\n",
       "      <th>45</th>\n",
       "      <td>411229-2******</td>\n",
       "      <td>본인</td>\n",
       "      <td>- 세대주와의 관계 -</td>\n",
       "      <td></td>\n",
       "      <td></td>\n",
       "      <td></td>\n",
       "      <td></td>\n",
       "      <td></td>\n",
       "      <td>121**</td>\n",
       "      <td>경기도 남양주시 별내5로</td>\n",
       "      <td>...</td>\n",
       "      <td>53</td>\n",
       "      <td>58</td>\n",
       "      <td>0</td>\n",
       "      <td>12535</td>\n",
       "      <td>황정*</td>\n",
       "      <td>50대이상</td>\n",
       "      <td>NaN</td>\n",
       "      <td>1_3년</td>\n",
       "      <td>NaN</td>\n",
       "      <td>해당없음</td>\n",
       "    </tr>\n",
       "    <tr>\n",
       "      <th>46</th>\n",
       "      <td>000000-0******</td>\n",
       "      <td>본인</td>\n",
       "      <td>- 세대주와의 관계 -</td>\n",
       "      <td></td>\n",
       "      <td></td>\n",
       "      <td></td>\n",
       "      <td></td>\n",
       "      <td></td>\n",
       "      <td></td>\n",
       "      <td></td>\n",
       "      <td>...</td>\n",
       "      <td>167</td>\n",
       "      <td>99997</td>\n",
       "      <td>0</td>\n",
       "      <td>50002</td>\n",
       "      <td></td>\n",
       "      <td>50대이상</td>\n",
       "      <td>NaN</td>\n",
       "      <td>NaN</td>\n",
       "      <td>NaN</td>\n",
       "      <td>해당없음</td>\n",
       "    </tr>\n",
       "    <tr>\n",
       "      <th>47</th>\n",
       "      <td>440912-1******</td>\n",
       "      <td>본인</td>\n",
       "      <td>- 세대주와의 관계 -</td>\n",
       "      <td></td>\n",
       "      <td></td>\n",
       "      <td></td>\n",
       "      <td></td>\n",
       "      <td></td>\n",
       "      <td>124**</td>\n",
       "      <td>경기도 가평군 가평읍</td>\n",
       "      <td>...</td>\n",
       "      <td>41</td>\n",
       "      <td>239</td>\n",
       "      <td>12</td>\n",
       "      <td>50030</td>\n",
       "      <td>이영*</td>\n",
       "      <td>50대이상</td>\n",
       "      <td>1인</td>\n",
       "      <td>NaN</td>\n",
       "      <td>NaN</td>\n",
       "      <td>해당없음</td>\n",
       "    </tr>\n",
       "    <tr>\n",
       "      <th>48</th>\n",
       "      <td>340405-2******</td>\n",
       "      <td>본인</td>\n",
       "      <td>- 세대주와의 관계 -</td>\n",
       "      <td></td>\n",
       "      <td></td>\n",
       "      <td></td>\n",
       "      <td></td>\n",
       "      <td></td>\n",
       "      <td>121**</td>\n",
       "      <td>경기도 남양주시 별내5로</td>\n",
       "      <td>...</td>\n",
       "      <td>30</td>\n",
       "      <td>193</td>\n",
       "      <td>0</td>\n",
       "      <td>50076</td>\n",
       "      <td>강신*</td>\n",
       "      <td>50대이상</td>\n",
       "      <td>NaN</td>\n",
       "      <td>NaN</td>\n",
       "      <td>NaN</td>\n",
       "      <td>해당없음</td>\n",
       "    </tr>\n",
       "    <tr>\n",
       "      <th>49</th>\n",
       "      <td>390115-1******</td>\n",
       "      <td>본인</td>\n",
       "      <td>- 세대주와의 관계 -</td>\n",
       "      <td></td>\n",
       "      <td></td>\n",
       "      <td></td>\n",
       "      <td></td>\n",
       "      <td></td>\n",
       "      <td>120**</td>\n",
       "      <td>경기도 남양주시 덕송3로</td>\n",
       "      <td>...</td>\n",
       "      <td>148</td>\n",
       "      <td>99997</td>\n",
       "      <td>0</td>\n",
       "      <td>50099</td>\n",
       "      <td>맹창*</td>\n",
       "      <td>50대이상</td>\n",
       "      <td>NaN</td>\n",
       "      <td>NaN</td>\n",
       "      <td>NaN</td>\n",
       "      <td>해당없음</td>\n",
       "    </tr>\n",
       "    <tr>\n",
       "      <th>50</th>\n",
       "      <td>450825-1******</td>\n",
       "      <td>본인</td>\n",
       "      <td>- 세대주와의 관계 -</td>\n",
       "      <td></td>\n",
       "      <td></td>\n",
       "      <td></td>\n",
       "      <td></td>\n",
       "      <td></td>\n",
       "      <td>121**</td>\n",
       "      <td>경기도 남양주시 별내5로</td>\n",
       "      <td>...</td>\n",
       "      <td>38</td>\n",
       "      <td>45</td>\n",
       "      <td>0</td>\n",
       "      <td>50178</td>\n",
       "      <td>박영*</td>\n",
       "      <td>50대이상</td>\n",
       "      <td>NaN</td>\n",
       "      <td>3_5년</td>\n",
       "      <td>NaN</td>\n",
       "      <td>해당없음</td>\n",
       "    </tr>\n",
       "    <tr>\n",
       "      <th>51</th>\n",
       "      <td>331030-2******</td>\n",
       "      <td>본인</td>\n",
       "      <td>- 세대주와의 관계 -</td>\n",
       "      <td></td>\n",
       "      <td></td>\n",
       "      <td></td>\n",
       "      <td></td>\n",
       "      <td></td>\n",
       "      <td>472**</td>\n",
       "      <td>경기 남양주시 와부읍</td>\n",
       "      <td>...</td>\n",
       "      <td>121</td>\n",
       "      <td>126</td>\n",
       "      <td>0</td>\n",
       "      <td>50197</td>\n",
       "      <td>문제*</td>\n",
       "      <td>50대이상</td>\n",
       "      <td>NaN</td>\n",
       "      <td>NaN</td>\n",
       "      <td>NaN</td>\n",
       "      <td>해당없음</td>\n",
       "    </tr>\n",
       "    <tr>\n",
       "      <th>52</th>\n",
       "      <td>420620-2******</td>\n",
       "      <td>본인</td>\n",
       "      <td>- 세대주와의 관계 -</td>\n",
       "      <td></td>\n",
       "      <td></td>\n",
       "      <td></td>\n",
       "      <td></td>\n",
       "      <td></td>\n",
       "      <td>121**</td>\n",
       "      <td>경기도 남양주시 별내5로</td>\n",
       "      <td>...</td>\n",
       "      <td>102</td>\n",
       "      <td>111</td>\n",
       "      <td>0</td>\n",
       "      <td>50245</td>\n",
       "      <td>정철*</td>\n",
       "      <td>50대이상</td>\n",
       "      <td>NaN</td>\n",
       "      <td>1_3년</td>\n",
       "      <td>NaN</td>\n",
       "      <td>해당없음</td>\n",
       "    </tr>\n",
       "    <tr>\n",
       "      <th>53</th>\n",
       "      <td>430514-2******</td>\n",
       "      <td>본인</td>\n",
       "      <td>- 세대주와의 관계 -</td>\n",
       "      <td></td>\n",
       "      <td></td>\n",
       "      <td></td>\n",
       "      <td></td>\n",
       "      <td></td>\n",
       "      <td>121**</td>\n",
       "      <td>경기도 남양주시 별내5로</td>\n",
       "      <td>...</td>\n",
       "      <td>33</td>\n",
       "      <td>45</td>\n",
       "      <td>0</td>\n",
       "      <td>50268</td>\n",
       "      <td>김정*</td>\n",
       "      <td>50대이상</td>\n",
       "      <td>NaN</td>\n",
       "      <td>1_3년</td>\n",
       "      <td>36회이상</td>\n",
       "      <td>해당없음</td>\n",
       "    </tr>\n",
       "    <tr>\n",
       "      <th>54</th>\n",
       "      <td>391225-2******</td>\n",
       "      <td>본인</td>\n",
       "      <td>- 세대주와의 관계 -</td>\n",
       "      <td></td>\n",
       "      <td></td>\n",
       "      <td></td>\n",
       "      <td></td>\n",
       "      <td></td>\n",
       "      <td>413**</td>\n",
       "      <td>경기도 파주시 미래로</td>\n",
       "      <td>...</td>\n",
       "      <td>150</td>\n",
       "      <td>99997</td>\n",
       "      <td>0</td>\n",
       "      <td>50283</td>\n",
       "      <td>박정*</td>\n",
       "      <td>50대이상</td>\n",
       "      <td>NaN</td>\n",
       "      <td>NaN</td>\n",
       "      <td>NaN</td>\n",
       "      <td>1년이내</td>\n",
       "    </tr>\n",
       "    <tr>\n",
       "      <th>55</th>\n",
       "      <td>390420-2******</td>\n",
       "      <td>본인</td>\n",
       "      <td>- 세대주와의 관계 -</td>\n",
       "      <td></td>\n",
       "      <td></td>\n",
       "      <td></td>\n",
       "      <td></td>\n",
       "      <td></td>\n",
       "      <td>036**</td>\n",
       "      <td>서울특별시 서대문구 증가로</td>\n",
       "      <td>...</td>\n",
       "      <td>139</td>\n",
       "      <td>99997</td>\n",
       "      <td>0</td>\n",
       "      <td>50370</td>\n",
       "      <td>강영*</td>\n",
       "      <td>50대이상</td>\n",
       "      <td>1인</td>\n",
       "      <td>NaN</td>\n",
       "      <td>NaN</td>\n",
       "      <td>해당없음</td>\n",
       "    </tr>\n",
       "    <tr>\n",
       "      <th>56</th>\n",
       "      <td>331011-2******</td>\n",
       "      <td>본인</td>\n",
       "      <td>- 세대주와의 관계 -</td>\n",
       "      <td></td>\n",
       "      <td></td>\n",
       "      <td></td>\n",
       "      <td></td>\n",
       "      <td></td>\n",
       "      <td>151**</td>\n",
       "      <td>서울 관악구 봉천동</td>\n",
       "      <td>...</td>\n",
       "      <td>120</td>\n",
       "      <td>99997</td>\n",
       "      <td>0</td>\n",
       "      <td>50390</td>\n",
       "      <td>유규*</td>\n",
       "      <td>50대이상</td>\n",
       "      <td>NaN</td>\n",
       "      <td>NaN</td>\n",
       "      <td>NaN</td>\n",
       "      <td>해당없음</td>\n",
       "    </tr>\n",
       "    <tr>\n",
       "      <th>57</th>\n",
       "      <td>000000-0******</td>\n",
       "      <td>본인</td>\n",
       "      <td>- 세대주와의 관계 -</td>\n",
       "      <td></td>\n",
       "      <td></td>\n",
       "      <td></td>\n",
       "      <td></td>\n",
       "      <td></td>\n",
       "      <td></td>\n",
       "      <td></td>\n",
       "      <td>...</td>\n",
       "      <td>165</td>\n",
       "      <td>99997</td>\n",
       "      <td>0</td>\n",
       "      <td>50414</td>\n",
       "      <td></td>\n",
       "      <td>50대이상</td>\n",
       "      <td>NaN</td>\n",
       "      <td>NaN</td>\n",
       "      <td>NaN</td>\n",
       "      <td>해당없음</td>\n",
       "    </tr>\n",
       "    <tr>\n",
       "      <th>58</th>\n",
       "      <td>360707-2******</td>\n",
       "      <td>본인</td>\n",
       "      <td>- 세대주와의 관계 -</td>\n",
       "      <td></td>\n",
       "      <td></td>\n",
       "      <td></td>\n",
       "      <td></td>\n",
       "      <td></td>\n",
       "      <td>016**</td>\n",
       "      <td>서울특별시 노원구 덕릉로112길</td>\n",
       "      <td>...</td>\n",
       "      <td>51</td>\n",
       "      <td>268</td>\n",
       "      <td>31</td>\n",
       "      <td>50434</td>\n",
       "      <td>황금*</td>\n",
       "      <td>50대이상</td>\n",
       "      <td>NaN</td>\n",
       "      <td>NaN</td>\n",
       "      <td>NaN</td>\n",
       "      <td>해당없음</td>\n",
       "    </tr>\n",
       "    <tr>\n",
       "      <th>59</th>\n",
       "      <td>340105-2******</td>\n",
       "      <td>본인</td>\n",
       "      <td>- 세대주와의 관계 -</td>\n",
       "      <td></td>\n",
       "      <td></td>\n",
       "      <td></td>\n",
       "      <td></td>\n",
       "      <td></td>\n",
       "      <td>121**</td>\n",
       "      <td>경기도 남양주시 별내5로</td>\n",
       "      <td>...</td>\n",
       "      <td>14</td>\n",
       "      <td>16</td>\n",
       "      <td>0</td>\n",
       "      <td>50498</td>\n",
       "      <td>임창*</td>\n",
       "      <td>50대이상</td>\n",
       "      <td>NaN</td>\n",
       "      <td>5년이상</td>\n",
       "      <td>60회이상</td>\n",
       "      <td>해당없음</td>\n",
       "    </tr>\n",
       "    <tr>\n",
       "      <th>60</th>\n",
       "      <td>401211-2******</td>\n",
       "      <td>본인</td>\n",
       "      <td>- 세대주와의 관계 -</td>\n",
       "      <td></td>\n",
       "      <td></td>\n",
       "      <td></td>\n",
       "      <td></td>\n",
       "      <td></td>\n",
       "      <td>121**</td>\n",
       "      <td>경기도 남양주시 별내5로</td>\n",
       "      <td>...</td>\n",
       "      <td>40</td>\n",
       "      <td>239</td>\n",
       "      <td>9</td>\n",
       "      <td>50506</td>\n",
       "      <td>강정*</td>\n",
       "      <td>50대이상</td>\n",
       "      <td>NaN</td>\n",
       "      <td>NaN</td>\n",
       "      <td>36회이상</td>\n",
       "      <td>해당없음</td>\n",
       "    </tr>\n",
       "    <tr>\n",
       "      <th>61</th>\n",
       "      <td>310920-2******</td>\n",
       "      <td>본인</td>\n",
       "      <td>- 세대주와의 관계 -</td>\n",
       "      <td></td>\n",
       "      <td></td>\n",
       "      <td></td>\n",
       "      <td></td>\n",
       "      <td></td>\n",
       "      <td>138**</td>\n",
       "      <td>서울 송파구 잠실동</td>\n",
       "      <td>...</td>\n",
       "      <td>137</td>\n",
       "      <td>99997</td>\n",
       "      <td>0</td>\n",
       "      <td>50527</td>\n",
       "      <td>양복*</td>\n",
       "      <td>50대이상</td>\n",
       "      <td>NaN</td>\n",
       "      <td>NaN</td>\n",
       "      <td>60회이상</td>\n",
       "      <td>해당없음</td>\n",
       "    </tr>\n",
       "    <tr>\n",
       "      <th>62</th>\n",
       "      <td>000000-0******</td>\n",
       "      <td>본인</td>\n",
       "      <td>- 세대주와의 관계 -</td>\n",
       "      <td></td>\n",
       "      <td></td>\n",
       "      <td></td>\n",
       "      <td></td>\n",
       "      <td></td>\n",
       "      <td></td>\n",
       "      <td></td>\n",
       "      <td>...</td>\n",
       "      <td>90</td>\n",
       "      <td>99996</td>\n",
       "      <td>0</td>\n",
       "      <td>50547</td>\n",
       "      <td></td>\n",
       "      <td>50대이상</td>\n",
       "      <td>NaN</td>\n",
       "      <td>NaN</td>\n",
       "      <td>NaN</td>\n",
       "      <td>해당없음</td>\n",
       "    </tr>\n",
       "    <tr>\n",
       "      <th>63</th>\n",
       "      <td>410305-2******</td>\n",
       "      <td>본인</td>\n",
       "      <td>- 세대주와의 관계 -</td>\n",
       "      <td></td>\n",
       "      <td></td>\n",
       "      <td></td>\n",
       "      <td></td>\n",
       "      <td></td>\n",
       "      <td>133**</td>\n",
       "      <td>서울 성동구 매봉11길</td>\n",
       "      <td>...</td>\n",
       "      <td>108</td>\n",
       "      <td>99997</td>\n",
       "      <td>0</td>\n",
       "      <td>50628</td>\n",
       "      <td>김진*</td>\n",
       "      <td>50대이상</td>\n",
       "      <td>NaN</td>\n",
       "      <td>NaN</td>\n",
       "      <td>36회이상</td>\n",
       "      <td>해당없음</td>\n",
       "    </tr>\n",
       "    <tr>\n",
       "      <th>64</th>\n",
       "      <td>430103-1******</td>\n",
       "      <td>본인</td>\n",
       "      <td>- 세대주와의 관계 -</td>\n",
       "      <td></td>\n",
       "      <td></td>\n",
       "      <td></td>\n",
       "      <td></td>\n",
       "      <td></td>\n",
       "      <td>472**</td>\n",
       "      <td>경기 남양주시 화도읍</td>\n",
       "      <td>...</td>\n",
       "      <td>83</td>\n",
       "      <td>88</td>\n",
       "      <td>0</td>\n",
       "      <td>50679</td>\n",
       "      <td>김광*</td>\n",
       "      <td>50대이상</td>\n",
       "      <td>NaN</td>\n",
       "      <td>1_3년</td>\n",
       "      <td>NaN</td>\n",
       "      <td>해당없음</td>\n",
       "    </tr>\n",
       "    <tr>\n",
       "      <th>65</th>\n",
       "      <td>000000-0******</td>\n",
       "      <td>본인</td>\n",
       "      <td>- 세대주와의 관계 -</td>\n",
       "      <td></td>\n",
       "      <td></td>\n",
       "      <td></td>\n",
       "      <td></td>\n",
       "      <td></td>\n",
       "      <td></td>\n",
       "      <td></td>\n",
       "      <td>...</td>\n",
       "      <td>101</td>\n",
       "      <td>99997</td>\n",
       "      <td>0</td>\n",
       "      <td>50821</td>\n",
       "      <td></td>\n",
       "      <td>50대이상</td>\n",
       "      <td>NaN</td>\n",
       "      <td>NaN</td>\n",
       "      <td>NaN</td>\n",
       "      <td>해당없음</td>\n",
       "    </tr>\n",
       "    <tr>\n",
       "      <th>66</th>\n",
       "      <td>350423-2******</td>\n",
       "      <td>본인</td>\n",
       "      <td>- 세대주와의 관계 -</td>\n",
       "      <td></td>\n",
       "      <td></td>\n",
       "      <td></td>\n",
       "      <td></td>\n",
       "      <td></td>\n",
       "      <td>183**</td>\n",
       "      <td>경기도 화성시 동화새터길</td>\n",
       "      <td>...</td>\n",
       "      <td>98</td>\n",
       "      <td>99997</td>\n",
       "      <td>0</td>\n",
       "      <td>50870</td>\n",
       "      <td>장수*</td>\n",
       "      <td>50대이상</td>\n",
       "      <td>NaN</td>\n",
       "      <td>NaN</td>\n",
       "      <td>NaN</td>\n",
       "      <td>해당없음</td>\n",
       "    </tr>\n",
       "    <tr>\n",
       "      <th>67</th>\n",
       "      <td>000000-0******</td>\n",
       "      <td>본인</td>\n",
       "      <td>- 세대주와의 관계 -</td>\n",
       "      <td></td>\n",
       "      <td></td>\n",
       "      <td></td>\n",
       "      <td></td>\n",
       "      <td></td>\n",
       "      <td></td>\n",
       "      <td></td>\n",
       "      <td>...</td>\n",
       "      <td>216</td>\n",
       "      <td>99998</td>\n",
       "      <td>0</td>\n",
       "      <td>51009</td>\n",
       "      <td></td>\n",
       "      <td>50대이상</td>\n",
       "      <td>NaN</td>\n",
       "      <td>NaN</td>\n",
       "      <td>NaN</td>\n",
       "      <td>해당없음</td>\n",
       "    </tr>\n",
       "  </tbody>\n",
       "</table>\n",
       "<p>68 rows × 107 columns</p>\n",
       "</div>"
      ],
      "text/plain": [
       "              A_10 A_11          A_12 A_13 A_14 A_15 A_16 A_17   A_18  \\\n",
       "0   000000-0******   본인  - 세대주와의 관계 -                                   \n",
       "1   430920-1******   본인  - 세대주와의 관계 -                           121**   \n",
       "2   450116-2******   본인  - 세대주와의 관계 -                           121**   \n",
       "3   400927-2******   본인  - 세대주와의 관계 -                           138**   \n",
       "4   340506-2******   본인  - 세대주와의 관계 -                           121**   \n",
       "5   420603-1******   본인  - 세대주와의 관계 -                           472**   \n",
       "6   270920-2******   본인  - 세대주와의 관계 -                           121**   \n",
       "7   460505-2******   본인  - 세대주와의 관계 -                           121**   \n",
       "8   360825-1******   본인  - 세대주와의 관계 -                           134**   \n",
       "9   000000-0******   본인  - 세대주와의 관계 -                                   \n",
       "10  391230-2******   본인  - 세대주와의 관계 -                           121**   \n",
       "11  000000-0******   본인  - 세대주와의 관계 -                                   \n",
       "12  250929-1******   본인  - 세대주와의 관계 -                           472**   \n",
       "13  000000-0******   본인  - 세대주와의 관계 -                                   \n",
       "14  331211-2******   본인  - 세대주와의 관계 -                           121**   \n",
       "15  330501-2******   본인  - 세대주와의 관계 -                           472**   \n",
       "16  400325-1******   본인  - 세대주와의 관계 -                           121**   \n",
       "17  431023-1******   본인  - 세대주와의 관계 -                           121**   \n",
       "18  000000-0******   본인  - 세대주와의 관계 -                                   \n",
       "19  390822-2******   본인  - 세대주와의 관계 -                           487**   \n",
       "20  450116-2******   본인  - 세대주와의 관계 -                           121**   \n",
       "21  340122-2******   본인  - 세대주와의 관계 -                           121**   \n",
       "22  000000-0******   본인  - 세대주와의 관계 -                                   \n",
       "23  331027-2******   본인  - 세대주와의 관계 -                           121**   \n",
       "24  420325-1******   본인  - 세대주와의 관계 -                           121**   \n",
       "25  440417-2******   본인  - 세대주와의 관계 -                           472**   \n",
       "26  410725-1******   본인  - 세대주와의 관계 -                           120**   \n",
       "27  390511-2******   본인  - 세대주와의 관계 -                           121**   \n",
       "28  340602-2******   본인  - 세대주와의 관계 -                           121**   \n",
       "29  000000-0******   본인  - 세대주와의 관계 -                                   \n",
       "..             ...  ...           ...  ...  ...  ...  ...  ...    ...   \n",
       "38  310920-2******   본인  - 세대주와의 관계 -                           138**   \n",
       "39  460422-2******   본인  - 세대주와의 관계 -                           121**   \n",
       "40  000000-0******   본인  - 세대주와의 관계 -                                   \n",
       "41  291228-2******   본인  - 세대주와의 관계 -                           121**   \n",
       "42  000000-0******   본인  - 세대주와의 관계 -                                   \n",
       "43  000000-0******   본인  - 세대주와의 관계 -                                   \n",
       "44  421110-2******   본인  - 세대주와의 관계 -                           472**   \n",
       "45  411229-2******   본인  - 세대주와의 관계 -                           121**   \n",
       "46  000000-0******   본인  - 세대주와의 관계 -                                   \n",
       "47  440912-1******   본인  - 세대주와의 관계 -                           124**   \n",
       "48  340405-2******   본인  - 세대주와의 관계 -                           121**   \n",
       "49  390115-1******   본인  - 세대주와의 관계 -                           120**   \n",
       "50  450825-1******   본인  - 세대주와의 관계 -                           121**   \n",
       "51  331030-2******   본인  - 세대주와의 관계 -                           472**   \n",
       "52  420620-2******   본인  - 세대주와의 관계 -                           121**   \n",
       "53  430514-2******   본인  - 세대주와의 관계 -                           121**   \n",
       "54  391225-2******   본인  - 세대주와의 관계 -                           413**   \n",
       "55  390420-2******   본인  - 세대주와의 관계 -                           036**   \n",
       "56  331011-2******   본인  - 세대주와의 관계 -                           151**   \n",
       "57  000000-0******   본인  - 세대주와의 관계 -                                   \n",
       "58  360707-2******   본인  - 세대주와의 관계 -                           016**   \n",
       "59  340105-2******   본인  - 세대주와의 관계 -                           121**   \n",
       "60  401211-2******   본인  - 세대주와의 관계 -                           121**   \n",
       "61  310920-2******   본인  - 세대주와의 관계 -                           138**   \n",
       "62  000000-0******   본인  - 세대주와의 관계 -                                   \n",
       "63  410305-2******   본인  - 세대주와의 관계 -                           133**   \n",
       "64  430103-1******   본인  - 세대주와의 관계 -                           472**   \n",
       "65  000000-0******   본인  - 세대주와의 관계 -                                   \n",
       "66  350423-2******   본인  - 세대주와의 관계 -                           183**   \n",
       "67  000000-0******   본인  - 세대주와의 관계 -                                   \n",
       "\n",
       "                 A_19    ...     W_5    W_6  W_7    W_8  W_9 categories  \\\n",
       "0                        ...     282  99997    0   1510           50대이상   \n",
       "1       경기도 남양주시 별내5로    ...      36     45    0   1526  위수*      50대이상   \n",
       "2       경기도 남양주시 별내5로    ...      43     45    0   1527  이태*      50대이상   \n",
       "3         서울 송파구 삼학사로    ...     276  99997    0   2001  김윤*      50대이상   \n",
       "4       경기도 남양주시 별내5로    ...      56     58    0   2004  김정*      50대이상   \n",
       "5         경기 남야주시 별내면    ...     122    126    0   2006  김종*      50대이상   \n",
       "6       경기도 남양주시 별내5로    ...      68     76    0   3014  한간*      50대이상   \n",
       "7       경기도 남양주시 별내5로    ...      42     45    0   3018  심정*      50대이상   \n",
       "8         서울 강동구 천호대로    ...     235    268   58   3040  서종*      50대이상   \n",
       "9                        ...     270  99997    0   3080           50대이상   \n",
       "10      경기도 남양주시 별내5로    ...     228    268   47   3514  조원*      50대이상   \n",
       "11                       ...     272  99997    0   3515           50대이상   \n",
       "12         경기 남양주 오남읍    ...      97     88    0   3519  강병*      50대이상   \n",
       "13                       ...     263  99997    0   3525           50대이상   \n",
       "14      경기도 남양주시 별내5로    ...      89     88    0   3527  양승*      50대이상   \n",
       "15        경기 남양주시 화도읍    ...     125    126    0   4024  노옥*      50대이상   \n",
       "16      경기도 남양주시 별내5로    ...      41     45    0   4033  김명*      50대이상   \n",
       "17      경기도 남양주시 별내5로    ...     222    268   35   4508  이규*      50대이상   \n",
       "18                       ...     266  99997    0   4521           50대이상   \n",
       "19        경기도 포천시 태봉로    ...     224    268   40   4534  김기*      50대이상   \n",
       "20      경기도 남양주시 별내5로    ...      16     17    0   4541  이숙*      50대이상   \n",
       "21      경기도 남양주시 별내5로    ...      40     45    0   5014  전영*      50대이상   \n",
       "22                       ...     283  99997    0   5519           50대이상   \n",
       "23      경기도 남양주시 별내5로    ...     225    268   41   5520  박한*      50대이상   \n",
       "24      경기도 남양주시 별내5로    ...     262  99997    0   6018  권택*      50대이상   \n",
       "25    경기도 남양주시 해밀예당3로    ...     107    111    0   6019  윤명*      50대이상   \n",
       "26     서울 성북구 돌곶이로8아길    ...     258  99997    0   6035  이용*      50대이상   \n",
       "27      경기도 남양주시 별내5로    ...      34     45    0   6041  박탐*      50대이상   \n",
       "28      경기도 남양주시 별내5로    ...     109    111    0   7005  오정*      50대이상   \n",
       "29                       ...     280  99997    0   7029           50대이상   \n",
       "..                ...    ...     ...    ...  ...    ...  ...        ...   \n",
       "38         서울 송파구 잠실동    ...     279  99997    0  12035  양복*      50대이상   \n",
       "39      경기도 남양주시 별내5로    ...     116    111    0  12045  소복*      50대이상   \n",
       "40                       ...     265  99997    0  12050           50대이상   \n",
       "41      경기도 남양주시 별내5로    ...     229    268   49  12053  김분*      50대이상   \n",
       "42                       ...     256  99997    0  12506           50대이상   \n",
       "43                       ...     269  99997    0  12511           50대이상   \n",
       "44      경기도 남양주시 별내5로    ...     187    193    0  12524  김진*      50대이상   \n",
       "45      경기도 남양주시 별내5로    ...      53     58    0  12535  황정*      50대이상   \n",
       "46                       ...     167  99997    0  50002           50대이상   \n",
       "47        경기도 가평군 가평읍    ...      41    239   12  50030  이영*      50대이상   \n",
       "48      경기도 남양주시 별내5로    ...      30    193    0  50076  강신*      50대이상   \n",
       "49      경기도 남양주시 덕송3로    ...     148  99997    0  50099  맹창*      50대이상   \n",
       "50      경기도 남양주시 별내5로    ...      38     45    0  50178  박영*      50대이상   \n",
       "51        경기 남양주시 와부읍    ...     121    126    0  50197  문제*      50대이상   \n",
       "52      경기도 남양주시 별내5로    ...     102    111    0  50245  정철*      50대이상   \n",
       "53      경기도 남양주시 별내5로    ...      33     45    0  50268  김정*      50대이상   \n",
       "54        경기도 파주시 미래로    ...     150  99997    0  50283  박정*      50대이상   \n",
       "55     서울특별시 서대문구 증가로    ...     139  99997    0  50370  강영*      50대이상   \n",
       "56         서울 관악구 봉천동    ...     120  99997    0  50390  유규*      50대이상   \n",
       "57                       ...     165  99997    0  50414           50대이상   \n",
       "58  서울특별시 노원구 덕릉로112길    ...      51    268   31  50434  황금*      50대이상   \n",
       "59      경기도 남양주시 별내5로    ...      14     16    0  50498  임창*      50대이상   \n",
       "60      경기도 남양주시 별내5로    ...      40    239    9  50506  강정*      50대이상   \n",
       "61         서울 송파구 잠실동    ...     137  99997    0  50527  양복*      50대이상   \n",
       "62                       ...      90  99996    0  50547           50대이상   \n",
       "63       서울 성동구 매봉11길    ...     108  99997    0  50628  김진*      50대이상   \n",
       "64        경기 남양주시 화도읍    ...      83     88    0  50679  김광*      50대이상   \n",
       "65                       ...     101  99997    0  50821           50대이상   \n",
       "66      경기도 화성시 동화새터길    ...      98  99997    0  50870  장수*      50대이상   \n",
       "67                       ...     216  99998    0  51009           50대이상   \n",
       "\n",
       "   child_div resi_categories not_save_categories minus_div  \n",
       "0        NaN             NaN                 NaN      해당없음  \n",
       "1         1인            1_3년                 NaN      해당없음  \n",
       "2        NaN            5년이상                 NaN      해당없음  \n",
       "3        NaN             NaN               48회이상      1년이내  \n",
       "4        NaN            3_5년                 NaN      해당없음  \n",
       "5        NaN             NaN                 NaN      해당없음  \n",
       "6        NaN             NaN                 NaN      해당없음  \n",
       "7        NaN             NaN               60회이상      해당없음  \n",
       "8        NaN             NaN                 NaN      해당없음  \n",
       "9         3인             NaN                 NaN      해당없음  \n",
       "10       NaN             NaN                 NaN      해당없음  \n",
       "11       NaN             NaN                 NaN      해당없음  \n",
       "12       NaN            1_3년                 NaN      해당없음  \n",
       "13       NaN             NaN                 NaN      해당없음  \n",
       "14       NaN            3_5년                 NaN      해당없음  \n",
       "15       NaN             NaN                 NaN      해당없음  \n",
       "16       NaN            3_5년                 NaN      해당없음  \n",
       "17       NaN             NaN                 NaN      해당없음  \n",
       "18       NaN             NaN                 NaN      해당없음  \n",
       "19       NaN             NaN                 NaN      해당없음  \n",
       "20       NaN            1_3년               48회이상      해당없음  \n",
       "21       NaN            5년이상                 NaN      해당없음  \n",
       "22       NaN             NaN                 NaN      해당없음  \n",
       "23       NaN             NaN                 NaN      해당없음  \n",
       "24       NaN             NaN                 NaN      해당없음  \n",
       "25       NaN            1_3년                 NaN      3년이내  \n",
       "26        1인             NaN                 NaN      해당없음  \n",
       "27       NaN            5년이상                 NaN      해당없음  \n",
       "28       NaN            1_3년                 NaN      해당없음  \n",
       "29       NaN             NaN                 NaN      해당없음  \n",
       "..       ...             ...                 ...       ...  \n",
       "38       NaN             NaN               60회이상      해당없음  \n",
       "39       NaN            1_3년                 NaN      3년이내  \n",
       "40       NaN             NaN               60회이상      해당없음  \n",
       "41       NaN             NaN                 NaN      해당없음  \n",
       "42       NaN             NaN               60회이상      해당없음  \n",
       "43       NaN             NaN                 NaN      해당없음  \n",
       "44       NaN             NaN                 NaN      해당없음  \n",
       "45       NaN            1_3년                 NaN      해당없음  \n",
       "46       NaN             NaN                 NaN      해당없음  \n",
       "47        1인             NaN                 NaN      해당없음  \n",
       "48       NaN             NaN                 NaN      해당없음  \n",
       "49       NaN             NaN                 NaN      해당없음  \n",
       "50       NaN            3_5년                 NaN      해당없음  \n",
       "51       NaN             NaN                 NaN      해당없음  \n",
       "52       NaN            1_3년                 NaN      해당없음  \n",
       "53       NaN            1_3년               36회이상      해당없음  \n",
       "54       NaN             NaN                 NaN      1년이내  \n",
       "55        1인             NaN                 NaN      해당없음  \n",
       "56       NaN             NaN                 NaN      해당없음  \n",
       "57       NaN             NaN                 NaN      해당없음  \n",
       "58       NaN             NaN                 NaN      해당없음  \n",
       "59       NaN            5년이상               60회이상      해당없음  \n",
       "60       NaN             NaN               36회이상      해당없음  \n",
       "61       NaN             NaN               60회이상      해당없음  \n",
       "62       NaN             NaN                 NaN      해당없음  \n",
       "63       NaN             NaN               36회이상      해당없음  \n",
       "64       NaN            1_3년                 NaN      해당없음  \n",
       "65       NaN             NaN                 NaN      해당없음  \n",
       "66       NaN             NaN                 NaN      해당없음  \n",
       "67       NaN             NaN                 NaN      해당없음  \n",
       "\n",
       "[68 rows x 107 columns]"
      ]
     },
     "execution_count": 302,
     "metadata": {},
     "output_type": "execute_result"
    }
   ],
   "source": [
    "A11_data_highage_threedown"
   ]
  },
  {
   "cell_type": "code",
   "execution_count": 303,
   "metadata": {
    "collapsed": true
   },
   "outputs": [],
   "source": [
    "A11_data_highage_threedown_win = A11_data_highage_threedown.ix[A11_data_highage_threedown.W_4 == '당첨']\n",
    "A11_data_highage_threedown_lose = A11_data_highage_threedown.ix[A11_data_highage_threedown.W_4 != '당첨']"
   ]
  },
  {
   "cell_type": "code",
   "execution_count": 304,
   "metadata": {
    "collapsed": false
   },
   "outputs": [
    {
     "data": {
      "text/plain": [
       "31"
      ]
     },
     "execution_count": 304,
     "metadata": {},
     "output_type": "execute_result"
    }
   ],
   "source": [
    "len(A11_data_highage_threedown_win)"
   ]
  },
  {
   "cell_type": "code",
   "execution_count": 305,
   "metadata": {
    "collapsed": false
   },
   "outputs": [
    {
     "data": {
      "text/plain": [
       "37"
      ]
     },
     "execution_count": 305,
     "metadata": {},
     "output_type": "execute_result"
    }
   ],
   "source": [
    "len(A11_data_highage_threedown_lose)"
   ]
  },
  {
   "cell_type": "code",
   "execution_count": 306,
   "metadata": {
    "collapsed": false
   },
   "outputs": [
    {
     "data": {
      "text/plain": [
       "array(['우(고)', '일(고)', '잔(고)'], dtype=object)"
      ]
     },
     "execution_count": 306,
     "metadata": {},
     "output_type": "execute_result"
    }
   ],
   "source": [
    "A11_data_highage_threedown_win.W_14.unique()"
   ]
  },
  {
   "cell_type": "code",
   "execution_count": 307,
   "metadata": {
    "collapsed": true
   },
   "outputs": [],
   "source": [
    "A11_data_highage_threedown_win = A11_data_highage_threedown_win.ix[A11_data_highage_threedown_win.W_14 != '잔(고)']"
   ]
  },
  {
   "cell_type": "code",
   "execution_count": 308,
   "metadata": {
    "collapsed": false
   },
   "outputs": [
    {
     "data": {
      "text/plain": [
       "27"
      ]
     },
     "execution_count": 308,
     "metadata": {},
     "output_type": "execute_result"
    }
   ],
   "source": [
    "len(A11_data_highage_threedown_win)"
   ]
  },
  {
   "cell_type": "code",
   "execution_count": 309,
   "metadata": {
    "collapsed": false
   },
   "outputs": [
    {
     "data": {
      "text/plain": [
       "0.39705882352941174"
      ]
     },
     "execution_count": 309,
     "metadata": {},
     "output_type": "execute_result"
    }
   ],
   "source": [
    "len(A11_data_highage_threedown_win) / len(A11_data_highage_threedown)"
   ]
  },
  {
   "cell_type": "code",
   "execution_count": 310,
   "metadata": {
    "collapsed": false
   },
   "outputs": [
    {
     "data": {
      "text/plain": [
       "0.5441176470588235"
      ]
     },
     "execution_count": 310,
     "metadata": {},
     "output_type": "execute_result"
    }
   ],
   "source": [
    "len(A11_data_highage_threedown_lose) / len(A11_data_highage_threedown)"
   ]
  },
  {
   "cell_type": "code",
   "execution_count": 311,
   "metadata": {
    "collapsed": false
   },
   "outputs": [
    {
     "data": {
      "text/plain": [
       "0.058823529411764705"
      ]
     },
     "execution_count": 311,
     "metadata": {},
     "output_type": "execute_result"
    }
   ],
   "source": [
    "4 / len(A11_data_highage_threedown)"
   ]
  },
  {
   "cell_type": "code",
   "execution_count": 312,
   "metadata": {
    "collapsed": false
   },
   "outputs": [
    {
     "data": {
      "text/plain": [
       "1.0"
      ]
     },
     "execution_count": 312,
     "metadata": {},
     "output_type": "execute_result"
    }
   ],
   "source": [
    "0.39705882352941174+0.5441176470588235+0.058823529411764705"
   ]
  },
  {
   "cell_type": "markdown",
   "metadata": {},
   "source": [
    "##### 고령자 중 당첨형태가 우선공급인 자에 대한 건설근로자여부(위에서 우(고) 만 나눈 A11_highage_priority 활용)"
   ]
  },
  {
   "cell_type": "code",
   "execution_count": 9,
   "metadata": {
    "collapsed": true
   },
   "outputs": [
    {
     "data": {
      "text/html": [
       "<div>\n",
       "<table border=\"1\" class=\"dataframe\">\n",
       "  <thead>\n",
       "    <tr style=\"text-align: right;\">\n",
       "      <th></th>\n",
       "      <th>A_24</th>\n",
       "      <th>W_4</th>\n",
       "      <th>W_35</th>\n",
       "    </tr>\n",
       "  </thead>\n",
       "  <tbody>\n",
       "    <tr>\n",
       "      <th>1</th>\n",
       "      <td>만65세이상고령자</td>\n",
       "      <td>당첨</td>\n",
       "      <td></td>\n",
       "    </tr>\n",
       "    <tr>\n",
       "      <th>2</th>\n",
       "      <td>만65세이상고령자</td>\n",
       "      <td>당첨</td>\n",
       "      <td></td>\n",
       "    </tr>\n",
       "    <tr>\n",
       "      <th>7</th>\n",
       "      <td>만65세이상고령자</td>\n",
       "      <td>당첨</td>\n",
       "      <td></td>\n",
       "    </tr>\n",
       "    <tr>\n",
       "      <th>16</th>\n",
       "      <td>만65세이상고령자</td>\n",
       "      <td>당첨</td>\n",
       "      <td></td>\n",
       "    </tr>\n",
       "    <tr>\n",
       "      <th>20</th>\n",
       "      <td>만65세이상고령자</td>\n",
       "      <td>당첨</td>\n",
       "      <td></td>\n",
       "    </tr>\n",
       "    <tr>\n",
       "      <th>21</th>\n",
       "      <td>만65세이상고령자</td>\n",
       "      <td>당첨</td>\n",
       "      <td></td>\n",
       "    </tr>\n",
       "    <tr>\n",
       "      <th>27</th>\n",
       "      <td>만65세이상고령자</td>\n",
       "      <td>당첨</td>\n",
       "      <td></td>\n",
       "    </tr>\n",
       "    <tr>\n",
       "      <th>30</th>\n",
       "      <td>만65세이상고령자</td>\n",
       "      <td>당첨</td>\n",
       "      <td></td>\n",
       "    </tr>\n",
       "    <tr>\n",
       "      <th>37</th>\n",
       "      <td>만65세이상고령자</td>\n",
       "      <td>당첨</td>\n",
       "      <td></td>\n",
       "    </tr>\n",
       "    <tr>\n",
       "      <th>50</th>\n",
       "      <td>만65세이상고령자</td>\n",
       "      <td>당첨</td>\n",
       "      <td></td>\n",
       "    </tr>\n",
       "    <tr>\n",
       "      <th>53</th>\n",
       "      <td>만65세이상고령자</td>\n",
       "      <td>당첨</td>\n",
       "      <td></td>\n",
       "    </tr>\n",
       "    <tr>\n",
       "      <th>59</th>\n",
       "      <td>만65세이상고령자</td>\n",
       "      <td>당첨</td>\n",
       "      <td></td>\n",
       "    </tr>\n",
       "    <tr>\n",
       "      <th>72</th>\n",
       "      <td>만65세이상고령자</td>\n",
       "      <td>당첨</td>\n",
       "      <td></td>\n",
       "    </tr>\n",
       "    <tr>\n",
       "      <th>87</th>\n",
       "      <td>만65세이상고령자</td>\n",
       "      <td>당첨</td>\n",
       "      <td></td>\n",
       "    </tr>\n",
       "    <tr>\n",
       "      <th>95</th>\n",
       "      <td>만65세이상고령자</td>\n",
       "      <td>당첨</td>\n",
       "      <td></td>\n",
       "    </tr>\n",
       "    <tr>\n",
       "      <th>107</th>\n",
       "      <td>만65세이상고령자</td>\n",
       "      <td>당첨</td>\n",
       "      <td></td>\n",
       "    </tr>\n",
       "    <tr>\n",
       "      <th>122</th>\n",
       "      <td>만65세이상고령자</td>\n",
       "      <td>당첨</td>\n",
       "      <td></td>\n",
       "    </tr>\n",
       "    <tr>\n",
       "      <th>129</th>\n",
       "      <td>만65세이상고령자</td>\n",
       "      <td>당첨</td>\n",
       "      <td></td>\n",
       "    </tr>\n",
       "    <tr>\n",
       "      <th>135</th>\n",
       "      <td>만65세이상고령자</td>\n",
       "      <td>당첨</td>\n",
       "      <td></td>\n",
       "    </tr>\n",
       "  </tbody>\n",
       "</table>\n",
       "</div>"
      ],
      "text/plain": [
       "          A_24 W_4 W_35\n",
       "1    만65세이상고령자  당첨     \n",
       "2    만65세이상고령자  당첨     \n",
       "7    만65세이상고령자  당첨     \n",
       "16   만65세이상고령자  당첨     \n",
       "20   만65세이상고령자  당첨     \n",
       "21   만65세이상고령자  당첨     \n",
       "27   만65세이상고령자  당첨     \n",
       "30   만65세이상고령자  당첨     \n",
       "37   만65세이상고령자  당첨     \n",
       "50   만65세이상고령자  당첨     \n",
       "53   만65세이상고령자  당첨     \n",
       "59   만65세이상고령자  당첨     \n",
       "72   만65세이상고령자  당첨     \n",
       "87   만65세이상고령자  당첨     \n",
       "95   만65세이상고령자  당첨     \n",
       "107  만65세이상고령자  당첨     \n",
       "122  만65세이상고령자  당첨     \n",
       "129  만65세이상고령자  당첨     \n",
       "135  만65세이상고령자  당첨     "
      ]
     },
     "execution_count": 9,
     "metadata": {},
     "output_type": "execute_result"
    }
   ],
   "source": [
    "A11_highage_priority[['A_24', 'W_4', 'W_35']] # 고령자 중 당첨형태가 우선공급인 자에 대한 건설근로자여부 확인 : 없음"
   ]
  },
  {
   "cell_type": "code",
   "execution_count": 262,
   "metadata": {
    "collapsed": false,
    "scrolled": true
   },
   "outputs": [
    {
     "data": {
      "text/plain": [
       "12"
      ]
     },
     "execution_count": 262,
     "metadata": {},
     "output_type": "execute_result"
    }
   ],
   "source": [
    "len(A11_highage_priority)"
   ]
  },
  {
   "cell_type": "code",
   "execution_count": 268,
   "metadata": {
    "collapsed": true
   },
   "outputs": [
    {
     "data": {
      "text/html": [
       "<div>\n",
       "<table border=\"1\" class=\"dataframe\">\n",
       "  <thead>\n",
       "    <tr style=\"text-align: right;\">\n",
       "      <th></th>\n",
       "      <th>A_24</th>\n",
       "      <th>W_4</th>\n",
       "      <th>W_35</th>\n",
       "    </tr>\n",
       "  </thead>\n",
       "  <tbody>\n",
       "    <tr>\n",
       "      <th>0</th>\n",
       "      <td>만65세이상고령자</td>\n",
       "      <td>서류(제)</td>\n",
       "      <td></td>\n",
       "    </tr>\n",
       "    <tr>\n",
       "      <th>3</th>\n",
       "      <td>만65세이상고령자</td>\n",
       "      <td>서류(제)</td>\n",
       "      <td></td>\n",
       "    </tr>\n",
       "    <tr>\n",
       "      <th>8</th>\n",
       "      <td>만65세이상고령자</td>\n",
       "      <td>예비</td>\n",
       "      <td></td>\n",
       "    </tr>\n",
       "    <tr>\n",
       "      <th>9</th>\n",
       "      <td>만65세이상고령자</td>\n",
       "      <td>서류(제)</td>\n",
       "      <td></td>\n",
       "    </tr>\n",
       "    <tr>\n",
       "      <th>10</th>\n",
       "      <td>만65세이상고령자</td>\n",
       "      <td>예비</td>\n",
       "      <td></td>\n",
       "    </tr>\n",
       "    <tr>\n",
       "      <th>11</th>\n",
       "      <td>만65세이상고령자</td>\n",
       "      <td>서류(제)</td>\n",
       "      <td></td>\n",
       "    </tr>\n",
       "    <tr>\n",
       "      <th>13</th>\n",
       "      <td>만65세이상고령자</td>\n",
       "      <td>서류(제)</td>\n",
       "      <td></td>\n",
       "    </tr>\n",
       "    <tr>\n",
       "      <th>17</th>\n",
       "      <td>만65세이상고령자</td>\n",
       "      <td>예비</td>\n",
       "      <td></td>\n",
       "    </tr>\n",
       "    <tr>\n",
       "      <th>18</th>\n",
       "      <td>만65세이상고령자</td>\n",
       "      <td>서류(제)</td>\n",
       "      <td></td>\n",
       "    </tr>\n",
       "    <tr>\n",
       "      <th>19</th>\n",
       "      <td>만65세이상고령자</td>\n",
       "      <td>예비</td>\n",
       "      <td></td>\n",
       "    </tr>\n",
       "    <tr>\n",
       "      <th>22</th>\n",
       "      <td>만65세이상고령자</td>\n",
       "      <td>서류(제)</td>\n",
       "      <td></td>\n",
       "    </tr>\n",
       "    <tr>\n",
       "      <th>23</th>\n",
       "      <td>만65세이상고령자</td>\n",
       "      <td>예비</td>\n",
       "      <td></td>\n",
       "    </tr>\n",
       "    <tr>\n",
       "      <th>24</th>\n",
       "      <td>만65세이상고령자</td>\n",
       "      <td>서류(제)</td>\n",
       "      <td></td>\n",
       "    </tr>\n",
       "    <tr>\n",
       "      <th>26</th>\n",
       "      <td>만65세이상고령자</td>\n",
       "      <td>서류(제)</td>\n",
       "      <td></td>\n",
       "    </tr>\n",
       "    <tr>\n",
       "      <th>29</th>\n",
       "      <td>만65세이상고령자</td>\n",
       "      <td>서류(제)</td>\n",
       "      <td></td>\n",
       "    </tr>\n",
       "    <tr>\n",
       "      <th>31</th>\n",
       "      <td>만65세이상고령자</td>\n",
       "      <td>서류(제)</td>\n",
       "      <td></td>\n",
       "    </tr>\n",
       "    <tr>\n",
       "      <th>33</th>\n",
       "      <td>만65세이상고령자</td>\n",
       "      <td>서류(제)</td>\n",
       "      <td></td>\n",
       "    </tr>\n",
       "    <tr>\n",
       "      <th>38</th>\n",
       "      <td>만65세이상고령자</td>\n",
       "      <td>서류(제)</td>\n",
       "      <td></td>\n",
       "    </tr>\n",
       "    <tr>\n",
       "      <th>40</th>\n",
       "      <td>만65세이상고령자</td>\n",
       "      <td>서류(제)</td>\n",
       "      <td></td>\n",
       "    </tr>\n",
       "    <tr>\n",
       "      <th>41</th>\n",
       "      <td>만65세이상고령자</td>\n",
       "      <td>예비</td>\n",
       "      <td></td>\n",
       "    </tr>\n",
       "    <tr>\n",
       "      <th>42</th>\n",
       "      <td>만65세이상고령자</td>\n",
       "      <td>서류(제)</td>\n",
       "      <td></td>\n",
       "    </tr>\n",
       "    <tr>\n",
       "      <th>43</th>\n",
       "      <td>만65세이상고령자</td>\n",
       "      <td>서류(제)</td>\n",
       "      <td></td>\n",
       "    </tr>\n",
       "    <tr>\n",
       "      <th>46</th>\n",
       "      <td>만65세이상고령자</td>\n",
       "      <td>서류(제)</td>\n",
       "      <td></td>\n",
       "    </tr>\n",
       "    <tr>\n",
       "      <th>47</th>\n",
       "      <td>만65세이상고령자</td>\n",
       "      <td>예비</td>\n",
       "      <td></td>\n",
       "    </tr>\n",
       "    <tr>\n",
       "      <th>49</th>\n",
       "      <td>만65세이상고령자</td>\n",
       "      <td>서류(제)</td>\n",
       "      <td></td>\n",
       "    </tr>\n",
       "    <tr>\n",
       "      <th>54</th>\n",
       "      <td>만65세이상고령자</td>\n",
       "      <td>서류(제)</td>\n",
       "      <td></td>\n",
       "    </tr>\n",
       "    <tr>\n",
       "      <th>55</th>\n",
       "      <td>만65세이상고령자</td>\n",
       "      <td>서류(제)</td>\n",
       "      <td></td>\n",
       "    </tr>\n",
       "    <tr>\n",
       "      <th>56</th>\n",
       "      <td>만65세이상고령자</td>\n",
       "      <td>서류(제)</td>\n",
       "      <td></td>\n",
       "    </tr>\n",
       "    <tr>\n",
       "      <th>57</th>\n",
       "      <td>만65세이상고령자</td>\n",
       "      <td>서류(제)</td>\n",
       "      <td></td>\n",
       "    </tr>\n",
       "    <tr>\n",
       "      <th>58</th>\n",
       "      <td>만65세이상고령자</td>\n",
       "      <td>예비</td>\n",
       "      <td></td>\n",
       "    </tr>\n",
       "    <tr>\n",
       "      <th>60</th>\n",
       "      <td>만65세이상고령자</td>\n",
       "      <td>예비</td>\n",
       "      <td></td>\n",
       "    </tr>\n",
       "    <tr>\n",
       "      <th>61</th>\n",
       "      <td>만65세이상고령자</td>\n",
       "      <td>서류(제)</td>\n",
       "      <td></td>\n",
       "    </tr>\n",
       "    <tr>\n",
       "      <th>62</th>\n",
       "      <td>만65세이상고령자</td>\n",
       "      <td>우선(부)</td>\n",
       "      <td></td>\n",
       "    </tr>\n",
       "    <tr>\n",
       "      <th>63</th>\n",
       "      <td>만65세이상고령자</td>\n",
       "      <td>서류(제)</td>\n",
       "      <td></td>\n",
       "    </tr>\n",
       "    <tr>\n",
       "      <th>65</th>\n",
       "      <td>만65세이상고령자</td>\n",
       "      <td>서류(제)</td>\n",
       "      <td></td>\n",
       "    </tr>\n",
       "    <tr>\n",
       "      <th>66</th>\n",
       "      <td>만65세이상고령자</td>\n",
       "      <td>서류(제)</td>\n",
       "      <td></td>\n",
       "    </tr>\n",
       "    <tr>\n",
       "      <th>67</th>\n",
       "      <td>만65세이상고령자</td>\n",
       "      <td>서류(부)</td>\n",
       "      <td></td>\n",
       "    </tr>\n",
       "  </tbody>\n",
       "</table>\n",
       "</div>"
      ],
      "text/plain": [
       "         A_24    W_4 W_35\n",
       "0   만65세이상고령자  서류(제)     \n",
       "3   만65세이상고령자  서류(제)     \n",
       "8   만65세이상고령자     예비     \n",
       "9   만65세이상고령자  서류(제)     \n",
       "10  만65세이상고령자     예비     \n",
       "11  만65세이상고령자  서류(제)     \n",
       "13  만65세이상고령자  서류(제)     \n",
       "17  만65세이상고령자     예비     \n",
       "18  만65세이상고령자  서류(제)     \n",
       "19  만65세이상고령자     예비     \n",
       "22  만65세이상고령자  서류(제)     \n",
       "23  만65세이상고령자     예비     \n",
       "24  만65세이상고령자  서류(제)     \n",
       "26  만65세이상고령자  서류(제)     \n",
       "29  만65세이상고령자  서류(제)     \n",
       "31  만65세이상고령자  서류(제)     \n",
       "33  만65세이상고령자  서류(제)     \n",
       "38  만65세이상고령자  서류(제)     \n",
       "40  만65세이상고령자  서류(제)     \n",
       "41  만65세이상고령자     예비     \n",
       "42  만65세이상고령자  서류(제)     \n",
       "43  만65세이상고령자  서류(제)     \n",
       "46  만65세이상고령자  서류(제)     \n",
       "47  만65세이상고령자     예비     \n",
       "49  만65세이상고령자  서류(제)     \n",
       "54  만65세이상고령자  서류(제)     \n",
       "55  만65세이상고령자  서류(제)     \n",
       "56  만65세이상고령자  서류(제)     \n",
       "57  만65세이상고령자  서류(제)     \n",
       "58  만65세이상고령자     예비     \n",
       "60  만65세이상고령자     예비     \n",
       "61  만65세이상고령자  서류(제)     \n",
       "62  만65세이상고령자  우선(부)     \n",
       "63  만65세이상고령자  서류(제)     \n",
       "65  만65세이상고령자  서류(제)     \n",
       "66  만65세이상고령자  서류(제)     \n",
       "67  만65세이상고령자  서류(부)     "
      ]
     },
     "execution_count": 268,
     "metadata": {},
     "output_type": "execute_result"
    }
   ],
   "source": [
    "A11_highage_general_lose[['A_24', 'W_4', 'W_35']]"
   ]
  },
  {
   "cell_type": "code",
   "execution_count": 269,
   "metadata": {
    "collapsed": false
   },
   "outputs": [
    {
     "data": {
      "text/plain": [
       "array(['서류(제)', '예비', '우선(부)', '서류(부)'], dtype=object)"
      ]
     },
     "execution_count": 269,
     "metadata": {},
     "output_type": "execute_result"
    }
   ],
   "source": [
    "A11_highage_general_lose.W_4.unique()"
   ]
  },
  {
   "cell_type": "code",
   "execution_count": 266,
   "metadata": {
    "collapsed": false,
    "scrolled": false
   },
   "outputs": [
    {
     "data": {
      "text/plain": [
       "37"
      ]
     },
     "execution_count": 266,
     "metadata": {},
     "output_type": "execute_result"
    }
   ],
   "source": [
    "len(A11_highage_general_lose[['A_24', 'W_4', 'W_35']])"
   ]
  },
  {
   "cell_type": "code",
   "execution_count": 270,
   "metadata": {
    "collapsed": false
   },
   "outputs": [
    {
     "data": {
      "text/plain": [
       "array([' '], dtype=object)"
      ]
     },
     "execution_count": 270,
     "metadata": {},
     "output_type": "execute_result"
    }
   ],
   "source": [
    "A11_highage_general_lose.W_35.unique()"
   ]
  },
  {
   "cell_type": "markdown",
   "metadata": {},
   "source": [
    "##### 청약 불입회수 분리"
   ]
  },
  {
   "cell_type": "code",
   "execution_count": 271,
   "metadata": {
    "collapsed": true
   },
   "outputs": [],
   "source": [
    "not_save_bins = [36,48,60,200] # range 범위 지정\n",
    "not_save_group_names = ['36회이상', '48회이상', '60회이상'] # 지정할 그룹명\n",
    "not_save_categories = pd.cut(A11_data_highage['A_46'],  not_save_bins,False, labels=not_save_group_names) # range 변수"
   ]
  },
  {
   "cell_type": "code",
   "execution_count": 272,
   "metadata": {
    "collapsed": true
   },
   "outputs": [],
   "source": [
    "A11_data_highage['not_save_categories'] = pd.cut(A11_data_highage['A_46'], not_save_bins, labels=not_save_group_names) # range column 추가"
   ]
  },
  {
   "cell_type": "code",
   "execution_count": 273,
   "metadata": {
    "collapsed": true
   },
   "outputs": [
    {
     "data": {
      "text/html": [
       "<div>\n",
       "<table border=\"1\" class=\"dataframe\">\n",
       "  <thead>\n",
       "    <tr style=\"text-align: right;\">\n",
       "      <th></th>\n",
       "      <th>A_46</th>\n",
       "      <th>not_save_categories</th>\n",
       "    </tr>\n",
       "  </thead>\n",
       "  <tbody>\n",
       "    <tr>\n",
       "      <th>0</th>\n",
       "      <td>0</td>\n",
       "      <td>NaN</td>\n",
       "    </tr>\n",
       "    <tr>\n",
       "      <th>1</th>\n",
       "      <td>0</td>\n",
       "      <td>NaN</td>\n",
       "    </tr>\n",
       "    <tr>\n",
       "      <th>2</th>\n",
       "      <td>0</td>\n",
       "      <td>NaN</td>\n",
       "    </tr>\n",
       "    <tr>\n",
       "      <th>3</th>\n",
       "      <td>60</td>\n",
       "      <td>48회이상</td>\n",
       "    </tr>\n",
       "    <tr>\n",
       "      <th>4</th>\n",
       "      <td>0</td>\n",
       "      <td>NaN</td>\n",
       "    </tr>\n",
       "    <tr>\n",
       "      <th>5</th>\n",
       "      <td>0</td>\n",
       "      <td>NaN</td>\n",
       "    </tr>\n",
       "    <tr>\n",
       "      <th>6</th>\n",
       "      <td>0</td>\n",
       "      <td>NaN</td>\n",
       "    </tr>\n",
       "    <tr>\n",
       "      <th>7</th>\n",
       "      <td>131</td>\n",
       "      <td>60회이상</td>\n",
       "    </tr>\n",
       "    <tr>\n",
       "      <th>8</th>\n",
       "      <td>0</td>\n",
       "      <td>NaN</td>\n",
       "    </tr>\n",
       "    <tr>\n",
       "      <th>9</th>\n",
       "      <td>0</td>\n",
       "      <td>NaN</td>\n",
       "    </tr>\n",
       "    <tr>\n",
       "      <th>10</th>\n",
       "      <td>0</td>\n",
       "      <td>NaN</td>\n",
       "    </tr>\n",
       "    <tr>\n",
       "      <th>11</th>\n",
       "      <td>0</td>\n",
       "      <td>NaN</td>\n",
       "    </tr>\n",
       "    <tr>\n",
       "      <th>12</th>\n",
       "      <td>0</td>\n",
       "      <td>NaN</td>\n",
       "    </tr>\n",
       "    <tr>\n",
       "      <th>13</th>\n",
       "      <td>0</td>\n",
       "      <td>NaN</td>\n",
       "    </tr>\n",
       "    <tr>\n",
       "      <th>14</th>\n",
       "      <td>0</td>\n",
       "      <td>NaN</td>\n",
       "    </tr>\n",
       "    <tr>\n",
       "      <th>15</th>\n",
       "      <td>0</td>\n",
       "      <td>NaN</td>\n",
       "    </tr>\n",
       "    <tr>\n",
       "      <th>16</th>\n",
       "      <td>0</td>\n",
       "      <td>NaN</td>\n",
       "    </tr>\n",
       "    <tr>\n",
       "      <th>17</th>\n",
       "      <td>0</td>\n",
       "      <td>NaN</td>\n",
       "    </tr>\n",
       "    <tr>\n",
       "      <th>18</th>\n",
       "      <td>0</td>\n",
       "      <td>NaN</td>\n",
       "    </tr>\n",
       "    <tr>\n",
       "      <th>19</th>\n",
       "      <td>0</td>\n",
       "      <td>NaN</td>\n",
       "    </tr>\n",
       "    <tr>\n",
       "      <th>20</th>\n",
       "      <td>52</td>\n",
       "      <td>48회이상</td>\n",
       "    </tr>\n",
       "    <tr>\n",
       "      <th>21</th>\n",
       "      <td>0</td>\n",
       "      <td>NaN</td>\n",
       "    </tr>\n",
       "    <tr>\n",
       "      <th>22</th>\n",
       "      <td>0</td>\n",
       "      <td>NaN</td>\n",
       "    </tr>\n",
       "    <tr>\n",
       "      <th>23</th>\n",
       "      <td>0</td>\n",
       "      <td>NaN</td>\n",
       "    </tr>\n",
       "    <tr>\n",
       "      <th>24</th>\n",
       "      <td>0</td>\n",
       "      <td>NaN</td>\n",
       "    </tr>\n",
       "    <tr>\n",
       "      <th>25</th>\n",
       "      <td>0</td>\n",
       "      <td>NaN</td>\n",
       "    </tr>\n",
       "    <tr>\n",
       "      <th>26</th>\n",
       "      <td>0</td>\n",
       "      <td>NaN</td>\n",
       "    </tr>\n",
       "    <tr>\n",
       "      <th>27</th>\n",
       "      <td>0</td>\n",
       "      <td>NaN</td>\n",
       "    </tr>\n",
       "    <tr>\n",
       "      <th>28</th>\n",
       "      <td>32</td>\n",
       "      <td>NaN</td>\n",
       "    </tr>\n",
       "    <tr>\n",
       "      <th>29</th>\n",
       "      <td>0</td>\n",
       "      <td>NaN</td>\n",
       "    </tr>\n",
       "    <tr>\n",
       "      <th>...</th>\n",
       "      <td>...</td>\n",
       "      <td>...</td>\n",
       "    </tr>\n",
       "    <tr>\n",
       "      <th>38</th>\n",
       "      <td>116</td>\n",
       "      <td>60회이상</td>\n",
       "    </tr>\n",
       "    <tr>\n",
       "      <th>39</th>\n",
       "      <td>0</td>\n",
       "      <td>NaN</td>\n",
       "    </tr>\n",
       "    <tr>\n",
       "      <th>40</th>\n",
       "      <td>129</td>\n",
       "      <td>60회이상</td>\n",
       "    </tr>\n",
       "    <tr>\n",
       "      <th>41</th>\n",
       "      <td>0</td>\n",
       "      <td>NaN</td>\n",
       "    </tr>\n",
       "    <tr>\n",
       "      <th>42</th>\n",
       "      <td>162</td>\n",
       "      <td>60회이상</td>\n",
       "    </tr>\n",
       "    <tr>\n",
       "      <th>43</th>\n",
       "      <td>0</td>\n",
       "      <td>NaN</td>\n",
       "    </tr>\n",
       "    <tr>\n",
       "      <th>44</th>\n",
       "      <td>0</td>\n",
       "      <td>NaN</td>\n",
       "    </tr>\n",
       "    <tr>\n",
       "      <th>45</th>\n",
       "      <td>0</td>\n",
       "      <td>NaN</td>\n",
       "    </tr>\n",
       "    <tr>\n",
       "      <th>46</th>\n",
       "      <td>0</td>\n",
       "      <td>NaN</td>\n",
       "    </tr>\n",
       "    <tr>\n",
       "      <th>47</th>\n",
       "      <td>0</td>\n",
       "      <td>NaN</td>\n",
       "    </tr>\n",
       "    <tr>\n",
       "      <th>48</th>\n",
       "      <td>9</td>\n",
       "      <td>NaN</td>\n",
       "    </tr>\n",
       "    <tr>\n",
       "      <th>49</th>\n",
       "      <td>20</td>\n",
       "      <td>NaN</td>\n",
       "    </tr>\n",
       "    <tr>\n",
       "      <th>50</th>\n",
       "      <td>8</td>\n",
       "      <td>NaN</td>\n",
       "    </tr>\n",
       "    <tr>\n",
       "      <th>51</th>\n",
       "      <td>11</td>\n",
       "      <td>NaN</td>\n",
       "    </tr>\n",
       "    <tr>\n",
       "      <th>52</th>\n",
       "      <td>14</td>\n",
       "      <td>NaN</td>\n",
       "    </tr>\n",
       "    <tr>\n",
       "      <th>53</th>\n",
       "      <td>37</td>\n",
       "      <td>36회이상</td>\n",
       "    </tr>\n",
       "    <tr>\n",
       "      <th>54</th>\n",
       "      <td>0</td>\n",
       "      <td>NaN</td>\n",
       "    </tr>\n",
       "    <tr>\n",
       "      <th>55</th>\n",
       "      <td>0</td>\n",
       "      <td>NaN</td>\n",
       "    </tr>\n",
       "    <tr>\n",
       "      <th>56</th>\n",
       "      <td>0</td>\n",
       "      <td>NaN</td>\n",
       "    </tr>\n",
       "    <tr>\n",
       "      <th>57</th>\n",
       "      <td>0</td>\n",
       "      <td>NaN</td>\n",
       "    </tr>\n",
       "    <tr>\n",
       "      <th>58</th>\n",
       "      <td>0</td>\n",
       "      <td>NaN</td>\n",
       "    </tr>\n",
       "    <tr>\n",
       "      <th>59</th>\n",
       "      <td>110</td>\n",
       "      <td>60회이상</td>\n",
       "    </tr>\n",
       "    <tr>\n",
       "      <th>60</th>\n",
       "      <td>42</td>\n",
       "      <td>36회이상</td>\n",
       "    </tr>\n",
       "    <tr>\n",
       "      <th>61</th>\n",
       "      <td>116</td>\n",
       "      <td>60회이상</td>\n",
       "    </tr>\n",
       "    <tr>\n",
       "      <th>62</th>\n",
       "      <td>0</td>\n",
       "      <td>NaN</td>\n",
       "    </tr>\n",
       "    <tr>\n",
       "      <th>63</th>\n",
       "      <td>47</td>\n",
       "      <td>36회이상</td>\n",
       "    </tr>\n",
       "    <tr>\n",
       "      <th>64</th>\n",
       "      <td>0</td>\n",
       "      <td>NaN</td>\n",
       "    </tr>\n",
       "    <tr>\n",
       "      <th>65</th>\n",
       "      <td>0</td>\n",
       "      <td>NaN</td>\n",
       "    </tr>\n",
       "    <tr>\n",
       "      <th>66</th>\n",
       "      <td>0</td>\n",
       "      <td>NaN</td>\n",
       "    </tr>\n",
       "    <tr>\n",
       "      <th>67</th>\n",
       "      <td>0</td>\n",
       "      <td>NaN</td>\n",
       "    </tr>\n",
       "  </tbody>\n",
       "</table>\n",
       "<p>68 rows × 2 columns</p>\n",
       "</div>"
      ],
      "text/plain": [
       "    A_46 not_save_categories\n",
       "0      0                 NaN\n",
       "1      0                 NaN\n",
       "2      0                 NaN\n",
       "3     60               48회이상\n",
       "4      0                 NaN\n",
       "5      0                 NaN\n",
       "6      0                 NaN\n",
       "7    131               60회이상\n",
       "8      0                 NaN\n",
       "9      0                 NaN\n",
       "10     0                 NaN\n",
       "11     0                 NaN\n",
       "12     0                 NaN\n",
       "13     0                 NaN\n",
       "14     0                 NaN\n",
       "15     0                 NaN\n",
       "16     0                 NaN\n",
       "17     0                 NaN\n",
       "18     0                 NaN\n",
       "19     0                 NaN\n",
       "20    52               48회이상\n",
       "21     0                 NaN\n",
       "22     0                 NaN\n",
       "23     0                 NaN\n",
       "24     0                 NaN\n",
       "25     0                 NaN\n",
       "26     0                 NaN\n",
       "27     0                 NaN\n",
       "28    32                 NaN\n",
       "29     0                 NaN\n",
       "..   ...                 ...\n",
       "38   116               60회이상\n",
       "39     0                 NaN\n",
       "40   129               60회이상\n",
       "41     0                 NaN\n",
       "42   162               60회이상\n",
       "43     0                 NaN\n",
       "44     0                 NaN\n",
       "45     0                 NaN\n",
       "46     0                 NaN\n",
       "47     0                 NaN\n",
       "48     9                 NaN\n",
       "49    20                 NaN\n",
       "50     8                 NaN\n",
       "51    11                 NaN\n",
       "52    14                 NaN\n",
       "53    37               36회이상\n",
       "54     0                 NaN\n",
       "55     0                 NaN\n",
       "56     0                 NaN\n",
       "57     0                 NaN\n",
       "58     0                 NaN\n",
       "59   110               60회이상\n",
       "60    42               36회이상\n",
       "61   116               60회이상\n",
       "62     0                 NaN\n",
       "63    47               36회이상\n",
       "64     0                 NaN\n",
       "65     0                 NaN\n",
       "66     0                 NaN\n",
       "67     0                 NaN\n",
       "\n",
       "[68 rows x 2 columns]"
      ]
     },
     "execution_count": 273,
     "metadata": {},
     "output_type": "execute_result"
    }
   ],
   "source": [
    "A11_data_highage[['A_46', 'not_save_categories']]"
   ]
  },
  {
   "cell_type": "code",
   "execution_count": 274,
   "metadata": {
    "collapsed": true
   },
   "outputs": [],
   "source": [
    "A11_highage_36 = A11_data_highage.ix[A11_data_highage.not_save_categories == '36회이상']\n",
    "A11_highage_48 = A11_data_highage.ix[A11_data_highage.not_save_categories == '48회이상']\n",
    "A11_highage_60 = A11_data_highage.ix[A11_data_highage.not_save_categories == '60회이상']"
   ]
  },
  {
   "cell_type": "code",
   "execution_count": 275,
   "metadata": {
    "collapsed": false
   },
   "outputs": [
    {
     "data": {
      "text/plain": [
       "3"
      ]
     },
     "execution_count": 275,
     "metadata": {},
     "output_type": "execute_result"
    }
   ],
   "source": [
    "len(A11_highage_36) # 36회 이상"
   ]
  },
  {
   "cell_type": "code",
   "execution_count": 276,
   "metadata": {
    "collapsed": false
   },
   "outputs": [
    {
     "data": {
      "text/plain": [
       "2"
      ]
     },
     "execution_count": 276,
     "metadata": {},
     "output_type": "execute_result"
    }
   ],
   "source": [
    "len(A11_highage_48) # 48회 이상"
   ]
  },
  {
   "cell_type": "code",
   "execution_count": 277,
   "metadata": {
    "collapsed": false
   },
   "outputs": [
    {
     "data": {
      "text/plain": [
       "6"
      ]
     },
     "execution_count": 277,
     "metadata": {},
     "output_type": "execute_result"
    }
   ],
   "source": [
    "len(A11_highage_60) # 60회 이상"
   ]
  },
  {
   "cell_type": "markdown",
   "metadata": {},
   "source": [
    "###### 36회 이상 데이터 당첨/탈락 나누기"
   ]
  },
  {
   "cell_type": "code",
   "execution_count": 278,
   "metadata": {
    "collapsed": true
   },
   "outputs": [],
   "source": [
    "A11_highage_36_win = A11_highage_36.ix[A11_highage_36.W_4 == '당첨']\n",
    "A11_highage_36_lose = A11_highage_36.ix[A11_highage_36.W_4 != '당첨']"
   ]
  },
  {
   "cell_type": "code",
   "execution_count": 279,
   "metadata": {
    "collapsed": false,
    "scrolled": false
   },
   "outputs": [
    {
     "data": {
      "text/plain": [
       "53    우(고)\n",
       "Name: W_14, dtype: object"
      ]
     },
     "execution_count": 279,
     "metadata": {},
     "output_type": "execute_result"
    }
   ],
   "source": [
    "A11_highage_36_win.W_14"
   ]
  },
  {
   "cell_type": "code",
   "execution_count": 280,
   "metadata": {
    "collapsed": false,
    "scrolled": true
   },
   "outputs": [
    {
     "data": {
      "text/plain": [
       "60    N(고)\n",
       "63    N(고)\n",
       "Name: W_14, dtype: object"
      ]
     },
     "execution_count": 280,
     "metadata": {},
     "output_type": "execute_result"
    }
   ],
   "source": [
    "A11_highage_36_lose.W_14"
   ]
  },
  {
   "cell_type": "code",
   "execution_count": 281,
   "metadata": {
    "collapsed": false,
    "scrolled": true
   },
   "outputs": [
    {
     "data": {
      "text/plain": [
       "0.3333333333333333"
      ]
     },
     "execution_count": 281,
     "metadata": {},
     "output_type": "execute_result"
    }
   ],
   "source": [
    "len(A11_highage_36_win) / len(A11_highage_36)"
   ]
  },
  {
   "cell_type": "code",
   "execution_count": 282,
   "metadata": {
    "collapsed": false,
    "scrolled": true
   },
   "outputs": [
    {
     "data": {
      "text/plain": [
       "0.6666666666666666"
      ]
     },
     "execution_count": 282,
     "metadata": {},
     "output_type": "execute_result"
    }
   ],
   "source": [
    "len(A11_highage_36_lose) / len(A11_highage_36)"
   ]
  },
  {
   "cell_type": "code",
   "execution_count": 178,
   "metadata": {
    "collapsed": false
   },
   "outputs": [
    {
     "data": {
      "text/plain": [
       "1.0"
      ]
     },
     "execution_count": 178,
     "metadata": {},
     "output_type": "execute_result"
    }
   ],
   "source": [
    "0.7142857142857143+0.2857142857142857"
   ]
  },
  {
   "cell_type": "markdown",
   "metadata": {},
   "source": [
    "###### 48회 이상 당첨/탈락 데이터 나누기"
   ]
  },
  {
   "cell_type": "code",
   "execution_count": 283,
   "metadata": {
    "collapsed": false
   },
   "outputs": [
    {
     "data": {
      "text/plain": [
       "3     서류(제)\n",
       "20       당첨\n",
       "Name: W_4, dtype: object"
      ]
     },
     "execution_count": 283,
     "metadata": {},
     "output_type": "execute_result"
    }
   ],
   "source": [
    "A11_highage_48.W_4"
   ]
  },
  {
   "cell_type": "code",
   "execution_count": 284,
   "metadata": {
    "collapsed": false
   },
   "outputs": [
    {
     "data": {
      "text/plain": [
       "3     N(고)\n",
       "20    우(고)\n",
       "Name: W_14, dtype: object"
      ]
     },
     "execution_count": 284,
     "metadata": {},
     "output_type": "execute_result"
    }
   ],
   "source": [
    "A11_highage_48.W_14"
   ]
  },
  {
   "cell_type": "markdown",
   "metadata": {},
   "source": [
    "###### 60회 이상 당첨/탈락 데이터 나누기"
   ]
  },
  {
   "cell_type": "code",
   "execution_count": 285,
   "metadata": {
    "collapsed": false,
    "scrolled": true
   },
   "outputs": [],
   "source": [
    "A11_highage_60_win = A11_highage_60.ix[A11_highage_60.W_4 == '당첨']\n",
    "A11_highage_60_down = A11_highage_60.ix[A11_highage_60.W_4 != '당첨']"
   ]
  },
  {
   "cell_type": "code",
   "execution_count": 286,
   "metadata": {
    "collapsed": false
   },
   "outputs": [
    {
     "data": {
      "text/plain": [
       "2"
      ]
     },
     "execution_count": 286,
     "metadata": {},
     "output_type": "execute_result"
    }
   ],
   "source": [
    "len(A11_highage_60_win)"
   ]
  },
  {
   "cell_type": "code",
   "execution_count": 287,
   "metadata": {
    "collapsed": false
   },
   "outputs": [
    {
     "data": {
      "text/plain": [
       "4"
      ]
     },
     "execution_count": 287,
     "metadata": {},
     "output_type": "execute_result"
    }
   ],
   "source": [
    "len(A11_highage_60_down)"
   ]
  },
  {
   "cell_type": "code",
   "execution_count": 288,
   "metadata": {
    "collapsed": false,
    "scrolled": true
   },
   "outputs": [
    {
     "data": {
      "text/plain": [
       "7     당첨\n",
       "59    당첨\n",
       "Name: W_4, dtype: object"
      ]
     },
     "execution_count": 288,
     "metadata": {},
     "output_type": "execute_result"
    }
   ],
   "source": [
    "A11_highage_60_win.W_4"
   ]
  },
  {
   "cell_type": "code",
   "execution_count": 289,
   "metadata": {
    "collapsed": false,
    "scrolled": true
   },
   "outputs": [
    {
     "data": {
      "text/plain": [
       "7     우(고)\n",
       "59    우(고)\n",
       "Name: W_14, dtype: object"
      ]
     },
     "execution_count": 289,
     "metadata": {},
     "output_type": "execute_result"
    }
   ],
   "source": [
    "A11_highage_60_win.W_14"
   ]
  },
  {
   "cell_type": "code",
   "execution_count": 290,
   "metadata": {
    "collapsed": false
   },
   "outputs": [
    {
     "data": {
      "text/plain": [
       "0.3333333333333333"
      ]
     },
     "execution_count": 290,
     "metadata": {},
     "output_type": "execute_result"
    }
   ],
   "source": [
    "len(A11_highage_60_win) / len(A11_highage_60)"
   ]
  },
  {
   "cell_type": "code",
   "execution_count": 291,
   "metadata": {
    "collapsed": false,
    "scrolled": true
   },
   "outputs": [
    {
     "data": {
      "text/plain": [
       "0.6666666666666666"
      ]
     },
     "execution_count": 291,
     "metadata": {},
     "output_type": "execute_result"
    }
   ],
   "source": [
    "len(A11_highage_60_down) / len(A11_highage_60)"
   ]
  },
  {
   "cell_type": "code",
   "execution_count": 292,
   "metadata": {
    "collapsed": false
   },
   "outputs": [
    {
     "data": {
      "text/plain": [
       "1.0"
      ]
     },
     "execution_count": 292,
     "metadata": {},
     "output_type": "execute_result"
    }
   ],
   "source": [
    "0.3333333333333333+0.6666666666666666"
   ]
  },
  {
   "cell_type": "markdown",
   "metadata": {},
   "source": [
    "###### 계약사실 분리 데이터"
   ]
  },
  {
   "cell_type": "code",
   "execution_count": 293,
   "metadata": {
    "collapsed": true
   },
   "outputs": [],
   "source": [
    "def f(x) :\n",
    "    if x['W_24'] == -5:\n",
    "        return \"1년이내\"\n",
    "    elif x['W_24'] == -3:\n",
    "        return \"3년이내\"\n",
    "    else:\n",
    "        return \"해당없음\""
   ]
  },
  {
   "cell_type": "code",
   "execution_count": 294,
   "metadata": {
    "collapsed": false
   },
   "outputs": [],
   "source": [
    "A11_data_highage['minus_div'] = A11_data_highage.apply(f, axis=1)"
   ]
  },
  {
   "cell_type": "markdown",
   "metadata": {},
   "source": [
    "###### 계약사실 데이터 1년이내/3년이내 나누기"
   ]
  },
  {
   "cell_type": "code",
   "execution_count": 295,
   "metadata": {
    "collapsed": false,
    "scrolled": true
   },
   "outputs": [],
   "source": [
    "A11_data_highage_one = A11_data_highage.ix[A11_data_highage.minus_div == \"1년이내\"]\n",
    "A11_data_highage_three = A11_data_highage.ix[A11_data_highage.minus_div == \"3년이내\"]"
   ]
  },
  {
   "cell_type": "code",
   "execution_count": 296,
   "metadata": {
    "collapsed": false
   },
   "outputs": [
    {
     "data": {
      "text/plain": [
       "2"
      ]
     },
     "execution_count": 296,
     "metadata": {},
     "output_type": "execute_result"
    }
   ],
   "source": [
    "len(A11_data_highage_one)"
   ]
  },
  {
   "cell_type": "code",
   "execution_count": 297,
   "metadata": {
    "collapsed": false
   },
   "outputs": [
    {
     "data": {
      "text/plain": [
       "2"
      ]
     },
     "execution_count": 297,
     "metadata": {},
     "output_type": "execute_result"
    }
   ],
   "source": [
    "len(A11_data_highage_three)"
   ]
  },
  {
   "cell_type": "code",
   "execution_count": 298,
   "metadata": {
    "collapsed": false,
    "scrolled": false
   },
   "outputs": [
    {
     "data": {
      "text/html": [
       "<div>\n",
       "<table border=\"1\" class=\"dataframe\">\n",
       "  <thead>\n",
       "    <tr style=\"text-align: right;\">\n",
       "      <th></th>\n",
       "      <th>W_4</th>\n",
       "      <th>W_24</th>\n",
       "    </tr>\n",
       "  </thead>\n",
       "  <tbody>\n",
       "    <tr>\n",
       "      <th>3</th>\n",
       "      <td>서류(제)</td>\n",
       "      <td>-5</td>\n",
       "    </tr>\n",
       "    <tr>\n",
       "      <th>54</th>\n",
       "      <td>서류(제)</td>\n",
       "      <td>-5</td>\n",
       "    </tr>\n",
       "  </tbody>\n",
       "</table>\n",
       "</div>"
      ],
      "text/plain": [
       "      W_4  W_24\n",
       "3   서류(제)    -5\n",
       "54  서류(제)    -5"
      ]
     },
     "execution_count": 298,
     "metadata": {},
     "output_type": "execute_result"
    }
   ],
   "source": [
    "A11_data_highage_one[['W_4', 'W_24']]"
   ]
  },
  {
   "cell_type": "code",
   "execution_count": 299,
   "metadata": {
    "collapsed": false,
    "scrolled": true
   },
   "outputs": [
    {
     "data": {
      "text/html": [
       "<div>\n",
       "<table border=\"1\" class=\"dataframe\">\n",
       "  <thead>\n",
       "    <tr style=\"text-align: right;\">\n",
       "      <th></th>\n",
       "      <th>W_4</th>\n",
       "      <th>W_14</th>\n",
       "      <th>W_24</th>\n",
       "    </tr>\n",
       "  </thead>\n",
       "  <tbody>\n",
       "    <tr>\n",
       "      <th>25</th>\n",
       "      <td>당첨</td>\n",
       "      <td>일(고)</td>\n",
       "      <td>-3</td>\n",
       "    </tr>\n",
       "    <tr>\n",
       "      <th>39</th>\n",
       "      <td>당첨</td>\n",
       "      <td>일(고)</td>\n",
       "      <td>-3</td>\n",
       "    </tr>\n",
       "  </tbody>\n",
       "</table>\n",
       "</div>"
      ],
      "text/plain": [
       "   W_4  W_14  W_24\n",
       "25  당첨  일(고)    -3\n",
       "39  당첨  일(고)    -3"
      ]
     },
     "execution_count": 299,
     "metadata": {},
     "output_type": "execute_result"
    }
   ],
   "source": [
    "A11_data_highage_three[['W_4','W_14', 'W_24']]"
   ]
  }
 ],
 "metadata": {
  "kernelspec": {
   "display_name": "Python 3",
   "language": "python",
   "name": "python3"
  },
  "language_info": {
   "codemirror_mode": {
    "name": "ipython",
    "version": 3
   },
   "file_extension": ".py",
   "mimetype": "text/x-python",
   "name": "python",
   "nbconvert_exporter": "python",
   "pygments_lexer": "ipython3",
   "version": "3.5.1"
  }
 },
 "nbformat": 4,
 "nbformat_minor": 0
}
