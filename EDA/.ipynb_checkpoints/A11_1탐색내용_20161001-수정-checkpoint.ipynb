{
 "cells": [
  {
   "cell_type": "code",
   "execution_count": 3191,
   "metadata": {
    "collapsed": false
   },
   "outputs": [],
   "source": [
    "import sys\n",
    "import pandas as pd\n",
    "import numpy as np\n",
    "sys.path.append(\"..\") # 시스템 경로 변경(MySQLConnect 클래스 부르기 위함)"
   ]
  },
  {
   "cell_type": "code",
   "execution_count": 3192,
   "metadata": {
    "collapsed": true
   },
   "outputs": [],
   "source": [
    "from MySQLConnect import MySQLConnect"
   ]
  },
  {
   "cell_type": "code",
   "execution_count": 3193,
   "metadata": {
    "collapsed": true
   },
   "outputs": [],
   "source": [
    "# 접속정보\n",
    "host = 'kmaster.czypjmusens3.ap-northeast-2.rds.amazonaws.com'\n",
    "user = 'KMaster'\n",
    "password = 'kookmin1234'\n",
    "db = 'km_db'"
   ]
  },
  {
   "cell_type": "code",
   "execution_count": 3194,
   "metadata": {
    "collapsed": false
   },
   "outputs": [
    {
     "name": "stdout",
     "output_type": "stream",
     "text": [
      "del\n"
     ]
    }
   ],
   "source": [
    "dc = MySQLConnect(host, user, password, db)"
   ]
  },
  {
   "cell_type": "code",
   "execution_count": 3195,
   "metadata": {
    "collapsed": false,
    "scrolled": true
   },
   "outputs": [],
   "source": [
    "# 조회조건 들어갈 변수\n",
    "block_nm = 'A17';A_6 = '59형'; A_11 = '본인';A_24 = '신혼부부';"
   ]
  },
  {
   "cell_type": "code",
   "execution_count": 3196,
   "metadata": {
    "collapsed": true
   },
   "outputs": [],
   "source": [
    "# 데이터 담을 dataframe\n",
    "full_data = pd.DataFrame(index = range(1))"
   ]
  },
  {
   "cell_type": "code",
   "execution_count": 3197,
   "metadata": {
    "collapsed": false
   },
   "outputs": [],
   "source": [
    "A11_data = pd.DataFrame(list(dc.getRecord(\"*\", \"LEASE_DATA\", \"BLOCK_NM = '\"+block_nm+\"' and A_6 = '\"+A_6+\"' and A_11 = '\"+A_11+\"' and A_24 = '\"+A_24+\"' and W_14 not like '잔%' \")))"
   ]
  },
  {
   "cell_type": "code",
   "execution_count": 3198,
   "metadata": {
    "collapsed": false,
    "scrolled": false
   },
   "outputs": [
    {
     "data": {
      "text/plain": [
       "109"
      ]
     },
     "execution_count": 3198,
     "metadata": {},
     "output_type": "execute_result"
    }
   ],
   "source": [
    "len(A11_data) # 전체인원수(잔 제거)"
   ]
  },
  {
   "cell_type": "code",
   "execution_count": 3199,
   "metadata": {
    "collapsed": false
   },
   "outputs": [],
   "source": [
    "full_data['신청인원'] = len(A11_data)"
   ]
  },
  {
   "cell_type": "markdown",
   "metadata": {},
   "source": [
    "###### 우(고) 와 그외 나머지 데이터로 나누기"
   ]
  },
  {
   "cell_type": "code",
   "execution_count": 3200,
   "metadata": {
    "collapsed": false,
    "scrolled": true
   },
   "outputs": [],
   "source": [
    "A11_priority = A11_data.ix[A11_data.W_14 == \"우(신)\"] # 우선공급\n",
    "A11_general = A11_data.ix[(A11_data.W_14 != \"우(신)\")  & (A11_data.W_14 != '')] # 일반공급"
   ]
  },
  {
   "cell_type": "code",
   "execution_count": 3201,
   "metadata": {
    "collapsed": false
   },
   "outputs": [
    {
     "data": {
      "text/plain": [
       "84"
      ]
     },
     "execution_count": 3201,
     "metadata": {},
     "output_type": "execute_result"
    }
   ],
   "source": [
    "len(A11_general)"
   ]
  },
  {
   "cell_type": "markdown",
   "metadata": {},
   "source": [
    "###### 커트라인 계산(우선공급 : W_20 / 일반공급 : W_21 \n",
    "###### 우선순위 ###########################################################################################################\n",
    "###### 장애인 : 1) 소득70%적용(W_16 == 'Y') -> 최저등급(W_15 == 6급)에 해당되는 최저점수  2) 소득70%적용(W_16 != 'Y') -> 최저등급(W_15 == 5등급)에 해당되는 최저점수\n",
    "###### 고령자 , 3자녀: 1) 소득70%적용(W_16 == 'Y') -> 최저점  2) 소득70%적용(W_16 != 'Y')-> 최저점\n",
    "###### 신혼부부 : 1) 소득70%적용(W_16 == 'Y') ->  신혼부부순위(W_39) 2순위  -> 신혼부부지역구분(W_40) '타' 부터  -> 자녀수(W_41) 작은 것 부터 1 ~ 3\n",
    "######                  2) 소득70%적용(W_16 != 'Y') -> 신혼부부순위(W_39) 2순위 -> 신혼부부지역구분(W_40) '타' 부터 -> 자녀수(W_41) 작은 것 부터 1 ~ 3\n",
    "###### 우선순위 ###########################################################################################################"
   ]
  },
  {
   "cell_type": "code",
   "execution_count": 3202,
   "metadata": {
    "collapsed": false
   },
   "outputs": [],
   "source": [
    "cut_score = 0\n",
    "if A_24 == '만65세이상고령자':\n",
    "#     full_data[column_70+'커트라인점수'] = A11_data.apply(highage_f, axis=1)\n",
    "    cut_score = A11_priority.groupby(['W_14', 'W_16'])['W_20'].min()\n",
    "elif A_24 == '장애인':\n",
    "#     full_data[column_70+'커트라인점수'] = A11_data.apply(disabled_f, axis=1)\n",
    "    cut_score = A11_priority.groupby(['W_14', 'W_16','W_15'])['W_20'].min()\n",
    "elif A_24 == '3자녀가구':\n",
    "#     full_data[column_70+'커트라인점수'] = A11_data.apply(three_f, axis=1)\n",
    "    cut_score = A11_priority.groupby(['W_14', 'W_16'])['W_20'].min()\n",
    "elif A_24 == '신혼부부':\n",
    "#     full_data[column_70+'커트라인점수'] = A11_data.apply(married_f, axis=1)\n",
    "    cut_score = A11_priority.groupby(['W_14', 'W_16' , 'W_39', 'W_40', 'W_41'])['W_20'].min()"
   ]
  },
  {
   "cell_type": "code",
   "execution_count": 3203,
   "metadata": {
    "collapsed": false
   },
   "outputs": [
    {
     "data": {
      "text/plain": [
       "W_14  W_16  W_39  W_40  W_41\n",
       "우(신)        1순위   타     1       7\n",
       "                        2       7\n",
       "      Y     1순위   당해    1       3\n",
       "                        2       6\n",
       "                  타     2       5\n",
       "Name: W_20, dtype: int64"
      ]
     },
     "execution_count": 3203,
     "metadata": {},
     "output_type": "execute_result"
    }
   ],
   "source": [
    "cut_score"
   ]
  },
  {
   "cell_type": "code",
   "execution_count": 3262,
   "metadata": {
    "collapsed": true
   },
   "outputs": [],
   "source": [
    "full_data['커트라인점수'] = str(5)+'(70%/1순위/타/자녀2)'"
   ]
  },
  {
   "cell_type": "code",
   "execution_count": 3263,
   "metadata": {
    "collapsed": false,
    "scrolled": true
   },
   "outputs": [
    {
     "data": {
      "text/html": [
       "<div>\n",
       "<table border=\"1\" class=\"dataframe\">\n",
       "  <thead>\n",
       "    <tr style=\"text-align: right;\">\n",
       "      <th></th>\n",
       "      <th>신청인원</th>\n",
       "      <th>커트라인점수</th>\n",
       "      <th>50%이하_당첨</th>\n",
       "      <th>50%이하_탈락</th>\n",
       "      <th>50%초과_당첨</th>\n",
       "      <th>50%초과_탈락</th>\n",
       "      <th>세대주_50세이상_당첨</th>\n",
       "      <th>세대주_50세이상_탈락</th>\n",
       "      <th>세대주_40세이상_당첨</th>\n",
       "      <th>세대주_40세이상_탈락</th>\n",
       "      <th>...</th>\n",
       "      <th>당해거주_당첨</th>\n",
       "      <th>당해거주_탈락</th>\n",
       "      <th>당해미거주_당첨</th>\n",
       "      <th>당해미거주_탈락</th>\n",
       "      <th>자녀수_3_당첨</th>\n",
       "      <th>자녀수_3_탈락</th>\n",
       "      <th>자녀수_2_당첨</th>\n",
       "      <th>자녀수_2_탈락</th>\n",
       "      <th>자녀수_1_당첨</th>\n",
       "      <th>자녀수_1_탈락</th>\n",
       "    </tr>\n",
       "  </thead>\n",
       "  <tbody>\n",
       "    <tr>\n",
       "      <th>0</th>\n",
       "      <td>109</td>\n",
       "      <td>5(70%/1순위/타/자녀2)</td>\n",
       "      <td>23</td>\n",
       "      <td>76</td>\n",
       "      <td>2</td>\n",
       "      <td>8</td>\n",
       "      <td>0</td>\n",
       "      <td>0</td>\n",
       "      <td>1</td>\n",
       "      <td>3</td>\n",
       "      <td>...</td>\n",
       "      <td>14</td>\n",
       "      <td>16</td>\n",
       "      <td>11</td>\n",
       "      <td>68</td>\n",
       "      <td>0</td>\n",
       "      <td>0</td>\n",
       "      <td>13</td>\n",
       "      <td>27</td>\n",
       "      <td>12</td>\n",
       "      <td>57</td>\n",
       "    </tr>\n",
       "  </tbody>\n",
       "</table>\n",
       "<p>1 rows × 56 columns</p>\n",
       "</div>"
      ],
      "text/plain": [
       "   신청인원            커트라인점수  50%이하_당첨  50%이하_탈락  50%초과_당첨  50%초과_탈락  \\\n",
       "0   109  5(70%/1순위/타/자녀2)        23        76         2         8   \n",
       "\n",
       "   세대주_50세이상_당첨  세대주_50세이상_탈락  세대주_40세이상_당첨  세대주_40세이상_탈락    ...     당해거주_당첨  \\\n",
       "0             0             0             1             3    ...          14   \n",
       "\n",
       "   당해거주_탈락  당해미거주_당첨  당해미거주_탈락  자녀수_3_당첨  자녀수_3_탈락  자녀수_2_당첨  자녀수_2_탈락  \\\n",
       "0       16        11        68         0         0        13        27   \n",
       "\n",
       "   자녀수_1_당첨  자녀수_1_탈락  \n",
       "0        12        57  \n",
       "\n",
       "[1 rows x 56 columns]"
      ]
     },
     "execution_count": 3263,
     "metadata": {},
     "output_type": "execute_result"
    }
   ],
   "source": [
    "full_data"
   ]
  },
  {
   "cell_type": "markdown",
   "metadata": {},
   "source": [
    "###### 50%이하/초과 나누기(우선/일반)"
   ]
  },
  {
   "cell_type": "code",
   "execution_count": 3206,
   "metadata": {
    "collapsed": true
   },
   "outputs": [],
   "source": [
    "## 우선 50%이하/초과(당첨)\n",
    "All_priority_50down_win = A11_priority.ix[A11_priority.A_32 == '50%이하']\n",
    "All_priority_50up_win = A11_priority.ix[A11_priority.A_32 != '50%이하']\n",
    "## 일반 50%이하/초과(탈락)\n",
    "A11_general_50down_lose = A11_general.ix[A11_general.A_32 == '50%이하']\n",
    "A11_general_50up_lose = A11_general.ix[A11_general.A_32 != '50%이하']"
   ]
  },
  {
   "cell_type": "code",
   "execution_count": 3207,
   "metadata": {
    "collapsed": true
   },
   "outputs": [],
   "source": [
    "full_data['50%이하_당첨'] = len(All_priority_50down_win)"
   ]
  },
  {
   "cell_type": "code",
   "execution_count": 3208,
   "metadata": {
    "collapsed": true
   },
   "outputs": [],
   "source": [
    "full_data['50%이하_탈락'] = len(A11_general_50down_lose)"
   ]
  },
  {
   "cell_type": "code",
   "execution_count": 3209,
   "metadata": {
    "collapsed": true
   },
   "outputs": [],
   "source": [
    "full_data['50%초과_당첨'] = len(All_priority_50up_win)"
   ]
  },
  {
   "cell_type": "code",
   "execution_count": 3210,
   "metadata": {
    "collapsed": true
   },
   "outputs": [],
   "source": [
    "full_data['50%초과_탈락'] = len(A11_general_50up_lose)"
   ]
  },
  {
   "cell_type": "markdown",
   "metadata": {},
   "source": [
    "##### 세대주 나이 구간화"
   ]
  },
  {
   "cell_type": "code",
   "execution_count": 3211,
   "metadata": {
    "collapsed": true
   },
   "outputs": [],
   "source": [
    "bins = [29,39,49,99] # range 범위 지정\n",
    "group_names = ['30대이상', '40대이상', '50대이상'] # 지정할 그룹명\n",
    "categories_win = pd.cut(A11_priority['A_34'], bins, labels=group_names) # range 변수\n",
    "categories_lose = pd.cut(A11_general['A_34'], bins, labels=group_names) # range 변수"
   ]
  },
  {
   "cell_type": "code",
   "execution_count": 3212,
   "metadata": {
    "collapsed": false,
    "scrolled": true
   },
   "outputs": [
    {
     "name": "stderr",
     "output_type": "stream",
     "text": [
      "C:\\Users\\Administrator\\Anaconda3\\lib\\site-packages\\ipykernel\\__main__.py:1: SettingWithCopyWarning: \n",
      "A value is trying to be set on a copy of a slice from a DataFrame.\n",
      "Try using .loc[row_indexer,col_indexer] = value instead\n",
      "\n",
      "See the caveats in the documentation: http://pandas.pydata.org/pandas-docs/stable/indexing.html#indexing-view-versus-copy\n",
      "  if __name__ == '__main__':\n",
      "C:\\Users\\Administrator\\Anaconda3\\lib\\site-packages\\ipykernel\\__main__.py:2: SettingWithCopyWarning: \n",
      "A value is trying to be set on a copy of a slice from a DataFrame.\n",
      "Try using .loc[row_indexer,col_indexer] = value instead\n",
      "\n",
      "See the caveats in the documentation: http://pandas.pydata.org/pandas-docs/stable/indexing.html#indexing-view-versus-copy\n",
      "  from ipykernel import kernelapp as app\n"
     ]
    }
   ],
   "source": [
    "A11_priority['categories_win'] = categories_win # 우선공급 일 경우 나이 구간\n",
    "A11_general['categories_lose'] = categories_lose # 일반공급 일 경우 나이 구간"
   ]
  },
  {
   "cell_type": "code",
   "execution_count": 3213,
   "metadata": {
    "collapsed": false
   },
   "outputs": [
    {
     "data": {
      "text/plain": [
       "[30대이상, NaN, 40대이상]\n",
       "Categories (2, object): [30대이상 < 40대이상]"
      ]
     },
     "execution_count": 3213,
     "metadata": {},
     "output_type": "execute_result"
    }
   ],
   "source": [
    "A11_priority['categories_win'].unique()"
   ]
  },
  {
   "cell_type": "code",
   "execution_count": 3214,
   "metadata": {
    "collapsed": false
   },
   "outputs": [
    {
     "data": {
      "text/plain": [
       "[30대이상, NaN, 40대이상]\n",
       "Categories (2, object): [30대이상 < 40대이상]"
      ]
     },
     "execution_count": 3214,
     "metadata": {},
     "output_type": "execute_result"
    }
   ],
   "source": [
    "A11_general.categories_lose.unique()"
   ]
  },
  {
   "cell_type": "code",
   "execution_count": 3215,
   "metadata": {
    "collapsed": true
   },
   "outputs": [],
   "source": [
    "## 우선일 경우 30대,40대,50대(당첨)\n",
    "A11_priority_data_30 = A11_priority.ix[A11_priority.categories_win == '30대이상']\n",
    "A11_priority_data_40 = A11_priority.ix[A11_priority.categories_win == '40대이상']\n",
    "A11_priority_data_50 = A11_priority.ix[A11_priority.categories_win == '50대이상']\n",
    "## 일반일 경우 30대,40대,50대(탈락)\n",
    "A11_general_data_30 = A11_general.ix[A11_general.categories_lose == '30대이상']\n",
    "A11_general_data_40 = A11_general.ix[A11_general.categories_lose == '40대이상']\n",
    "A11_general_data_50 = A11_general.ix[A11_general.categories_lose == '50대이상']"
   ]
  },
  {
   "cell_type": "code",
   "execution_count": 3216,
   "metadata": {
    "collapsed": true
   },
   "outputs": [],
   "source": [
    "full_data['세대주_50세이상_당첨'] = len(A11_priority_data_50) # 우선 50이상"
   ]
  },
  {
   "cell_type": "code",
   "execution_count": 3217,
   "metadata": {
    "collapsed": true
   },
   "outputs": [],
   "source": [
    "full_data['세대주_50세이상_탈락'] = len(A11_general_data_50) # 일반 50이상"
   ]
  },
  {
   "cell_type": "code",
   "execution_count": 3218,
   "metadata": {
    "collapsed": true
   },
   "outputs": [],
   "source": [
    "full_data['세대주_40세이상_당첨'] = len(A11_priority_data_40) # 우선 40이상"
   ]
  },
  {
   "cell_type": "code",
   "execution_count": 3219,
   "metadata": {
    "collapsed": true
   },
   "outputs": [],
   "source": [
    "full_data['세대주_40세이상_탈락'] = len(A11_general_data_40) # 일반 40이상"
   ]
  },
  {
   "cell_type": "code",
   "execution_count": 3220,
   "metadata": {
    "collapsed": true
   },
   "outputs": [],
   "source": [
    "full_data['세대주_30세이상_당첨'] = len(A11_priority_data_30) # 우선 30이상"
   ]
  },
  {
   "cell_type": "code",
   "execution_count": 3221,
   "metadata": {
    "collapsed": true
   },
   "outputs": [],
   "source": [
    "full_data['세대주_30세이상_탈락'] = len(A11_general_data_30) # 일반 30이상"
   ]
  },
  {
   "cell_type": "markdown",
   "metadata": {},
   "source": [
    "##### 부양가족 수 구간화"
   ]
  },
  {
   "cell_type": "code",
   "execution_count": 3222,
   "metadata": {
    "collapsed": false
   },
   "outputs": [],
   "source": [
    "child_bins = [0,1,2,10] # range 범위 지정\n",
    "child_group_names = ['1인', '2인', '3인'] # 지정할 그룹명\n",
    "child_categories_win = pd.cut(A11_priority['A_35'], child_bins, labels=child_group_names) # 우선 나이분류\n",
    "child_categories_lose = pd.cut(A11_general['A_35'], child_bins, labels=child_group_names) # 일반 나이분류"
   ]
  },
  {
   "cell_type": "code",
   "execution_count": 3223,
   "metadata": {
    "collapsed": false,
    "scrolled": true
   },
   "outputs": [
    {
     "name": "stderr",
     "output_type": "stream",
     "text": [
      "C:\\Users\\Administrator\\Anaconda3\\lib\\site-packages\\ipykernel\\__main__.py:1: SettingWithCopyWarning: \n",
      "A value is trying to be set on a copy of a slice from a DataFrame.\n",
      "Try using .loc[row_indexer,col_indexer] = value instead\n",
      "\n",
      "See the caveats in the documentation: http://pandas.pydata.org/pandas-docs/stable/indexing.html#indexing-view-versus-copy\n",
      "  if __name__ == '__main__':\n",
      "C:\\Users\\Administrator\\Anaconda3\\lib\\site-packages\\ipykernel\\__main__.py:2: SettingWithCopyWarning: \n",
      "A value is trying to be set on a copy of a slice from a DataFrame.\n",
      "Try using .loc[row_indexer,col_indexer] = value instead\n",
      "\n",
      "See the caveats in the documentation: http://pandas.pydata.org/pandas-docs/stable/indexing.html#indexing-view-versus-copy\n",
      "  from ipykernel import kernelapp as app\n"
     ]
    }
   ],
   "source": [
    "A11_priority['child_categories_win'] = child_categories_win # range column 추가\n",
    "A11_general['child_categories_lose'] = child_categories_lose # range column 추가"
   ]
  },
  {
   "cell_type": "code",
   "execution_count": 3224,
   "metadata": {
    "collapsed": false
   },
   "outputs": [],
   "source": [
    "## 우선공급 부양가족 분류(당첨)\n",
    "A11_priority_child1 = A11_priority.ix[A11_priority['child_categories_win'] == '1인']\n",
    "A11_priority_child2 = A11_priority.ix[A11_priority['child_categories_win'] == '2인']\n",
    "A11_priority_child3 = A11_priority.ix[A11_priority['child_categories_win'] == '3인']\n",
    "## 일반공급 부양가족 분류(탈락)\n",
    "A11_general_child1 = A11_general.ix[A11_general['child_categories_lose'] == '1인']\n",
    "A11_general_child2 = A11_general.ix[A11_general['child_categories_lose'] == '2인']\n",
    "A11_general_child3 = A11_general.ix[A11_general['child_categories_lose'] == '3인']"
   ]
  },
  {
   "cell_type": "markdown",
   "metadata": {},
   "source": [
    "###### 1인 부양가족의 당첨/탈락 데이터 나누기"
   ]
  },
  {
   "cell_type": "code",
   "execution_count": 3225,
   "metadata": {
    "collapsed": false
   },
   "outputs": [],
   "source": [
    "full_data['부양가족_3인_당첨'] = len(A11_priority_child3) # 우선 3인\n",
    "full_data['부양가족_3인_탈락'] = len(A11_general_child3) # 일반 3인\n",
    "full_data['부양가족_2인_당첨'] = len(A11_priority_child2) # 우선 2인\n",
    "full_data['부양가족_2인_탈락'] = len(A11_general_child2) # 일반 3인\n",
    "full_data['부양가족_1인_당첨'] = len(A11_priority_child1) # 우선 1인\n",
    "full_data['부양가족_1인_탈락'] = len(A11_general_child1) # 일반 1인"
   ]
  },
  {
   "cell_type": "code",
   "execution_count": 3226,
   "metadata": {
    "collapsed": false
   },
   "outputs": [
    {
     "data": {
      "text/plain": [
       "32"
      ]
     },
     "execution_count": 3226,
     "metadata": {},
     "output_type": "execute_result"
    }
   ],
   "source": [
    "len(A11_general_child3)"
   ]
  },
  {
   "cell_type": "code",
   "execution_count": 3227,
   "metadata": {
    "collapsed": false,
    "scrolled": true
   },
   "outputs": [
    {
     "data": {
      "text/plain": [
       "0    0\n",
       "Name: 부양가족_1인_탈락, dtype: int64"
      ]
     },
     "execution_count": 3227,
     "metadata": {},
     "output_type": "execute_result"
    }
   ],
   "source": [
    "full_data.부양가족_1인_탈락"
   ]
  },
  {
   "cell_type": "markdown",
   "metadata": {},
   "source": [
    "##### 거주기간 구간화"
   ]
  },
  {
   "cell_type": "code",
   "execution_count": 3228,
   "metadata": {
    "collapsed": false
   },
   "outputs": [],
   "source": [
    "resi_bins = [1,3,5,100] # range 범위 지정\n",
    "resi_group_names = ['1_3년', '3_5년', '5년이상'] # 지정할 그룹명\n",
    "resi_categories_win = pd.cut(A11_priority['A_22'],  resi_bins,False, labels=resi_group_names) # 우선 거주기간 구분\n",
    "resi_categories_lose = pd.cut(A11_general['A_22'],  resi_bins,False, labels=resi_group_names) # 일반 거주기간 구분"
   ]
  },
  {
   "cell_type": "code",
   "execution_count": 3229,
   "metadata": {
    "collapsed": false
   },
   "outputs": [
    {
     "name": "stderr",
     "output_type": "stream",
     "text": [
      "C:\\Users\\Administrator\\Anaconda3\\lib\\site-packages\\ipykernel\\__main__.py:1: SettingWithCopyWarning: \n",
      "A value is trying to be set on a copy of a slice from a DataFrame.\n",
      "Try using .loc[row_indexer,col_indexer] = value instead\n",
      "\n",
      "See the caveats in the documentation: http://pandas.pydata.org/pandas-docs/stable/indexing.html#indexing-view-versus-copy\n",
      "  if __name__ == '__main__':\n",
      "C:\\Users\\Administrator\\Anaconda3\\lib\\site-packages\\ipykernel\\__main__.py:2: SettingWithCopyWarning: \n",
      "A value is trying to be set on a copy of a slice from a DataFrame.\n",
      "Try using .loc[row_indexer,col_indexer] = value instead\n",
      "\n",
      "See the caveats in the documentation: http://pandas.pydata.org/pandas-docs/stable/indexing.html#indexing-view-versus-copy\n",
      "  from ipykernel import kernelapp as app\n"
     ]
    }
   ],
   "source": [
    "A11_priority['resi_categories_win'] = resi_categories_win # 우선 구분\n",
    "A11_general['resi_categories_lose'] = resi_categories_lose # 일반 구분"
   ]
  },
  {
   "cell_type": "code",
   "execution_count": 3230,
   "metadata": {
    "collapsed": false
   },
   "outputs": [],
   "source": [
    "## 우선 분류\n",
    "A11_priority_oneTothree = A11_priority.ix[A11_priority.resi_categories_win == \"1_3년\"]\n",
    "A11_priority_threeTofive = A11_priority.ix[A11_priority.resi_categories_win == \"3_5년\"]\n",
    "A11_priority_five = A11_priority.ix[A11_priority.resi_categories_win == \"5년이상\"]\n",
    "## 일반 분류\n",
    "A11_general_oneTothree = A11_general.ix[A11_general.resi_categories_lose == \"1_3년\"]\n",
    "A11_general_threeTofive = A11_general.ix[A11_general.resi_categories_lose == \"3_5년\"]\n",
    "A11_general_five = A11_general.ix[A11_general.resi_categories_lose == \"5년이상\"]"
   ]
  },
  {
   "cell_type": "code",
   "execution_count": 3231,
   "metadata": {
    "collapsed": false
   },
   "outputs": [],
   "source": [
    "full_data['거주기간_5년_당첨'] = len(A11_priority_five) # 우선 5년\n",
    "full_data['거주기간_5년_탈락'] = len(A11_general_five) # 일반 5년\n",
    "full_data['거주기간_3_5년_당첨'] = len(A11_priority_threeTofive) # 우선 3_5년\n",
    "full_data['거주기간_3_5년_탈락'] = len(A11_general_threeTofive) # 일반 3_5년\n",
    "full_data['거주기간_1_3년_당첨'] = len(A11_priority_oneTothree) # 우선 1_3년\n",
    "full_data['거주기간_1_3년_탈락'] = len(A11_general_oneTothree) # 일반 1_3년"
   ]
  },
  {
   "cell_type": "code",
   "execution_count": 3232,
   "metadata": {
    "collapsed": false
   },
   "outputs": [
    {
     "data": {
      "text/plain": [
       "0    1\n",
       "Name: 거주기간_5년_당첨, dtype: int64"
      ]
     },
     "execution_count": 3232,
     "metadata": {},
     "output_type": "execute_result"
    }
   ],
   "source": [
    "full_data.거주기간_5년_당첨"
   ]
  },
  {
   "cell_type": "markdown",
   "metadata": {},
   "source": [
    "###### 미성년자 3명이상 여부 데이터 나누기"
   ]
  },
  {
   "cell_type": "code",
   "execution_count": 3233,
   "metadata": {
    "collapsed": true
   },
   "outputs": [],
   "source": [
    "## 우선 미성년 분류(당첨)\n",
    "A11_priority_threeup = A11_priority.ix[A11_priority.W_17 >= 3]\n",
    "A11_priority_threedown = A11_priority.ix[A11_priority.W_17 < 3 ]\n",
    "## 일반 미성년 분류(탈락)\n",
    "A11_general_threeup = A11_general.ix[A11_general.W_17 >= 3]\n",
    "A11_general_threedown = A11_general.ix[A11_general.W_17 < 3 ]"
   ]
  },
  {
   "cell_type": "code",
   "execution_count": 3234,
   "metadata": {
    "collapsed": true
   },
   "outputs": [],
   "source": [
    "full_data['미성년_3명이상_당첨'] = len(A11_priority_threeup)"
   ]
  },
  {
   "cell_type": "code",
   "execution_count": 3235,
   "metadata": {
    "collapsed": true
   },
   "outputs": [],
   "source": [
    "full_data['미성년_3명이상_탈락'] = len(A11_general_threeup)"
   ]
  },
  {
   "cell_type": "code",
   "execution_count": 3236,
   "metadata": {
    "collapsed": true
   },
   "outputs": [],
   "source": [
    "full_data['미성년_3명미만_당첨'] = len(A11_priority_threedown)"
   ]
  },
  {
   "cell_type": "code",
   "execution_count": 3237,
   "metadata": {
    "collapsed": true
   },
   "outputs": [],
   "source": [
    "full_data['미성년_3명미만_탈락'] = len(A11_general_threedown)"
   ]
  },
  {
   "cell_type": "markdown",
   "metadata": {},
   "source": [
    "\n",
    "##### 고령자 중 당첨형태가 우선공급인 자에 대한 건설근로자여부(위에서 우(고) 만 나눈 A11_priority 활용)"
   ]
  },
  {
   "cell_type": "code",
   "execution_count": 3238,
   "metadata": {
    "collapsed": false
   },
   "outputs": [],
   "source": [
    "## 우선공급 중 건설근로자(당첨)\n",
    "A11_priorityY = A11_priority.ix[A11_priority.W_36 == 'Y']\n",
    "A11_priorityN = A11_priority.ix[A11_priority.W_36 != 'Y']\n",
    "## 일반공급 중 건설근로자(탈락)\n",
    "A11_generalY = A11_general.ix[A11_general.W_36  == 'Y']\n",
    "A11_generalN = A11_general.ix[A11_general.W_36  != 'Y']"
   ]
  },
  {
   "cell_type": "code",
   "execution_count": 3239,
   "metadata": {
    "collapsed": true
   },
   "outputs": [],
   "source": [
    "full_data['건설근로자_3점_당첨'] = len(A11_priorityY)"
   ]
  },
  {
   "cell_type": "code",
   "execution_count": 3240,
   "metadata": {
    "collapsed": true
   },
   "outputs": [],
   "source": [
    "full_data['건설근로자_3점_탈락'] = len(A11_generalY)"
   ]
  },
  {
   "cell_type": "code",
   "execution_count": 3241,
   "metadata": {
    "collapsed": true
   },
   "outputs": [],
   "source": [
    "full_data['건설근로자_0점_당첨'] = len(A11_priorityN)"
   ]
  },
  {
   "cell_type": "code",
   "execution_count": 3242,
   "metadata": {
    "collapsed": true
   },
   "outputs": [],
   "source": [
    "full_data['건설근로자_0점_탈락'] = len(A11_generalN)"
   ]
  },
  {
   "cell_type": "markdown",
   "metadata": {},
   "source": [
    "##### 청약 불입회수 분리"
   ]
  },
  {
   "cell_type": "code",
   "execution_count": 3243,
   "metadata": {
    "collapsed": false
   },
   "outputs": [],
   "source": [
    "not_save_bins = [36,48,60,200] # range 범위 지정\n",
    "not_save_group_names = ['36회이상', '48회이상', '60회이상'] # 지정할 그룹명\n",
    "not_save_categories_win = pd.cut(A11_priority['A_46'],  not_save_bins,False, labels=not_save_group_names) # range 변수\n",
    "not_save_categories_lose = pd.cut(A11_general['A_46'],  not_save_bins,False, labels=not_save_group_names) # range 변수"
   ]
  },
  {
   "cell_type": "code",
   "execution_count": 3244,
   "metadata": {
    "collapsed": false
   },
   "outputs": [
    {
     "name": "stderr",
     "output_type": "stream",
     "text": [
      "C:\\Users\\Administrator\\Anaconda3\\lib\\site-packages\\ipykernel\\__main__.py:1: SettingWithCopyWarning: \n",
      "A value is trying to be set on a copy of a slice from a DataFrame.\n",
      "Try using .loc[row_indexer,col_indexer] = value instead\n",
      "\n",
      "See the caveats in the documentation: http://pandas.pydata.org/pandas-docs/stable/indexing.html#indexing-view-versus-copy\n",
      "  if __name__ == '__main__':\n",
      "C:\\Users\\Administrator\\Anaconda3\\lib\\site-packages\\ipykernel\\__main__.py:2: SettingWithCopyWarning: \n",
      "A value is trying to be set on a copy of a slice from a DataFrame.\n",
      "Try using .loc[row_indexer,col_indexer] = value instead\n",
      "\n",
      "See the caveats in the documentation: http://pandas.pydata.org/pandas-docs/stable/indexing.html#indexing-view-versus-copy\n",
      "  from ipykernel import kernelapp as app\n"
     ]
    }
   ],
   "source": [
    "A11_priority['not_save_categories_win'] = not_save_categories_win # 우선 청약불입회수\n",
    "A11_general['not_save_categories_lose'] = not_save_categories_lose # 우선 청약불입회수"
   ]
  },
  {
   "cell_type": "code",
   "execution_count": 3245,
   "metadata": {
    "collapsed": true
   },
   "outputs": [],
   "source": [
    "## 우선공급 청약불입회수 구분 (당첨)\n",
    "A11_priority_36 = A11_priority.ix[A11_priority.not_save_categories_win == '36회이상']\n",
    "A11_priority_48 = A11_priority.ix[A11_priority.not_save_categories_win == '48회이상']\n",
    "A11_priority_60 = A11_priority.ix[A11_priority.not_save_categories_win == '60회이상']\n",
    "## 일반공급 청약불입회수 구분 (탈락)\n",
    "A11_general_36 = A11_general.ix[A11_general.not_save_categories_lose == '36회이상']\n",
    "A11_general_48 = A11_general.ix[A11_general.not_save_categories_lose == '48회이상']\n",
    "A11_general_60 = A11_general.ix[A11_general.not_save_categories_lose == '60회이상']"
   ]
  },
  {
   "cell_type": "code",
   "execution_count": 3246,
   "metadata": {
    "collapsed": false
   },
   "outputs": [],
   "source": [
    "full_data['청약저축_60이상_당첨'] = len(A11_priority_60)\n",
    "full_data['청약저축_60이상_탈락'] = len(A11_general_60)\n",
    "full_data['청약저축_48이상_당첨'] = len(A11_priority_48)\n",
    "full_data['청약저축_48이상_탈락'] = len(A11_general_48)\n",
    "full_data['청약저축_36이상_당첨'] = len(A11_priority_36)\n",
    "full_data['청약저축_36이상_탈락'] = len(A11_general_36)"
   ]
  },
  {
   "cell_type": "code",
   "execution_count": 3247,
   "metadata": {
    "collapsed": false,
    "scrolled": true
   },
   "outputs": [
    {
     "data": {
      "text/plain": [
       "25"
      ]
     },
     "execution_count": 3247,
     "metadata": {},
     "output_type": "execute_result"
    }
   ],
   "source": [
    "len(A11_general_36)"
   ]
  },
  {
   "cell_type": "code",
   "execution_count": 3248,
   "metadata": {
    "collapsed": false
   },
   "outputs": [
    {
     "data": {
      "text/plain": [
       "0    7\n",
       "Name: 청약저축_36이상_당첨, dtype: int64"
      ]
     },
     "execution_count": 3248,
     "metadata": {},
     "output_type": "execute_result"
    }
   ],
   "source": [
    "full_data.청약저축_36이상_당첨"
   ]
  },
  {
   "cell_type": "markdown",
   "metadata": {},
   "source": [
    "###### 계약사실 분리 데이터"
   ]
  },
  {
   "cell_type": "code",
   "execution_count": 3249,
   "metadata": {
    "collapsed": true
   },
   "outputs": [],
   "source": [
    "## 계약사실 분리 함수\n",
    "def f(x) :\n",
    "    if x['W_24'] == -5:\n",
    "        return \"1년이내\"\n",
    "    elif x['W_24'] == -3:\n",
    "        return \"3년이내\" \n",
    "    else:\n",
    "        return \"해당없음\""
   ]
  },
  {
   "cell_type": "code",
   "execution_count": 3250,
   "metadata": {
    "collapsed": false
   },
   "outputs": [
    {
     "name": "stderr",
     "output_type": "stream",
     "text": [
      "C:\\Users\\Administrator\\Anaconda3\\lib\\site-packages\\ipykernel\\__main__.py:3: SettingWithCopyWarning: \n",
      "A value is trying to be set on a copy of a slice from a DataFrame.\n",
      "Try using .loc[row_indexer,col_indexer] = value instead\n",
      "\n",
      "See the caveats in the documentation: http://pandas.pydata.org/pandas-docs/stable/indexing.html#indexing-view-versus-copy\n",
      "  app.launch_new_instance()\n",
      "C:\\Users\\Administrator\\Anaconda3\\lib\\site-packages\\ipykernel\\__main__.py:9: SettingWithCopyWarning: \n",
      "A value is trying to be set on a copy of a slice from a DataFrame.\n",
      "Try using .loc[row_indexer,col_indexer] = value instead\n",
      "\n",
      "See the caveats in the documentation: http://pandas.pydata.org/pandas-docs/stable/indexing.html#indexing-view-versus-copy\n"
     ]
    }
   ],
   "source": [
    "try:\n",
    "    ## 우선 계약사실(당첨)\n",
    "    A11_priority['계약사실구분'] = A11_priority.apply(f, axis=1)\n",
    "except ValueError:\n",
    "    A11_priority['계약사실구분'] = \"해당없음\"\n",
    "\n",
    "try:\n",
    "    ## 우선 계약사실(당첨)\n",
    "    A11_general['계약사실구분'] = A11_general.apply(f, axis=1)\n",
    "except ValueError:\n",
    "    A11_general['계약사실구분'] = \"해당없음\""
   ]
  },
  {
   "cell_type": "markdown",
   "metadata": {},
   "source": [
    "###### 계약사실 데이터 1년이내/3년이내 나누기"
   ]
  },
  {
   "cell_type": "code",
   "execution_count": 3251,
   "metadata": {
    "collapsed": false,
    "scrolled": true
   },
   "outputs": [],
   "source": [
    "## 우선 1년,3년(당첨)\n",
    "A11_priority_one = A11_priority.ix[A11_priority.계약사실구분 == \"1년이내\"]\n",
    "A11_priority_three = A11_priority.ix[A11_priority.계약사실구분 == \"3년이내\"]\n",
    "## 당첨 1년, 3년(탈락)\n",
    "A11_general_one = A11_general.ix[A11_general.계약사실구분 == \"1년이내\"]\n",
    "A11_general_three = A11_general.ix[A11_general.계약사실구분 == \"3년이내\"]"
   ]
  },
  {
   "cell_type": "code",
   "execution_count": 3252,
   "metadata": {
    "collapsed": true
   },
   "outputs": [],
   "source": [
    "full_data['계약사실_1년이내_당첨'] = len(A11_priority_one)"
   ]
  },
  {
   "cell_type": "code",
   "execution_count": 3253,
   "metadata": {
    "collapsed": true
   },
   "outputs": [],
   "source": [
    "full_data['계약사실_1년이내_탈락'] = len(A11_general_one)"
   ]
  },
  {
   "cell_type": "code",
   "execution_count": 3254,
   "metadata": {
    "collapsed": true
   },
   "outputs": [],
   "source": [
    "full_data['게약사실_3년이내_당첨'] = len(A11_priority_three)"
   ]
  },
  {
   "cell_type": "code",
   "execution_count": 3255,
   "metadata": {
    "collapsed": true
   },
   "outputs": [],
   "source": [
    "full_data['게약사실_3년이내_탈락'] = len(A11_general_three)"
   ]
  },
  {
   "cell_type": "code",
   "execution_count": 3256,
   "metadata": {
    "collapsed": true
   },
   "outputs": [],
   "source": [
    "if A_24 == '장애인':\n",
    "    # 우선공급 장애인 등급(당첨)\n",
    "    A11_priority_one = A11_priority.ix[A11_priority.A_28 == '1급']\n",
    "    A11_priority_two = A11_priority.ix[A11_priority.A_28 == '2급']\n",
    "    A11_priority_three = A11_priority.ix[A11_priority.A_28 == '3급']\n",
    "    A11_priority_four = A11_priority.ix[(A11_priority.A_28 == '4급') | (A11_priority.A_28 == '5급') | (A11_priority.A_28 == '6급')]\n",
    "    # 일반공급 장애인 등급(탈락)\n",
    "    A11_general_one = A11_general.ix[A11_general.A_28 == '1급']\n",
    "    A11_general_two = A11_general.ix[A11_general.A_28 == '2급']\n",
    "    A11_general_three = A11_general.ix[A11_general.A_28 == '3급']\n",
    "    A11_general_four = A11_general.ix[(A11_general.A_28 == '4급') | (A11_general.A_28 == '5급') | (A11_general.A_28 == '6급')]\n",
    "    \n",
    "    full_data['장애1등급_당첨'] = len(A11_priority_one)\n",
    "    full_data['장애1등급_탈락'] = len(A11_general_one)\n",
    "    full_data['장애2등급_당첨'] = len(A11_priority_two)\n",
    "    full_data['장애2등급_탈락'] = len(A11_general_two)\n",
    "    full_data['장애3등급_당첨'] = len(A11_priority_three)\n",
    "    full_data['장애3등급_탈락'] = len(A11_general_three)\n",
    "    full_data['장애4등급이하_당첨'] = len(A11_priority_four)\n",
    "    full_data['장애4등급이하_탈락'] = len(A11_general_four)    "
   ]
  },
  {
   "cell_type": "code",
   "execution_count": 3257,
   "metadata": {
    "collapsed": true
   },
   "outputs": [],
   "source": [
    "if A_24 == '신혼부부':\n",
    "    ## 우선공급 신혼부부 분류(당첨)\n",
    "    A11_priority_married_three = A11_priority.ix[A11_priority.W_39 == '1순위']\n",
    "    A11_priority_married_five = A11_priority.ix[A11_priority.W_39 == '2순위']\n",
    "    A11_priority_married_dang = A11_priority.ix[A11_priority.W_40 == '당해']\n",
    "    A11_priority_married_ta = A11_priority.ix[A11_priority.W_40 == '타']\n",
    "    A11_priority_married_child1 = A11_priority.ix[A11_priority.W_41 == 1]\n",
    "    A11_priority_married_child2 = A11_priority.ix[A11_priority.W_41 == 2]\n",
    "    A11_priority_married_child3 = A11_priority.ix[A11_priority.W_41 >= 3]\n",
    "    ## 일반공급 신혼부부 분류(탈락)\n",
    "    A11_general_married_three = A11_general.ix[A11_general.W_39 == '1순위']\n",
    "    A11_general_married_five = A11_general.ix[A11_general.W_39 == '2순위']\n",
    "    A11_general_married_dang = A11_general.ix[A11_general.W_40 == '당해']\n",
    "    A11_general_married_ta = A11_general.ix[A11_general.W_40 == '타']\n",
    "    A11_general_married_child1 = A11_general.ix[A11_general.W_41 == 1]\n",
    "    A11_general_married_child2 = A11_general.ix[A11_general.W_41 == 2]\n",
    "    A11_general_married_child3 = A11_general.ix[A11_general.W_41 >= 3]\n",
    "    \n",
    "    full_data['결혼3년이내_당첨'] = len(A11_priority_married_three)\n",
    "    full_data['결혼3년이내_탈락'] = len(A11_general_married_three)\n",
    "    full_data['결혼5년이내_당첨'] = len(A11_priority_married_five)\n",
    "    full_data['결혼5년이내_탈락'] = len(A11_general_married_five)\n",
    "    full_data['당해거주_당첨'] = len(A11_priority_married_dang)\n",
    "    full_data['당해거주_탈락'] = len(A11_general_married_dang)\n",
    "    full_data['당해미거주_당첨'] = len(A11_priority_married_ta)\n",
    "    full_data['당해미거주_탈락'] = len(A11_general_married_ta)\n",
    "    full_data['자녀수_3_당첨'] = len(A11_priority_married_child3)\n",
    "    full_data['자녀수_3_탈락'] = len(A11_general_married_child3)\n",
    "    full_data['자녀수_2_당첨'] = len(A11_priority_married_child2)\n",
    "    full_data['자녀수_2_탈락'] = len(A11_general_married_child2)\n",
    "    full_data['자녀수_1_당첨'] = len(A11_priority_married_child1)\n",
    "    full_data['자녀수_1_탈락'] = len(A11_general_married_child1)"
   ]
  },
  {
   "cell_type": "code",
   "execution_count": 3258,
   "metadata": {
    "collapsed": false
   },
   "outputs": [],
   "source": [
    "if A_24 == '3자녀가구':\n",
    "    ## 우선공급 3자녀구분(당첨)\n",
    "    A11_priority_parent_care = A11_priority.ix[A11_priority.W_30 =='Y']\n",
    "    A11_priority_parent_careless = A11_priority.ix[A11_priority.W_30 != 'Y']\n",
    "    A11_priority_manufac = A11_priority.ix[A11_priority.W_31 == 'Y']\n",
    "    A11_priority_not_manufac = A11_priority.ix[A11_priority.W_31 != 'Y']\n",
    "    A11_priority_weekness_o = A11_priority.ix[A11_priority.W_32 == 'Y']\n",
    "    A11_priority_weekness_x = A11_priority.ix[A11_priority.W_32 != 'Y']\n",
    "    ## 일반공급 3자녀구분(탈락)\n",
    "    A11_general_parent_care = A11_general.ix[A11_general.W_30 =='Y']\n",
    "    A11_general_parent_careless = A11_general.ix[A11_general.W_30 != 'Y']\n",
    "    A11_general_manufac = A11_general.ix[A11_general.W_31 == 'Y']\n",
    "    A11_general_not_manufac = A11_general.ix[A11_general.W_31 != 'Y']\n",
    "    A11_general_weekness_o = A11_general.ix[A11_general.W_32 == 'Y']\n",
    "    A11_general_weekness_x = A11_general.ix[A11_general.W_32 != 'Y']\n",
    "    \n",
    "    full_data['65세부양_당첨'] = len(A11_priority_parent_care)\n",
    "    full_data['65세부양_탈락'] = len(A11_general_parent_care)\n",
    "    full_data['65세미부양_당첨'] = len(A11_priority_parent_careless)\n",
    "    full_data['65세미부양_탈락'] = len(A11_general_parent_careless)\n",
    "    full_data['제조업종사_당첨'] = len(A11_priority_manufac)\n",
    "    full_data['제조업종사_탈락'] = len(A11_general_manufac)\n",
    "    full_data['제조업미종사_당첨'] = len(A11_priority_not_manufac)\n",
    "    full_data['제조업미종사_탈락'] = len(A11_general_not_manufac)\n",
    "    full_data['취약계층_당첨'] = len(A11_priority_weekness_o)\n",
    "    full_data['취약계층_탈락'] = len(A11_general_weekness_o)\n",
    "    full_data['미취약계층_당첨'] = len(A11_priority_weekness_x)\n",
    "    full_data['미취약계층_탈락'] = len(A11_general_weekness_x)"
   ]
  },
  {
   "cell_type": "code",
   "execution_count": 3264,
   "metadata": {
    "collapsed": false,
    "scrolled": false
   },
   "outputs": [
    {
     "data": {
      "text/html": [
       "<div>\n",
       "<table border=\"1\" class=\"dataframe\">\n",
       "  <thead>\n",
       "    <tr style=\"text-align: right;\">\n",
       "      <th></th>\n",
       "      <th>신청인원</th>\n",
       "      <th>커트라인점수</th>\n",
       "      <th>50%이하_당첨</th>\n",
       "      <th>50%이하_탈락</th>\n",
       "      <th>50%초과_당첨</th>\n",
       "      <th>50%초과_탈락</th>\n",
       "      <th>세대주_50세이상_당첨</th>\n",
       "      <th>세대주_50세이상_탈락</th>\n",
       "      <th>세대주_40세이상_당첨</th>\n",
       "      <th>세대주_40세이상_탈락</th>\n",
       "      <th>...</th>\n",
       "      <th>당해거주_당첨</th>\n",
       "      <th>당해거주_탈락</th>\n",
       "      <th>당해미거주_당첨</th>\n",
       "      <th>당해미거주_탈락</th>\n",
       "      <th>자녀수_3_당첨</th>\n",
       "      <th>자녀수_3_탈락</th>\n",
       "      <th>자녀수_2_당첨</th>\n",
       "      <th>자녀수_2_탈락</th>\n",
       "      <th>자녀수_1_당첨</th>\n",
       "      <th>자녀수_1_탈락</th>\n",
       "    </tr>\n",
       "  </thead>\n",
       "  <tbody>\n",
       "    <tr>\n",
       "      <th>0</th>\n",
       "      <td>109</td>\n",
       "      <td>5(70%/1순위/타/자녀2)</td>\n",
       "      <td>23</td>\n",
       "      <td>76</td>\n",
       "      <td>2</td>\n",
       "      <td>8</td>\n",
       "      <td>0</td>\n",
       "      <td>0</td>\n",
       "      <td>1</td>\n",
       "      <td>3</td>\n",
       "      <td>...</td>\n",
       "      <td>14</td>\n",
       "      <td>16</td>\n",
       "      <td>11</td>\n",
       "      <td>68</td>\n",
       "      <td>0</td>\n",
       "      <td>0</td>\n",
       "      <td>13</td>\n",
       "      <td>27</td>\n",
       "      <td>12</td>\n",
       "      <td>57</td>\n",
       "    </tr>\n",
       "  </tbody>\n",
       "</table>\n",
       "<p>1 rows × 56 columns</p>\n",
       "</div>"
      ],
      "text/plain": [
       "   신청인원            커트라인점수  50%이하_당첨  50%이하_탈락  50%초과_당첨  50%초과_탈락  \\\n",
       "0   109  5(70%/1순위/타/자녀2)        23        76         2         8   \n",
       "\n",
       "   세대주_50세이상_당첨  세대주_50세이상_탈락  세대주_40세이상_당첨  세대주_40세이상_탈락    ...     당해거주_당첨  \\\n",
       "0             0             0             1             3    ...          14   \n",
       "\n",
       "   당해거주_탈락  당해미거주_당첨  당해미거주_탈락  자녀수_3_당첨  자녀수_3_탈락  자녀수_2_당첨  자녀수_2_탈락  \\\n",
       "0       16        11        68         0         0        13        27   \n",
       "\n",
       "   자녀수_1_당첨  자녀수_1_탈락  \n",
       "0        12        57  \n",
       "\n",
       "[1 rows x 56 columns]"
      ]
     },
     "execution_count": 3264,
     "metadata": {},
     "output_type": "execute_result"
    }
   ],
   "source": [
    "full_data # 잘들어갔는지 확인"
   ]
  },
  {
   "cell_type": "code",
   "execution_count": 3265,
   "metadata": {
    "collapsed": false
   },
   "outputs": [],
   "source": [
    "## 엑셀저장block_nm = '';A_6 = ''; A_11 = '';A_24 = '';\n",
    "filename = block_nm+\"_\"+A_6+\"_\"+A_24+\".xlsx\"\n",
    "writer = pd.ExcelWriter(filename)\n",
    "full_data.to_excel(writer,'Sheet1')\n",
    "writer.save()"
   ]
  },
  {
   "cell_type": "code",
   "execution_count": 3261,
   "metadata": {
    "collapsed": true
   },
   "outputs": [],
   "source": [
    "dc.dbCursor.close()"
   ]
  }
 ],
 "metadata": {
  "kernelspec": {
   "display_name": "Python 3",
   "language": "python",
   "name": "python3"
  },
  "language_info": {
   "codemirror_mode": {
    "name": "ipython",
    "version": 3
   },
   "file_extension": ".py",
   "mimetype": "text/x-python",
   "name": "python",
   "nbconvert_exporter": "python",
   "pygments_lexer": "ipython3",
   "version": "3.5.1"
  }
 },
 "nbformat": 4,
 "nbformat_minor": 0
}
