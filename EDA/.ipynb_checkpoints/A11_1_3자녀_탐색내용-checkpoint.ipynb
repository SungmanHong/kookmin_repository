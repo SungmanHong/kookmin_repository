{
 "cells": [
  {
   "cell_type": "code",
   "execution_count": 1,
   "metadata": {
    "collapsed": false
   },
   "outputs": [],
   "source": [
    "import sys\n",
    "import pandas as pd\n",
    "import numpy as np\n",
    "sys.path.append(\"..\") # 시스템 경로 변경(MySQLConnect 클래스 부르기 위함)"
   ]
  },
  {
   "cell_type": "code",
   "execution_count": 5,
   "metadata": {
    "collapsed": false
   },
   "outputs": [],
   "source": [
    "from MySQLConnect import MySQLConnect"
   ]
  },
  {
   "cell_type": "code",
   "execution_count": 6,
   "metadata": {
    "collapsed": true
   },
   "outputs": [],
   "source": [
    "# 접속정보\n",
    "host = 'kmaster.czypjmusens3.ap-northeast-2.rds.amazonaws.com'\n",
    "user = 'KMaster'\n",
    "password = 'kookmin1234'\n",
    "db = 'km_db'"
   ]
  },
  {
   "cell_type": "code",
   "execution_count": 7,
   "metadata": {
    "collapsed": false
   },
   "outputs": [],
   "source": [
    "dc = MySQLConnect(host, user, password, db)"
   ]
  },
  {
   "cell_type": "code",
   "execution_count": 8,
   "metadata": {
    "collapsed": false
   },
   "outputs": [
    {
     "data": {
      "text/plain": [
       "tuple"
      ]
     },
     "execution_count": 8,
     "metadata": {},
     "output_type": "execute_result"
    }
   ],
   "source": [
    "type(dc.getRecord(\"*\", \"LEASE_DATA\", \"A_6 = '26형' and A_11 = '본인' and A_24 = '장애인' and W_14 != '잔(장)'\" ))"
   ]
  },
  {
   "cell_type": "markdown",
   "metadata": {},
   "source": [
    "###### A11-1 블록의 26형 신청자가 본인이면서 고령자 인 경우(우선공급&일반공급)"
   ]
  },
  {
   "cell_type": "code",
   "execution_count": 9,
   "metadata": {
    "collapsed": false
   },
   "outputs": [],
   "source": [
    "A11_data_disabled = pd.DataFrame(list(dc.getRecord(\"*\", \"LEASE_DATA\", \"A_6 = '26형' and A_11 = '본인' and A_24 = '장애인'\" )))"
   ]
  },
  {
   "cell_type": "code",
   "execution_count": 10,
   "metadata": {
    "collapsed": false,
    "scrolled": true
   },
   "outputs": [
    {
     "data": {
      "text/plain": [
       "96"
      ]
     },
     "execution_count": 10,
     "metadata": {},
     "output_type": "execute_result"
    }
   ],
   "source": [
    "len(A11_data_disabled) # 139 row"
   ]
  },
  {
   "cell_type": "markdown",
   "metadata": {},
   "source": [
    "###### 우(장) 와 그외 나머지 데이터로 나누기"
   ]
  },
  {
   "cell_type": "code",
   "execution_count": 11,
   "metadata": {
    "collapsed": true
   },
   "outputs": [],
   "source": [
    "A11_disabled_priority = A11_data_disabled.ix[A11_data_disabled.W_14 == \"우(장)\"]\n",
    "A11_disabled_general = A11_data_disabled.ix[A11_data_disabled.W_14 != \"우(장)\"]"
   ]
  },
  {
   "cell_type": "code",
   "execution_count": 12,
   "metadata": {
    "collapsed": false
   },
   "outputs": [
    {
     "data": {
      "text/plain": [
       "24"
      ]
     },
     "execution_count": 12,
     "metadata": {},
     "output_type": "execute_result"
    }
   ],
   "source": [
    "len(A11_disabled_priority) # 우선공급 24 row "
   ]
  },
  {
   "cell_type": "code",
   "execution_count": 13,
   "metadata": {
    "collapsed": false
   },
   "outputs": [
    {
     "data": {
      "text/plain": [
       "72"
      ]
     },
     "execution_count": 13,
     "metadata": {},
     "output_type": "execute_result"
    }
   ],
   "source": [
    "len(A11_disabled_general) # 우선공급 외 72 row"
   ]
  },
  {
   "cell_type": "markdown",
   "metadata": {},
   "source": [
    "###### 우선공급의 당첨여부 확인"
   ]
  },
  {
   "cell_type": "code",
   "execution_count": 14,
   "metadata": {
    "collapsed": false
   },
   "outputs": [
    {
     "data": {
      "text/plain": [
       "array(['당첨'], dtype=object)"
      ]
     },
     "execution_count": 14,
     "metadata": {},
     "output_type": "execute_result"
    }
   ],
   "source": [
    "A11_disabled_priority.W_4.unique()"
   ]
  },
  {
   "cell_type": "markdown",
   "metadata": {},
   "source": [
    "###### 일반공급의 당첨여부 확인"
   ]
  },
  {
   "cell_type": "code",
   "execution_count": 15,
   "metadata": {
    "collapsed": false,
    "scrolled": true
   },
   "outputs": [
    {
     "data": {
      "text/plain": [
       "array(['예비', '당첨', '서류(제)', '서류(부)'], dtype=object)"
      ]
     },
     "execution_count": 15,
     "metadata": {},
     "output_type": "execute_result"
    }
   ],
   "source": [
    "A11_disabled_general.W_4.unique()"
   ]
  },
  {
   "cell_type": "markdown",
   "metadata": {},
   "source": [
    "###### 일반공급이면서 당첨인 경우의 건수 확인"
   ]
  },
  {
   "cell_type": "code",
   "execution_count": 16,
   "metadata": {
    "collapsed": false
   },
   "outputs": [
    {
     "data": {
      "text/plain": [
       "39"
      ]
     },
     "execution_count": 16,
     "metadata": {},
     "output_type": "execute_result"
    }
   ],
   "source": [
    "len(A11_disabled_general.ix[A11_disabled_general.W_4==\"당첨\"]) # 39명"
   ]
  },
  {
   "cell_type": "markdown",
   "metadata": {},
   "source": [
    "###### 일반공급 이면서 당첨/탈락 으로 분류"
   ]
  },
  {
   "cell_type": "code",
   "execution_count": 17,
   "metadata": {
    "collapsed": true
   },
   "outputs": [],
   "source": [
    "A11_disabled_general_win = A11_disabled_general.ix[A11_disabled_general.W_4==\"당첨\"]\n",
    "A11_disabled_general_lose = A11_disabled_general.ix[A11_disabled_general.W_4!=\"당첨\"]"
   ]
  },
  {
   "cell_type": "code",
   "execution_count": 18,
   "metadata": {
    "collapsed": false,
    "scrolled": false
   },
   "outputs": [
    {
     "data": {
      "text/plain": [
       "39"
      ]
     },
     "execution_count": 18,
     "metadata": {},
     "output_type": "execute_result"
    }
   ],
   "source": [
    "len(A11_disabled_general_win) # 당첨 : 57명"
   ]
  },
  {
   "cell_type": "code",
   "execution_count": 19,
   "metadata": {
    "collapsed": false,
    "scrolled": false
   },
   "outputs": [
    {
     "data": {
      "text/plain": [
       "33"
      ]
     },
     "execution_count": 19,
     "metadata": {},
     "output_type": "execute_result"
    }
   ],
   "source": [
    "len(A11_disabled_general_lose) # 탈락 : 63명"
   ]
  },
  {
   "cell_type": "markdown",
   "metadata": {},
   "source": [
    "###### 일반 당첨 데이터 중에 '잔' 이 들어간 데이터 확인"
   ]
  },
  {
   "cell_type": "code",
   "execution_count": 20,
   "metadata": {
    "collapsed": false
   },
   "outputs": [
    {
     "data": {
      "text/plain": [
       "array(['일(장)', '잔(장)'], dtype=object)"
      ]
     },
     "execution_count": 20,
     "metadata": {},
     "output_type": "execute_result"
    }
   ],
   "source": [
    "A11_disabled_general_win.W_14.unique()"
   ]
  },
  {
   "cell_type": "code",
   "execution_count": 21,
   "metadata": {
    "collapsed": true
   },
   "outputs": [],
   "source": [
    "A11_disabled_general_win = A11_disabled_general_win.ix[A11_disabled_general_win.W_14 != '잔(장)']"
   ]
  },
  {
   "cell_type": "code",
   "execution_count": 22,
   "metadata": {
    "collapsed": false
   },
   "outputs": [
    {
     "data": {
      "text/plain": [
       "29"
      ]
     },
     "execution_count": 22,
     "metadata": {},
     "output_type": "execute_result"
    }
   ],
   "source": [
    "len(A11_disabled_general_win) # 잔(장) 를 뺀 나머지 데이터"
   ]
  },
  {
   "cell_type": "markdown",
   "metadata": {},
   "source": [
    "###### 경쟁률 계산(전체건수 / 당첨자 건수- 잔은 제외한)"
   ]
  },
  {
   "cell_type": "code",
   "execution_count": 23,
   "metadata": {
    "collapsed": false,
    "scrolled": true
   },
   "outputs": [
    {
     "data": {
      "text/plain": [
       "1.8113207547169812"
      ]
     },
     "execution_count": 23,
     "metadata": {},
     "output_type": "execute_result"
    }
   ],
   "source": [
    "len(A11_data_disabled) /  (len(A11_disabled_priority) + len(A11_disabled_general_win))"
   ]
  },
  {
   "cell_type": "markdown",
   "metadata": {},
   "source": [
    "###### 커트라인 계산"
   ]
  },
  {
   "cell_type": "code",
   "execution_count": 28,
   "metadata": {
    "collapsed": true
   },
   "outputs": [
    {
     "data": {
      "text/html": [
       "<div>\n",
       "<table border=\"1\" class=\"dataframe\">\n",
       "  <thead>\n",
       "    <tr style=\"text-align: right;\">\n",
       "      <th></th>\n",
       "      <th>W_20</th>\n",
       "      <th>A_28</th>\n",
       "    </tr>\n",
       "  </thead>\n",
       "  <tbody>\n",
       "    <tr>\n",
       "      <th>1</th>\n",
       "      <td>3</td>\n",
       "      <td>2급</td>\n",
       "    </tr>\n",
       "    <tr>\n",
       "      <th>12</th>\n",
       "      <td>5</td>\n",
       "      <td>2급</td>\n",
       "    </tr>\n",
       "    <tr>\n",
       "      <th>13</th>\n",
       "      <td>0</td>\n",
       "      <td>1급</td>\n",
       "    </tr>\n",
       "    <tr>\n",
       "      <th>14</th>\n",
       "      <td>4</td>\n",
       "      <td>1급</td>\n",
       "    </tr>\n",
       "    <tr>\n",
       "      <th>18</th>\n",
       "      <td>0</td>\n",
       "      <td>1급</td>\n",
       "    </tr>\n",
       "    <tr>\n",
       "      <th>22</th>\n",
       "      <td>2</td>\n",
       "      <td>1급</td>\n",
       "    </tr>\n",
       "    <tr>\n",
       "      <th>33</th>\n",
       "      <td>3</td>\n",
       "      <td>1급</td>\n",
       "    </tr>\n",
       "    <tr>\n",
       "      <th>34</th>\n",
       "      <td>4</td>\n",
       "      <td>2급</td>\n",
       "    </tr>\n",
       "    <tr>\n",
       "      <th>35</th>\n",
       "      <td>8</td>\n",
       "      <td>1급</td>\n",
       "    </tr>\n",
       "    <tr>\n",
       "      <th>37</th>\n",
       "      <td>1</td>\n",
       "      <td>1급</td>\n",
       "    </tr>\n",
       "    <tr>\n",
       "      <th>47</th>\n",
       "      <td>7</td>\n",
       "      <td>2급</td>\n",
       "    </tr>\n",
       "    <tr>\n",
       "      <th>50</th>\n",
       "      <td>3</td>\n",
       "      <td>1급</td>\n",
       "    </tr>\n",
       "    <tr>\n",
       "      <th>53</th>\n",
       "      <td>5</td>\n",
       "      <td>2급</td>\n",
       "    </tr>\n",
       "    <tr>\n",
       "      <th>54</th>\n",
       "      <td>3</td>\n",
       "      <td>2급</td>\n",
       "    </tr>\n",
       "    <tr>\n",
       "      <th>58</th>\n",
       "      <td>2</td>\n",
       "      <td>2급</td>\n",
       "    </tr>\n",
       "    <tr>\n",
       "      <th>64</th>\n",
       "      <td>3</td>\n",
       "      <td>2급</td>\n",
       "    </tr>\n",
       "    <tr>\n",
       "      <th>67</th>\n",
       "      <td>4</td>\n",
       "      <td>3급</td>\n",
       "    </tr>\n",
       "    <tr>\n",
       "      <th>70</th>\n",
       "      <td>5</td>\n",
       "      <td>3급</td>\n",
       "    </tr>\n",
       "    <tr>\n",
       "      <th>74</th>\n",
       "      <td>3</td>\n",
       "      <td>2급</td>\n",
       "    </tr>\n",
       "    <tr>\n",
       "      <th>84</th>\n",
       "      <td>4</td>\n",
       "      <td>2급</td>\n",
       "    </tr>\n",
       "    <tr>\n",
       "      <th>85</th>\n",
       "      <td>6</td>\n",
       "      <td>2급</td>\n",
       "    </tr>\n",
       "    <tr>\n",
       "      <th>92</th>\n",
       "      <td>2</td>\n",
       "      <td>2급</td>\n",
       "    </tr>\n",
       "    <tr>\n",
       "      <th>94</th>\n",
       "      <td>0</td>\n",
       "      <td>2급</td>\n",
       "    </tr>\n",
       "    <tr>\n",
       "      <th>95</th>\n",
       "      <td>3</td>\n",
       "      <td>1급</td>\n",
       "    </tr>\n",
       "  </tbody>\n",
       "</table>\n",
       "</div>"
      ],
      "text/plain": [
       "    W_20 A_28\n",
       "1      3   2급\n",
       "12     5   2급\n",
       "13     0   1급\n",
       "14     4   1급\n",
       "18     0   1급\n",
       "22     2   1급\n",
       "33     3   1급\n",
       "34     4   2급\n",
       "35     8   1급\n",
       "37     1   1급\n",
       "47     7   2급\n",
       "50     3   1급\n",
       "53     5   2급\n",
       "54     3   2급\n",
       "58     2   2급\n",
       "64     3   2급\n",
       "67     4   3급\n",
       "70     5   3급\n",
       "74     3   2급\n",
       "84     4   2급\n",
       "85     6   2급\n",
       "92     2   2급\n",
       "94     0   2급\n",
       "95     3   1급"
      ]
     },
     "execution_count": 28,
     "metadata": {},
     "output_type": "execute_result"
    }
   ],
   "source": [
    "A11_disabled_priority[['W_20', 'A_28']]"
   ]
  },
  {
   "cell_type": "markdown",
   "metadata": {},
   "source": [
    "###### 50% 이하 / 초과 데이터 나누기(A11_data_disabled : 원본 데이터 에서 진행)"
   ]
  },
  {
   "cell_type": "code",
   "execution_count": 31,
   "metadata": {
    "collapsed": true
   },
   "outputs": [],
   "source": [
    "All_disabled_50down = A11_data_disabled.ix[A11_data_disabled.A_32 == '50%이하']\n",
    "All_disabled_50up = A11_data_disabled.ix[A11_data_disabled.A_32 != '50%이하']"
   ]
  },
  {
   "cell_type": "code",
   "execution_count": 32,
   "metadata": {
    "collapsed": false
   },
   "outputs": [
    {
     "data": {
      "text/plain": [
       "93"
      ]
     },
     "execution_count": 32,
     "metadata": {},
     "output_type": "execute_result"
    }
   ],
   "source": [
    "len(All_disabled_50down) # 50% 이하 133 명"
   ]
  },
  {
   "cell_type": "code",
   "execution_count": 33,
   "metadata": {
    "collapsed": false
   },
   "outputs": [
    {
     "data": {
      "text/plain": [
       "3"
      ]
     },
     "execution_count": 33,
     "metadata": {},
     "output_type": "execute_result"
    }
   ],
   "source": [
    "len(All_disabled_50up) # 50% 초과 6명"
   ]
  },
  {
   "cell_type": "markdown",
   "metadata": {},
   "source": [
    "###### 50% 이하 중 당첨/탈락 데이터 나누기"
   ]
  },
  {
   "cell_type": "code",
   "execution_count": 34,
   "metadata": {
    "collapsed": true
   },
   "outputs": [],
   "source": [
    "All_disabled_50down_win = All_disabled_50down.ix[All_disabled_50down.W_4 == \"당첨\"]\n",
    "All_disabled_50down_down = All_disabled_50down.ix[All_disabled_50down.W_4 != \"당첨\"]"
   ]
  },
  {
   "cell_type": "code",
   "execution_count": 35,
   "metadata": {
    "collapsed": false
   },
   "outputs": [
    {
     "data": {
      "text/plain": [
       "63"
      ]
     },
     "execution_count": 35,
     "metadata": {},
     "output_type": "execute_result"
    }
   ],
   "source": [
    "len(All_disabled_50down_win) # 50%이하 중 당첨 76"
   ]
  },
  {
   "cell_type": "code",
   "execution_count": 36,
   "metadata": {
    "collapsed": false,
    "scrolled": true
   },
   "outputs": [
    {
     "data": {
      "text/plain": [
       "30"
      ]
     },
     "execution_count": 36,
     "metadata": {},
     "output_type": "execute_result"
    }
   ],
   "source": [
    "len(All_disabled_50down_down) # 50% 이하 중 탈락 57"
   ]
  },
  {
   "cell_type": "markdown",
   "metadata": {},
   "source": [
    "###### 50% 이하 당첨자 중 '잔' 있는지 확인"
   ]
  },
  {
   "cell_type": "code",
   "execution_count": 37,
   "metadata": {
    "collapsed": false
   },
   "outputs": [
    {
     "data": {
      "text/plain": [
       "array(['우(장)', '일(장)', '잔(장)'], dtype=object)"
      ]
     },
     "execution_count": 37,
     "metadata": {},
     "output_type": "execute_result"
    }
   ],
   "source": [
    "All_disabled_50down_win.W_14.unique()"
   ]
  },
  {
   "cell_type": "code",
   "execution_count": 38,
   "metadata": {
    "collapsed": true
   },
   "outputs": [],
   "source": [
    "All_disabled_50down_win = All_disabled_50down_win.ix[All_disabled_50down_win.W_14 != '잔(장)']"
   ]
  },
  {
   "cell_type": "code",
   "execution_count": 39,
   "metadata": {
    "collapsed": false,
    "scrolled": true
   },
   "outputs": [
    {
     "data": {
      "text/plain": [
       "53"
      ]
     },
     "execution_count": 39,
     "metadata": {},
     "output_type": "execute_result"
    }
   ],
   "source": [
    "len(All_disabled_50down_win)"
   ]
  },
  {
   "cell_type": "code",
   "execution_count": 40,
   "metadata": {
    "collapsed": false
   },
   "outputs": [
    {
     "data": {
      "text/plain": [
       "0.5698924731182796"
      ]
     },
     "execution_count": 40,
     "metadata": {},
     "output_type": "execute_result"
    }
   ],
   "source": [
    "len(All_disabled_50down_win)/len(All_disabled_50down)"
   ]
  },
  {
   "cell_type": "code",
   "execution_count": 41,
   "metadata": {
    "collapsed": false
   },
   "outputs": [
    {
     "data": {
      "text/plain": [
       "0.3225806451612903"
      ]
     },
     "execution_count": 41,
     "metadata": {},
     "output_type": "execute_result"
    }
   ],
   "source": [
    "len(All_disabled_50down_down)/len(All_disabled_50down)"
   ]
  },
  {
   "cell_type": "code",
   "execution_count": 42,
   "metadata": {
    "collapsed": false
   },
   "outputs": [
    {
     "data": {
      "text/plain": [
       "0.10752688172043011"
      ]
     },
     "execution_count": 42,
     "metadata": {},
     "output_type": "execute_result"
    }
   ],
   "source": [
    "10/len(All_disabled_50down)"
   ]
  },
  {
   "cell_type": "code",
   "execution_count": 43,
   "metadata": {
    "collapsed": false
   },
   "outputs": [
    {
     "data": {
      "text/plain": [
       "1.0"
      ]
     },
     "execution_count": 43,
     "metadata": {},
     "output_type": "execute_result"
    }
   ],
   "source": [
    "0.5698924731182796 + 0.3225806451612903 + 0.10752688172043011"
   ]
  },
  {
   "cell_type": "markdown",
   "metadata": {},
   "source": [
    "###### 50% 초과 중 당첨/탈락 데이터 만들기  "
   ]
  },
  {
   "cell_type": "code",
   "execution_count": 44,
   "metadata": {
    "collapsed": true
   },
   "outputs": [],
   "source": [
    "All_disabled_50up_win = All_disabled_50up.ix[All_disabled_50up.W_4 == '당첨']\n",
    "All_disabled_50up_down = All_disabled_50up.ix[All_disabled_50up.W_4 != '당첨']"
   ]
  },
  {
   "cell_type": "code",
   "execution_count": 45,
   "metadata": {
    "collapsed": false
   },
   "outputs": [
    {
     "data": {
      "text/plain": [
       "0"
      ]
     },
     "execution_count": 45,
     "metadata": {},
     "output_type": "execute_result"
    }
   ],
   "source": [
    "len(All_disabled_50up_win)"
   ]
  },
  {
   "cell_type": "code",
   "execution_count": 46,
   "metadata": {
    "collapsed": false
   },
   "outputs": [
    {
     "data": {
      "text/plain": [
       "3"
      ]
     },
     "execution_count": 46,
     "metadata": {},
     "output_type": "execute_result"
    }
   ],
   "source": [
    "len(All_disabled_50up_down)"
   ]
  },
  {
   "cell_type": "markdown",
   "metadata": {},
   "source": [
    "###### 세대주 나이(모집일 당시) 별로 데이터 나누기(A11_data_disabled : 원본 데이터 에서 진행)"
   ]
  },
  {
   "cell_type": "code",
   "execution_count": 47,
   "metadata": {
    "collapsed": true
   },
   "outputs": [
    {
     "data": {
      "text/html": [
       "<div>\n",
       "<table border=\"1\" class=\"dataframe\">\n",
       "  <thead>\n",
       "    <tr style=\"text-align: right;\">\n",
       "      <th></th>\n",
       "      <th>A_10</th>\n",
       "      <th>A_11</th>\n",
       "      <th>A_12</th>\n",
       "      <th>A_13</th>\n",
       "      <th>A_14</th>\n",
       "      <th>A_15</th>\n",
       "      <th>A_16</th>\n",
       "      <th>A_17</th>\n",
       "      <th>A_18</th>\n",
       "      <th>A_19</th>\n",
       "      <th>...</th>\n",
       "      <th>W_39</th>\n",
       "      <th>W_4</th>\n",
       "      <th>W_40</th>\n",
       "      <th>W_41</th>\n",
       "      <th>W_42</th>\n",
       "      <th>W_5</th>\n",
       "      <th>W_6</th>\n",
       "      <th>W_7</th>\n",
       "      <th>W_8</th>\n",
       "      <th>W_9</th>\n",
       "    </tr>\n",
       "  </thead>\n",
       "  <tbody>\n",
       "    <tr>\n",
       "      <th>3</th>\n",
       "      <td>750120-1******</td>\n",
       "      <td>본인</td>\n",
       "      <td>- 세대주와의 관계 -</td>\n",
       "      <td></td>\n",
       "      <td></td>\n",
       "      <td></td>\n",
       "      <td></td>\n",
       "      <td></td>\n",
       "      <td>133**</td>\n",
       "      <td>경기도 성남시 수정구</td>\n",
       "      <td>...</td>\n",
       "      <td></td>\n",
       "      <td>서류(제)</td>\n",
       "      <td></td>\n",
       "      <td>0</td>\n",
       "      <td>2147483647</td>\n",
       "      <td>273</td>\n",
       "      <td>99997</td>\n",
       "      <td>0</td>\n",
       "      <td>2024</td>\n",
       "      <td>김태*</td>\n",
       "    </tr>\n",
       "    <tr>\n",
       "      <th>6</th>\n",
       "      <td>641004-1******</td>\n",
       "      <td>본인</td>\n",
       "      <td>- 세대주와의 관계 -</td>\n",
       "      <td></td>\n",
       "      <td></td>\n",
       "      <td></td>\n",
       "      <td></td>\n",
       "      <td></td>\n",
       "      <td>471**</td>\n",
       "      <td>경기도 구리시 동구릉로148번길</td>\n",
       "      <td>...</td>\n",
       "      <td></td>\n",
       "      <td>당첨</td>\n",
       "      <td></td>\n",
       "      <td>0</td>\n",
       "      <td>2147483647</td>\n",
       "      <td>44</td>\n",
       "      <td>45</td>\n",
       "      <td>0</td>\n",
       "      <td>3052</td>\n",
       "      <td>박제*</td>\n",
       "    </tr>\n",
       "    <tr>\n",
       "      <th>8</th>\n",
       "      <td>000000-0******</td>\n",
       "      <td>본인</td>\n",
       "      <td>- 세대주와의 관계 -</td>\n",
       "      <td></td>\n",
       "      <td></td>\n",
       "      <td></td>\n",
       "      <td></td>\n",
       "      <td></td>\n",
       "      <td></td>\n",
       "      <td></td>\n",
       "      <td>...</td>\n",
       "      <td></td>\n",
       "      <td>서류(제)</td>\n",
       "      <td></td>\n",
       "      <td>0</td>\n",
       "      <td>2147483647</td>\n",
       "      <td>268</td>\n",
       "      <td>99997</td>\n",
       "      <td>0</td>\n",
       "      <td>4002</td>\n",
       "      <td></td>\n",
       "    </tr>\n",
       "    <tr>\n",
       "      <th>13</th>\n",
       "      <td>840220-2******</td>\n",
       "      <td>본인</td>\n",
       "      <td>- 세대주와의 관계 -</td>\n",
       "      <td></td>\n",
       "      <td></td>\n",
       "      <td></td>\n",
       "      <td></td>\n",
       "      <td></td>\n",
       "      <td>121**</td>\n",
       "      <td>경기도 남양주시 별내5로</td>\n",
       "      <td>...</td>\n",
       "      <td></td>\n",
       "      <td>당첨</td>\n",
       "      <td></td>\n",
       "      <td>0</td>\n",
       "      <td>2147483647</td>\n",
       "      <td>20</td>\n",
       "      <td>25</td>\n",
       "      <td>0</td>\n",
       "      <td>5025</td>\n",
       "      <td>이소*</td>\n",
       "    </tr>\n",
       "    <tr>\n",
       "      <th>14</th>\n",
       "      <td>730419-1******</td>\n",
       "      <td>본인</td>\n",
       "      <td>- 세대주와의 관계 -</td>\n",
       "      <td></td>\n",
       "      <td></td>\n",
       "      <td></td>\n",
       "      <td></td>\n",
       "      <td></td>\n",
       "      <td>472**</td>\n",
       "      <td>경기 남양주시 별내면</td>\n",
       "      <td>...</td>\n",
       "      <td></td>\n",
       "      <td>당첨</td>\n",
       "      <td></td>\n",
       "      <td>0</td>\n",
       "      <td>2147483647</td>\n",
       "      <td>18</td>\n",
       "      <td>20</td>\n",
       "      <td>0</td>\n",
       "      <td>5503</td>\n",
       "      <td>김용*</td>\n",
       "    </tr>\n",
       "    <tr>\n",
       "      <th>18</th>\n",
       "      <td>660517-1******</td>\n",
       "      <td>본인</td>\n",
       "      <td>- 세대주와의 관계 -</td>\n",
       "      <td></td>\n",
       "      <td></td>\n",
       "      <td></td>\n",
       "      <td></td>\n",
       "      <td></td>\n",
       "      <td>487**</td>\n",
       "      <td>경기도 포천시 호국로</td>\n",
       "      <td>...</td>\n",
       "      <td></td>\n",
       "      <td>당첨</td>\n",
       "      <td></td>\n",
       "      <td>0</td>\n",
       "      <td>2147483647</td>\n",
       "      <td>21</td>\n",
       "      <td>25</td>\n",
       "      <td>0</td>\n",
       "      <td>7012</td>\n",
       "      <td>강대*</td>\n",
       "    </tr>\n",
       "    <tr>\n",
       "      <th>22</th>\n",
       "      <td>910701-1******</td>\n",
       "      <td>본인</td>\n",
       "      <td>- 세대주와의 관계 -</td>\n",
       "      <td></td>\n",
       "      <td></td>\n",
       "      <td></td>\n",
       "      <td></td>\n",
       "      <td></td>\n",
       "      <td>476**</td>\n",
       "      <td>경기 양평군 강하면</td>\n",
       "      <td>...</td>\n",
       "      <td></td>\n",
       "      <td>당첨</td>\n",
       "      <td></td>\n",
       "      <td>0</td>\n",
       "      <td>2147483647</td>\n",
       "      <td>19</td>\n",
       "      <td>23</td>\n",
       "      <td>0</td>\n",
       "      <td>10545</td>\n",
       "      <td>유건*</td>\n",
       "    </tr>\n",
       "    <tr>\n",
       "      <th>25</th>\n",
       "      <td>861117-1******</td>\n",
       "      <td>본인</td>\n",
       "      <td>- 세대주와의 관계 -</td>\n",
       "      <td></td>\n",
       "      <td></td>\n",
       "      <td></td>\n",
       "      <td></td>\n",
       "      <td></td>\n",
       "      <td>415**</td>\n",
       "      <td>경기도 김포시 김포한강8로</td>\n",
       "      <td>...</td>\n",
       "      <td></td>\n",
       "      <td>서류(제)</td>\n",
       "      <td></td>\n",
       "      <td>0</td>\n",
       "      <td>2147483647</td>\n",
       "      <td>130</td>\n",
       "      <td>99997</td>\n",
       "      <td>0</td>\n",
       "      <td>50034</td>\n",
       "      <td>허성*</td>\n",
       "    </tr>\n",
       "    <tr>\n",
       "      <th>26</th>\n",
       "      <td>670505-1******</td>\n",
       "      <td>본인</td>\n",
       "      <td>- 세대주와의 관계 -</td>\n",
       "      <td></td>\n",
       "      <td></td>\n",
       "      <td></td>\n",
       "      <td></td>\n",
       "      <td></td>\n",
       "      <td>119**</td>\n",
       "      <td>경기도 구리시 경춘로16번길</td>\n",
       "      <td>...</td>\n",
       "      <td></td>\n",
       "      <td>당첨</td>\n",
       "      <td></td>\n",
       "      <td>0</td>\n",
       "      <td>2147483647</td>\n",
       "      <td>12</td>\n",
       "      <td>42</td>\n",
       "      <td>0</td>\n",
       "      <td>50057</td>\n",
       "      <td>장요*</td>\n",
       "    </tr>\n",
       "    <tr>\n",
       "      <th>31</th>\n",
       "      <td>000000-0******</td>\n",
       "      <td>본인</td>\n",
       "      <td>- 세대주와의 관계 -</td>\n",
       "      <td></td>\n",
       "      <td></td>\n",
       "      <td></td>\n",
       "      <td></td>\n",
       "      <td></td>\n",
       "      <td></td>\n",
       "      <td></td>\n",
       "      <td>...</td>\n",
       "      <td></td>\n",
       "      <td>서류(제)</td>\n",
       "      <td></td>\n",
       "      <td>0</td>\n",
       "      <td>2147483647</td>\n",
       "      <td>116</td>\n",
       "      <td>99997</td>\n",
       "      <td>0</td>\n",
       "      <td>50124</td>\n",
       "      <td></td>\n",
       "    </tr>\n",
       "    <tr>\n",
       "      <th>32</th>\n",
       "      <td>741120-2******</td>\n",
       "      <td>본인</td>\n",
       "      <td>- 세대주와의 관계 -</td>\n",
       "      <td></td>\n",
       "      <td></td>\n",
       "      <td></td>\n",
       "      <td></td>\n",
       "      <td></td>\n",
       "      <td>121**</td>\n",
       "      <td>경기도 남양주시 별내5로</td>\n",
       "      <td>...</td>\n",
       "      <td></td>\n",
       "      <td>당첨</td>\n",
       "      <td></td>\n",
       "      <td>0</td>\n",
       "      <td>2147483647</td>\n",
       "      <td>13</td>\n",
       "      <td>180</td>\n",
       "      <td>0</td>\n",
       "      <td>50177</td>\n",
       "      <td>류현*</td>\n",
       "    </tr>\n",
       "    <tr>\n",
       "      <th>33</th>\n",
       "      <td>710427-2******</td>\n",
       "      <td>본인</td>\n",
       "      <td>- 세대주와의 관계 -</td>\n",
       "      <td></td>\n",
       "      <td></td>\n",
       "      <td></td>\n",
       "      <td></td>\n",
       "      <td></td>\n",
       "      <td>139**</td>\n",
       "      <td>서울 노원구 하계동</td>\n",
       "      <td>...</td>\n",
       "      <td></td>\n",
       "      <td>당첨</td>\n",
       "      <td></td>\n",
       "      <td>0</td>\n",
       "      <td>2147483647</td>\n",
       "      <td>4</td>\n",
       "      <td>21</td>\n",
       "      <td>0</td>\n",
       "      <td>50185</td>\n",
       "      <td>이현*</td>\n",
       "    </tr>\n",
       "    <tr>\n",
       "      <th>35</th>\n",
       "      <td>700119-1******</td>\n",
       "      <td>본인</td>\n",
       "      <td>- 세대주와의 관계 -</td>\n",
       "      <td></td>\n",
       "      <td></td>\n",
       "      <td></td>\n",
       "      <td></td>\n",
       "      <td></td>\n",
       "      <td>121**</td>\n",
       "      <td>경기도 남양주시 별내5로</td>\n",
       "      <td>...</td>\n",
       "      <td></td>\n",
       "      <td>당첨</td>\n",
       "      <td></td>\n",
       "      <td>0</td>\n",
       "      <td>2147483647</td>\n",
       "      <td>17</td>\n",
       "      <td>19</td>\n",
       "      <td>0</td>\n",
       "      <td>50262</td>\n",
       "      <td>최민*</td>\n",
       "    </tr>\n",
       "    <tr>\n",
       "      <th>36</th>\n",
       "      <td>830117-2******</td>\n",
       "      <td>본인</td>\n",
       "      <td>- 세대주와의 관계 -</td>\n",
       "      <td></td>\n",
       "      <td></td>\n",
       "      <td></td>\n",
       "      <td></td>\n",
       "      <td></td>\n",
       "      <td>472**</td>\n",
       "      <td>경기 남양주시 호평동</td>\n",
       "      <td>...</td>\n",
       "      <td></td>\n",
       "      <td>당첨</td>\n",
       "      <td></td>\n",
       "      <td>0</td>\n",
       "      <td>2147483647</td>\n",
       "      <td>149</td>\n",
       "      <td>156</td>\n",
       "      <td>0</td>\n",
       "      <td>50273</td>\n",
       "      <td>천미*</td>\n",
       "    </tr>\n",
       "    <tr>\n",
       "      <th>37</th>\n",
       "      <td>720203-2******</td>\n",
       "      <td>본인</td>\n",
       "      <td>- 세대주와의 관계 -</td>\n",
       "      <td></td>\n",
       "      <td></td>\n",
       "      <td></td>\n",
       "      <td></td>\n",
       "      <td></td>\n",
       "      <td>063**</td>\n",
       "      <td>서울특별시 강남구 삼성로</td>\n",
       "      <td>...</td>\n",
       "      <td></td>\n",
       "      <td>당첨</td>\n",
       "      <td></td>\n",
       "      <td>0</td>\n",
       "      <td>2147483647</td>\n",
       "      <td>5</td>\n",
       "      <td>24</td>\n",
       "      <td>0</td>\n",
       "      <td>50308</td>\n",
       "      <td>노연*</td>\n",
       "    </tr>\n",
       "    <tr>\n",
       "      <th>38</th>\n",
       "      <td>000000-0******</td>\n",
       "      <td>본인</td>\n",
       "      <td>- 세대주와의 관계 -</td>\n",
       "      <td></td>\n",
       "      <td></td>\n",
       "      <td></td>\n",
       "      <td></td>\n",
       "      <td></td>\n",
       "      <td></td>\n",
       "      <td></td>\n",
       "      <td>...</td>\n",
       "      <td></td>\n",
       "      <td>서류(제)</td>\n",
       "      <td></td>\n",
       "      <td>0</td>\n",
       "      <td>2147483647</td>\n",
       "      <td>96</td>\n",
       "      <td>99997</td>\n",
       "      <td>0</td>\n",
       "      <td>50441</td>\n",
       "      <td></td>\n",
       "    </tr>\n",
       "    <tr>\n",
       "      <th>39</th>\n",
       "      <td>650423-1******</td>\n",
       "      <td>본인</td>\n",
       "      <td>- 세대주와의 관계 -</td>\n",
       "      <td></td>\n",
       "      <td></td>\n",
       "      <td></td>\n",
       "      <td></td>\n",
       "      <td></td>\n",
       "      <td>121**</td>\n",
       "      <td>경기도 남양주시 별내5로</td>\n",
       "      <td>...</td>\n",
       "      <td></td>\n",
       "      <td>예비</td>\n",
       "      <td></td>\n",
       "      <td>0</td>\n",
       "      <td>2147483647</td>\n",
       "      <td>61</td>\n",
       "      <td>268</td>\n",
       "      <td>51</td>\n",
       "      <td>50466</td>\n",
       "      <td>채수*</td>\n",
       "    </tr>\n",
       "    <tr>\n",
       "      <th>40</th>\n",
       "      <td>000000-0******</td>\n",
       "      <td>본인</td>\n",
       "      <td>- 세대주와의 관계 -</td>\n",
       "      <td></td>\n",
       "      <td></td>\n",
       "      <td></td>\n",
       "      <td></td>\n",
       "      <td></td>\n",
       "      <td></td>\n",
       "      <td></td>\n",
       "      <td>...</td>\n",
       "      <td></td>\n",
       "      <td>서류(제)</td>\n",
       "      <td></td>\n",
       "      <td>0</td>\n",
       "      <td>2147483647</td>\n",
       "      <td>118</td>\n",
       "      <td>99997</td>\n",
       "      <td>0</td>\n",
       "      <td>50485</td>\n",
       "      <td></td>\n",
       "    </tr>\n",
       "    <tr>\n",
       "      <th>41</th>\n",
       "      <td>690123-1******</td>\n",
       "      <td>본인</td>\n",
       "      <td>- 세대주와의 관계 -</td>\n",
       "      <td></td>\n",
       "      <td></td>\n",
       "      <td></td>\n",
       "      <td></td>\n",
       "      <td></td>\n",
       "      <td>121**</td>\n",
       "      <td>경기도 남양주시 별내5로</td>\n",
       "      <td>...</td>\n",
       "      <td></td>\n",
       "      <td>당첨</td>\n",
       "      <td></td>\n",
       "      <td>0</td>\n",
       "      <td>2147483647</td>\n",
       "      <td>131</td>\n",
       "      <td>126</td>\n",
       "      <td>0</td>\n",
       "      <td>50529</td>\n",
       "      <td>박철*</td>\n",
       "    </tr>\n",
       "    <tr>\n",
       "      <th>42</th>\n",
       "      <td>700117-1******</td>\n",
       "      <td>본인</td>\n",
       "      <td>- 세대주와의 관계 -</td>\n",
       "      <td></td>\n",
       "      <td></td>\n",
       "      <td></td>\n",
       "      <td></td>\n",
       "      <td></td>\n",
       "      <td>047**</td>\n",
       "      <td>서울특별시 성동구 왕십리로</td>\n",
       "      <td>...</td>\n",
       "      <td></td>\n",
       "      <td>서류(제)</td>\n",
       "      <td></td>\n",
       "      <td>0</td>\n",
       "      <td>2147483647</td>\n",
       "      <td>153</td>\n",
       "      <td>99997</td>\n",
       "      <td>0</td>\n",
       "      <td>50532</td>\n",
       "      <td>김기*</td>\n",
       "    </tr>\n",
       "    <tr>\n",
       "      <th>43</th>\n",
       "      <td>660713-2******</td>\n",
       "      <td>본인</td>\n",
       "      <td>- 세대주와의 관계 -</td>\n",
       "      <td></td>\n",
       "      <td></td>\n",
       "      <td></td>\n",
       "      <td></td>\n",
       "      <td></td>\n",
       "      <td>121**</td>\n",
       "      <td>경기도 남양주시 별내5로</td>\n",
       "      <td>...</td>\n",
       "      <td></td>\n",
       "      <td>당첨</td>\n",
       "      <td></td>\n",
       "      <td>0</td>\n",
       "      <td>2147483647</td>\n",
       "      <td>79</td>\n",
       "      <td>88</td>\n",
       "      <td>0</td>\n",
       "      <td>50546</td>\n",
       "      <td>정숙*</td>\n",
       "    </tr>\n",
       "    <tr>\n",
       "      <th>44</th>\n",
       "      <td>000000-0******</td>\n",
       "      <td>본인</td>\n",
       "      <td>- 세대주와의 관계 -</td>\n",
       "      <td></td>\n",
       "      <td></td>\n",
       "      <td></td>\n",
       "      <td></td>\n",
       "      <td></td>\n",
       "      <td></td>\n",
       "      <td></td>\n",
       "      <td>...</td>\n",
       "      <td></td>\n",
       "      <td>서류(제)</td>\n",
       "      <td></td>\n",
       "      <td>0</td>\n",
       "      <td>2147483647</td>\n",
       "      <td>99</td>\n",
       "      <td>99997</td>\n",
       "      <td>0</td>\n",
       "      <td>50578</td>\n",
       "      <td></td>\n",
       "    </tr>\n",
       "    <tr>\n",
       "      <th>49</th>\n",
       "      <td>000000-0******</td>\n",
       "      <td>본인</td>\n",
       "      <td>- 세대주와의 관계 -</td>\n",
       "      <td></td>\n",
       "      <td></td>\n",
       "      <td></td>\n",
       "      <td></td>\n",
       "      <td></td>\n",
       "      <td></td>\n",
       "      <td></td>\n",
       "      <td>...</td>\n",
       "      <td></td>\n",
       "      <td>서류(부)</td>\n",
       "      <td></td>\n",
       "      <td>0</td>\n",
       "      <td>2147483647</td>\n",
       "      <td>297</td>\n",
       "      <td>99998</td>\n",
       "      <td>0</td>\n",
       "      <td>50884</td>\n",
       "      <td></td>\n",
       "    </tr>\n",
       "    <tr>\n",
       "      <th>51</th>\n",
       "      <td>820428-2******</td>\n",
       "      <td>본인</td>\n",
       "      <td>- 세대주와의 관계 -</td>\n",
       "      <td></td>\n",
       "      <td></td>\n",
       "      <td></td>\n",
       "      <td></td>\n",
       "      <td></td>\n",
       "      <td>480**</td>\n",
       "      <td>경기 의정부시 신곡동</td>\n",
       "      <td>...</td>\n",
       "      <td></td>\n",
       "      <td>예비</td>\n",
       "      <td></td>\n",
       "      <td>0</td>\n",
       "      <td>2147483647</td>\n",
       "      <td>69</td>\n",
       "      <td>268</td>\n",
       "      <td>64</td>\n",
       "      <td>50994</td>\n",
       "      <td>이해*</td>\n",
       "    </tr>\n",
       "    <tr>\n",
       "      <th>52</th>\n",
       "      <td>750124-1******</td>\n",
       "      <td>본인</td>\n",
       "      <td>- 세대주와의 관계 -</td>\n",
       "      <td></td>\n",
       "      <td></td>\n",
       "      <td></td>\n",
       "      <td></td>\n",
       "      <td></td>\n",
       "      <td></td>\n",
       "      <td>경기도 남양주시 별내3로</td>\n",
       "      <td>...</td>\n",
       "      <td></td>\n",
       "      <td>예비</td>\n",
       "      <td></td>\n",
       "      <td>0</td>\n",
       "      <td>2147483647</td>\n",
       "      <td>115</td>\n",
       "      <td>161</td>\n",
       "      <td>29</td>\n",
       "      <td>1023</td>\n",
       "      <td>양창*</td>\n",
       "    </tr>\n",
       "    <tr>\n",
       "      <th>56</th>\n",
       "      <td>800720-1******</td>\n",
       "      <td>본인</td>\n",
       "      <td>- 세대주와의 관계 -</td>\n",
       "      <td></td>\n",
       "      <td></td>\n",
       "      <td></td>\n",
       "      <td></td>\n",
       "      <td></td>\n",
       "      <td></td>\n",
       "      <td>경기도 남양주시 진건오남로690번길</td>\n",
       "      <td>...</td>\n",
       "      <td></td>\n",
       "      <td>예비</td>\n",
       "      <td></td>\n",
       "      <td>0</td>\n",
       "      <td>2147483647</td>\n",
       "      <td>127</td>\n",
       "      <td>175</td>\n",
       "      <td>42</td>\n",
       "      <td>1169</td>\n",
       "      <td>박인*</td>\n",
       "    </tr>\n",
       "    <tr>\n",
       "      <th>58</th>\n",
       "      <td>630727-1******</td>\n",
       "      <td>본인</td>\n",
       "      <td>- 세대주와의 관계 -</td>\n",
       "      <td></td>\n",
       "      <td></td>\n",
       "      <td></td>\n",
       "      <td></td>\n",
       "      <td></td>\n",
       "      <td></td>\n",
       "      <td>경기도 광주시 곤지암읍</td>\n",
       "      <td>...</td>\n",
       "      <td></td>\n",
       "      <td>당첨</td>\n",
       "      <td></td>\n",
       "      <td>0</td>\n",
       "      <td>2147483647</td>\n",
       "      <td>18</td>\n",
       "      <td>20</td>\n",
       "      <td>0</td>\n",
       "      <td>1361</td>\n",
       "      <td>김기*</td>\n",
       "    </tr>\n",
       "    <tr>\n",
       "      <th>65</th>\n",
       "      <td>740319-1******</td>\n",
       "      <td>본인</td>\n",
       "      <td>- 세대주와의 관계 -</td>\n",
       "      <td></td>\n",
       "      <td></td>\n",
       "      <td></td>\n",
       "      <td></td>\n",
       "      <td></td>\n",
       "      <td></td>\n",
       "      <td>경기도 남양주시 별내3로</td>\n",
       "      <td>...</td>\n",
       "      <td></td>\n",
       "      <td>예비</td>\n",
       "      <td></td>\n",
       "      <td>0</td>\n",
       "      <td>2147483647</td>\n",
       "      <td>42</td>\n",
       "      <td>144</td>\n",
       "      <td>21</td>\n",
       "      <td>10039</td>\n",
       "      <td>공일*</td>\n",
       "    </tr>\n",
       "    <tr>\n",
       "      <th>66</th>\n",
       "      <td>820917-1******</td>\n",
       "      <td>본인</td>\n",
       "      <td>- 세대주와의 관계 -</td>\n",
       "      <td></td>\n",
       "      <td></td>\n",
       "      <td></td>\n",
       "      <td></td>\n",
       "      <td></td>\n",
       "      <td></td>\n",
       "      <td>경기도 남양주시 별내3로</td>\n",
       "      <td>...</td>\n",
       "      <td></td>\n",
       "      <td>예비</td>\n",
       "      <td></td>\n",
       "      <td>0</td>\n",
       "      <td>2147483647</td>\n",
       "      <td>36</td>\n",
       "      <td>144</td>\n",
       "      <td>15</td>\n",
       "      <td>10072</td>\n",
       "      <td>정석*</td>\n",
       "    </tr>\n",
       "    <tr>\n",
       "      <th>67</th>\n",
       "      <td>660315-1******</td>\n",
       "      <td>본인</td>\n",
       "      <td>- 세대주와의 관계 -</td>\n",
       "      <td></td>\n",
       "      <td></td>\n",
       "      <td></td>\n",
       "      <td></td>\n",
       "      <td></td>\n",
       "      <td></td>\n",
       "      <td>경기도 남양주시 별내3로</td>\n",
       "      <td>...</td>\n",
       "      <td></td>\n",
       "      <td>당첨</td>\n",
       "      <td></td>\n",
       "      <td>0</td>\n",
       "      <td>2147483647</td>\n",
       "      <td>4</td>\n",
       "      <td>22</td>\n",
       "      <td>0</td>\n",
       "      <td>10138</td>\n",
       "      <td>안기*</td>\n",
       "    </tr>\n",
       "    <tr>\n",
       "      <th>69</th>\n",
       "      <td>641008-1******</td>\n",
       "      <td>본인</td>\n",
       "      <td>- 세대주와의 관계 -</td>\n",
       "      <td></td>\n",
       "      <td></td>\n",
       "      <td></td>\n",
       "      <td></td>\n",
       "      <td></td>\n",
       "      <td></td>\n",
       "      <td>서울 도봉구 창1동</td>\n",
       "      <td>...</td>\n",
       "      <td></td>\n",
       "      <td>예비</td>\n",
       "      <td></td>\n",
       "      <td>0</td>\n",
       "      <td>2147483647</td>\n",
       "      <td>28</td>\n",
       "      <td>128</td>\n",
       "      <td>1</td>\n",
       "      <td>10227</td>\n",
       "      <td>유강*</td>\n",
       "    </tr>\n",
       "    <tr>\n",
       "      <th>71</th>\n",
       "      <td>680501-1******</td>\n",
       "      <td>본인</td>\n",
       "      <td>- 세대주와의 관계 -</td>\n",
       "      <td></td>\n",
       "      <td></td>\n",
       "      <td></td>\n",
       "      <td></td>\n",
       "      <td></td>\n",
       "      <td></td>\n",
       "      <td>부산광역시 동래구 명륜로</td>\n",
       "      <td>...</td>\n",
       "      <td></td>\n",
       "      <td>예비</td>\n",
       "      <td></td>\n",
       "      <td>0</td>\n",
       "      <td>2147483647</td>\n",
       "      <td>52</td>\n",
       "      <td>178</td>\n",
       "      <td>48</td>\n",
       "      <td>10396</td>\n",
       "      <td>정진*</td>\n",
       "    </tr>\n",
       "    <tr>\n",
       "      <th>80</th>\n",
       "      <td>721115-1******</td>\n",
       "      <td>본인</td>\n",
       "      <td>- 세대주와의 관계 -</td>\n",
       "      <td></td>\n",
       "      <td></td>\n",
       "      <td></td>\n",
       "      <td></td>\n",
       "      <td></td>\n",
       "      <td></td>\n",
       "      <td>경기도 김포시 김포한강8로</td>\n",
       "      <td>...</td>\n",
       "      <td></td>\n",
       "      <td>서류(제)</td>\n",
       "      <td></td>\n",
       "      <td>0</td>\n",
       "      <td>2147483647</td>\n",
       "      <td>17</td>\n",
       "      <td>99997</td>\n",
       "      <td>0</td>\n",
       "      <td>50172</td>\n",
       "      <td>윤동*</td>\n",
       "    </tr>\n",
       "    <tr>\n",
       "      <th>90</th>\n",
       "      <td>780224-1******</td>\n",
       "      <td>본인</td>\n",
       "      <td>- 세대주와의 관계 -</td>\n",
       "      <td></td>\n",
       "      <td></td>\n",
       "      <td></td>\n",
       "      <td></td>\n",
       "      <td></td>\n",
       "      <td></td>\n",
       "      <td>경기도 남양주시 별내3로</td>\n",
       "      <td>...</td>\n",
       "      <td></td>\n",
       "      <td>당첨</td>\n",
       "      <td></td>\n",
       "      <td>0</td>\n",
       "      <td>2147483647</td>\n",
       "      <td>45</td>\n",
       "      <td>50</td>\n",
       "      <td>0</td>\n",
       "      <td>80286</td>\n",
       "      <td>김장*</td>\n",
       "    </tr>\n",
       "    <tr>\n",
       "      <th>91</th>\n",
       "      <td>000000-0******</td>\n",
       "      <td>본인</td>\n",
       "      <td>- 세대주와의 관계 -</td>\n",
       "      <td></td>\n",
       "      <td></td>\n",
       "      <td></td>\n",
       "      <td></td>\n",
       "      <td></td>\n",
       "      <td></td>\n",
       "      <td></td>\n",
       "      <td>...</td>\n",
       "      <td></td>\n",
       "      <td>서류(부)</td>\n",
       "      <td></td>\n",
       "      <td>0</td>\n",
       "      <td>2147483647</td>\n",
       "      <td>141</td>\n",
       "      <td>99998</td>\n",
       "      <td>0</td>\n",
       "      <td>80324</td>\n",
       "      <td>고아*</td>\n",
       "    </tr>\n",
       "    <tr>\n",
       "      <th>92</th>\n",
       "      <td>671221-1******</td>\n",
       "      <td>본인</td>\n",
       "      <td>- 세대주와의 관계 -</td>\n",
       "      <td></td>\n",
       "      <td></td>\n",
       "      <td></td>\n",
       "      <td></td>\n",
       "      <td></td>\n",
       "      <td></td>\n",
       "      <td>경기 남양주시 퇴계원면</td>\n",
       "      <td>...</td>\n",
       "      <td></td>\n",
       "      <td>당첨</td>\n",
       "      <td></td>\n",
       "      <td>0</td>\n",
       "      <td>2147483647</td>\n",
       "      <td>9</td>\n",
       "      <td>12</td>\n",
       "      <td>0</td>\n",
       "      <td>80363</td>\n",
       "      <td>김상*</td>\n",
       "    </tr>\n",
       "  </tbody>\n",
       "</table>\n",
       "<p>36 rows × 102 columns</p>\n",
       "</div>"
      ],
      "text/plain": [
       "              A_10 A_11          A_12 A_13 A_14 A_15 A_16 A_17   A_18  \\\n",
       "3   750120-1******   본인  - 세대주와의 관계 -                           133**   \n",
       "6   641004-1******   본인  - 세대주와의 관계 -                           471**   \n",
       "8   000000-0******   본인  - 세대주와의 관계 -                                   \n",
       "13  840220-2******   본인  - 세대주와의 관계 -                           121**   \n",
       "14  730419-1******   본인  - 세대주와의 관계 -                           472**   \n",
       "18  660517-1******   본인  - 세대주와의 관계 -                           487**   \n",
       "22  910701-1******   본인  - 세대주와의 관계 -                           476**   \n",
       "25  861117-1******   본인  - 세대주와의 관계 -                           415**   \n",
       "26  670505-1******   본인  - 세대주와의 관계 -                           119**   \n",
       "31  000000-0******   본인  - 세대주와의 관계 -                                   \n",
       "32  741120-2******   본인  - 세대주와의 관계 -                           121**   \n",
       "33  710427-2******   본인  - 세대주와의 관계 -                           139**   \n",
       "35  700119-1******   본인  - 세대주와의 관계 -                           121**   \n",
       "36  830117-2******   본인  - 세대주와의 관계 -                           472**   \n",
       "37  720203-2******   본인  - 세대주와의 관계 -                           063**   \n",
       "38  000000-0******   본인  - 세대주와의 관계 -                                   \n",
       "39  650423-1******   본인  - 세대주와의 관계 -                           121**   \n",
       "40  000000-0******   본인  - 세대주와의 관계 -                                   \n",
       "41  690123-1******   본인  - 세대주와의 관계 -                           121**   \n",
       "42  700117-1******   본인  - 세대주와의 관계 -                           047**   \n",
       "43  660713-2******   본인  - 세대주와의 관계 -                           121**   \n",
       "44  000000-0******   본인  - 세대주와의 관계 -                                   \n",
       "49  000000-0******   본인  - 세대주와의 관계 -                                   \n",
       "51  820428-2******   본인  - 세대주와의 관계 -                           480**   \n",
       "52  750124-1******   본인  - 세대주와의 관계 -                                   \n",
       "56  800720-1******   본인  - 세대주와의 관계 -                                   \n",
       "58  630727-1******   본인  - 세대주와의 관계 -                                   \n",
       "65  740319-1******   본인  - 세대주와의 관계 -                                   \n",
       "66  820917-1******   본인  - 세대주와의 관계 -                                   \n",
       "67  660315-1******   본인  - 세대주와의 관계 -                                   \n",
       "69  641008-1******   본인  - 세대주와의 관계 -                                   \n",
       "71  680501-1******   본인  - 세대주와의 관계 -                                   \n",
       "80  721115-1******   본인  - 세대주와의 관계 -                                   \n",
       "90  780224-1******   본인  - 세대주와의 관계 -                                   \n",
       "91  000000-0******   본인  - 세대주와의 관계 -                                   \n",
       "92  671221-1******   본인  - 세대주와의 관계 -                                   \n",
       "\n",
       "                   A_19 ...  W_39    W_4  W_40 W_41        W_42  W_5    W_6  \\\n",
       "3           경기도 성남시 수정구 ...        서류(제)          0  2147483647  273  99997   \n",
       "6     경기도 구리시 동구릉로148번길 ...           당첨          0  2147483647   44     45   \n",
       "8                       ...        서류(제)          0  2147483647  268  99997   \n",
       "13        경기도 남양주시 별내5로 ...           당첨          0  2147483647   20     25   \n",
       "14          경기 남양주시 별내면 ...           당첨          0  2147483647   18     20   \n",
       "18          경기도 포천시 호국로 ...           당첨          0  2147483647   21     25   \n",
       "22           경기 양평군 강하면 ...           당첨          0  2147483647   19     23   \n",
       "25       경기도 김포시 김포한강8로 ...        서류(제)          0  2147483647  130  99997   \n",
       "26      경기도 구리시 경춘로16번길 ...           당첨          0  2147483647   12     42   \n",
       "31                      ...        서류(제)          0  2147483647  116  99997   \n",
       "32        경기도 남양주시 별내5로 ...           당첨          0  2147483647   13    180   \n",
       "33           서울 노원구 하계동 ...           당첨          0  2147483647    4     21   \n",
       "35        경기도 남양주시 별내5로 ...           당첨          0  2147483647   17     19   \n",
       "36          경기 남양주시 호평동 ...           당첨          0  2147483647  149    156   \n",
       "37        서울특별시 강남구 삼성로 ...           당첨          0  2147483647    5     24   \n",
       "38                      ...        서류(제)          0  2147483647   96  99997   \n",
       "39        경기도 남양주시 별내5로 ...           예비          0  2147483647   61    268   \n",
       "40                      ...        서류(제)          0  2147483647  118  99997   \n",
       "41        경기도 남양주시 별내5로 ...           당첨          0  2147483647  131    126   \n",
       "42       서울특별시 성동구 왕십리로 ...        서류(제)          0  2147483647  153  99997   \n",
       "43        경기도 남양주시 별내5로 ...           당첨          0  2147483647   79     88   \n",
       "44                      ...        서류(제)          0  2147483647   99  99997   \n",
       "49                      ...        서류(부)          0  2147483647  297  99998   \n",
       "51          경기 의정부시 신곡동 ...           예비          0  2147483647   69    268   \n",
       "52        경기도 남양주시 별내3로 ...           예비          0  2147483647  115    161   \n",
       "56  경기도 남양주시 진건오남로690번길 ...           예비          0  2147483647  127    175   \n",
       "58         경기도 광주시 곤지암읍 ...           당첨          0  2147483647   18     20   \n",
       "65        경기도 남양주시 별내3로 ...           예비          0  2147483647   42    144   \n",
       "66        경기도 남양주시 별내3로 ...           예비          0  2147483647   36    144   \n",
       "67        경기도 남양주시 별내3로 ...           당첨          0  2147483647    4     22   \n",
       "69           서울 도봉구 창1동 ...           예비          0  2147483647   28    128   \n",
       "71        부산광역시 동래구 명륜로 ...           예비          0  2147483647   52    178   \n",
       "80       경기도 김포시 김포한강8로 ...        서류(제)          0  2147483647   17  99997   \n",
       "90        경기도 남양주시 별내3로 ...           당첨          0  2147483647   45     50   \n",
       "91                      ...        서류(부)          0  2147483647  141  99998   \n",
       "92         경기 남양주시 퇴계원면 ...           당첨          0  2147483647    9     12   \n",
       "\n",
       "   W_7    W_8  W_9  \n",
       "3    0   2024  김태*  \n",
       "6    0   3052  박제*  \n",
       "8    0   4002       \n",
       "13   0   5025  이소*  \n",
       "14   0   5503  김용*  \n",
       "18   0   7012  강대*  \n",
       "22   0  10545  유건*  \n",
       "25   0  50034  허성*  \n",
       "26   0  50057  장요*  \n",
       "31   0  50124       \n",
       "32   0  50177  류현*  \n",
       "33   0  50185  이현*  \n",
       "35   0  50262  최민*  \n",
       "36   0  50273  천미*  \n",
       "37   0  50308  노연*  \n",
       "38   0  50441       \n",
       "39  51  50466  채수*  \n",
       "40   0  50485       \n",
       "41   0  50529  박철*  \n",
       "42   0  50532  김기*  \n",
       "43   0  50546  정숙*  \n",
       "44   0  50578       \n",
       "49   0  50884       \n",
       "51  64  50994  이해*  \n",
       "52  29   1023  양창*  \n",
       "56  42   1169  박인*  \n",
       "58   0   1361  김기*  \n",
       "65  21  10039  공일*  \n",
       "66  15  10072  정석*  \n",
       "67   0  10138  안기*  \n",
       "69   1  10227  유강*  \n",
       "71  48  10396  정진*  \n",
       "80   0  50172  윤동*  \n",
       "90   0  80286  김장*  \n",
       "91   0  80324  고아*  \n",
       "92   0  80363  김상*  \n",
       "\n",
       "[36 rows x 102 columns]"
      ]
     },
     "execution_count": 47,
     "metadata": {},
     "output_type": "execute_result"
    }
   ],
   "source": [
    "A11_data_disabled.ix[A11_data_disabled.A_34 <= 50] # 50살 보다 작은사람 36명"
   ]
  },
  {
   "cell_type": "markdown",
   "metadata": {},
   "source": [
    "##### 세대주 나이 구간화"
   ]
  },
  {
   "cell_type": "code",
   "execution_count": 48,
   "metadata": {
    "collapsed": true
   },
   "outputs": [],
   "source": [
    "bins = [19,29,39,49,99] # range 범위 지정\n",
    "group_names = ['20대', '30대','40대','50대이상'] # 지정할 그룹명\n",
    "categories = pd.cut(A11_data_disabled['A_34'], bins, labels=group_names) # range 변수"
   ]
  },
  {
   "cell_type": "code",
   "execution_count": 49,
   "metadata": {
    "collapsed": true
   },
   "outputs": [],
   "source": [
    "A11_data_disabled['categories'] = pd.cut(A11_data_disabled['A_34'], bins, labels=group_names) # range column 추가"
   ]
  },
  {
   "cell_type": "code",
   "execution_count": 50,
   "metadata": {
    "collapsed": true
   },
   "outputs": [
    {
     "data": {
      "text/plain": [
       "0     False\n",
       "1      True\n",
       "2      True\n",
       "3     False\n",
       "4     False\n",
       "5     False\n",
       "6      True\n",
       "7      True\n",
       "8     False\n",
       "9      True\n",
       "10    False\n",
       "11     True\n",
       "12     True\n",
       "13     True\n",
       "14     True\n",
       "15    False\n",
       "16     True\n",
       "17    False\n",
       "18     True\n",
       "19    False\n",
       "20     True\n",
       "21     True\n",
       "22     True\n",
       "23     True\n",
       "24     True\n",
       "25    False\n",
       "26     True\n",
       "27     True\n",
       "28     True\n",
       "29     True\n",
       "      ...  \n",
       "66    False\n",
       "67     True\n",
       "68     True\n",
       "69    False\n",
       "70     True\n",
       "71    False\n",
       "72     True\n",
       "73    False\n",
       "74     True\n",
       "75     True\n",
       "76     True\n",
       "77     True\n",
       "78     True\n",
       "79    False\n",
       "80    False\n",
       "81     True\n",
       "82     True\n",
       "83     True\n",
       "84     True\n",
       "85     True\n",
       "86     True\n",
       "87    False\n",
       "88    False\n",
       "89     True\n",
       "90     True\n",
       "91    False\n",
       "92     True\n",
       "93     True\n",
       "94     True\n",
       "95     True\n",
       "Name: W_4, dtype: bool"
      ]
     },
     "execution_count": 50,
     "metadata": {},
     "output_type": "execute_result"
    }
   ],
   "source": [
    "A11_data_disabled.W_4 == \"당첨\""
   ]
  },
  {
   "cell_type": "code",
   "execution_count": 51,
   "metadata": {
    "collapsed": false
   },
   "outputs": [
    {
     "data": {
      "text/plain": [
       "[50대이상, 30대, 40대, 20대]\n",
       "Categories (4, object): [20대 < 30대 < 40대 < 50대이상]"
      ]
     },
     "execution_count": 51,
     "metadata": {},
     "output_type": "execute_result"
    }
   ],
   "source": [
    "A11_data_disabled.categories.unique()"
   ]
  },
  {
   "cell_type": "markdown",
   "metadata": {},
   "source": [
    "###### 나이구간화 데이터 중 나누기(30,40,50대)"
   ]
  },
  {
   "cell_type": "code",
   "execution_count": 56,
   "metadata": {
    "collapsed": true
   },
   "outputs": [],
   "source": [
    "A11_data_disabled_30 = A11_data_disabled.ix[A11_data_disabled.categories == '30대']\n",
    "A11_data_disabled_40 = A11_data_disabled.ix[A11_data_disabled.categories == '40대']\n",
    "A11_data_disabled_50 = A11_data_disabled.ix[A11_data_disabled.categories == '50대이상']"
   ]
  },
  {
   "cell_type": "code",
   "execution_count": 57,
   "metadata": {
    "collapsed": false,
    "scrolled": true
   },
   "outputs": [
    {
     "data": {
      "text/plain": [
       "11"
      ]
     },
     "execution_count": 57,
     "metadata": {},
     "output_type": "execute_result"
    }
   ],
   "source": [
    "len(A11_data_disabled_30) # 30 대 11명"
   ]
  },
  {
   "cell_type": "code",
   "execution_count": 58,
   "metadata": {
    "collapsed": false
   },
   "outputs": [
    {
     "data": {
      "text/plain": [
       "19"
      ]
     },
     "execution_count": 58,
     "metadata": {},
     "output_type": "execute_result"
    }
   ],
   "source": [
    "len(A11_data_disabled_40) # 40대 19명"
   ]
  },
  {
   "cell_type": "code",
   "execution_count": 60,
   "metadata": {
    "collapsed": false
   },
   "outputs": [
    {
     "data": {
      "text/plain": [
       "60"
      ]
     },
     "execution_count": 60,
     "metadata": {},
     "output_type": "execute_result"
    }
   ],
   "source": [
    "len(A11_data_disabled_50) # 60명"
   ]
  },
  {
   "cell_type": "markdown",
   "metadata": {},
   "source": [
    "###### 각 나이대별 당첨/탈락 데이터 나누기"
   ]
  },
  {
   "cell_type": "code",
   "execution_count": 61,
   "metadata": {
    "collapsed": true
   },
   "outputs": [],
   "source": [
    "## 30대\n",
    "A11_data_disabled_30_win = A11_data_disabled_30.ix[A11_data_disabled_30.W_4 == '당첨']\n",
    "A11_data_disabled_30_down = A11_data_disabled_30.ix[A11_data_disabled_30.W_4 != '당첨']\n",
    "## 40대\n",
    "A11_data_disabled_40_win = A11_data_disabled_40.ix[A11_data_disabled_40.W_4 == '당첨']\n",
    "A11_data_disabled_40_down = A11_data_disabled_40.ix[A11_data_disabled_40.W_4 != '당첨']\n",
    "## 50대\n",
    "A11_data_disabled_50_win = A11_data_disabled_50.ix[A11_data_disabled_50.W_4 == '당첨']\n",
    "A11_data_disabled_50_down = A11_data_disabled_50.ix[A11_data_disabled_50.W_4 != '당첨']"
   ]
  },
  {
   "cell_type": "markdown",
   "metadata": {},
   "source": [
    "###### 30대 당첨/탈락 및 잔(장) 여부"
   ]
  },
  {
   "cell_type": "code",
   "execution_count": 62,
   "metadata": {
    "collapsed": false,
    "scrolled": false
   },
   "outputs": [
    {
     "data": {
      "text/plain": [
       "4"
      ]
     },
     "execution_count": 62,
     "metadata": {},
     "output_type": "execute_result"
    }
   ],
   "source": [
    "len(A11_data_disabled_30_win) # 잔(장) 빼기 전 4row"
   ]
  },
  {
   "cell_type": "code",
   "execution_count": 63,
   "metadata": {
    "collapsed": false
   },
   "outputs": [
    {
     "data": {
      "text/plain": [
       "7"
      ]
     },
     "execution_count": 63,
     "metadata": {},
     "output_type": "execute_result"
    }
   ],
   "source": [
    "len(A11_data_disabled_30_down) # 탈락 데이터 7row"
   ]
  },
  {
   "cell_type": "code",
   "execution_count": 64,
   "metadata": {
    "collapsed": false
   },
   "outputs": [
    {
     "data": {
      "text/plain": [
       "array(['우(장)', '일(장)'], dtype=object)"
      ]
     },
     "execution_count": 64,
     "metadata": {},
     "output_type": "execute_result"
    }
   ],
   "source": [
    "A11_data_disabled_30_win.W_14.unique()"
   ]
  },
  {
   "cell_type": "code",
   "execution_count": 75,
   "metadata": {
    "collapsed": false
   },
   "outputs": [
    {
     "data": {
      "text/plain": [
       "0.36363636363636365"
      ]
     },
     "execution_count": 75,
     "metadata": {},
     "output_type": "execute_result"
    }
   ],
   "source": [
    "len(A11_data_disabled_30_win)/len(A11_data_disabled_30)"
   ]
  },
  {
   "cell_type": "code",
   "execution_count": 76,
   "metadata": {
    "collapsed": false
   },
   "outputs": [
    {
     "data": {
      "text/plain": [
       "0.6363636363636364"
      ]
     },
     "execution_count": 76,
     "metadata": {},
     "output_type": "execute_result"
    }
   ],
   "source": [
    "len(A11_data_disabled_30_down)/len(A11_data_disabled_30)"
   ]
  },
  {
   "cell_type": "code",
   "execution_count": 77,
   "metadata": {
    "collapsed": false
   },
   "outputs": [
    {
     "data": {
      "text/plain": [
       "1.0"
      ]
     },
     "execution_count": 77,
     "metadata": {},
     "output_type": "execute_result"
    }
   ],
   "source": [
    "0.6363636363636364 + 0.36363636363636365"
   ]
  },
  {
   "cell_type": "markdown",
   "metadata": {},
   "source": [
    "###### 40대 당첨/탈락 및 잔(장) 여부"
   ]
  },
  {
   "cell_type": "code",
   "execution_count": 65,
   "metadata": {
    "collapsed": false
   },
   "outputs": [
    {
     "data": {
      "text/plain": [
       "10"
      ]
     },
     "execution_count": 65,
     "metadata": {},
     "output_type": "execute_result"
    }
   ],
   "source": [
    "len(A11_data_disabled_40_win) # 잔(장) 빼기 전 10row"
   ]
  },
  {
   "cell_type": "code",
   "execution_count": 66,
   "metadata": {
    "collapsed": false
   },
   "outputs": [
    {
     "data": {
      "text/plain": [
       "9"
      ]
     },
     "execution_count": 66,
     "metadata": {},
     "output_type": "execute_result"
    }
   ],
   "source": [
    "len(A11_data_disabled_40_down) # 탈락 데이터 9row"
   ]
  },
  {
   "cell_type": "code",
   "execution_count": 67,
   "metadata": {
    "collapsed": false
   },
   "outputs": [
    {
     "data": {
      "text/plain": [
       "array(['잔(장)', '우(장)', '일(장)'], dtype=object)"
      ]
     },
     "execution_count": 67,
     "metadata": {},
     "output_type": "execute_result"
    }
   ],
   "source": [
    "A11_data_disabled_40_win.W_14.unique()"
   ]
  },
  {
   "cell_type": "code",
   "execution_count": 68,
   "metadata": {
    "collapsed": true
   },
   "outputs": [],
   "source": [
    "A11_data_disabled_40_win = A11_data_disabled_40_win.ix[A11_data_disabled_40_win.W_14 != '잔(장)']"
   ]
  },
  {
   "cell_type": "code",
   "execution_count": 69,
   "metadata": {
    "collapsed": false,
    "scrolled": true
   },
   "outputs": [
    {
     "data": {
      "text/plain": [
       "8"
      ]
     },
     "execution_count": 69,
     "metadata": {},
     "output_type": "execute_result"
    }
   ],
   "source": [
    "len(A11_data_disabled_40_win) # 잔(장) 뺀 후 8row"
   ]
  },
  {
   "cell_type": "code",
   "execution_count": 78,
   "metadata": {
    "collapsed": false
   },
   "outputs": [
    {
     "data": {
      "text/plain": [
       "0.42105263157894735"
      ]
     },
     "execution_count": 78,
     "metadata": {},
     "output_type": "execute_result"
    }
   ],
   "source": [
    "len(A11_data_disabled_40_win) / len(A11_data_disabled_40)"
   ]
  },
  {
   "cell_type": "code",
   "execution_count": 79,
   "metadata": {
    "collapsed": false
   },
   "outputs": [
    {
     "data": {
      "text/plain": [
       "0.47368421052631576"
      ]
     },
     "execution_count": 79,
     "metadata": {},
     "output_type": "execute_result"
    }
   ],
   "source": [
    "len(A11_data_disabled_40_down) / len(A11_data_disabled_40)"
   ]
  },
  {
   "cell_type": "code",
   "execution_count": 80,
   "metadata": {
    "collapsed": false
   },
   "outputs": [
    {
     "data": {
      "text/plain": [
       "0.10526315789473684"
      ]
     },
     "execution_count": 80,
     "metadata": {},
     "output_type": "execute_result"
    }
   ],
   "source": [
    "2 / len(A11_data_disabled_40)"
   ]
  },
  {
   "cell_type": "code",
   "execution_count": 81,
   "metadata": {
    "collapsed": false
   },
   "outputs": [
    {
     "data": {
      "text/plain": [
       "0.9999999999999999"
      ]
     },
     "execution_count": 81,
     "metadata": {},
     "output_type": "execute_result"
    }
   ],
   "source": [
    "0.42105263157894735 + 0.47368421052631576 + 0.10526315789473684"
   ]
  },
  {
   "cell_type": "markdown",
   "metadata": {},
   "source": [
    "###### 50대 당첨/탈락 및 잔(장) 여부"
   ]
  },
  {
   "cell_type": "code",
   "execution_count": 70,
   "metadata": {
    "collapsed": false
   },
   "outputs": [
    {
     "data": {
      "text/plain": [
       "46"
      ]
     },
     "execution_count": 70,
     "metadata": {},
     "output_type": "execute_result"
    }
   ],
   "source": [
    "len(A11_data_disabled_50_win) # 잔(장) 빼기 전 46row"
   ]
  },
  {
   "cell_type": "code",
   "execution_count": 71,
   "metadata": {
    "collapsed": false
   },
   "outputs": [
    {
     "data": {
      "text/plain": [
       "14"
      ]
     },
     "execution_count": 71,
     "metadata": {},
     "output_type": "execute_result"
    }
   ],
   "source": [
    "len(A11_data_disabled_50_down) # 탈락 데이터 14row"
   ]
  },
  {
   "cell_type": "code",
   "execution_count": 72,
   "metadata": {
    "collapsed": false
   },
   "outputs": [
    {
     "data": {
      "text/plain": [
       "array(['우(장)', '일(장)', '잔(장)'], dtype=object)"
      ]
     },
     "execution_count": 72,
     "metadata": {},
     "output_type": "execute_result"
    }
   ],
   "source": [
    "A11_data_disabled_50_win.W_14.unique()"
   ]
  },
  {
   "cell_type": "code",
   "execution_count": 73,
   "metadata": {
    "collapsed": true
   },
   "outputs": [],
   "source": [
    "A11_data_disabled_50_win = A11_data_disabled_50_win.ix[A11_data_disabled_50_win.W_14 != '잔(장)']"
   ]
  },
  {
   "cell_type": "code",
   "execution_count": 74,
   "metadata": {
    "collapsed": false
   },
   "outputs": [
    {
     "data": {
      "text/plain": [
       "38"
      ]
     },
     "execution_count": 74,
     "metadata": {},
     "output_type": "execute_result"
    }
   ],
   "source": [
    "len(A11_data_disabled_50_win) # 잔(장) 뺀 후 38row"
   ]
  },
  {
   "cell_type": "code",
   "execution_count": 84,
   "metadata": {
    "collapsed": false
   },
   "outputs": [
    {
     "data": {
      "text/plain": [
       "0.6333333333333333"
      ]
     },
     "execution_count": 84,
     "metadata": {},
     "output_type": "execute_result"
    }
   ],
   "source": [
    "len(A11_data_disabled_50_win)/len(A11_data_disabled_50)"
   ]
  },
  {
   "cell_type": "code",
   "execution_count": 86,
   "metadata": {
    "collapsed": false
   },
   "outputs": [
    {
     "data": {
      "text/plain": [
       "0.23333333333333334"
      ]
     },
     "execution_count": 86,
     "metadata": {},
     "output_type": "execute_result"
    }
   ],
   "source": [
    "len(A11_data_disabled_50_down)/len(A11_data_disabled_50)"
   ]
  },
  {
   "cell_type": "code",
   "execution_count": 87,
   "metadata": {
    "collapsed": false
   },
   "outputs": [
    {
     "data": {
      "text/plain": [
       "0.13333333333333333"
      ]
     },
     "execution_count": 87,
     "metadata": {},
     "output_type": "execute_result"
    }
   ],
   "source": [
    "8/len(A11_data_disabled_50)"
   ]
  },
  {
   "cell_type": "code",
   "execution_count": 88,
   "metadata": {
    "collapsed": false
   },
   "outputs": [
    {
     "data": {
      "text/plain": [
       "1.0"
      ]
     },
     "execution_count": 88,
     "metadata": {},
     "output_type": "execute_result"
    }
   ],
   "source": [
    "0.6333333333333333+0.23333333333333334+0.13333333333333333"
   ]
  },
  {
   "cell_type": "markdown",
   "metadata": {},
   "source": [
    "##### 부양가족 수 구간화"
   ]
  },
  {
   "cell_type": "code",
   "execution_count": 89,
   "metadata": {
    "collapsed": false
   },
   "outputs": [],
   "source": [
    "child_bins = [0,1,2,3] # range 범위 지정\n",
    "child_group_names = ['1인', '2인', '3인'] # 지정할 그룹명\n",
    "child_categories = pd.cut(A11_data_disabled['A_35'], child_bins, labels=child_group_names) # range 변수"
   ]
  },
  {
   "cell_type": "code",
   "execution_count": 90,
   "metadata": {
    "collapsed": false,
    "scrolled": true
   },
   "outputs": [],
   "source": [
    "A11_data_disabled['child_div'] = pd.cut(A11_data_disabled['A_35'], child_bins, labels=child_group_names) # range column 추가"
   ]
  },
  {
   "cell_type": "code",
   "execution_count": 91,
   "metadata": {
    "collapsed": false,
    "scrolled": true
   },
   "outputs": [
    {
     "data": {
      "text/plain": [
       "24"
      ]
     },
     "execution_count": 91,
     "metadata": {},
     "output_type": "execute_result"
    }
   ],
   "source": [
    "A11_data_disabled['child_div'].count()"
   ]
  },
  {
   "cell_type": "code",
   "execution_count": 92,
   "metadata": {
    "collapsed": false
   },
   "outputs": [],
   "source": [
    "A11_disabled_child1 = A11_data_disabled.ix[A11_data_disabled['child_div'] == '1인']\n",
    "A11_disabled_child2 = A11_data_disabled.ix[A11_data_disabled['child_div'] == '2인']\n",
    "A11_disabled_child3 = A11_data_disabled.ix[A11_data_disabled['child_div'] == '3인']"
   ]
  },
  {
   "cell_type": "code",
   "execution_count": 93,
   "metadata": {
    "collapsed": false
   },
   "outputs": [
    {
     "data": {
      "text/plain": [
       "15"
      ]
     },
     "execution_count": 93,
     "metadata": {},
     "output_type": "execute_result"
    }
   ],
   "source": [
    "len(A11_disabled_child1) # 1인 12명"
   ]
  },
  {
   "cell_type": "code",
   "execution_count": 94,
   "metadata": {
    "collapsed": false
   },
   "outputs": [
    {
     "data": {
      "text/plain": [
       "4"
      ]
     },
     "execution_count": 94,
     "metadata": {},
     "output_type": "execute_result"
    }
   ],
   "source": [
    "len(A11_disabled_child2) # 2인 2명"
   ]
  },
  {
   "cell_type": "code",
   "execution_count": 95,
   "metadata": {
    "collapsed": false
   },
   "outputs": [
    {
     "data": {
      "text/plain": [
       "5"
      ]
     },
     "execution_count": 95,
     "metadata": {},
     "output_type": "execute_result"
    }
   ],
   "source": [
    "len(A11_disabled_child3) # 3인 1명"
   ]
  },
  {
   "cell_type": "markdown",
   "metadata": {},
   "source": [
    "###### 1인 부양가족의 당첨/탈락 데이터 나누기"
   ]
  },
  {
   "cell_type": "code",
   "execution_count": 96,
   "metadata": {
    "collapsed": true
   },
   "outputs": [],
   "source": [
    "A11_disabled_child1_win = A11_disabled_child1.ix[A11_disabled_child1.W_4 == \"당첨\"]\n",
    "A11_disabled_child1_down = A11_disabled_child1.ix[A11_disabled_child1.W_4 != '당첨']"
   ]
  },
  {
   "cell_type": "code",
   "execution_count": 97,
   "metadata": {
    "collapsed": false
   },
   "outputs": [
    {
     "data": {
      "text/plain": [
       "11"
      ]
     },
     "execution_count": 97,
     "metadata": {},
     "output_type": "execute_result"
    }
   ],
   "source": [
    "len(A11_disabled_child1_win)"
   ]
  },
  {
   "cell_type": "code",
   "execution_count": 98,
   "metadata": {
    "collapsed": false
   },
   "outputs": [
    {
     "data": {
      "text/plain": [
       "4"
      ]
     },
     "execution_count": 98,
     "metadata": {},
     "output_type": "execute_result"
    }
   ],
   "source": [
    "len(A11_disabled_child1_down)"
   ]
  },
  {
   "cell_type": "code",
   "execution_count": 99,
   "metadata": {
    "collapsed": false,
    "scrolled": true
   },
   "outputs": [
    {
     "data": {
      "text/plain": [
       "array(['일(장)', '잔(장)', '우(장)'], dtype=object)"
      ]
     },
     "execution_count": 99,
     "metadata": {},
     "output_type": "execute_result"
    }
   ],
   "source": [
    "A11_disabled_child1_win.W_14.unique()"
   ]
  },
  {
   "cell_type": "code",
   "execution_count": 100,
   "metadata": {
    "collapsed": true
   },
   "outputs": [],
   "source": [
    "A11_disabled_child1_win = A11_disabled_child1_win.ix[A11_disabled_child1_win.W_14 != '잔(장)']"
   ]
  },
  {
   "cell_type": "code",
   "execution_count": 101,
   "metadata": {
    "collapsed": false,
    "scrolled": true
   },
   "outputs": [
    {
     "data": {
      "text/plain": [
       "9"
      ]
     },
     "execution_count": 101,
     "metadata": {},
     "output_type": "execute_result"
    }
   ],
   "source": [
    "len(A11_disabled_child1_win)"
   ]
  },
  {
   "cell_type": "code",
   "execution_count": 102,
   "metadata": {
    "collapsed": false
   },
   "outputs": [
    {
     "data": {
      "text/plain": [
       "0.6"
      ]
     },
     "execution_count": 102,
     "metadata": {},
     "output_type": "execute_result"
    }
   ],
   "source": [
    "len(A11_disabled_child1_win)/len(A11_disabled_child1)"
   ]
  },
  {
   "cell_type": "code",
   "execution_count": 103,
   "metadata": {
    "collapsed": false
   },
   "outputs": [
    {
     "data": {
      "text/plain": [
       "0.26666666666666666"
      ]
     },
     "execution_count": 103,
     "metadata": {},
     "output_type": "execute_result"
    }
   ],
   "source": [
    "len(A11_disabled_child1_down)/len(A11_disabled_child1)"
   ]
  },
  {
   "cell_type": "code",
   "execution_count": 105,
   "metadata": {
    "collapsed": false,
    "scrolled": true
   },
   "outputs": [
    {
     "data": {
      "text/plain": [
       "0.13333333333333333"
      ]
     },
     "execution_count": 105,
     "metadata": {},
     "output_type": "execute_result"
    }
   ],
   "source": [
    "2/len(A11_disabled_child1)"
   ]
  },
  {
   "cell_type": "code",
   "execution_count": 106,
   "metadata": {
    "collapsed": false
   },
   "outputs": [
    {
     "data": {
      "text/plain": [
       "1.0"
      ]
     },
     "execution_count": 106,
     "metadata": {},
     "output_type": "execute_result"
    }
   ],
   "source": [
    "0.6 + 0.26666666666666666+0.13333333333333333"
   ]
  },
  {
   "cell_type": "markdown",
   "metadata": {},
   "source": [
    "###### 부양가족수 2인 당첨/탈락 데이터 나누기"
   ]
  },
  {
   "cell_type": "code",
   "execution_count": 110,
   "metadata": {
    "collapsed": true
   },
   "outputs": [],
   "source": [
    "A11_disabled_child2_win = A11_disabled_child2.ix[A11_disabled_child2.W_4 == \"당첨\"]\n",
    "A11_disabled_child2_down = A11_disabled_child2.ix[A11_disabled_child2.W_4 != '당첨']"
   ]
  },
  {
   "cell_type": "code",
   "execution_count": 111,
   "metadata": {
    "collapsed": false
   },
   "outputs": [
    {
     "data": {
      "text/plain": [
       "3"
      ]
     },
     "execution_count": 111,
     "metadata": {},
     "output_type": "execute_result"
    }
   ],
   "source": [
    "len(A11_disabled_child2_win)"
   ]
  },
  {
   "cell_type": "code",
   "execution_count": 112,
   "metadata": {
    "collapsed": false
   },
   "outputs": [
    {
     "data": {
      "text/plain": [
       "1"
      ]
     },
     "execution_count": 112,
     "metadata": {},
     "output_type": "execute_result"
    }
   ],
   "source": [
    "len(A11_disabled_child2_down)"
   ]
  },
  {
   "cell_type": "code",
   "execution_count": 113,
   "metadata": {
    "collapsed": false
   },
   "outputs": [
    {
     "data": {
      "text/plain": [
       "array(['잔(장)', '우(장)'], dtype=object)"
      ]
     },
     "execution_count": 113,
     "metadata": {},
     "output_type": "execute_result"
    }
   ],
   "source": [
    "A11_disabled_child2_win.W_14.unique()"
   ]
  },
  {
   "cell_type": "code",
   "execution_count": 114,
   "metadata": {
    "collapsed": true
   },
   "outputs": [],
   "source": [
    "A11_disabled_child2_win = A11_disabled_child2_win.ix[A11_disabled_child2_win.W_14 != '잔(장)']"
   ]
  },
  {
   "cell_type": "code",
   "execution_count": 115,
   "metadata": {
    "collapsed": false
   },
   "outputs": [
    {
     "data": {
      "text/plain": [
       "2"
      ]
     },
     "execution_count": 115,
     "metadata": {},
     "output_type": "execute_result"
    }
   ],
   "source": [
    "len(A11_disabled_child2_win)"
   ]
  },
  {
   "cell_type": "code",
   "execution_count": 116,
   "metadata": {
    "collapsed": false
   },
   "outputs": [
    {
     "data": {
      "text/plain": [
       "0.5"
      ]
     },
     "execution_count": 116,
     "metadata": {},
     "output_type": "execute_result"
    }
   ],
   "source": [
    "len(A11_disabled_child2_win) / len(A11_disabled_child2)"
   ]
  },
  {
   "cell_type": "code",
   "execution_count": 117,
   "metadata": {
    "collapsed": false
   },
   "outputs": [
    {
     "data": {
      "text/plain": [
       "0.25"
      ]
     },
     "execution_count": 117,
     "metadata": {},
     "output_type": "execute_result"
    }
   ],
   "source": [
    "len(A11_disabled_child2_down) / len(A11_disabled_child2)"
   ]
  },
  {
   "cell_type": "code",
   "execution_count": 118,
   "metadata": {
    "collapsed": false
   },
   "outputs": [
    {
     "data": {
      "text/plain": [
       "0.25"
      ]
     },
     "execution_count": 118,
     "metadata": {},
     "output_type": "execute_result"
    }
   ],
   "source": [
    "1 / len(A11_disabled_child2)"
   ]
  },
  {
   "cell_type": "code",
   "execution_count": 119,
   "metadata": {
    "collapsed": false
   },
   "outputs": [
    {
     "data": {
      "text/plain": [
       "1.0"
      ]
     },
     "execution_count": 119,
     "metadata": {},
     "output_type": "execute_result"
    }
   ],
   "source": [
    "0.5 + 0.25 + 0.25"
   ]
  },
  {
   "cell_type": "markdown",
   "metadata": {},
   "source": [
    "###### 부양가족수 3인 인 경우 당첨인원"
   ]
  },
  {
   "cell_type": "code",
   "execution_count": 120,
   "metadata": {
    "collapsed": true
   },
   "outputs": [],
   "source": [
    "A11_disabled_child3_win = A11_disabled_child3.ix[A11_disabled_child3.W_4 == \"당첨\"]\n",
    "A11_disabled_child3_down = A11_disabled_child3.ix[A11_disabled_child3.W_4 != '당첨']"
   ]
  },
  {
   "cell_type": "code",
   "execution_count": 121,
   "metadata": {
    "collapsed": false,
    "scrolled": true
   },
   "outputs": [
    {
     "data": {
      "text/plain": [
       "2"
      ]
     },
     "execution_count": 121,
     "metadata": {},
     "output_type": "execute_result"
    }
   ],
   "source": [
    "len(A11_disabled_child3_win)"
   ]
  },
  {
   "cell_type": "code",
   "execution_count": 122,
   "metadata": {
    "collapsed": false
   },
   "outputs": [
    {
     "data": {
      "text/plain": [
       "3"
      ]
     },
     "execution_count": 122,
     "metadata": {},
     "output_type": "execute_result"
    }
   ],
   "source": [
    "len(A11_disabled_child3_down)"
   ]
  },
  {
   "cell_type": "code",
   "execution_count": 123,
   "metadata": {
    "collapsed": false
   },
   "outputs": [
    {
     "data": {
      "text/plain": [
       "array(['잔(장)', '우(장)'], dtype=object)"
      ]
     },
     "execution_count": 123,
     "metadata": {},
     "output_type": "execute_result"
    }
   ],
   "source": [
    "A11_disabled_child3_win.W_14.unique()"
   ]
  },
  {
   "cell_type": "code",
   "execution_count": 124,
   "metadata": {
    "collapsed": true
   },
   "outputs": [],
   "source": [
    "A11_disabled_child3_win = A11_disabled_child3_win.ix[A11_disabled_child3_win.W_14 != '잔(장)']"
   ]
  },
  {
   "cell_type": "code",
   "execution_count": 125,
   "metadata": {
    "collapsed": false
   },
   "outputs": [
    {
     "data": {
      "text/plain": [
       "1"
      ]
     },
     "execution_count": 125,
     "metadata": {},
     "output_type": "execute_result"
    }
   ],
   "source": [
    "len(A11_disabled_child3_win)"
   ]
  },
  {
   "cell_type": "code",
   "execution_count": 126,
   "metadata": {
    "collapsed": false
   },
   "outputs": [
    {
     "data": {
      "text/plain": [
       "0.2"
      ]
     },
     "execution_count": 126,
     "metadata": {},
     "output_type": "execute_result"
    }
   ],
   "source": [
    "len(A11_disabled_child3_win) / len(A11_disabled_child3)"
   ]
  },
  {
   "cell_type": "code",
   "execution_count": 127,
   "metadata": {
    "collapsed": false
   },
   "outputs": [
    {
     "data": {
      "text/plain": [
       "0.6"
      ]
     },
     "execution_count": 127,
     "metadata": {},
     "output_type": "execute_result"
    }
   ],
   "source": [
    "len(A11_disabled_child3_down) / len(A11_disabled_child3)"
   ]
  },
  {
   "cell_type": "code",
   "execution_count": 128,
   "metadata": {
    "collapsed": false
   },
   "outputs": [
    {
     "data": {
      "text/plain": [
       "0.2"
      ]
     },
     "execution_count": 128,
     "metadata": {},
     "output_type": "execute_result"
    }
   ],
   "source": [
    "1 / len(A11_disabled_child3)"
   ]
  },
  {
   "cell_type": "code",
   "execution_count": 130,
   "metadata": {
    "collapsed": false
   },
   "outputs": [
    {
     "data": {
      "text/plain": [
       "1.0"
      ]
     },
     "execution_count": 130,
     "metadata": {},
     "output_type": "execute_result"
    }
   ],
   "source": [
    "0.2 + 0.6 + 0.2"
   ]
  },
  {
   "cell_type": "markdown",
   "metadata": {},
   "source": [
    "##### 거주기간 구간화"
   ]
  },
  {
   "cell_type": "code",
   "execution_count": 131,
   "metadata": {
    "collapsed": false
   },
   "outputs": [],
   "source": [
    "resi_bins = [0,3,5,100] # range 범위 지정\n",
    "resi_group_names = ['1_3년', '3_5년', '5년이상'] # 지정할 그룹명\n",
    "resi_categories = pd.cut(A11_data_disabled['A_22'],  resi_bins,False, labels=resi_group_names) # range 변수"
   ]
  },
  {
   "cell_type": "code",
   "execution_count": 132,
   "metadata": {
    "collapsed": true
   },
   "outputs": [],
   "source": [
    "A11_data_disabled['resi_categories'] = pd.cut(A11_data_disabled['A_22'], resi_bins, labels=resi_group_names) # range column 추가"
   ]
  },
  {
   "cell_type": "code",
   "execution_count": 133,
   "metadata": {
    "collapsed": true
   },
   "outputs": [
    {
     "data": {
      "text/html": [
       "<div>\n",
       "<table border=\"1\" class=\"dataframe\">\n",
       "  <thead>\n",
       "    <tr style=\"text-align: right;\">\n",
       "      <th></th>\n",
       "      <th>A_22</th>\n",
       "      <th>resi_categories</th>\n",
       "    </tr>\n",
       "  </thead>\n",
       "  <tbody>\n",
       "    <tr>\n",
       "      <th>0</th>\n",
       "      <td>0</td>\n",
       "      <td>NaN</td>\n",
       "    </tr>\n",
       "    <tr>\n",
       "      <th>1</th>\n",
       "      <td>0</td>\n",
       "      <td>NaN</td>\n",
       "    </tr>\n",
       "    <tr>\n",
       "      <th>2</th>\n",
       "      <td>0</td>\n",
       "      <td>NaN</td>\n",
       "    </tr>\n",
       "    <tr>\n",
       "      <th>3</th>\n",
       "      <td>0</td>\n",
       "      <td>NaN</td>\n",
       "    </tr>\n",
       "    <tr>\n",
       "      <th>4</th>\n",
       "      <td>0</td>\n",
       "      <td>NaN</td>\n",
       "    </tr>\n",
       "    <tr>\n",
       "      <th>5</th>\n",
       "      <td>0</td>\n",
       "      <td>NaN</td>\n",
       "    </tr>\n",
       "    <tr>\n",
       "      <th>6</th>\n",
       "      <td>5</td>\n",
       "      <td>3_5년</td>\n",
       "    </tr>\n",
       "    <tr>\n",
       "      <th>7</th>\n",
       "      <td>0</td>\n",
       "      <td>NaN</td>\n",
       "    </tr>\n",
       "    <tr>\n",
       "      <th>8</th>\n",
       "      <td>0</td>\n",
       "      <td>NaN</td>\n",
       "    </tr>\n",
       "    <tr>\n",
       "      <th>9</th>\n",
       "      <td>0</td>\n",
       "      <td>NaN</td>\n",
       "    </tr>\n",
       "    <tr>\n",
       "      <th>10</th>\n",
       "      <td>0</td>\n",
       "      <td>NaN</td>\n",
       "    </tr>\n",
       "    <tr>\n",
       "      <th>11</th>\n",
       "      <td>0</td>\n",
       "      <td>NaN</td>\n",
       "    </tr>\n",
       "    <tr>\n",
       "      <th>12</th>\n",
       "      <td>3</td>\n",
       "      <td>1_3년</td>\n",
       "    </tr>\n",
       "    <tr>\n",
       "      <th>13</th>\n",
       "      <td>0</td>\n",
       "      <td>NaN</td>\n",
       "    </tr>\n",
       "    <tr>\n",
       "      <th>14</th>\n",
       "      <td>14</td>\n",
       "      <td>5년이상</td>\n",
       "    </tr>\n",
       "    <tr>\n",
       "      <th>15</th>\n",
       "      <td>0</td>\n",
       "      <td>NaN</td>\n",
       "    </tr>\n",
       "    <tr>\n",
       "      <th>16</th>\n",
       "      <td>8</td>\n",
       "      <td>5년이상</td>\n",
       "    </tr>\n",
       "    <tr>\n",
       "      <th>17</th>\n",
       "      <td>0</td>\n",
       "      <td>NaN</td>\n",
       "    </tr>\n",
       "    <tr>\n",
       "      <th>18</th>\n",
       "      <td>0</td>\n",
       "      <td>NaN</td>\n",
       "    </tr>\n",
       "    <tr>\n",
       "      <th>19</th>\n",
       "      <td>0</td>\n",
       "      <td>NaN</td>\n",
       "    </tr>\n",
       "    <tr>\n",
       "      <th>20</th>\n",
       "      <td>21</td>\n",
       "      <td>5년이상</td>\n",
       "    </tr>\n",
       "    <tr>\n",
       "      <th>21</th>\n",
       "      <td>0</td>\n",
       "      <td>NaN</td>\n",
       "    </tr>\n",
       "    <tr>\n",
       "      <th>22</th>\n",
       "      <td>0</td>\n",
       "      <td>NaN</td>\n",
       "    </tr>\n",
       "    <tr>\n",
       "      <th>23</th>\n",
       "      <td>2</td>\n",
       "      <td>1_3년</td>\n",
       "    </tr>\n",
       "    <tr>\n",
       "      <th>24</th>\n",
       "      <td>1</td>\n",
       "      <td>1_3년</td>\n",
       "    </tr>\n",
       "    <tr>\n",
       "      <th>25</th>\n",
       "      <td>0</td>\n",
       "      <td>NaN</td>\n",
       "    </tr>\n",
       "    <tr>\n",
       "      <th>26</th>\n",
       "      <td>0</td>\n",
       "      <td>NaN</td>\n",
       "    </tr>\n",
       "    <tr>\n",
       "      <th>27</th>\n",
       "      <td>10</td>\n",
       "      <td>5년이상</td>\n",
       "    </tr>\n",
       "    <tr>\n",
       "      <th>28</th>\n",
       "      <td>3</td>\n",
       "      <td>1_3년</td>\n",
       "    </tr>\n",
       "    <tr>\n",
       "      <th>29</th>\n",
       "      <td>53</td>\n",
       "      <td>5년이상</td>\n",
       "    </tr>\n",
       "    <tr>\n",
       "      <th>...</th>\n",
       "      <td>...</td>\n",
       "      <td>...</td>\n",
       "    </tr>\n",
       "    <tr>\n",
       "      <th>66</th>\n",
       "      <td>0</td>\n",
       "      <td>NaN</td>\n",
       "    </tr>\n",
       "    <tr>\n",
       "      <th>67</th>\n",
       "      <td>0</td>\n",
       "      <td>NaN</td>\n",
       "    </tr>\n",
       "    <tr>\n",
       "      <th>68</th>\n",
       "      <td>0</td>\n",
       "      <td>NaN</td>\n",
       "    </tr>\n",
       "    <tr>\n",
       "      <th>69</th>\n",
       "      <td>0</td>\n",
       "      <td>NaN</td>\n",
       "    </tr>\n",
       "    <tr>\n",
       "      <th>70</th>\n",
       "      <td>0</td>\n",
       "      <td>NaN</td>\n",
       "    </tr>\n",
       "    <tr>\n",
       "      <th>71</th>\n",
       "      <td>0</td>\n",
       "      <td>NaN</td>\n",
       "    </tr>\n",
       "    <tr>\n",
       "      <th>72</th>\n",
       "      <td>0</td>\n",
       "      <td>NaN</td>\n",
       "    </tr>\n",
       "    <tr>\n",
       "      <th>73</th>\n",
       "      <td>2</td>\n",
       "      <td>1_3년</td>\n",
       "    </tr>\n",
       "    <tr>\n",
       "      <th>74</th>\n",
       "      <td>0</td>\n",
       "      <td>NaN</td>\n",
       "    </tr>\n",
       "    <tr>\n",
       "      <th>75</th>\n",
       "      <td>5</td>\n",
       "      <td>3_5년</td>\n",
       "    </tr>\n",
       "    <tr>\n",
       "      <th>76</th>\n",
       "      <td>0</td>\n",
       "      <td>NaN</td>\n",
       "    </tr>\n",
       "    <tr>\n",
       "      <th>77</th>\n",
       "      <td>0</td>\n",
       "      <td>NaN</td>\n",
       "    </tr>\n",
       "    <tr>\n",
       "      <th>78</th>\n",
       "      <td>18</td>\n",
       "      <td>5년이상</td>\n",
       "    </tr>\n",
       "    <tr>\n",
       "      <th>79</th>\n",
       "      <td>0</td>\n",
       "      <td>NaN</td>\n",
       "    </tr>\n",
       "    <tr>\n",
       "      <th>80</th>\n",
       "      <td>0</td>\n",
       "      <td>NaN</td>\n",
       "    </tr>\n",
       "    <tr>\n",
       "      <th>81</th>\n",
       "      <td>0</td>\n",
       "      <td>NaN</td>\n",
       "    </tr>\n",
       "    <tr>\n",
       "      <th>82</th>\n",
       "      <td>4</td>\n",
       "      <td>3_5년</td>\n",
       "    </tr>\n",
       "    <tr>\n",
       "      <th>83</th>\n",
       "      <td>0</td>\n",
       "      <td>NaN</td>\n",
       "    </tr>\n",
       "    <tr>\n",
       "      <th>84</th>\n",
       "      <td>0</td>\n",
       "      <td>NaN</td>\n",
       "    </tr>\n",
       "    <tr>\n",
       "      <th>85</th>\n",
       "      <td>0</td>\n",
       "      <td>NaN</td>\n",
       "    </tr>\n",
       "    <tr>\n",
       "      <th>86</th>\n",
       "      <td>3</td>\n",
       "      <td>1_3년</td>\n",
       "    </tr>\n",
       "    <tr>\n",
       "      <th>87</th>\n",
       "      <td>0</td>\n",
       "      <td>NaN</td>\n",
       "    </tr>\n",
       "    <tr>\n",
       "      <th>88</th>\n",
       "      <td>0</td>\n",
       "      <td>NaN</td>\n",
       "    </tr>\n",
       "    <tr>\n",
       "      <th>89</th>\n",
       "      <td>0</td>\n",
       "      <td>NaN</td>\n",
       "    </tr>\n",
       "    <tr>\n",
       "      <th>90</th>\n",
       "      <td>1</td>\n",
       "      <td>1_3년</td>\n",
       "    </tr>\n",
       "    <tr>\n",
       "      <th>91</th>\n",
       "      <td>1</td>\n",
       "      <td>1_3년</td>\n",
       "    </tr>\n",
       "    <tr>\n",
       "      <th>92</th>\n",
       "      <td>0</td>\n",
       "      <td>NaN</td>\n",
       "    </tr>\n",
       "    <tr>\n",
       "      <th>93</th>\n",
       "      <td>0</td>\n",
       "      <td>NaN</td>\n",
       "    </tr>\n",
       "    <tr>\n",
       "      <th>94</th>\n",
       "      <td>0</td>\n",
       "      <td>NaN</td>\n",
       "    </tr>\n",
       "    <tr>\n",
       "      <th>95</th>\n",
       "      <td>0</td>\n",
       "      <td>NaN</td>\n",
       "    </tr>\n",
       "  </tbody>\n",
       "</table>\n",
       "<p>96 rows × 2 columns</p>\n",
       "</div>"
      ],
      "text/plain": [
       "    A_22 resi_categories\n",
       "0      0             NaN\n",
       "1      0             NaN\n",
       "2      0             NaN\n",
       "3      0             NaN\n",
       "4      0             NaN\n",
       "5      0             NaN\n",
       "6      5            3_5년\n",
       "7      0             NaN\n",
       "8      0             NaN\n",
       "9      0             NaN\n",
       "10     0             NaN\n",
       "11     0             NaN\n",
       "12     3            1_3년\n",
       "13     0             NaN\n",
       "14    14            5년이상\n",
       "15     0             NaN\n",
       "16     8            5년이상\n",
       "17     0             NaN\n",
       "18     0             NaN\n",
       "19     0             NaN\n",
       "20    21            5년이상\n",
       "21     0             NaN\n",
       "22     0             NaN\n",
       "23     2            1_3년\n",
       "24     1            1_3년\n",
       "25     0             NaN\n",
       "26     0             NaN\n",
       "27    10            5년이상\n",
       "28     3            1_3년\n",
       "29    53            5년이상\n",
       "..   ...             ...\n",
       "66     0             NaN\n",
       "67     0             NaN\n",
       "68     0             NaN\n",
       "69     0             NaN\n",
       "70     0             NaN\n",
       "71     0             NaN\n",
       "72     0             NaN\n",
       "73     2            1_3년\n",
       "74     0             NaN\n",
       "75     5            3_5년\n",
       "76     0             NaN\n",
       "77     0             NaN\n",
       "78    18            5년이상\n",
       "79     0             NaN\n",
       "80     0             NaN\n",
       "81     0             NaN\n",
       "82     4            3_5년\n",
       "83     0             NaN\n",
       "84     0             NaN\n",
       "85     0             NaN\n",
       "86     3            1_3년\n",
       "87     0             NaN\n",
       "88     0             NaN\n",
       "89     0             NaN\n",
       "90     1            1_3년\n",
       "91     1            1_3년\n",
       "92     0             NaN\n",
       "93     0             NaN\n",
       "94     0             NaN\n",
       "95     0             NaN\n",
       "\n",
       "[96 rows x 2 columns]"
      ]
     },
     "execution_count": 133,
     "metadata": {},
     "output_type": "execute_result"
    }
   ],
   "source": [
    "A11_data_disabled[['A_22','resi_categories']]"
   ]
  },
  {
   "cell_type": "markdown",
   "metadata": {},
   "source": [
    "##### 거주기간 별로 data 분리"
   ]
  },
  {
   "cell_type": "code",
   "execution_count": 134,
   "metadata": {
    "collapsed": true
   },
   "outputs": [],
   "source": [
    "A11_disabled_oneTothree = A11_data_disabled.ix[A11_data_disabled.resi_categories == \"1_3년\"]\n",
    "A11_disabled_threeTofive = A11_data_disabled.ix[A11_data_disabled.resi_categories == \"3_5년\"]\n",
    "A11_disabled_five = A11_data_disabled.ix[A11_data_disabled.resi_categories == \"5년이상\"]"
   ]
  },
  {
   "cell_type": "code",
   "execution_count": 135,
   "metadata": {
    "collapsed": false
   },
   "outputs": [
    {
     "data": {
      "text/plain": [
       "14"
      ]
     },
     "execution_count": 135,
     "metadata": {},
     "output_type": "execute_result"
    }
   ],
   "source": [
    "len(A11_disabled_oneTothree)"
   ]
  },
  {
   "cell_type": "code",
   "execution_count": 136,
   "metadata": {
    "collapsed": false,
    "scrolled": true
   },
   "outputs": [
    {
     "data": {
      "text/plain": [
       "4"
      ]
     },
     "execution_count": 136,
     "metadata": {},
     "output_type": "execute_result"
    }
   ],
   "source": [
    "len(A11_disabled_threeTofive)"
   ]
  },
  {
   "cell_type": "code",
   "execution_count": 137,
   "metadata": {
    "collapsed": false
   },
   "outputs": [
    {
     "data": {
      "text/plain": [
       "9"
      ]
     },
     "execution_count": 137,
     "metadata": {},
     "output_type": "execute_result"
    }
   ],
   "source": [
    "len(A11_disabled_five)"
   ]
  },
  {
   "cell_type": "markdown",
   "metadata": {},
   "source": [
    "###### 1~3년 이상 당첨/탈락 데이터 나누기"
   ]
  },
  {
   "cell_type": "code",
   "execution_count": 138,
   "metadata": {
    "collapsed": false
   },
   "outputs": [],
   "source": [
    "A11_disabled_oneTothree_win = A11_disabled_oneTothree.ix[A11_disabled_oneTothree.W_4 == '당첨']\n",
    "A11_disabled_oneTothree_lose = A11_disabled_oneTothree.ix[A11_disabled_oneTothree.W_4 != '당첨']"
   ]
  },
  {
   "cell_type": "code",
   "execution_count": 139,
   "metadata": {
    "collapsed": false
   },
   "outputs": [
    {
     "data": {
      "text/plain": [
       "10"
      ]
     },
     "execution_count": 139,
     "metadata": {},
     "output_type": "execute_result"
    }
   ],
   "source": [
    "len(A11_disabled_oneTothree_win) # 당첨자 10명"
   ]
  },
  {
   "cell_type": "code",
   "execution_count": 141,
   "metadata": {
    "collapsed": false,
    "scrolled": true
   },
   "outputs": [
    {
     "data": {
      "text/plain": [
       "4"
      ]
     },
     "execution_count": 141,
     "metadata": {},
     "output_type": "execute_result"
    }
   ],
   "source": [
    "len(A11_disabled_oneTothree_lose) # 탈락자 4명"
   ]
  },
  {
   "cell_type": "code",
   "execution_count": 142,
   "metadata": {
    "collapsed": false,
    "scrolled": true
   },
   "outputs": [
    {
     "data": {
      "text/plain": [
       "12    우(장)\n",
       "23    일(장)\n",
       "24    잔(장)\n",
       "28    잔(장)\n",
       "30    일(장)\n",
       "35    우(장)\n",
       "36    일(장)\n",
       "41    일(장)\n",
       "86    일(장)\n",
       "90    일(장)\n",
       "Name: W_14, dtype: object"
      ]
     },
     "execution_count": 142,
     "metadata": {},
     "output_type": "execute_result"
    }
   ],
   "source": [
    "A11_disabled_oneTothree_win.W_14"
   ]
  },
  {
   "cell_type": "code",
   "execution_count": 143,
   "metadata": {
    "collapsed": true
   },
   "outputs": [],
   "source": [
    "A11_disabled_oneTothree_win = A11_disabled_oneTothree_win.ix[A11_disabled_oneTothree_win.W_14 != '잔(장)']"
   ]
  },
  {
   "cell_type": "code",
   "execution_count": 144,
   "metadata": {
    "collapsed": false
   },
   "outputs": [
    {
     "data": {
      "text/plain": [
       "8"
      ]
     },
     "execution_count": 144,
     "metadata": {},
     "output_type": "execute_result"
    }
   ],
   "source": [
    "len(A11_disabled_oneTothree_win)"
   ]
  },
  {
   "cell_type": "code",
   "execution_count": 145,
   "metadata": {
    "collapsed": false
   },
   "outputs": [
    {
     "data": {
      "text/plain": [
       "0.5714285714285714"
      ]
     },
     "execution_count": 145,
     "metadata": {},
     "output_type": "execute_result"
    }
   ],
   "source": [
    "len(A11_disabled_oneTothree_win)/len(A11_disabled_oneTothree)"
   ]
  },
  {
   "cell_type": "code",
   "execution_count": 148,
   "metadata": {
    "collapsed": false
   },
   "outputs": [
    {
     "data": {
      "text/plain": [
       "0.2857142857142857"
      ]
     },
     "execution_count": 148,
     "metadata": {},
     "output_type": "execute_result"
    }
   ],
   "source": [
    "len(A11_disabled_oneTothree_lose)/len(A11_disabled_oneTothree)"
   ]
  },
  {
   "cell_type": "code",
   "execution_count": 147,
   "metadata": {
    "collapsed": false
   },
   "outputs": [
    {
     "data": {
      "text/plain": [
       "0.14285714285714285"
      ]
     },
     "execution_count": 147,
     "metadata": {},
     "output_type": "execute_result"
    }
   ],
   "source": [
    "2/len(A11_disabled_oneTothree)"
   ]
  },
  {
   "cell_type": "code",
   "execution_count": 149,
   "metadata": {
    "collapsed": false
   },
   "outputs": [
    {
     "data": {
      "text/plain": [
       "1.0"
      ]
     },
     "execution_count": 149,
     "metadata": {},
     "output_type": "execute_result"
    }
   ],
   "source": [
    "0.5714285714285714+0.2857142857142857+0.14285714285714285"
   ]
  },
  {
   "cell_type": "markdown",
   "metadata": {},
   "source": [
    "###### 3~5년 데이터 당첨/탈락 데이터 나누기"
   ]
  },
  {
   "cell_type": "code",
   "execution_count": 150,
   "metadata": {
    "collapsed": true
   },
   "outputs": [],
   "source": [
    "A11_disabled_threeTofive_win = A11_disabled_threeTofive.ix[A11_disabled_threeTofive.W_4 == '당첨']\n",
    "A11_disabled_threeTofive_lose = A11_disabled_threeTofive.ix[A11_disabled_threeTofive.W_4 != '당첨']"
   ]
  },
  {
   "cell_type": "code",
   "execution_count": 151,
   "metadata": {
    "collapsed": false
   },
   "outputs": [
    {
     "data": {
      "text/plain": [
       "4"
      ]
     },
     "execution_count": 151,
     "metadata": {},
     "output_type": "execute_result"
    }
   ],
   "source": [
    "len(A11_disabled_threeTofive_win)"
   ]
  },
  {
   "cell_type": "code",
   "execution_count": 152,
   "metadata": {
    "collapsed": false
   },
   "outputs": [
    {
     "data": {
      "text/plain": [
       "0"
      ]
     },
     "execution_count": 152,
     "metadata": {},
     "output_type": "execute_result"
    }
   ],
   "source": [
    "len(A11_disabled_threeTofive_lose)"
   ]
  },
  {
   "cell_type": "code",
   "execution_count": 153,
   "metadata": {
    "collapsed": false
   },
   "outputs": [
    {
     "data": {
      "text/plain": [
       "array(['잔(장)', '일(장)'], dtype=object)"
      ]
     },
     "execution_count": 153,
     "metadata": {},
     "output_type": "execute_result"
    }
   ],
   "source": [
    "A11_disabled_threeTofive_win.W_14.unique()"
   ]
  },
  {
   "cell_type": "code",
   "execution_count": 154,
   "metadata": {
    "collapsed": true
   },
   "outputs": [],
   "source": [
    "A11_disabled_threeTofive_win = A11_disabled_threeTofive_win.ix[A11_disabled_threeTofive_win.W_14 != '잔(장)']"
   ]
  },
  {
   "cell_type": "code",
   "execution_count": 155,
   "metadata": {
    "collapsed": false,
    "scrolled": true
   },
   "outputs": [
    {
     "data": {
      "text/plain": [
       "2"
      ]
     },
     "execution_count": 155,
     "metadata": {},
     "output_type": "execute_result"
    }
   ],
   "source": [
    "len(A11_disabled_threeTofive_win)"
   ]
  },
  {
   "cell_type": "code",
   "execution_count": 156,
   "metadata": {
    "collapsed": false
   },
   "outputs": [
    {
     "data": {
      "text/plain": [
       "0.5"
      ]
     },
     "execution_count": 156,
     "metadata": {},
     "output_type": "execute_result"
    }
   ],
   "source": [
    "len(A11_disabled_threeTofive_win)/len(A11_disabled_threeTofive)"
   ]
  },
  {
   "cell_type": "code",
   "execution_count": 157,
   "metadata": {
    "collapsed": false
   },
   "outputs": [
    {
     "data": {
      "text/plain": [
       "0.5"
      ]
     },
     "execution_count": 157,
     "metadata": {},
     "output_type": "execute_result"
    }
   ],
   "source": [
    "2/len(A11_disabled_threeTofive)"
   ]
  },
  {
   "cell_type": "code",
   "execution_count": 149,
   "metadata": {
    "collapsed": false
   },
   "outputs": [
    {
     "data": {
      "text/plain": [
       "1.0"
      ]
     },
     "execution_count": 149,
     "metadata": {},
     "output_type": "execute_result"
    }
   ],
   "source": [
    "0.8+0.2"
   ]
  },
  {
   "cell_type": "markdown",
   "metadata": {},
   "source": [
    "###### 5년이상 데이터 당첨/탈락 데이터 나누기"
   ]
  },
  {
   "cell_type": "code",
   "execution_count": 158,
   "metadata": {
    "collapsed": true
   },
   "outputs": [],
   "source": [
    "A11_disabled_five_win = A11_disabled_five.ix[A11_disabled_five.W_4 == '당첨']\n",
    "A11_disabled_five_lose = A11_disabled_five.ix[A11_disabled_five.W_4 != '당첨']"
   ]
  },
  {
   "cell_type": "code",
   "execution_count": 159,
   "metadata": {
    "collapsed": false
   },
   "outputs": [
    {
     "data": {
      "text/plain": [
       "7"
      ]
     },
     "execution_count": 159,
     "metadata": {},
     "output_type": "execute_result"
    }
   ],
   "source": [
    "len(A11_disabled_five_win)"
   ]
  },
  {
   "cell_type": "code",
   "execution_count": 160,
   "metadata": {
    "collapsed": false
   },
   "outputs": [
    {
     "data": {
      "text/plain": [
       "2"
      ]
     },
     "execution_count": 160,
     "metadata": {},
     "output_type": "execute_result"
    }
   ],
   "source": [
    "len(A11_disabled_five_lose)"
   ]
  },
  {
   "cell_type": "code",
   "execution_count": 161,
   "metadata": {
    "collapsed": false,
    "scrolled": true
   },
   "outputs": [
    {
     "data": {
      "text/plain": [
       "array(['우(장)', '잔(장)', '일(장)'], dtype=object)"
      ]
     },
     "execution_count": 161,
     "metadata": {},
     "output_type": "execute_result"
    }
   ],
   "source": [
    "A11_disabled_five_win.W_14.unique()"
   ]
  },
  {
   "cell_type": "code",
   "execution_count": 164,
   "metadata": {
    "collapsed": true
   },
   "outputs": [],
   "source": [
    "A11_disabled_five_win = A11_disabled_five_win.ix[A11_disabled_five_win.W_14 != '잔(장)']"
   ]
  },
  {
   "cell_type": "code",
   "execution_count": 165,
   "metadata": {
    "collapsed": false
   },
   "outputs": [
    {
     "data": {
      "text/plain": [
       "3"
      ]
     },
     "execution_count": 165,
     "metadata": {},
     "output_type": "execute_result"
    }
   ],
   "source": [
    "len(A11_disabled_five_win)"
   ]
  },
  {
   "cell_type": "code",
   "execution_count": 166,
   "metadata": {
    "collapsed": false
   },
   "outputs": [
    {
     "data": {
      "text/plain": [
       "0.3333333333333333"
      ]
     },
     "execution_count": 166,
     "metadata": {},
     "output_type": "execute_result"
    }
   ],
   "source": [
    "len(A11_disabled_five_win)/len(A11_disabled_five)"
   ]
  },
  {
   "cell_type": "code",
   "execution_count": 167,
   "metadata": {
    "collapsed": false
   },
   "outputs": [
    {
     "data": {
      "text/plain": [
       "0.2222222222222222"
      ]
     },
     "execution_count": 167,
     "metadata": {},
     "output_type": "execute_result"
    }
   ],
   "source": [
    "len(A11_disabled_five_lose)/len(A11_disabled_five)"
   ]
  },
  {
   "cell_type": "code",
   "execution_count": 168,
   "metadata": {
    "collapsed": false
   },
   "outputs": [
    {
     "data": {
      "text/plain": [
       "0.4444444444444444"
      ]
     },
     "execution_count": 168,
     "metadata": {},
     "output_type": "execute_result"
    }
   ],
   "source": [
    "4 / len(A11_disabled_five)"
   ]
  },
  {
   "cell_type": "code",
   "execution_count": 169,
   "metadata": {
    "collapsed": false,
    "scrolled": true
   },
   "outputs": [
    {
     "data": {
      "text/plain": [
       "1.0"
      ]
     },
     "execution_count": 169,
     "metadata": {},
     "output_type": "execute_result"
    }
   ],
   "source": [
    "0.3333333333333333+0.2222222222222222+0.4444444444444444"
   ]
  },
  {
   "cell_type": "markdown",
   "metadata": {},
   "source": [
    "###### 당첨자 중 건설근로자"
   ]
  },
  {
   "cell_type": "code",
   "execution_count": 172,
   "metadata": {
    "collapsed": true
   },
   "outputs": [
    {
     "data": {
      "text/html": [
       "<div>\n",
       "<table border=\"1\" class=\"dataframe\">\n",
       "  <thead>\n",
       "    <tr style=\"text-align: right;\">\n",
       "      <th></th>\n",
       "      <th>A_24</th>\n",
       "      <th>W_4</th>\n",
       "      <th>W_35</th>\n",
       "    </tr>\n",
       "  </thead>\n",
       "  <tbody>\n",
       "    <tr>\n",
       "      <th>1</th>\n",
       "      <td>장애인</td>\n",
       "      <td>당첨</td>\n",
       "      <td></td>\n",
       "    </tr>\n",
       "    <tr>\n",
       "      <th>12</th>\n",
       "      <td>장애인</td>\n",
       "      <td>당첨</td>\n",
       "      <td></td>\n",
       "    </tr>\n",
       "    <tr>\n",
       "      <th>13</th>\n",
       "      <td>장애인</td>\n",
       "      <td>당첨</td>\n",
       "      <td></td>\n",
       "    </tr>\n",
       "    <tr>\n",
       "      <th>14</th>\n",
       "      <td>장애인</td>\n",
       "      <td>당첨</td>\n",
       "      <td></td>\n",
       "    </tr>\n",
       "    <tr>\n",
       "      <th>18</th>\n",
       "      <td>장애인</td>\n",
       "      <td>당첨</td>\n",
       "      <td></td>\n",
       "    </tr>\n",
       "    <tr>\n",
       "      <th>22</th>\n",
       "      <td>장애인</td>\n",
       "      <td>당첨</td>\n",
       "      <td></td>\n",
       "    </tr>\n",
       "    <tr>\n",
       "      <th>33</th>\n",
       "      <td>장애인</td>\n",
       "      <td>당첨</td>\n",
       "      <td></td>\n",
       "    </tr>\n",
       "    <tr>\n",
       "      <th>34</th>\n",
       "      <td>장애인</td>\n",
       "      <td>당첨</td>\n",
       "      <td></td>\n",
       "    </tr>\n",
       "    <tr>\n",
       "      <th>35</th>\n",
       "      <td>장애인</td>\n",
       "      <td>당첨</td>\n",
       "      <td>Y</td>\n",
       "    </tr>\n",
       "    <tr>\n",
       "      <th>37</th>\n",
       "      <td>장애인</td>\n",
       "      <td>당첨</td>\n",
       "      <td></td>\n",
       "    </tr>\n",
       "    <tr>\n",
       "      <th>47</th>\n",
       "      <td>장애인</td>\n",
       "      <td>당첨</td>\n",
       "      <td></td>\n",
       "    </tr>\n",
       "    <tr>\n",
       "      <th>50</th>\n",
       "      <td>장애인</td>\n",
       "      <td>당첨</td>\n",
       "      <td></td>\n",
       "    </tr>\n",
       "    <tr>\n",
       "      <th>53</th>\n",
       "      <td>장애인</td>\n",
       "      <td>당첨</td>\n",
       "      <td></td>\n",
       "    </tr>\n",
       "    <tr>\n",
       "      <th>54</th>\n",
       "      <td>장애인</td>\n",
       "      <td>당첨</td>\n",
       "      <td></td>\n",
       "    </tr>\n",
       "    <tr>\n",
       "      <th>58</th>\n",
       "      <td>장애인</td>\n",
       "      <td>당첨</td>\n",
       "      <td></td>\n",
       "    </tr>\n",
       "    <tr>\n",
       "      <th>64</th>\n",
       "      <td>장애인</td>\n",
       "      <td>당첨</td>\n",
       "      <td></td>\n",
       "    </tr>\n",
       "    <tr>\n",
       "      <th>67</th>\n",
       "      <td>장애인</td>\n",
       "      <td>당첨</td>\n",
       "      <td></td>\n",
       "    </tr>\n",
       "    <tr>\n",
       "      <th>70</th>\n",
       "      <td>장애인</td>\n",
       "      <td>당첨</td>\n",
       "      <td></td>\n",
       "    </tr>\n",
       "    <tr>\n",
       "      <th>74</th>\n",
       "      <td>장애인</td>\n",
       "      <td>당첨</td>\n",
       "      <td></td>\n",
       "    </tr>\n",
       "    <tr>\n",
       "      <th>84</th>\n",
       "      <td>장애인</td>\n",
       "      <td>당첨</td>\n",
       "      <td></td>\n",
       "    </tr>\n",
       "    <tr>\n",
       "      <th>85</th>\n",
       "      <td>장애인</td>\n",
       "      <td>당첨</td>\n",
       "      <td></td>\n",
       "    </tr>\n",
       "    <tr>\n",
       "      <th>92</th>\n",
       "      <td>장애인</td>\n",
       "      <td>당첨</td>\n",
       "      <td></td>\n",
       "    </tr>\n",
       "    <tr>\n",
       "      <th>94</th>\n",
       "      <td>장애인</td>\n",
       "      <td>당첨</td>\n",
       "      <td></td>\n",
       "    </tr>\n",
       "    <tr>\n",
       "      <th>95</th>\n",
       "      <td>장애인</td>\n",
       "      <td>당첨</td>\n",
       "      <td></td>\n",
       "    </tr>\n",
       "  </tbody>\n",
       "</table>\n",
       "</div>"
      ],
      "text/plain": [
       "   A_24 W_4 W_35\n",
       "1   장애인  당첨     \n",
       "12  장애인  당첨     \n",
       "13  장애인  당첨     \n",
       "14  장애인  당첨     \n",
       "18  장애인  당첨     \n",
       "22  장애인  당첨     \n",
       "33  장애인  당첨     \n",
       "34  장애인  당첨     \n",
       "35  장애인  당첨    Y\n",
       "37  장애인  당첨     \n",
       "47  장애인  당첨     \n",
       "50  장애인  당첨     \n",
       "53  장애인  당첨     \n",
       "54  장애인  당첨     \n",
       "58  장애인  당첨     \n",
       "64  장애인  당첨     \n",
       "67  장애인  당첨     \n",
       "70  장애인  당첨     \n",
       "74  장애인  당첨     \n",
       "84  장애인  당첨     \n",
       "85  장애인  당첨     \n",
       "92  장애인  당첨     \n",
       "94  장애인  당첨     \n",
       "95  장애인  당첨     "
      ]
     },
     "execution_count": 172,
     "metadata": {},
     "output_type": "execute_result"
    }
   ],
   "source": [
    "A11_disabled_priority[['A_24', 'W_4', 'W_35']] # 장애인 중 당첨형태가 우선공급인 자에 대한 건설근로자여부 확인 : 없음"
   ]
  },
  {
   "cell_type": "code",
   "execution_count": 174,
   "metadata": {
    "collapsed": true
   },
   "outputs": [
    {
     "data": {
      "text/html": [
       "<div>\n",
       "<table border=\"1\" class=\"dataframe\">\n",
       "  <thead>\n",
       "    <tr style=\"text-align: right;\">\n",
       "      <th></th>\n",
       "      <th>A_24</th>\n",
       "      <th>W_4</th>\n",
       "      <th>W_35</th>\n",
       "    </tr>\n",
       "  </thead>\n",
       "  <tbody>\n",
       "    <tr>\n",
       "      <th>1</th>\n",
       "      <td>장애인</td>\n",
       "      <td>당첨</td>\n",
       "      <td></td>\n",
       "    </tr>\n",
       "    <tr>\n",
       "      <th>12</th>\n",
       "      <td>장애인</td>\n",
       "      <td>당첨</td>\n",
       "      <td></td>\n",
       "    </tr>\n",
       "    <tr>\n",
       "      <th>13</th>\n",
       "      <td>장애인</td>\n",
       "      <td>당첨</td>\n",
       "      <td></td>\n",
       "    </tr>\n",
       "    <tr>\n",
       "      <th>14</th>\n",
       "      <td>장애인</td>\n",
       "      <td>당첨</td>\n",
       "      <td></td>\n",
       "    </tr>\n",
       "    <tr>\n",
       "      <th>18</th>\n",
       "      <td>장애인</td>\n",
       "      <td>당첨</td>\n",
       "      <td></td>\n",
       "    </tr>\n",
       "    <tr>\n",
       "      <th>22</th>\n",
       "      <td>장애인</td>\n",
       "      <td>당첨</td>\n",
       "      <td></td>\n",
       "    </tr>\n",
       "    <tr>\n",
       "      <th>33</th>\n",
       "      <td>장애인</td>\n",
       "      <td>당첨</td>\n",
       "      <td></td>\n",
       "    </tr>\n",
       "    <tr>\n",
       "      <th>34</th>\n",
       "      <td>장애인</td>\n",
       "      <td>당첨</td>\n",
       "      <td></td>\n",
       "    </tr>\n",
       "    <tr>\n",
       "      <th>35</th>\n",
       "      <td>장애인</td>\n",
       "      <td>당첨</td>\n",
       "      <td>Y</td>\n",
       "    </tr>\n",
       "    <tr>\n",
       "      <th>37</th>\n",
       "      <td>장애인</td>\n",
       "      <td>당첨</td>\n",
       "      <td></td>\n",
       "    </tr>\n",
       "    <tr>\n",
       "      <th>47</th>\n",
       "      <td>장애인</td>\n",
       "      <td>당첨</td>\n",
       "      <td></td>\n",
       "    </tr>\n",
       "    <tr>\n",
       "      <th>50</th>\n",
       "      <td>장애인</td>\n",
       "      <td>당첨</td>\n",
       "      <td></td>\n",
       "    </tr>\n",
       "    <tr>\n",
       "      <th>53</th>\n",
       "      <td>장애인</td>\n",
       "      <td>당첨</td>\n",
       "      <td></td>\n",
       "    </tr>\n",
       "    <tr>\n",
       "      <th>54</th>\n",
       "      <td>장애인</td>\n",
       "      <td>당첨</td>\n",
       "      <td></td>\n",
       "    </tr>\n",
       "    <tr>\n",
       "      <th>58</th>\n",
       "      <td>장애인</td>\n",
       "      <td>당첨</td>\n",
       "      <td></td>\n",
       "    </tr>\n",
       "    <tr>\n",
       "      <th>64</th>\n",
       "      <td>장애인</td>\n",
       "      <td>당첨</td>\n",
       "      <td></td>\n",
       "    </tr>\n",
       "    <tr>\n",
       "      <th>67</th>\n",
       "      <td>장애인</td>\n",
       "      <td>당첨</td>\n",
       "      <td></td>\n",
       "    </tr>\n",
       "    <tr>\n",
       "      <th>70</th>\n",
       "      <td>장애인</td>\n",
       "      <td>당첨</td>\n",
       "      <td></td>\n",
       "    </tr>\n",
       "    <tr>\n",
       "      <th>74</th>\n",
       "      <td>장애인</td>\n",
       "      <td>당첨</td>\n",
       "      <td></td>\n",
       "    </tr>\n",
       "    <tr>\n",
       "      <th>84</th>\n",
       "      <td>장애인</td>\n",
       "      <td>당첨</td>\n",
       "      <td></td>\n",
       "    </tr>\n",
       "    <tr>\n",
       "      <th>85</th>\n",
       "      <td>장애인</td>\n",
       "      <td>당첨</td>\n",
       "      <td></td>\n",
       "    </tr>\n",
       "    <tr>\n",
       "      <th>92</th>\n",
       "      <td>장애인</td>\n",
       "      <td>당첨</td>\n",
       "      <td></td>\n",
       "    </tr>\n",
       "    <tr>\n",
       "      <th>94</th>\n",
       "      <td>장애인</td>\n",
       "      <td>당첨</td>\n",
       "      <td></td>\n",
       "    </tr>\n",
       "    <tr>\n",
       "      <th>95</th>\n",
       "      <td>장애인</td>\n",
       "      <td>당첨</td>\n",
       "      <td></td>\n",
       "    </tr>\n",
       "  </tbody>\n",
       "</table>\n",
       "</div>"
      ],
      "text/plain": [
       "   A_24 W_4 W_35\n",
       "1   장애인  당첨     \n",
       "12  장애인  당첨     \n",
       "13  장애인  당첨     \n",
       "14  장애인  당첨     \n",
       "18  장애인  당첨     \n",
       "22  장애인  당첨     \n",
       "33  장애인  당첨     \n",
       "34  장애인  당첨     \n",
       "35  장애인  당첨    Y\n",
       "37  장애인  당첨     \n",
       "47  장애인  당첨     \n",
       "50  장애인  당첨     \n",
       "53  장애인  당첨     \n",
       "54  장애인  당첨     \n",
       "58  장애인  당첨     \n",
       "64  장애인  당첨     \n",
       "67  장애인  당첨     \n",
       "70  장애인  당첨     \n",
       "74  장애인  당첨     \n",
       "84  장애인  당첨     \n",
       "85  장애인  당첨     \n",
       "92  장애인  당첨     \n",
       "94  장애인  당첨     \n",
       "95  장애인  당첨     "
      ]
     },
     "execution_count": 174,
     "metadata": {},
     "output_type": "execute_result"
    }
   ],
   "source": [
    "A11_disabled_priority[['A_24', 'W_4', 'W_35']]"
   ]
  },
  {
   "cell_type": "code",
   "execution_count": 175,
   "metadata": {
    "collapsed": false
   },
   "outputs": [
    {
     "data": {
      "text/plain": [
       "0.041666666666666664"
      ]
     },
     "execution_count": 175,
     "metadata": {},
     "output_type": "execute_result"
    }
   ],
   "source": [
    "1 / len(A11_disabled_priority[['A_24', 'W_4', 'W_35']])"
   ]
  },
  {
   "cell_type": "code",
   "execution_count": 176,
   "metadata": {
    "collapsed": false
   },
   "outputs": [
    {
     "data": {
      "text/plain": [
       "0.9583333333333334"
      ]
     },
     "execution_count": 176,
     "metadata": {},
     "output_type": "execute_result"
    }
   ],
   "source": [
    "23 / len(A11_disabled_priority[['A_24', 'W_4', 'W_35']])"
   ]
  },
  {
   "cell_type": "code",
   "execution_count": 177,
   "metadata": {
    "collapsed": false,
    "scrolled": false
   },
   "outputs": [
    {
     "data": {
      "text/plain": [
       "1.0"
      ]
     },
     "execution_count": 177,
     "metadata": {},
     "output_type": "execute_result"
    }
   ],
   "source": [
    "0.041666666666666664 + 0.9583333333333334"
   ]
  },
  {
   "cell_type": "markdown",
   "metadata": {},
   "source": [
    "###### 탈락자 중 건설근로자"
   ]
  },
  {
   "cell_type": "code",
   "execution_count": 178,
   "metadata": {
    "collapsed": true
   },
   "outputs": [
    {
     "data": {
      "text/html": [
       "<div>\n",
       "<table border=\"1\" class=\"dataframe\">\n",
       "  <thead>\n",
       "    <tr style=\"text-align: right;\">\n",
       "      <th></th>\n",
       "      <th>A_24</th>\n",
       "      <th>W_4</th>\n",
       "      <th>W_35</th>\n",
       "    </tr>\n",
       "  </thead>\n",
       "  <tbody>\n",
       "    <tr>\n",
       "      <th>0</th>\n",
       "      <td>장애인</td>\n",
       "      <td>예비</td>\n",
       "      <td></td>\n",
       "    </tr>\n",
       "    <tr>\n",
       "      <th>3</th>\n",
       "      <td>장애인</td>\n",
       "      <td>서류(제)</td>\n",
       "      <td></td>\n",
       "    </tr>\n",
       "    <tr>\n",
       "      <th>4</th>\n",
       "      <td>장애인</td>\n",
       "      <td>서류(제)</td>\n",
       "      <td></td>\n",
       "    </tr>\n",
       "    <tr>\n",
       "      <th>5</th>\n",
       "      <td>장애인</td>\n",
       "      <td>예비</td>\n",
       "      <td></td>\n",
       "    </tr>\n",
       "    <tr>\n",
       "      <th>8</th>\n",
       "      <td>장애인</td>\n",
       "      <td>서류(제)</td>\n",
       "      <td></td>\n",
       "    </tr>\n",
       "    <tr>\n",
       "      <th>10</th>\n",
       "      <td>장애인</td>\n",
       "      <td>서류(제)</td>\n",
       "      <td></td>\n",
       "    </tr>\n",
       "    <tr>\n",
       "      <th>15</th>\n",
       "      <td>장애인</td>\n",
       "      <td>서류(제)</td>\n",
       "      <td></td>\n",
       "    </tr>\n",
       "    <tr>\n",
       "      <th>17</th>\n",
       "      <td>장애인</td>\n",
       "      <td>서류(제)</td>\n",
       "      <td></td>\n",
       "    </tr>\n",
       "    <tr>\n",
       "      <th>19</th>\n",
       "      <td>장애인</td>\n",
       "      <td>서류(제)</td>\n",
       "      <td></td>\n",
       "    </tr>\n",
       "    <tr>\n",
       "      <th>25</th>\n",
       "      <td>장애인</td>\n",
       "      <td>서류(제)</td>\n",
       "      <td></td>\n",
       "    </tr>\n",
       "    <tr>\n",
       "      <th>31</th>\n",
       "      <td>장애인</td>\n",
       "      <td>서류(제)</td>\n",
       "      <td></td>\n",
       "    </tr>\n",
       "    <tr>\n",
       "      <th>38</th>\n",
       "      <td>장애인</td>\n",
       "      <td>서류(제)</td>\n",
       "      <td>Y</td>\n",
       "    </tr>\n",
       "    <tr>\n",
       "      <th>39</th>\n",
       "      <td>장애인</td>\n",
       "      <td>예비</td>\n",
       "      <td></td>\n",
       "    </tr>\n",
       "    <tr>\n",
       "      <th>40</th>\n",
       "      <td>장애인</td>\n",
       "      <td>서류(제)</td>\n",
       "      <td></td>\n",
       "    </tr>\n",
       "    <tr>\n",
       "      <th>42</th>\n",
       "      <td>장애인</td>\n",
       "      <td>서류(제)</td>\n",
       "      <td></td>\n",
       "    </tr>\n",
       "    <tr>\n",
       "      <th>44</th>\n",
       "      <td>장애인</td>\n",
       "      <td>서류(제)</td>\n",
       "      <td></td>\n",
       "    </tr>\n",
       "    <tr>\n",
       "      <th>45</th>\n",
       "      <td>장애인</td>\n",
       "      <td>서류(제)</td>\n",
       "      <td></td>\n",
       "    </tr>\n",
       "    <tr>\n",
       "      <th>48</th>\n",
       "      <td>장애인</td>\n",
       "      <td>서류(부)</td>\n",
       "      <td></td>\n",
       "    </tr>\n",
       "    <tr>\n",
       "      <th>49</th>\n",
       "      <td>장애인</td>\n",
       "      <td>서류(부)</td>\n",
       "      <td>Y</td>\n",
       "    </tr>\n",
       "    <tr>\n",
       "      <th>51</th>\n",
       "      <td>장애인</td>\n",
       "      <td>예비</td>\n",
       "      <td></td>\n",
       "    </tr>\n",
       "    <tr>\n",
       "      <th>52</th>\n",
       "      <td>장애인</td>\n",
       "      <td>예비</td>\n",
       "      <td></td>\n",
       "    </tr>\n",
       "    <tr>\n",
       "      <th>56</th>\n",
       "      <td>장애인</td>\n",
       "      <td>예비</td>\n",
       "      <td></td>\n",
       "    </tr>\n",
       "    <tr>\n",
       "      <th>61</th>\n",
       "      <td>장애인</td>\n",
       "      <td>예비</td>\n",
       "      <td></td>\n",
       "    </tr>\n",
       "    <tr>\n",
       "      <th>65</th>\n",
       "      <td>장애인</td>\n",
       "      <td>예비</td>\n",
       "      <td></td>\n",
       "    </tr>\n",
       "    <tr>\n",
       "      <th>66</th>\n",
       "      <td>장애인</td>\n",
       "      <td>예비</td>\n",
       "      <td></td>\n",
       "    </tr>\n",
       "    <tr>\n",
       "      <th>69</th>\n",
       "      <td>장애인</td>\n",
       "      <td>예비</td>\n",
       "      <td></td>\n",
       "    </tr>\n",
       "    <tr>\n",
       "      <th>71</th>\n",
       "      <td>장애인</td>\n",
       "      <td>예비</td>\n",
       "      <td></td>\n",
       "    </tr>\n",
       "    <tr>\n",
       "      <th>73</th>\n",
       "      <td>장애인</td>\n",
       "      <td>서류(제)</td>\n",
       "      <td></td>\n",
       "    </tr>\n",
       "    <tr>\n",
       "      <th>79</th>\n",
       "      <td>장애인</td>\n",
       "      <td>서류(제)</td>\n",
       "      <td></td>\n",
       "    </tr>\n",
       "    <tr>\n",
       "      <th>80</th>\n",
       "      <td>장애인</td>\n",
       "      <td>서류(제)</td>\n",
       "      <td></td>\n",
       "    </tr>\n",
       "    <tr>\n",
       "      <th>87</th>\n",
       "      <td>장애인</td>\n",
       "      <td>예비</td>\n",
       "      <td></td>\n",
       "    </tr>\n",
       "    <tr>\n",
       "      <th>88</th>\n",
       "      <td>장애인</td>\n",
       "      <td>예비</td>\n",
       "      <td></td>\n",
       "    </tr>\n",
       "    <tr>\n",
       "      <th>91</th>\n",
       "      <td>장애인</td>\n",
       "      <td>서류(부)</td>\n",
       "      <td></td>\n",
       "    </tr>\n",
       "  </tbody>\n",
       "</table>\n",
       "</div>"
      ],
      "text/plain": [
       "   A_24    W_4 W_35\n",
       "0   장애인     예비     \n",
       "3   장애인  서류(제)     \n",
       "4   장애인  서류(제)     \n",
       "5   장애인     예비     \n",
       "8   장애인  서류(제)     \n",
       "10  장애인  서류(제)     \n",
       "15  장애인  서류(제)     \n",
       "17  장애인  서류(제)     \n",
       "19  장애인  서류(제)     \n",
       "25  장애인  서류(제)     \n",
       "31  장애인  서류(제)     \n",
       "38  장애인  서류(제)    Y\n",
       "39  장애인     예비     \n",
       "40  장애인  서류(제)     \n",
       "42  장애인  서류(제)     \n",
       "44  장애인  서류(제)     \n",
       "45  장애인  서류(제)     \n",
       "48  장애인  서류(부)     \n",
       "49  장애인  서류(부)    Y\n",
       "51  장애인     예비     \n",
       "52  장애인     예비     \n",
       "56  장애인     예비     \n",
       "61  장애인     예비     \n",
       "65  장애인     예비     \n",
       "66  장애인     예비     \n",
       "69  장애인     예비     \n",
       "71  장애인     예비     \n",
       "73  장애인  서류(제)     \n",
       "79  장애인  서류(제)     \n",
       "80  장애인  서류(제)     \n",
       "87  장애인     예비     \n",
       "88  장애인     예비     \n",
       "91  장애인  서류(부)     "
      ]
     },
     "execution_count": 178,
     "metadata": {},
     "output_type": "execute_result"
    }
   ],
   "source": [
    "A11_disabled_general_lose[['A_24', 'W_4', 'W_35']]"
   ]
  },
  {
   "cell_type": "code",
   "execution_count": 183,
   "metadata": {
    "collapsed": false
   },
   "outputs": [
    {
     "data": {
      "text/plain": [
       "33"
      ]
     },
     "execution_count": 183,
     "metadata": {},
     "output_type": "execute_result"
    }
   ],
   "source": [
    "len(A11_disabled_general_lose[['A_24', 'W_4', 'W_35']])"
   ]
  },
  {
   "cell_type": "code",
   "execution_count": 179,
   "metadata": {
    "collapsed": false,
    "scrolled": false
   },
   "outputs": [
    {
     "data": {
      "text/plain": [
       "0.06060606060606061"
      ]
     },
     "execution_count": 179,
     "metadata": {},
     "output_type": "execute_result"
    }
   ],
   "source": [
    "2 / len(A11_disabled_general_lose[['A_24', 'W_4', 'W_35']])"
   ]
  },
  {
   "cell_type": "code",
   "execution_count": 181,
   "metadata": {
    "collapsed": false,
    "scrolled": true
   },
   "outputs": [
    {
     "data": {
      "text/plain": [
       "0.9393939393939394"
      ]
     },
     "execution_count": 181,
     "metadata": {},
     "output_type": "execute_result"
    }
   ],
   "source": [
    "(len(A11_disabled_general_lose[['A_24', 'W_4', 'W_35']]) - 2) / len(A11_disabled_general_lose[['A_24', 'W_4', 'W_35']])"
   ]
  },
  {
   "cell_type": "code",
   "execution_count": 182,
   "metadata": {
    "collapsed": false
   },
   "outputs": [
    {
     "data": {
      "text/plain": [
       "1.0"
      ]
     },
     "execution_count": 182,
     "metadata": {},
     "output_type": "execute_result"
    }
   ],
   "source": [
    "0.06060606060606061 + 0.9393939393939394"
   ]
  },
  {
   "cell_type": "markdown",
   "metadata": {},
   "source": [
    "##### 청약 불입회수 분리"
   ]
  },
  {
   "cell_type": "code",
   "execution_count": 184,
   "metadata": {
    "collapsed": true
   },
   "outputs": [],
   "source": [
    "not_save_bins = [36,48,60,200] # range 범위 지정\n",
    "not_save_group_names = ['36회이상', '48회이상', '60회이상'] # 지정할 그룹명\n",
    "not_save_categories = pd.cut(A11_data_disabled['A_46'],  not_save_bins,False, labels=not_save_group_names) # range 변수"
   ]
  },
  {
   "cell_type": "code",
   "execution_count": 185,
   "metadata": {
    "collapsed": true
   },
   "outputs": [],
   "source": [
    "A11_data_disabled['not_save_categories'] = pd.cut(A11_data_disabled['A_46'], not_save_bins, labels=not_save_group_names) # range column 추가"
   ]
  },
  {
   "cell_type": "code",
   "execution_count": 186,
   "metadata": {
    "collapsed": false
   },
   "outputs": [
    {
     "data": {
      "text/html": [
       "<div>\n",
       "<table border=\"1\" class=\"dataframe\">\n",
       "  <thead>\n",
       "    <tr style=\"text-align: right;\">\n",
       "      <th></th>\n",
       "      <th>A_46</th>\n",
       "      <th>not_save_categories</th>\n",
       "    </tr>\n",
       "  </thead>\n",
       "  <tbody>\n",
       "    <tr>\n",
       "      <th>0</th>\n",
       "      <td>0</td>\n",
       "      <td>NaN</td>\n",
       "    </tr>\n",
       "    <tr>\n",
       "      <th>1</th>\n",
       "      <td>0</td>\n",
       "      <td>NaN</td>\n",
       "    </tr>\n",
       "    <tr>\n",
       "      <th>2</th>\n",
       "      <td>0</td>\n",
       "      <td>NaN</td>\n",
       "    </tr>\n",
       "    <tr>\n",
       "      <th>3</th>\n",
       "      <td>0</td>\n",
       "      <td>NaN</td>\n",
       "    </tr>\n",
       "    <tr>\n",
       "      <th>4</th>\n",
       "      <td>0</td>\n",
       "      <td>NaN</td>\n",
       "    </tr>\n",
       "    <tr>\n",
       "      <th>5</th>\n",
       "      <td>0</td>\n",
       "      <td>NaN</td>\n",
       "    </tr>\n",
       "    <tr>\n",
       "      <th>6</th>\n",
       "      <td>0</td>\n",
       "      <td>NaN</td>\n",
       "    </tr>\n",
       "    <tr>\n",
       "      <th>7</th>\n",
       "      <td>0</td>\n",
       "      <td>NaN</td>\n",
       "    </tr>\n",
       "    <tr>\n",
       "      <th>8</th>\n",
       "      <td>0</td>\n",
       "      <td>NaN</td>\n",
       "    </tr>\n",
       "    <tr>\n",
       "      <th>9</th>\n",
       "      <td>0</td>\n",
       "      <td>NaN</td>\n",
       "    </tr>\n",
       "    <tr>\n",
       "      <th>10</th>\n",
       "      <td>0</td>\n",
       "      <td>NaN</td>\n",
       "    </tr>\n",
       "    <tr>\n",
       "      <th>11</th>\n",
       "      <td>67</td>\n",
       "      <td>60회이상</td>\n",
       "    </tr>\n",
       "    <tr>\n",
       "      <th>12</th>\n",
       "      <td>0</td>\n",
       "      <td>NaN</td>\n",
       "    </tr>\n",
       "    <tr>\n",
       "      <th>13</th>\n",
       "      <td>0</td>\n",
       "      <td>NaN</td>\n",
       "    </tr>\n",
       "    <tr>\n",
       "      <th>14</th>\n",
       "      <td>0</td>\n",
       "      <td>NaN</td>\n",
       "    </tr>\n",
       "    <tr>\n",
       "      <th>15</th>\n",
       "      <td>0</td>\n",
       "      <td>NaN</td>\n",
       "    </tr>\n",
       "    <tr>\n",
       "      <th>16</th>\n",
       "      <td>0</td>\n",
       "      <td>NaN</td>\n",
       "    </tr>\n",
       "    <tr>\n",
       "      <th>17</th>\n",
       "      <td>0</td>\n",
       "      <td>NaN</td>\n",
       "    </tr>\n",
       "    <tr>\n",
       "      <th>18</th>\n",
       "      <td>0</td>\n",
       "      <td>NaN</td>\n",
       "    </tr>\n",
       "    <tr>\n",
       "      <th>19</th>\n",
       "      <td>0</td>\n",
       "      <td>NaN</td>\n",
       "    </tr>\n",
       "    <tr>\n",
       "      <th>20</th>\n",
       "      <td>0</td>\n",
       "      <td>NaN</td>\n",
       "    </tr>\n",
       "    <tr>\n",
       "      <th>21</th>\n",
       "      <td>0</td>\n",
       "      <td>NaN</td>\n",
       "    </tr>\n",
       "    <tr>\n",
       "      <th>22</th>\n",
       "      <td>0</td>\n",
       "      <td>NaN</td>\n",
       "    </tr>\n",
       "    <tr>\n",
       "      <th>23</th>\n",
       "      <td>0</td>\n",
       "      <td>NaN</td>\n",
       "    </tr>\n",
       "    <tr>\n",
       "      <th>24</th>\n",
       "      <td>0</td>\n",
       "      <td>NaN</td>\n",
       "    </tr>\n",
       "    <tr>\n",
       "      <th>25</th>\n",
       "      <td>15</td>\n",
       "      <td>NaN</td>\n",
       "    </tr>\n",
       "    <tr>\n",
       "      <th>26</th>\n",
       "      <td>0</td>\n",
       "      <td>NaN</td>\n",
       "    </tr>\n",
       "    <tr>\n",
       "      <th>27</th>\n",
       "      <td>0</td>\n",
       "      <td>NaN</td>\n",
       "    </tr>\n",
       "    <tr>\n",
       "      <th>28</th>\n",
       "      <td>0</td>\n",
       "      <td>NaN</td>\n",
       "    </tr>\n",
       "    <tr>\n",
       "      <th>29</th>\n",
       "      <td>0</td>\n",
       "      <td>NaN</td>\n",
       "    </tr>\n",
       "    <tr>\n",
       "      <th>...</th>\n",
       "      <td>...</td>\n",
       "      <td>...</td>\n",
       "    </tr>\n",
       "    <tr>\n",
       "      <th>66</th>\n",
       "      <td>0</td>\n",
       "      <td>NaN</td>\n",
       "    </tr>\n",
       "    <tr>\n",
       "      <th>67</th>\n",
       "      <td>30</td>\n",
       "      <td>NaN</td>\n",
       "    </tr>\n",
       "    <tr>\n",
       "      <th>68</th>\n",
       "      <td>42</td>\n",
       "      <td>36회이상</td>\n",
       "    </tr>\n",
       "    <tr>\n",
       "      <th>69</th>\n",
       "      <td>41</td>\n",
       "      <td>36회이상</td>\n",
       "    </tr>\n",
       "    <tr>\n",
       "      <th>70</th>\n",
       "      <td>42</td>\n",
       "      <td>36회이상</td>\n",
       "    </tr>\n",
       "    <tr>\n",
       "      <th>71</th>\n",
       "      <td>39</td>\n",
       "      <td>36회이상</td>\n",
       "    </tr>\n",
       "    <tr>\n",
       "      <th>72</th>\n",
       "      <td>0</td>\n",
       "      <td>NaN</td>\n",
       "    </tr>\n",
       "    <tr>\n",
       "      <th>73</th>\n",
       "      <td>0</td>\n",
       "      <td>NaN</td>\n",
       "    </tr>\n",
       "    <tr>\n",
       "      <th>74</th>\n",
       "      <td>0</td>\n",
       "      <td>NaN</td>\n",
       "    </tr>\n",
       "    <tr>\n",
       "      <th>75</th>\n",
       "      <td>0</td>\n",
       "      <td>NaN</td>\n",
       "    </tr>\n",
       "    <tr>\n",
       "      <th>76</th>\n",
       "      <td>76</td>\n",
       "      <td>60회이상</td>\n",
       "    </tr>\n",
       "    <tr>\n",
       "      <th>77</th>\n",
       "      <td>0</td>\n",
       "      <td>NaN</td>\n",
       "    </tr>\n",
       "    <tr>\n",
       "      <th>78</th>\n",
       "      <td>0</td>\n",
       "      <td>NaN</td>\n",
       "    </tr>\n",
       "    <tr>\n",
       "      <th>79</th>\n",
       "      <td>0</td>\n",
       "      <td>NaN</td>\n",
       "    </tr>\n",
       "    <tr>\n",
       "      <th>80</th>\n",
       "      <td>0</td>\n",
       "      <td>NaN</td>\n",
       "    </tr>\n",
       "    <tr>\n",
       "      <th>81</th>\n",
       "      <td>0</td>\n",
       "      <td>NaN</td>\n",
       "    </tr>\n",
       "    <tr>\n",
       "      <th>82</th>\n",
       "      <td>0</td>\n",
       "      <td>NaN</td>\n",
       "    </tr>\n",
       "    <tr>\n",
       "      <th>83</th>\n",
       "      <td>0</td>\n",
       "      <td>NaN</td>\n",
       "    </tr>\n",
       "    <tr>\n",
       "      <th>84</th>\n",
       "      <td>0</td>\n",
       "      <td>NaN</td>\n",
       "    </tr>\n",
       "    <tr>\n",
       "      <th>85</th>\n",
       "      <td>147</td>\n",
       "      <td>60회이상</td>\n",
       "    </tr>\n",
       "    <tr>\n",
       "      <th>86</th>\n",
       "      <td>0</td>\n",
       "      <td>NaN</td>\n",
       "    </tr>\n",
       "    <tr>\n",
       "      <th>87</th>\n",
       "      <td>59</td>\n",
       "      <td>48회이상</td>\n",
       "    </tr>\n",
       "    <tr>\n",
       "      <th>88</th>\n",
       "      <td>0</td>\n",
       "      <td>NaN</td>\n",
       "    </tr>\n",
       "    <tr>\n",
       "      <th>89</th>\n",
       "      <td>0</td>\n",
       "      <td>NaN</td>\n",
       "    </tr>\n",
       "    <tr>\n",
       "      <th>90</th>\n",
       "      <td>36</td>\n",
       "      <td>NaN</td>\n",
       "    </tr>\n",
       "    <tr>\n",
       "      <th>91</th>\n",
       "      <td>0</td>\n",
       "      <td>NaN</td>\n",
       "    </tr>\n",
       "    <tr>\n",
       "      <th>92</th>\n",
       "      <td>0</td>\n",
       "      <td>NaN</td>\n",
       "    </tr>\n",
       "    <tr>\n",
       "      <th>93</th>\n",
       "      <td>0</td>\n",
       "      <td>NaN</td>\n",
       "    </tr>\n",
       "    <tr>\n",
       "      <th>94</th>\n",
       "      <td>0</td>\n",
       "      <td>NaN</td>\n",
       "    </tr>\n",
       "    <tr>\n",
       "      <th>95</th>\n",
       "      <td>0</td>\n",
       "      <td>NaN</td>\n",
       "    </tr>\n",
       "  </tbody>\n",
       "</table>\n",
       "<p>96 rows × 2 columns</p>\n",
       "</div>"
      ],
      "text/plain": [
       "    A_46 not_save_categories\n",
       "0      0                 NaN\n",
       "1      0                 NaN\n",
       "2      0                 NaN\n",
       "3      0                 NaN\n",
       "4      0                 NaN\n",
       "5      0                 NaN\n",
       "6      0                 NaN\n",
       "7      0                 NaN\n",
       "8      0                 NaN\n",
       "9      0                 NaN\n",
       "10     0                 NaN\n",
       "11    67               60회이상\n",
       "12     0                 NaN\n",
       "13     0                 NaN\n",
       "14     0                 NaN\n",
       "15     0                 NaN\n",
       "16     0                 NaN\n",
       "17     0                 NaN\n",
       "18     0                 NaN\n",
       "19     0                 NaN\n",
       "20     0                 NaN\n",
       "21     0                 NaN\n",
       "22     0                 NaN\n",
       "23     0                 NaN\n",
       "24     0                 NaN\n",
       "25    15                 NaN\n",
       "26     0                 NaN\n",
       "27     0                 NaN\n",
       "28     0                 NaN\n",
       "29     0                 NaN\n",
       "..   ...                 ...\n",
       "66     0                 NaN\n",
       "67    30                 NaN\n",
       "68    42               36회이상\n",
       "69    41               36회이상\n",
       "70    42               36회이상\n",
       "71    39               36회이상\n",
       "72     0                 NaN\n",
       "73     0                 NaN\n",
       "74     0                 NaN\n",
       "75     0                 NaN\n",
       "76    76               60회이상\n",
       "77     0                 NaN\n",
       "78     0                 NaN\n",
       "79     0                 NaN\n",
       "80     0                 NaN\n",
       "81     0                 NaN\n",
       "82     0                 NaN\n",
       "83     0                 NaN\n",
       "84     0                 NaN\n",
       "85   147               60회이상\n",
       "86     0                 NaN\n",
       "87    59               48회이상\n",
       "88     0                 NaN\n",
       "89     0                 NaN\n",
       "90    36                 NaN\n",
       "91     0                 NaN\n",
       "92     0                 NaN\n",
       "93     0                 NaN\n",
       "94     0                 NaN\n",
       "95     0                 NaN\n",
       "\n",
       "[96 rows x 2 columns]"
      ]
     },
     "execution_count": 186,
     "metadata": {},
     "output_type": "execute_result"
    }
   ],
   "source": [
    "A11_data_disabled[['A_46', 'not_save_categories']]"
   ]
  },
  {
   "cell_type": "code",
   "execution_count": 187,
   "metadata": {
    "collapsed": true
   },
   "outputs": [],
   "source": [
    "A11_disabled_36 = A11_data_disabled.ix[A11_data_disabled.not_save_categories == '36회이상']\n",
    "A11_disabled_48 = A11_data_disabled.ix[A11_data_disabled.not_save_categories == '48회이상']\n",
    "A11_disabled_60 = A11_data_disabled.ix[A11_data_disabled.not_save_categories == '60회이상']"
   ]
  },
  {
   "cell_type": "code",
   "execution_count": 188,
   "metadata": {
    "collapsed": false
   },
   "outputs": [
    {
     "data": {
      "text/plain": [
       "6"
      ]
     },
     "execution_count": 188,
     "metadata": {},
     "output_type": "execute_result"
    }
   ],
   "source": [
    "len(A11_disabled_36) # 36회 이상"
   ]
  },
  {
   "cell_type": "code",
   "execution_count": 189,
   "metadata": {
    "collapsed": false
   },
   "outputs": [
    {
     "data": {
      "text/plain": [
       "2"
      ]
     },
     "execution_count": 189,
     "metadata": {},
     "output_type": "execute_result"
    }
   ],
   "source": [
    "len(A11_disabled_48) # 48회 이상"
   ]
  },
  {
   "cell_type": "code",
   "execution_count": 190,
   "metadata": {
    "collapsed": false
   },
   "outputs": [
    {
     "data": {
      "text/plain": [
       "4"
      ]
     },
     "execution_count": 190,
     "metadata": {},
     "output_type": "execute_result"
    }
   ],
   "source": [
    "len(A11_disabled_60) # 60회 이상"
   ]
  },
  {
   "cell_type": "markdown",
   "metadata": {},
   "source": [
    "###### 36회 이상 데이터 당첨/탈락 나누기"
   ]
  },
  {
   "cell_type": "code",
   "execution_count": 191,
   "metadata": {
    "collapsed": true
   },
   "outputs": [],
   "source": [
    "A11_disabled_36_win = A11_disabled_36.ix[A11_disabled_36.W_4 == '당첨']\n",
    "A11_disabled_36_lose = A11_disabled_36.ix[A11_disabled_36.W_4 != '당첨']"
   ]
  },
  {
   "cell_type": "code",
   "execution_count": 192,
   "metadata": {
    "collapsed": false,
    "scrolled": true
   },
   "outputs": [
    {
     "data": {
      "text/plain": [
       "33    우(장)\n",
       "63    일(장)\n",
       "68    일(장)\n",
       "70    우(장)\n",
       "Name: W_14, dtype: object"
      ]
     },
     "execution_count": 192,
     "metadata": {},
     "output_type": "execute_result"
    }
   ],
   "source": [
    "A11_disabled_36_win.W_14"
   ]
  },
  {
   "cell_type": "code",
   "execution_count": 193,
   "metadata": {
    "collapsed": false,
    "scrolled": true
   },
   "outputs": [
    {
     "data": {
      "text/plain": [
       "69    N(장)\n",
       "71    N(장)\n",
       "Name: W_14, dtype: object"
      ]
     },
     "execution_count": 193,
     "metadata": {},
     "output_type": "execute_result"
    }
   ],
   "source": [
    "A11_disabled_36_lose.W_14"
   ]
  },
  {
   "cell_type": "code",
   "execution_count": 194,
   "metadata": {
    "collapsed": false,
    "scrolled": true
   },
   "outputs": [
    {
     "data": {
      "text/plain": [
       "0.6666666666666666"
      ]
     },
     "execution_count": 194,
     "metadata": {},
     "output_type": "execute_result"
    }
   ],
   "source": [
    "len(A11_disabled_36_win) / len(A11_disabled_36)"
   ]
  },
  {
   "cell_type": "code",
   "execution_count": 195,
   "metadata": {
    "collapsed": false,
    "scrolled": true
   },
   "outputs": [
    {
     "data": {
      "text/plain": [
       "0.3333333333333333"
      ]
     },
     "execution_count": 195,
     "metadata": {},
     "output_type": "execute_result"
    }
   ],
   "source": [
    "len(A11_disabled_36_lose) / len(A11_disabled_36)"
   ]
  },
  {
   "cell_type": "code",
   "execution_count": 198,
   "metadata": {
    "collapsed": false
   },
   "outputs": [
    {
     "data": {
      "text/plain": [
       "1.0"
      ]
     },
     "execution_count": 198,
     "metadata": {},
     "output_type": "execute_result"
    }
   ],
   "source": [
    "0.6666666666666666+0.3333333333333333"
   ]
  },
  {
   "cell_type": "markdown",
   "metadata": {},
   "source": [
    "###### 48회 이상 당첨/탈락 데이터 나누기"
   ]
  },
  {
   "cell_type": "code",
   "execution_count": 199,
   "metadata": {
    "collapsed": false
   },
   "outputs": [
    {
     "data": {
      "text/plain": [
       "53    당첨\n",
       "87    예비\n",
       "Name: W_4, dtype: object"
      ]
     },
     "execution_count": 199,
     "metadata": {},
     "output_type": "execute_result"
    }
   ],
   "source": [
    "A11_disabled_48.W_4"
   ]
  },
  {
   "cell_type": "code",
   "execution_count": 200,
   "metadata": {
    "collapsed": false
   },
   "outputs": [
    {
     "data": {
      "text/plain": [
       "53    우(장)\n",
       "87    N(장)\n",
       "Name: W_14, dtype: object"
      ]
     },
     "execution_count": 200,
     "metadata": {},
     "output_type": "execute_result"
    }
   ],
   "source": [
    "A11_disabled_48.W_14"
   ]
  },
  {
   "cell_type": "markdown",
   "metadata": {},
   "source": [
    "###### 60회 이상 당첨/탈락 데이터 나누기"
   ]
  },
  {
   "cell_type": "code",
   "execution_count": 212,
   "metadata": {
    "collapsed": false,
    "scrolled": true
   },
   "outputs": [],
   "source": [
    "A11_disabled_60_win = A11_disabled_60.ix[A11_disabled_60.W_4 == '당첨']\n",
    "A11_disabled_60_down = A11_disabled_60.ix[A11_disabled_60.W_4 != '당첨']"
   ]
  },
  {
   "cell_type": "code",
   "execution_count": 213,
   "metadata": {
    "collapsed": false
   },
   "outputs": [
    {
     "data": {
      "text/plain": [
       "3"
      ]
     },
     "execution_count": 213,
     "metadata": {},
     "output_type": "execute_result"
    }
   ],
   "source": [
    "len(A11_disabled_60_win)"
   ]
  },
  {
   "cell_type": "code",
   "execution_count": 214,
   "metadata": {
    "collapsed": false
   },
   "outputs": [
    {
     "data": {
      "text/plain": [
       "1"
      ]
     },
     "execution_count": 214,
     "metadata": {},
     "output_type": "execute_result"
    }
   ],
   "source": [
    "len(A11_disabled_60_down)"
   ]
  },
  {
   "cell_type": "code",
   "execution_count": 215,
   "metadata": {
    "collapsed": false,
    "scrolled": true
   },
   "outputs": [
    {
     "data": {
      "text/plain": [
       "11    당첨\n",
       "76    당첨\n",
       "85    당첨\n",
       "Name: W_4, dtype: object"
      ]
     },
     "execution_count": 215,
     "metadata": {},
     "output_type": "execute_result"
    }
   ],
   "source": [
    "A11_disabled_60_win.W_4"
   ]
  },
  {
   "cell_type": "code",
   "execution_count": 216,
   "metadata": {
    "collapsed": false,
    "scrolled": true
   },
   "outputs": [
    {
     "data": {
      "text/plain": [
       "11    잔(장)\n",
       "76    일(장)\n",
       "85    우(장)\n",
       "Name: W_14, dtype: object"
      ]
     },
     "execution_count": 216,
     "metadata": {},
     "output_type": "execute_result"
    }
   ],
   "source": [
    "A11_disabled_60_win.W_14"
   ]
  },
  {
   "cell_type": "code",
   "execution_count": 217,
   "metadata": {
    "collapsed": true
   },
   "outputs": [],
   "source": [
    "A11_disabled_60_win = A11_disabled_60_win.ix[A11_disabled_60_win.W_14 != '잔(장)' ]"
   ]
  },
  {
   "cell_type": "code",
   "execution_count": 218,
   "metadata": {
    "collapsed": false
   },
   "outputs": [
    {
     "data": {
      "text/plain": [
       "2"
      ]
     },
     "execution_count": 218,
     "metadata": {},
     "output_type": "execute_result"
    }
   ],
   "source": [
    "len(A11_disabled_60_win)"
   ]
  },
  {
   "cell_type": "code",
   "execution_count": 219,
   "metadata": {
    "collapsed": false
   },
   "outputs": [
    {
     "data": {
      "text/plain": [
       "0.5"
      ]
     },
     "execution_count": 219,
     "metadata": {},
     "output_type": "execute_result"
    }
   ],
   "source": [
    "len(A11_disabled_60_win) / len(A11_disabled_60)"
   ]
  },
  {
   "cell_type": "code",
   "execution_count": 220,
   "metadata": {
    "collapsed": false,
    "scrolled": true
   },
   "outputs": [
    {
     "data": {
      "text/plain": [
       "0.25"
      ]
     },
     "execution_count": 220,
     "metadata": {},
     "output_type": "execute_result"
    }
   ],
   "source": [
    "len(A11_disabled_60_down) / len(A11_disabled_60)"
   ]
  },
  {
   "cell_type": "code",
   "execution_count": 221,
   "metadata": {
    "collapsed": false
   },
   "outputs": [
    {
     "data": {
      "text/plain": [
       "0.25"
      ]
     },
     "execution_count": 221,
     "metadata": {},
     "output_type": "execute_result"
    }
   ],
   "source": [
    "1 / len(A11_disabled_60)"
   ]
  },
  {
   "cell_type": "code",
   "execution_count": 189,
   "metadata": {
    "collapsed": false
   },
   "outputs": [
    {
     "data": {
      "text/plain": [
       "1.0"
      ]
     },
     "execution_count": 189,
     "metadata": {},
     "output_type": "execute_result"
    }
   ],
   "source": [
    "0.375+0.625"
   ]
  },
  {
   "cell_type": "markdown",
   "metadata": {},
   "source": [
    "###### 계약사실 분리 데이터"
   ]
  },
  {
   "cell_type": "code",
   "execution_count": 222,
   "metadata": {
    "collapsed": true
   },
   "outputs": [],
   "source": [
    "def f(x) :\n",
    "    if x['W_24'] == -5:\n",
    "        return \"1년이내\"\n",
    "    elif x['W_24'] == -3:\n",
    "        return \"3년이내\"\n",
    "    else:\n",
    "        return \"해당없음\""
   ]
  },
  {
   "cell_type": "code",
   "execution_count": 223,
   "metadata": {
    "collapsed": false
   },
   "outputs": [],
   "source": [
    "A11_data_disabled['minus_div'] = A11_data_disabled.apply(f, axis=1)"
   ]
  },
  {
   "cell_type": "markdown",
   "metadata": {},
   "source": [
    "###### 계약사실 데이터 1년이내/3년이내 나누기"
   ]
  },
  {
   "cell_type": "code",
   "execution_count": 224,
   "metadata": {
    "collapsed": false,
    "scrolled": true
   },
   "outputs": [],
   "source": [
    "A11_data_disabled_one = A11_data_disabled.ix[A11_data_disabled.minus_div == \"1년이내\"]\n",
    "A11_data_disabled_three = A11_data_disabled.ix[A11_data_disabled.minus_div == \"3년이내\"]"
   ]
  },
  {
   "cell_type": "code",
   "execution_count": 225,
   "metadata": {
    "collapsed": false
   },
   "outputs": [
    {
     "data": {
      "text/plain": [
       "3"
      ]
     },
     "execution_count": 225,
     "metadata": {},
     "output_type": "execute_result"
    }
   ],
   "source": [
    "len(A11_data_disabled_one)"
   ]
  },
  {
   "cell_type": "code",
   "execution_count": 226,
   "metadata": {
    "collapsed": false
   },
   "outputs": [
    {
     "data": {
      "text/plain": [
       "3"
      ]
     },
     "execution_count": 226,
     "metadata": {},
     "output_type": "execute_result"
    }
   ],
   "source": [
    "len(A11_data_disabled_three)"
   ]
  },
  {
   "cell_type": "code",
   "execution_count": 227,
   "metadata": {
    "collapsed": false,
    "scrolled": true
   },
   "outputs": [
    {
     "data": {
      "text/html": [
       "<div>\n",
       "<table border=\"1\" class=\"dataframe\">\n",
       "  <thead>\n",
       "    <tr style=\"text-align: right;\">\n",
       "      <th></th>\n",
       "      <th>W_4</th>\n",
       "      <th>W_24</th>\n",
       "    </tr>\n",
       "  </thead>\n",
       "  <tbody>\n",
       "    <tr>\n",
       "      <th>30</th>\n",
       "      <td>당첨</td>\n",
       "      <td>-5</td>\n",
       "    </tr>\n",
       "    <tr>\n",
       "      <th>42</th>\n",
       "      <td>서류(제)</td>\n",
       "      <td>-5</td>\n",
       "    </tr>\n",
       "    <tr>\n",
       "      <th>94</th>\n",
       "      <td>당첨</td>\n",
       "      <td>-5</td>\n",
       "    </tr>\n",
       "  </tbody>\n",
       "</table>\n",
       "</div>"
      ],
      "text/plain": [
       "      W_4  W_24\n",
       "30     당첨    -5\n",
       "42  서류(제)    -5\n",
       "94     당첨    -5"
      ]
     },
     "execution_count": 227,
     "metadata": {},
     "output_type": "execute_result"
    }
   ],
   "source": [
    "A11_data_disabled_one[['W_4', 'W_24']]"
   ]
  },
  {
   "cell_type": "code",
   "execution_count": 229,
   "metadata": {
    "collapsed": false
   },
   "outputs": [
    {
     "data": {
      "text/plain": [
       "30    일(장)\n",
       "42    N(장)\n",
       "94    우(장)\n",
       "Name: W_14, dtype: object"
      ]
     },
     "execution_count": 229,
     "metadata": {},
     "output_type": "execute_result"
    }
   ],
   "source": [
    "A11_data_disabled_one.W_14"
   ]
  },
  {
   "cell_type": "code",
   "execution_count": 230,
   "metadata": {
    "collapsed": false,
    "scrolled": true
   },
   "outputs": [
    {
     "data": {
      "text/html": [
       "<div>\n",
       "<table border=\"1\" class=\"dataframe\">\n",
       "  <thead>\n",
       "    <tr style=\"text-align: right;\">\n",
       "      <th></th>\n",
       "      <th>W_4</th>\n",
       "      <th>W_14</th>\n",
       "      <th>W_24</th>\n",
       "    </tr>\n",
       "  </thead>\n",
       "  <tbody>\n",
       "    <tr>\n",
       "      <th>5</th>\n",
       "      <td>예비</td>\n",
       "      <td>N(장)</td>\n",
       "      <td>-3</td>\n",
       "    </tr>\n",
       "    <tr>\n",
       "      <th>18</th>\n",
       "      <td>당첨</td>\n",
       "      <td>우(장)</td>\n",
       "      <td>-3</td>\n",
       "    </tr>\n",
       "    <tr>\n",
       "      <th>41</th>\n",
       "      <td>당첨</td>\n",
       "      <td>일(장)</td>\n",
       "      <td>-3</td>\n",
       "    </tr>\n",
       "  </tbody>\n",
       "</table>\n",
       "</div>"
      ],
      "text/plain": [
       "   W_4  W_14  W_24\n",
       "5   예비  N(장)    -3\n",
       "18  당첨  우(장)    -3\n",
       "41  당첨  일(장)    -3"
      ]
     },
     "execution_count": 230,
     "metadata": {},
     "output_type": "execute_result"
    }
   ],
   "source": [
    "A11_data_disabled_three[['W_4','W_14', 'W_24']]"
   ]
  },
  {
   "cell_type": "markdown",
   "metadata": {},
   "source": [
    "###### 장애인 등급 별 데이터 나누기"
   ]
  },
  {
   "cell_type": "code",
   "execution_count": 265,
   "metadata": {
    "collapsed": false
   },
   "outputs": [],
   "source": [
    "A11_data_disabled_onegrade = A11_data_disabled.ix[A11_data_disabled.A_28 == '1급']\n",
    "A11_data_disabled_twograde = A11_data_disabled.ix[A11_data_disabled.A_28 == '2급']\n",
    "A11_data_disabled_threegrade = A11_data_disabled.ix[A11_data_disabled.A_28 == '3급']\n",
    "A11_data_disabled_fourgrade = A11_data_disabled.ix[(A11_data_disabled.A_28 == '4급') | (A11_data_disabled.A_28 == '5급')]"
   ]
  },
  {
   "cell_type": "code",
   "execution_count": 266,
   "metadata": {
    "collapsed": false
   },
   "outputs": [
    {
     "data": {
      "text/plain": [
       "10"
      ]
     },
     "execution_count": 266,
     "metadata": {},
     "output_type": "execute_result"
    }
   ],
   "source": [
    "len(A11_data_disabled_onegrade)"
   ]
  },
  {
   "cell_type": "code",
   "execution_count": 267,
   "metadata": {
    "collapsed": false
   },
   "outputs": [
    {
     "data": {
      "text/plain": [
       "19"
      ]
     },
     "execution_count": 267,
     "metadata": {},
     "output_type": "execute_result"
    }
   ],
   "source": [
    "len(A11_data_disabled_twograde)"
   ]
  },
  {
   "cell_type": "code",
   "execution_count": 268,
   "metadata": {
    "collapsed": false
   },
   "outputs": [
    {
     "data": {
      "text/plain": [
       "26"
      ]
     },
     "execution_count": 268,
     "metadata": {},
     "output_type": "execute_result"
    }
   ],
   "source": [
    "len(A11_data_disabled_threegrade)"
   ]
  },
  {
   "cell_type": "code",
   "execution_count": 269,
   "metadata": {
    "collapsed": false,
    "scrolled": true
   },
   "outputs": [
    {
     "data": {
      "text/plain": [
       "29"
      ]
     },
     "execution_count": 269,
     "metadata": {},
     "output_type": "execute_result"
    }
   ],
   "source": [
    "len(A11_data_disabled_fourgrade)"
   ]
  },
  {
   "cell_type": "code",
   "execution_count": 278,
   "metadata": {
    "collapsed": false,
    "scrolled": true
   },
   "outputs": [],
   "source": [
    "## 1급\n",
    "A11_data_disabled_onegrade_win = A11_data_disabled_onegrade.ix[A11_data_disabled_onegrade.W_4 == '당첨']\n",
    "A11_data_disabled_onegrade_lose = A11_data_disabled_onegrade.ix[A11_data_disabled_onegrade.W_4 != '당첨']\n",
    "## 2급\n",
    "A11_data_disabled_twograde_win = A11_data_disabled_twograde.ix[A11_data_disabled_twograde.W_4 == '당첨']\n",
    "A11_data_disabled_twograde_lose = A11_data_disabled_twograde.ix[A11_data_disabled_twograde.W_4 != '당첨']\n",
    "## 3급\n",
    "A11_data_disabled_threegrade_win = A11_data_disabled_threegrade.ix[A11_data_disabled_threegrade.W_4 == '당첨']\n",
    "A11_data_disabled_threegrade_lose = A11_data_disabled_threegrade.ix[A11_data_disabled_threegrade.W_4 != '당첨']\n",
    "## 4급\n",
    "A11_data_disabled_fourgrade_win = A11_data_disabled_fourgrade.ix[A11_data_disabled_fourgrade.W_4 == '당첨']\n",
    "A11_data_disabled_fourgrade_lose = A11_data_disabled_fourgrade.ix[A11_data_disabled_fourgrade.W_4 != '당첨']"
   ]
  },
  {
   "cell_type": "code",
   "execution_count": 272,
   "metadata": {
    "collapsed": false,
    "scrolled": true
   },
   "outputs": [
    {
     "data": {
      "text/plain": [
       "9"
      ]
     },
     "execution_count": 272,
     "metadata": {},
     "output_type": "execute_result"
    }
   ],
   "source": [
    "len(A11_data_disabled_onegrade_win.W_14)"
   ]
  },
  {
   "cell_type": "code",
   "execution_count": 273,
   "metadata": {
    "collapsed": false
   },
   "outputs": [
    {
     "data": {
      "text/plain": [
       "1"
      ]
     },
     "execution_count": 273,
     "metadata": {},
     "output_type": "execute_result"
    }
   ],
   "source": [
    "len(A11_data_disabled_onegrade_lose.W_14)"
   ]
  },
  {
   "cell_type": "code",
   "execution_count": 274,
   "metadata": {
    "collapsed": false
   },
   "outputs": [
    {
     "data": {
      "text/plain": [
       "0.9"
      ]
     },
     "execution_count": 274,
     "metadata": {},
     "output_type": "execute_result"
    }
   ],
   "source": [
    "len(A11_data_disabled_onegrade_win.W_14) / len(A11_data_disabled_onegrade)"
   ]
  },
  {
   "cell_type": "code",
   "execution_count": 246,
   "metadata": {
    "collapsed": false
   },
   "outputs": [
    {
     "data": {
      "text/plain": [
       "0.1"
      ]
     },
     "execution_count": 246,
     "metadata": {},
     "output_type": "execute_result"
    }
   ],
   "source": [
    "len(A11_data_disabled_onegrade_lose.W_14) / len(A11_data_disabled_onegrade)"
   ]
  },
  {
   "cell_type": "code",
   "execution_count": 247,
   "metadata": {
    "collapsed": false,
    "scrolled": true
   },
   "outputs": [
    {
     "data": {
      "text/plain": [
       "1.0"
      ]
     },
     "execution_count": 247,
     "metadata": {},
     "output_type": "execute_result"
    }
   ],
   "source": [
    "0.9+0.1"
   ]
  },
  {
   "cell_type": "code",
   "execution_count": 248,
   "metadata": {
    "collapsed": false
   },
   "outputs": [
    {
     "data": {
      "text/plain": [
       "14"
      ]
     },
     "execution_count": 248,
     "metadata": {},
     "output_type": "execute_result"
    }
   ],
   "source": [
    "len(A11_data_disabled_twograde_win.W_14)"
   ]
  },
  {
   "cell_type": "code",
   "execution_count": 249,
   "metadata": {
    "collapsed": false
   },
   "outputs": [
    {
     "data": {
      "text/plain": [
       "5"
      ]
     },
     "execution_count": 249,
     "metadata": {},
     "output_type": "execute_result"
    }
   ],
   "source": [
    "len(A11_data_disabled_twograde_lose.W_14)"
   ]
  },
  {
   "cell_type": "code",
   "execution_count": 251,
   "metadata": {
    "collapsed": true
   },
   "outputs": [
    {
     "data": {
      "text/plain": [
       "1     우(장)\n",
       "12    우(장)\n",
       "32    일(장)\n",
       "34    우(장)\n",
       "47    우(장)\n",
       "53    우(장)\n",
       "54    우(장)\n",
       "58    우(장)\n",
       "64    우(장)\n",
       "74    우(장)\n",
       "84    우(장)\n",
       "85    우(장)\n",
       "92    우(장)\n",
       "94    우(장)\n",
       "Name: W_14, dtype: object"
      ]
     },
     "execution_count": 251,
     "metadata": {},
     "output_type": "execute_result"
    }
   ],
   "source": [
    "A11_data_disabled_twograde_win.W_14"
   ]
  },
  {
   "cell_type": "code",
   "execution_count": 250,
   "metadata": {
    "collapsed": false,
    "scrolled": true
   },
   "outputs": [
    {
     "data": {
      "text/plain": [
       "0.7368421052631579"
      ]
     },
     "execution_count": 250,
     "metadata": {},
     "output_type": "execute_result"
    }
   ],
   "source": [
    "len(A11_data_disabled_twograde_win.W_14) / len(A11_data_disabled_twograde)"
   ]
  },
  {
   "cell_type": "code",
   "execution_count": 252,
   "metadata": {
    "collapsed": false
   },
   "outputs": [
    {
     "data": {
      "text/plain": [
       "0.2631578947368421"
      ]
     },
     "execution_count": 252,
     "metadata": {},
     "output_type": "execute_result"
    }
   ],
   "source": [
    "len(A11_data_disabled_twograde_lose.W_14) / len(A11_data_disabled_twograde)"
   ]
  },
  {
   "cell_type": "code",
   "execution_count": 253,
   "metadata": {
    "collapsed": false
   },
   "outputs": [
    {
     "data": {
      "text/plain": [
       "1.0"
      ]
     },
     "execution_count": 253,
     "metadata": {},
     "output_type": "execute_result"
    }
   ],
   "source": [
    "0.7368421052631579+0.2631578947368421"
   ]
  },
  {
   "cell_type": "code",
   "execution_count": 254,
   "metadata": {
    "collapsed": false
   },
   "outputs": [
    {
     "data": {
      "text/plain": [
       "17"
      ]
     },
     "execution_count": 254,
     "metadata": {},
     "output_type": "execute_result"
    }
   ],
   "source": [
    "len(A11_data_disabled_threegrade_win)"
   ]
  },
  {
   "cell_type": "code",
   "execution_count": 255,
   "metadata": {
    "collapsed": false
   },
   "outputs": [
    {
     "data": {
      "text/plain": [
       "9"
      ]
     },
     "execution_count": 255,
     "metadata": {},
     "output_type": "execute_result"
    }
   ],
   "source": [
    "len(A11_data_disabled_threegrade_lose)"
   ]
  },
  {
   "cell_type": "code",
   "execution_count": 256,
   "metadata": {
    "collapsed": true
   },
   "outputs": [
    {
     "data": {
      "text/plain": [
       "6     잔(장)\n",
       "9     일(장)\n",
       "11    잔(장)\n",
       "21    일(장)\n",
       "24    잔(장)\n",
       "26    잔(장)\n",
       "27    잔(장)\n",
       "29    잔(장)\n",
       "30    일(장)\n",
       "41    일(장)\n",
       "43    일(장)\n",
       "67    우(장)\n",
       "70    우(장)\n",
       "78    일(장)\n",
       "82    일(장)\n",
       "90    일(장)\n",
       "93    일(장)\n",
       "Name: W_14, dtype: object"
      ]
     },
     "execution_count": 256,
     "metadata": {},
     "output_type": "execute_result"
    }
   ],
   "source": [
    "A11_data_disabled_threegrade_win.W_14"
   ]
  },
  {
   "cell_type": "code",
   "execution_count": 257,
   "metadata": {
    "collapsed": true
   },
   "outputs": [],
   "source": [
    "A11_data_disabled_threegrade_win = A11_data_disabled_threegrade_win.ix[A11_data_disabled_threegrade_win.W_14 != '잔(장)']"
   ]
  },
  {
   "cell_type": "code",
   "execution_count": 258,
   "metadata": {
    "collapsed": false
   },
   "outputs": [
    {
     "data": {
      "text/plain": [
       "11"
      ]
     },
     "execution_count": 258,
     "metadata": {},
     "output_type": "execute_result"
    }
   ],
   "source": [
    "len(A11_data_disabled_threegrade_win)"
   ]
  },
  {
   "cell_type": "code",
   "execution_count": 259,
   "metadata": {
    "collapsed": false
   },
   "outputs": [
    {
     "data": {
      "text/plain": [
       "0.4230769230769231"
      ]
     },
     "execution_count": 259,
     "metadata": {},
     "output_type": "execute_result"
    }
   ],
   "source": [
    "len(A11_data_disabled_threegrade_win) / len(A11_data_disabled_threegrade)"
   ]
  },
  {
   "cell_type": "code",
   "execution_count": 260,
   "metadata": {
    "collapsed": false
   },
   "outputs": [
    {
     "data": {
      "text/plain": [
       "0.34615384615384615"
      ]
     },
     "execution_count": 260,
     "metadata": {},
     "output_type": "execute_result"
    }
   ],
   "source": [
    "len(A11_data_disabled_threegrade_lose) / len(A11_data_disabled_threegrade)"
   ]
  },
  {
   "cell_type": "code",
   "execution_count": 261,
   "metadata": {
    "collapsed": false
   },
   "outputs": [
    {
     "data": {
      "text/plain": [
       "0.23076923076923078"
      ]
     },
     "execution_count": 261,
     "metadata": {},
     "output_type": "execute_result"
    }
   ],
   "source": [
    "6 / len(A11_data_disabled_threegrade)"
   ]
  },
  {
   "cell_type": "code",
   "execution_count": 262,
   "metadata": {
    "collapsed": false
   },
   "outputs": [
    {
     "data": {
      "text/plain": [
       "1.0"
      ]
     },
     "execution_count": 262,
     "metadata": {},
     "output_type": "execute_result"
    }
   ],
   "source": [
    "0.4230769230769231+0.34615384615384615+0.23076923076923078"
   ]
  },
  {
   "cell_type": "code",
   "execution_count": 275,
   "metadata": {
    "collapsed": true
   },
   "outputs": [
    {
     "data": {
      "text/plain": [
       "2     일(장)\n",
       "7     일(장)\n",
       "16    잔(장)\n",
       "23    일(장)\n",
       "28    잔(장)\n",
       "46    잔(장)\n",
       "55    일(장)\n",
       "57    일(장)\n",
       "59    일(장)\n",
       "60    일(장)\n",
       "62    일(장)\n",
       "63    일(장)\n",
       "75    일(장)\n",
       "76    일(장)\n",
       "77    일(장)\n",
       "81    일(장)\n",
       "83    일(장)\n",
       "86    일(장)\n",
       "89    일(장)\n",
       "Name: W_14, dtype: object"
      ]
     },
     "execution_count": 275,
     "metadata": {},
     "output_type": "execute_result"
    }
   ],
   "source": [
    "A11_data_disabled_fourgrade_win.W_14"
   ]
  },
  {
   "cell_type": "code",
   "execution_count": 279,
   "metadata": {
    "collapsed": false,
    "scrolled": true
   },
   "outputs": [
    {
     "data": {
      "text/plain": [
       "19"
      ]
     },
     "execution_count": 279,
     "metadata": {},
     "output_type": "execute_result"
    }
   ],
   "source": [
    "len(A11_data_disabled_fourgrade_win)"
   ]
  },
  {
   "cell_type": "code",
   "execution_count": 280,
   "metadata": {
    "collapsed": true
   },
   "outputs": [],
   "source": [
    "A11_data_disabled_fourgrade_win = A11_data_disabled_fourgrade_win.ix[A11_data_disabled_fourgrade_win.W_14 != '잔(장)']"
   ]
  },
  {
   "cell_type": "code",
   "execution_count": 281,
   "metadata": {
    "collapsed": false
   },
   "outputs": [
    {
     "data": {
      "text/plain": [
       "16"
      ]
     },
     "execution_count": 281,
     "metadata": {},
     "output_type": "execute_result"
    }
   ],
   "source": [
    "len(A11_data_disabled_fourgrade_win)"
   ]
  },
  {
   "cell_type": "code",
   "execution_count": 282,
   "metadata": {
    "collapsed": false
   },
   "outputs": [
    {
     "data": {
      "text/plain": [
       "10"
      ]
     },
     "execution_count": 282,
     "metadata": {},
     "output_type": "execute_result"
    }
   ],
   "source": [
    "len(A11_data_disabled_fourgrade_lose)"
   ]
  },
  {
   "cell_type": "code",
   "execution_count": 283,
   "metadata": {
    "collapsed": false
   },
   "outputs": [
    {
     "data": {
      "text/plain": [
       "0.5517241379310345"
      ]
     },
     "execution_count": 283,
     "metadata": {},
     "output_type": "execute_result"
    }
   ],
   "source": [
    "len(A11_data_disabled_fourgrade_win) / len(A11_data_disabled_fourgrade)"
   ]
  },
  {
   "cell_type": "code",
   "execution_count": 284,
   "metadata": {
    "collapsed": false
   },
   "outputs": [
    {
     "data": {
      "text/plain": [
       "0.3448275862068966"
      ]
     },
     "execution_count": 284,
     "metadata": {},
     "output_type": "execute_result"
    }
   ],
   "source": [
    "len(A11_data_disabled_fourgrade_lose) / len(A11_data_disabled_fourgrade)"
   ]
  },
  {
   "cell_type": "code",
   "execution_count": 285,
   "metadata": {
    "collapsed": false
   },
   "outputs": [
    {
     "data": {
      "text/plain": [
       "0.10344827586206896"
      ]
     },
     "execution_count": 285,
     "metadata": {},
     "output_type": "execute_result"
    }
   ],
   "source": [
    "3 / len(A11_data_disabled_fourgrade)"
   ]
  },
  {
   "cell_type": "code",
   "execution_count": 286,
   "metadata": {
    "collapsed": false
   },
   "outputs": [
    {
     "data": {
      "text/plain": [
       "1.0"
      ]
     },
     "execution_count": 286,
     "metadata": {},
     "output_type": "execute_result"
    }
   ],
   "source": [
    "0.5517241379310345+0.3448275862068966+0.10344827586206896"
   ]
  }
 ],
 "metadata": {
  "kernelspec": {
   "display_name": "Python 3",
   "language": "python",
   "name": "python3"
  },
  "language_info": {
   "codemirror_mode": {
    "name": "ipython",
    "version": 3
   },
   "file_extension": ".py",
   "mimetype": "text/x-python",
   "name": "python",
   "nbconvert_exporter": "python",
   "pygments_lexer": "ipython3",
   "version": "3.5.1"
  }
 },
 "nbformat": 4,
 "nbformat_minor": 0
}
