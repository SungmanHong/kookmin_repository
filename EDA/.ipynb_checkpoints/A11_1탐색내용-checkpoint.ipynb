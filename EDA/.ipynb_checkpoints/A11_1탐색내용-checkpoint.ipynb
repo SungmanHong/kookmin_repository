{
 "cells": [
  {
   "cell_type": "code",
   "execution_count": 167,
   "metadata": {
    "collapsed": false
   },
   "outputs": [],
   "source": [
    "import sys\n",
    "import pandas as pd\n",
    "import numpy as np\n",
    "sys.path.append(\"..\") # 시스템 경로 변경(MySQLConnect 클래스 부르기 위함)"
   ]
  },
  {
   "cell_type": "code",
   "execution_count": 168,
   "metadata": {
    "collapsed": true
   },
   "outputs": [],
   "source": [
    "from MySQLConnect import MySQLConnect"
   ]
  },
  {
   "cell_type": "code",
   "execution_count": 169,
   "metadata": {
    "collapsed": true
   },
   "outputs": [],
   "source": [
    "## 장애인\n",
    "def disabled_f(x):\n",
    "    if x['W_16'] == 'Y':\n",
    "        if x['W_15'] == '6급':\n",
    "            return x.W_20\n",
    "        elif x['W_15'] == '5급':\n",
    "            return x.W_20\n",
    "        elif x['W_15'] == '4급':\n",
    "            return x.W_20\n",
    "        elif x['W_15'] == '3급':\n",
    "            return x.W_20\n",
    "        elif x['W_15'] == '2급':\n",
    "            return x.W_20\n",
    "        else:\n",
    "            return x.W_20\n",
    "    else:\n",
    "        if x['W_15'] == '6급':\n",
    "            return x.W_20\n",
    "        elif x['W_15'] == '5급':\n",
    "            return x.W_20\n",
    "        elif x['W_15'] == '4급':\n",
    "            return x.W_20\n",
    "        elif x['W_15'] == '3급':\n",
    "            return x.W_20\n",
    "        elif x['W_15'] == '2급':\n",
    "            return x.W_20\n",
    "        else:\n",
    "            return x.W_20"
   ]
  },
  {
   "cell_type": "code",
   "execution_count": 59,
   "metadata": {
    "collapsed": true
   },
   "outputs": [],
   "source": [
    "## 3자녀\n",
    "def three_f(x) :\n",
    "    if x['W_16'] == 'Y':\n",
    "        return x.W_20\n",
    "    else:\n",
    "        return x.W_20"
   ]
  },
  {
   "cell_type": "code",
   "execution_count": 60,
   "metadata": {
    "collapsed": true
   },
   "outputs": [],
   "source": [
    "## 고령자\n",
    "def highage_f(x):\n",
    "    if x['W_16'] == 'Y':\n",
    "        return x.W_20\n",
    "    else:\n",
    "        return x.W_20"
   ]
  },
  {
   "cell_type": "code",
   "execution_count": 61,
   "metadata": {
    "collapsed": true
   },
   "outputs": [],
   "source": [
    "## 신혼부부 \n",
    "def married_f(x) :\n",
    "    if x['W_16'] == 'Y':\n",
    "        \n",
    "        if x['W_39'] =='2순위':\n",
    "            \n",
    "            if x['W_40'] == '타':\n",
    "                if x['W_41'] == 1:\n",
    "                    return x.W_20\n",
    "                elif x['W_41'] == 2:\n",
    "                    return x.W_20\n",
    "                else :\n",
    "                    return x.W_20\n",
    "            else :\n",
    "                if x['W_41'] == 1:\n",
    "                    return x.W_20\n",
    "                elif x['W_41'] == 2:\n",
    "                    return x.W_20\n",
    "                else :\n",
    "                    return x.W_20\n",
    "        elif x['W_39'] == '1순위':\n",
    "            \n",
    "            if x['W_40'] == '타':\n",
    "                if x['W_41'] == 1:\n",
    "                    return x.W_20\n",
    "                elif x['W_41'] == 2:\n",
    "                    return x.W_20\n",
    "                else :\n",
    "                    return x.W_20\n",
    "            else :\n",
    "                if x['W_41'] == 1:\n",
    "                    return x.W_20\n",
    "                elif x['W_41'] == 2:\n",
    "                    return x.W_20\n",
    "                else :\n",
    "                    return x.W_20\n",
    "    else:\n",
    "        if x['W_39'] =='2순위':\n",
    "            \n",
    "            if x['W_40'] == '타':\n",
    "                if x['W_41'] == 1:\n",
    "                    return x.W_20\n",
    "                elif x['W_41'] == 2:\n",
    "                    return x.W_20\n",
    "                else :\n",
    "                    return x.W_20\n",
    "            else :\n",
    "                if x['W_41'] == 1:\n",
    "                    return x.W_20\n",
    "                elif x['W_41'] == 2:\n",
    "                    return x.W_20\n",
    "                else :\n",
    "                    return x.W_20\n",
    "        elif x['W_39'] == '1순위':\n",
    "            \n",
    "            if x['W_40'] == '타':\n",
    "                if x['W_41'] == 1:\n",
    "                    return x.W_20\n",
    "                elif x['W_41'] == 2:\n",
    "                    return x.W_20\n",
    "                else :\n",
    "                    return x.W_20\n",
    "            else :\n",
    "                if x['W_41'] == 1:\n",
    "                    return x.W_20\n",
    "                elif x['W_41'] == 2:\n",
    "                    return x.W_20\n",
    "                else :\n",
    "                    return x.W_20"
   ]
  },
  {
   "cell_type": "code",
   "execution_count": 43,
   "metadata": {
    "collapsed": true
   },
   "outputs": [],
   "source": [
    "# 접속정보\n",
    "host = 'kmaster.czypjmusens3.ap-northeast-2.rds.amazonaws.com'\n",
    "user = 'KMaster'\n",
    "password = 'kookmin1234'\n",
    "db = 'km_db'"
   ]
  },
  {
   "cell_type": "code",
   "execution_count": 8,
   "metadata": {
    "collapsed": false
   },
   "outputs": [],
   "source": [
    "dc = MySQLConnect(host, user, password, db)"
   ]
  },
  {
   "cell_type": "code",
   "execution_count": 44,
   "metadata": {
    "collapsed": false
   },
   "outputs": [],
   "source": [
    "# 조회조건 들어갈 변수\n",
    "block_nm = 'A11-1';A_6 = '26형'; A_11 = '본인';A_24 = '만65세이상고령자';"
   ]
  },
  {
   "cell_type": "code",
   "execution_count": 53,
   "metadata": {
    "collapsed": true
   },
   "outputs": [],
   "source": [
    "# 데이터 담을 dataframe\n",
    "full_data = pd.DataFrame(index = range(1))"
   ]
  },
  {
   "cell_type": "code",
   "execution_count": 46,
   "metadata": {
    "collapsed": false
   },
   "outputs": [],
   "source": [
    "A11_data = pd.DataFrame(list(dc.getRecord(\"*\", \"LEASE_DATA\", \"BLOCK_NM = '\"+block_nm+\"' and A_6 = '\"+A_6+\"' and A_11 = '\"+A_11+\"' and A_24 = '\"+A_24+\"'\")))"
   ]
  },
  {
   "cell_type": "code",
   "execution_count": 47,
   "metadata": {
    "collapsed": false,
    "scrolled": false
   },
   "outputs": [
    {
     "data": {
      "text/plain": [
       "68"
      ]
     },
     "execution_count": 47,
     "metadata": {},
     "output_type": "execute_result"
    }
   ],
   "source": [
    "len(A11_data) # 전체인원수"
   ]
  },
  {
   "cell_type": "code",
   "execution_count": 54,
   "metadata": {
    "collapsed": true
   },
   "outputs": [],
   "source": [
    "full_data['신청인원'] = len(A11_data)"
   ]
  },
  {
   "cell_type": "markdown",
   "metadata": {},
   "source": [
    "###### 우(고) 와 그외 나머지 데이터로 나누기"
   ]
  },
  {
   "cell_type": "code",
   "execution_count": 62,
   "metadata": {
    "collapsed": true
   },
   "outputs": [],
   "source": [
    "A11_priority = A11_data.ix[A11_data.W_14 == \"우(고)\"] # 우선공급\n",
    "A11_general = A11_data.ix[(A11_data.W_14 != \"우(고)\") | (A11_data.W_14 != \"\") ] # 일반공급"
   ]
  },
  {
   "cell_type": "markdown",
   "metadata": {},
   "source": [
    "###### 일반공급 이면서 당첨/탈락 으로 분류"
   ]
  },
  {
   "cell_type": "code",
   "execution_count": 63,
   "metadata": {
    "collapsed": true
   },
   "outputs": [],
   "source": [
    "A11_general_win = A11_general.ix[A11_general.W_4==\"당첨\"]\n",
    "A11_general_lose = A11_general.ix[A11_general.W_4!=\"당첨\"]"
   ]
  },
  {
   "cell_type": "code",
   "execution_count": 170,
   "metadata": {
    "collapsed": false
   },
   "outputs": [
    {
     "data": {
      "text/plain": [
       "43"
      ]
     },
     "execution_count": 170,
     "metadata": {},
     "output_type": "execute_result"
    }
   ],
   "source": [
    "len(A11_priority)+len(A11_general_win)"
   ]
  },
  {
   "cell_type": "code",
   "execution_count": 171,
   "metadata": {
    "collapsed": false
   },
   "outputs": [
    {
     "data": {
      "text/plain": [
       "1.8604651162790697"
      ]
     },
     "execution_count": 171,
     "metadata": {},
     "output_type": "execute_result"
    }
   ],
   "source": [
    "(len(A11_priority)+len(A11_general)) / (len(A11_priority)+len(A11_general_win))"
   ]
  },
  {
   "cell_type": "code",
   "execution_count": 172,
   "metadata": {
    "collapsed": true
   },
   "outputs": [],
   "source": [
    "full_data['경쟁률'] = str(round((len(A11_priority)+len(A11_general)) / (len(A11_priority)+len(A11_general_win)),2))+\":1\""
   ]
  },
  {
   "cell_type": "markdown",
   "metadata": {},
   "source": [
    "###### 커트라인 계산(우선공급 : W_20 / 일반공급 : W_21 \n",
    "###### 우선순위 ###########################################################################################################\n",
    "###### 장애인 : 1) 소득70%적용(W_16 == 'Y') -> 최저등급(W_15 == 6급)에 해당되는 최저점수  2) 소득70%적용(W_16 != 'Y') -> 최저등급(W_15 == 5등급)에 해당되는 최저점수\n",
    "###### 고령자 , 3자녀: 1) 소득70%적용(W_16 == 'Y') -> 최저점  2) 소득70%적용(W_16 != 'Y')-> 최저점\n",
    "###### 신혼부부 : 1) 소득70%적용(W_16 == 'Y') ->  신혼부부순위(W_39) 2순위  -> 신혼부부지역구분(W_40) '타' 부터  -> 자녀수(W_41) 작은 것 부터 1 ~ 3\n",
    "######                  2) 소득70%적용(W_16 != 'Y') -> 신혼부부순위(W_39) 2순위 -> 신혼부부지역구분(W_40) '타' 부터 -> 자녀수(W_41) 작은 것 부터 1 ~ 3\n",
    "###### 우선순위 ###########################################################################################################"
   ]
  },
  {
   "cell_type": "code",
   "execution_count": 56,
   "metadata": {
    "collapsed": false
   },
   "outputs": [],
   "source": [
    "if A_24 == '만65세이상고령자':\n",
    "    full_data['커트라인점수'] = A11_data.apply(highage_f, axis=1).min()\n",
    "elif A_24 == '장애인':\n",
    "    full_data['커트라인점수'] = A11_data.apply(highage_f, axis=1)\n",
    "elif A_24 == '3자녀가구':\n",
    "    full_data['커트라인점수'] = A11_data.apply(three_f, axis=1)\n",
    "elif A_24 == '신혼부부':\n",
    "    full_data['커트라인점수'] = A11_data.apply(married_f, axis=1)"
   ]
  },
  {
   "cell_type": "code",
   "execution_count": 77,
   "metadata": {
    "collapsed": false,
    "scrolled": true
   },
   "outputs": [
    {
     "data": {
      "text/html": [
       "<div>\n",
       "<table border=\"1\" class=\"dataframe\">\n",
       "  <thead>\n",
       "    <tr style=\"text-align: right;\">\n",
       "      <th></th>\n",
       "      <th>신청인원</th>\n",
       "      <th>커트라인점수</th>\n",
       "      <th>50%초과_당첨</th>\n",
       "      <th>50%초과_탈락</th>\n",
       "      <th>50%이하_당첨</th>\n",
       "      <th>50%이하_탈락</th>\n",
       "    </tr>\n",
       "  </thead>\n",
       "  <tbody>\n",
       "    <tr>\n",
       "      <th>0</th>\n",
       "      <td>68</td>\n",
       "      <td>0</td>\n",
       "      <td>0</td>\n",
       "      <td>0</td>\n",
       "      <td>31</td>\n",
       "      <td>37</td>\n",
       "    </tr>\n",
       "  </tbody>\n",
       "</table>\n",
       "</div>"
      ],
      "text/plain": [
       "   신청인원  커트라인점수  50%초과_당첨  50%초과_탈락  50%이하_당첨  50%이하_탈락\n",
       "0    68       0         0         0        31        37"
      ]
     },
     "execution_count": 77,
     "metadata": {},
     "output_type": "execute_result"
    }
   ],
   "source": [
    "full_data"
   ]
  },
  {
   "cell_type": "code",
   "execution_count": 64,
   "metadata": {
    "collapsed": true
   },
   "outputs": [],
   "source": [
    "All_50down = A11_data.ix[A11_data.A_32 == '50%이하']\n",
    "All_50up = A11_data.ix[A11_data.A_32 != '50%이하']"
   ]
  },
  {
   "cell_type": "code",
   "execution_count": 65,
   "metadata": {
    "collapsed": false
   },
   "outputs": [
    {
     "data": {
      "text/plain": [
       "68"
      ]
     },
     "execution_count": 65,
     "metadata": {},
     "output_type": "execute_result"
    }
   ],
   "source": [
    "len(All_50down) # 50%이하 총인원(당첨/탈락)"
   ]
  },
  {
   "cell_type": "code",
   "execution_count": 66,
   "metadata": {
    "collapsed": false
   },
   "outputs": [
    {
     "data": {
      "text/plain": [
       "0"
      ]
     },
     "execution_count": 66,
     "metadata": {},
     "output_type": "execute_result"
    }
   ],
   "source": [
    "len(All_50up) # 50% 초과 총인원(당첨/탈락)"
   ]
  },
  {
   "cell_type": "markdown",
   "metadata": {},
   "source": [
    "###### 50% 이하 중 당첨/탈락 데이터 나누기"
   ]
  },
  {
   "cell_type": "code",
   "execution_count": 72,
   "metadata": {
    "collapsed": true
   },
   "outputs": [],
   "source": [
    "All_50down_win = All_50down.ix[All_50down.W_4 == \"당첨\"]\n",
    "All_50down_down = All_50down.ix[All_50down.W_4 != \"당첨\"]"
   ]
  },
  {
   "cell_type": "code",
   "execution_count": 73,
   "metadata": {
    "collapsed": false
   },
   "outputs": [
    {
     "data": {
      "text/plain": [
       "31"
      ]
     },
     "execution_count": 73,
     "metadata": {},
     "output_type": "execute_result"
    }
   ],
   "source": [
    "len(All_50down_win) # 50%이하_당첨"
   ]
  },
  {
   "cell_type": "code",
   "execution_count": 74,
   "metadata": {
    "collapsed": true
   },
   "outputs": [],
   "source": [
    "full_data['50%이하_당첨'] = len(All_50down_win)"
   ]
  },
  {
   "cell_type": "code",
   "execution_count": 75,
   "metadata": {
    "collapsed": false
   },
   "outputs": [
    {
     "data": {
      "text/plain": [
       "37"
      ]
     },
     "execution_count": 75,
     "metadata": {},
     "output_type": "execute_result"
    }
   ],
   "source": [
    "len(All_50down_down) # 50%이하_탈락"
   ]
  },
  {
   "cell_type": "code",
   "execution_count": 76,
   "metadata": {
    "collapsed": true
   },
   "outputs": [],
   "source": [
    "full_data['50%이하_탈락'] = len(All_50down_down)"
   ]
  },
  {
   "cell_type": "markdown",
   "metadata": {},
   "source": [
    "###### 50% 초과 중 당첨/탈락 데이터 만들기  "
   ]
  },
  {
   "cell_type": "code",
   "execution_count": 67,
   "metadata": {
    "collapsed": true
   },
   "outputs": [],
   "source": [
    "All_50up_win = All_50up.ix[All_50up.W_4 == '당첨']\n",
    "All_50up_down = All_50up.ix[All_50up.W_4 != '당첨']"
   ]
  },
  {
   "cell_type": "code",
   "execution_count": 68,
   "metadata": {
    "collapsed": false
   },
   "outputs": [
    {
     "data": {
      "text/plain": [
       "0"
      ]
     },
     "execution_count": 68,
     "metadata": {},
     "output_type": "execute_result"
    }
   ],
   "source": [
    "len(All_50up_win) # 50%초과_당첨"
   ]
  },
  {
   "cell_type": "code",
   "execution_count": 69,
   "metadata": {
    "collapsed": true
   },
   "outputs": [],
   "source": [
    "full_data['50%초과_당첨'] = len(All_50up_win)"
   ]
  },
  {
   "cell_type": "code",
   "execution_count": 70,
   "metadata": {
    "collapsed": false
   },
   "outputs": [
    {
     "data": {
      "text/plain": [
       "0"
      ]
     },
     "execution_count": 70,
     "metadata": {},
     "output_type": "execute_result"
    }
   ],
   "source": [
    "len(All_50up_down) # 50%초과_탈락"
   ]
  },
  {
   "cell_type": "code",
   "execution_count": 71,
   "metadata": {
    "collapsed": true
   },
   "outputs": [],
   "source": [
    "full_data['50%초과_탈락'] = len(All_50up_down)"
   ]
  },
  {
   "cell_type": "markdown",
   "metadata": {},
   "source": [
    "##### 세대주 나이 구간화"
   ]
  },
  {
   "cell_type": "code",
   "execution_count": 180,
   "metadata": {
    "collapsed": true
   },
   "outputs": [],
   "source": [
    "bins = [29,39,49,99] # range 범위 지정\n",
    "group_names = ['30대이상', '40대이상', '50대이상'] # 지정할 그룹명\n",
    "categories = pd.cut(A11_data['A_34'], bins, labels=group_names) # range 변수"
   ]
  },
  {
   "cell_type": "code",
   "execution_count": 181,
   "metadata": {
    "collapsed": true
   },
   "outputs": [],
   "source": [
    "A11_data['세대주나이분류'] = pd.cut(A11_data['A_34'], bins, labels=group_names) # range column 추가"
   ]
  },
  {
   "cell_type": "code",
   "execution_count": null,
   "metadata": {
    "collapsed": true
   },
   "outputs": [],
   "source": [
    "A11_data_30 = A11_data.ix[A11_data.세대주나이분류 == '30대이상']\n",
    "A11_data_40 = A11_data.ix[A11_data.세대주나이분류 == '40대이상']\n",
    "A11_data_50 = A11_data.ix[A11_data.세대주나이분류 == '50대이상']"
   ]
  },
  {
   "cell_type": "code",
   "execution_count": 183,
   "metadata": {
    "collapsed": true
   },
   "outputs": [],
   "source": [
    "## 50대이상 당첨/탈락\n",
    "A11_data_50_win = A11_data_50.ix[A11_data_50.W_4 == '당첨']\n",
    "A11_data_50_down  = A11_data_50.ix[A11_data_50.W_4 != '당첨']\n",
    "## 40대이상 당첨/탈락\n",
    "A11_data_40_win = A11_data_40.ix[A11_data_40.W_4 == '당첨']\n",
    "A11_data_40_down  = A11_data_40.ix[A11_data_40.W_4 != '당첨']\n",
    "## 30대이상 당첨/탈락\n",
    "A11_data_30_win = A11_data_30.ix[A11_data_50.W_4 == '당첨']\n",
    "A11_data_30_down  = A11_data_30.ix[A11_data_50.W_4 != '당첨']"
   ]
  },
  {
   "cell_type": "code",
   "execution_count": 184,
   "metadata": {
    "collapsed": false,
    "scrolled": true
   },
   "outputs": [
    {
     "data": {
      "text/plain": [
       "31"
      ]
     },
     "execution_count": 184,
     "metadata": {},
     "output_type": "execute_result"
    }
   ],
   "source": [
    "len(A11_data_50_win) # 세대주_50세이상_당첨"
   ]
  },
  {
   "cell_type": "code",
   "execution_count": null,
   "metadata": {
    "collapsed": true
   },
   "outputs": [],
   "source": [
    "full_data['세대주_50세이상_당첨'] = len(A11_data_50_win)"
   ]
  },
  {
   "cell_type": "code",
   "execution_count": 186,
   "metadata": {
    "collapsed": false,
    "scrolled": true
   },
   "outputs": [
    {
     "data": {
      "text/plain": [
       "37"
      ]
     },
     "execution_count": 186,
     "metadata": {},
     "output_type": "execute_result"
    }
   ],
   "source": [
    "len(A11_data_50_down) # 세대주_50세이상_탈락"
   ]
  },
  {
   "cell_type": "code",
   "execution_count": null,
   "metadata": {
    "collapsed": true
   },
   "outputs": [],
   "source": [
    "full_data['세대주_50세이상_탈락'] = len(A11_data_50_down)"
   ]
  },
  {
   "cell_type": "code",
   "execution_count": null,
   "metadata": {
    "collapsed": true
   },
   "outputs": [],
   "source": [
    "len(A11_data_40_win) # 세대주_40세이상_당첨"
   ]
  },
  {
   "cell_type": "code",
   "execution_count": null,
   "metadata": {
    "collapsed": true
   },
   "outputs": [],
   "source": [
    "full_data['세대주_40세이상_당첨'] = len(A11_data_40_win)"
   ]
  },
  {
   "cell_type": "code",
   "execution_count": null,
   "metadata": {
    "collapsed": true
   },
   "outputs": [],
   "source": [
    "len(A11_data_40_down) # 세대주_40세이상_탈락"
   ]
  },
  {
   "cell_type": "code",
   "execution_count": null,
   "metadata": {
    "collapsed": true
   },
   "outputs": [],
   "source": [
    "full_data['세대주_40세이상_탈락'] = len(A11_data_40_down)"
   ]
  },
  {
   "cell_type": "code",
   "execution_count": null,
   "metadata": {
    "collapsed": true
   },
   "outputs": [],
   "source": [
    "len(A11_data_30_win) # 세대주_30세이상_당첨"
   ]
  },
  {
   "cell_type": "code",
   "execution_count": null,
   "metadata": {
    "collapsed": true
   },
   "outputs": [],
   "source": [
    "full_data['세대주_30세이상_당첨'] = len(A11_data_30_win)"
   ]
  },
  {
   "cell_type": "code",
   "execution_count": null,
   "metadata": {
    "collapsed": true
   },
   "outputs": [],
   "source": [
    "len(A11_data_30_down) # 세대주_30세이상_탈락"
   ]
  },
  {
   "cell_type": "code",
   "execution_count": null,
   "metadata": {
    "collapsed": true
   },
   "outputs": [],
   "source": [
    "full_data['세대주_30세이상_탈락'] = len(A11_data_30_down)"
   ]
  },
  {
   "cell_type": "markdown",
   "metadata": {},
   "source": [
    "##### 부양가족 수 구간화"
   ]
  },
  {
   "cell_type": "code",
   "execution_count": 78,
   "metadata": {
    "collapsed": false
   },
   "outputs": [],
   "source": [
    "child_bins = [0,1,2,3] # range 범위 지정\n",
    "child_group_names = ['1인', '2인', '3인'] # 지정할 그룹명\n",
    "child_categories = pd.cut(A11_data['A_35'], child_bins, labels=child_group_names) # range 변수"
   ]
  },
  {
   "cell_type": "code",
   "execution_count": 79,
   "metadata": {
    "collapsed": false,
    "scrolled": true
   },
   "outputs": [],
   "source": [
    "A11_data['부양가족구분'] = pd.cut(A11_data['A_35'], child_bins, labels=child_group_names) # range column 추가"
   ]
  },
  {
   "cell_type": "code",
   "execution_count": 83,
   "metadata": {
    "collapsed": false
   },
   "outputs": [],
   "source": [
    "A11_child1 = A11_data.ix[A11_data['부양가족구분'] == '1인']\n",
    "A11_child2 = A11_data.ix[A11_data['부양가족구분'] == '2인']\n",
    "A11_child3 = A11_data.ix[A11_data['부양가족구분'] == '3인']"
   ]
  },
  {
   "cell_type": "markdown",
   "metadata": {},
   "source": [
    "###### 1인 부양가족의 당첨/탈락 데이터 나누기"
   ]
  },
  {
   "cell_type": "code",
   "execution_count": 84,
   "metadata": {
    "collapsed": false
   },
   "outputs": [],
   "source": [
    "## 부양가족 1인\n",
    "A11_child1_win = A11_child1.ix[A11_child1.W_4 == '당첨']\n",
    "A11_child1_down = A11_child1.ix[A11_child1.W_4 != '당첨']\n",
    "## 부양가족 2인\n",
    "A11_child2_win = A11_child2.ix[A11_child2.W_4 == '당첨']\n",
    "A11_child2_down = A11_child2.ix[A11_child2.W_4 != '당첨']\n",
    "## 부양가족 3인\n",
    "A11_child3_win = A11_child3.ix[A11_child3.W_4 == '당첨']\n",
    "A11_child3_down = A11_child3.ix[A11_child3.W_4 != '당첨']"
   ]
  },
  {
   "cell_type": "code",
   "execution_count": 85,
   "metadata": {
    "collapsed": false
   },
   "outputs": [
    {
     "data": {
      "text/plain": [
       "3"
      ]
     },
     "execution_count": 85,
     "metadata": {},
     "output_type": "execute_result"
    }
   ],
   "source": [
    "len(A11_child1_win) # 부양가족_1인_당첨"
   ]
  },
  {
   "cell_type": "code",
   "execution_count": 86,
   "metadata": {
    "collapsed": true
   },
   "outputs": [],
   "source": [
    "full_data['부양가족_1인_당첨'] = len(A11_child1_win)"
   ]
  },
  {
   "cell_type": "code",
   "execution_count": 87,
   "metadata": {
    "collapsed": false
   },
   "outputs": [
    {
     "data": {
      "text/plain": [
       "3"
      ]
     },
     "execution_count": 87,
     "metadata": {},
     "output_type": "execute_result"
    }
   ],
   "source": [
    "len(A11_child1_down) # 부양가족_1인_탈락"
   ]
  },
  {
   "cell_type": "code",
   "execution_count": 88,
   "metadata": {
    "collapsed": true
   },
   "outputs": [],
   "source": [
    "full_data['부양가족_1인_탈락'] = len(A11_child1_down)"
   ]
  },
  {
   "cell_type": "code",
   "execution_count": 89,
   "metadata": {
    "collapsed": false
   },
   "outputs": [
    {
     "data": {
      "text/plain": [
       "0"
      ]
     },
     "execution_count": 89,
     "metadata": {},
     "output_type": "execute_result"
    }
   ],
   "source": [
    "len(A11_child2_win) # 부양가족_2인_당첨"
   ]
  },
  {
   "cell_type": "code",
   "execution_count": 90,
   "metadata": {
    "collapsed": true
   },
   "outputs": [],
   "source": [
    "full_data['부양가족_2인_당첨'] = len(A11_child2_win)"
   ]
  },
  {
   "cell_type": "code",
   "execution_count": 91,
   "metadata": {
    "collapsed": false
   },
   "outputs": [
    {
     "data": {
      "text/plain": [
       "0"
      ]
     },
     "execution_count": 91,
     "metadata": {},
     "output_type": "execute_result"
    }
   ],
   "source": [
    "len(A11_child2_down) # 부양가족_2인_탈락"
   ]
  },
  {
   "cell_type": "code",
   "execution_count": 92,
   "metadata": {
    "collapsed": true
   },
   "outputs": [],
   "source": [
    "full_data['부양가족_2인_탈락'] = len(A11_child2_down)"
   ]
  },
  {
   "cell_type": "code",
   "execution_count": 93,
   "metadata": {
    "collapsed": false
   },
   "outputs": [
    {
     "data": {
      "text/plain": [
       "0"
      ]
     },
     "execution_count": 93,
     "metadata": {},
     "output_type": "execute_result"
    }
   ],
   "source": [
    "len(A11_child3_win) # 부양가족_3인_당첨"
   ]
  },
  {
   "cell_type": "code",
   "execution_count": 94,
   "metadata": {
    "collapsed": true
   },
   "outputs": [],
   "source": [
    "full_data['부양가족_3인_당첨'] = len(A11_child3_win)"
   ]
  },
  {
   "cell_type": "code",
   "execution_count": 95,
   "metadata": {
    "collapsed": false
   },
   "outputs": [
    {
     "data": {
      "text/plain": [
       "1"
      ]
     },
     "execution_count": 95,
     "metadata": {},
     "output_type": "execute_result"
    }
   ],
   "source": [
    "len(A11_child3_down) # 부양가족_3인_탈락"
   ]
  },
  {
   "cell_type": "code",
   "execution_count": 96,
   "metadata": {
    "collapsed": true
   },
   "outputs": [],
   "source": [
    "full_data['부양가족_3인_탈락'] = len(A11_child3_down)"
   ]
  },
  {
   "cell_type": "markdown",
   "metadata": {},
   "source": [
    "##### 거주기간 구간화"
   ]
  },
  {
   "cell_type": "code",
   "execution_count": 97,
   "metadata": {
    "collapsed": false
   },
   "outputs": [],
   "source": [
    "resi_bins = [0,2,4,100] # range 범위 지정\n",
    "resi_group_names = ['1_3년', '3_5년', '5년이상'] # 지정할 그룹명\n",
    "resi_categories = pd.cut(A11_data['A_22'],  resi_bins,False, labels=resi_group_names) # range 변수"
   ]
  },
  {
   "cell_type": "code",
   "execution_count": 98,
   "metadata": {
    "collapsed": true
   },
   "outputs": [],
   "source": [
    "A11_data['거주기간구분'] = pd.cut(A11_data['A_22'], resi_bins, labels=resi_group_names) # range column 추가"
   ]
  },
  {
   "cell_type": "code",
   "execution_count": 99,
   "metadata": {
    "collapsed": true
   },
   "outputs": [],
   "source": [
    "A11_oneTothree = A11_data.ix[A11_data.거주기간구분 == \"1_3년\"]\n",
    "A11_threeTofive = A11_data.ix[A11_data.거주기간구분 == \"3_5년\"]\n",
    "A11_five = A11_data.ix[A11_data.거주기간구분 == \"5년이상\"]"
   ]
  },
  {
   "cell_type": "code",
   "execution_count": 100,
   "metadata": {
    "collapsed": false
   },
   "outputs": [],
   "source": [
    "## 1년~3년(1,2년)\n",
    "A11_oneTothree_win = A11_oneTothree.ix[A11_oneTothree.W_4 == '당첨']\n",
    "A11_oneTothree_lose = A11_oneTothree.ix[A11_oneTothree.W_4 != '당첨']\n",
    "## 3년~5년(3,4년)\n",
    "A11_threeTofive_win = A11_threeTofive.ix[A11_threeTofive.W_4 == '당첨']\n",
    "A11_threeTofive_lose = A11_threeTofive.ix[A11_threeTofive.W_4 != '당첨']\n",
    "## 5년이상(5년부터)\n",
    "A11_five_win = A11_five.ix[A11_five.W_4 == '당첨']\n",
    "A11_five_lose = A11_five.ix[A11_five.W_4 != '당첨']"
   ]
  },
  {
   "cell_type": "code",
   "execution_count": 101,
   "metadata": {
    "collapsed": false
   },
   "outputs": [
    {
     "data": {
      "text/plain": [
       "5"
      ]
     },
     "execution_count": 101,
     "metadata": {},
     "output_type": "execute_result"
    }
   ],
   "source": [
    "len(A11_oneTothree_win) # 거주기간_1_3년_당첨"
   ]
  },
  {
   "cell_type": "code",
   "execution_count": 102,
   "metadata": {
    "collapsed": true
   },
   "outputs": [],
   "source": [
    "full_data['거주기간_1_3년_당첨'] = len(A11_oneTothree_win)"
   ]
  },
  {
   "cell_type": "code",
   "execution_count": 103,
   "metadata": {
    "collapsed": false,
    "scrolled": false
   },
   "outputs": [
    {
     "data": {
      "text/plain": [
       "0"
      ]
     },
     "execution_count": 103,
     "metadata": {},
     "output_type": "execute_result"
    }
   ],
   "source": [
    "len(A11_oneTothree_lose) # 거주기간_1_3년_탈락"
   ]
  },
  {
   "cell_type": "code",
   "execution_count": 104,
   "metadata": {
    "collapsed": true
   },
   "outputs": [],
   "source": [
    "full_data['거주기간_1_3년_탈락'] = len(A11_oneTothree_lose)"
   ]
  },
  {
   "cell_type": "code",
   "execution_count": 105,
   "metadata": {
    "collapsed": false
   },
   "outputs": [
    {
     "data": {
      "text/plain": [
       "8"
      ]
     },
     "execution_count": 105,
     "metadata": {},
     "output_type": "execute_result"
    }
   ],
   "source": [
    "len(A11_threeTofive_win) # 거주기간_3_5년_당첨"
   ]
  },
  {
   "cell_type": "code",
   "execution_count": 106,
   "metadata": {
    "collapsed": true
   },
   "outputs": [],
   "source": [
    "full_data['거주기간_3_5년_당첨'] = len(A11_threeTofive_win)"
   ]
  },
  {
   "cell_type": "code",
   "execution_count": 107,
   "metadata": {
    "collapsed": false
   },
   "outputs": [
    {
     "data": {
      "text/plain": [
       "0"
      ]
     },
     "execution_count": 107,
     "metadata": {},
     "output_type": "execute_result"
    }
   ],
   "source": [
    "len(A11_threeTofive_lose) # 거주기간_3_5년_탈락"
   ]
  },
  {
   "cell_type": "code",
   "execution_count": 108,
   "metadata": {
    "collapsed": true
   },
   "outputs": [],
   "source": [
    "full_data['거주기간_3_5년_탈락'] = len(A11_threeTofive_lose)"
   ]
  },
  {
   "cell_type": "code",
   "execution_count": 109,
   "metadata": {
    "collapsed": false
   },
   "outputs": [
    {
     "data": {
      "text/plain": [
       "8"
      ]
     },
     "execution_count": 109,
     "metadata": {},
     "output_type": "execute_result"
    }
   ],
   "source": [
    "len(A11_five_win) # 거주기간_5년_당첨"
   ]
  },
  {
   "cell_type": "code",
   "execution_count": 110,
   "metadata": {
    "collapsed": true
   },
   "outputs": [],
   "source": [
    "full_data['거주기간_5년_당첨'] = len(A11_five_win)"
   ]
  },
  {
   "cell_type": "code",
   "execution_count": 111,
   "metadata": {
    "collapsed": false
   },
   "outputs": [
    {
     "data": {
      "text/plain": [
       "0"
      ]
     },
     "execution_count": 111,
     "metadata": {},
     "output_type": "execute_result"
    }
   ],
   "source": [
    "len(A11_five_lose) # 거주기간_5년_탈락"
   ]
  },
  {
   "cell_type": "code",
   "execution_count": 112,
   "metadata": {
    "collapsed": true
   },
   "outputs": [],
   "source": [
    "full_data['거주기간_5년_탈락'] = len(A11_five_lose)"
   ]
  },
  {
   "cell_type": "markdown",
   "metadata": {},
   "source": [
    "###### 미성년자 3명이상 여부 데이터 나누기"
   ]
  },
  {
   "cell_type": "code",
   "execution_count": 113,
   "metadata": {
    "collapsed": true
   },
   "outputs": [],
   "source": [
    "A11_data_threeup = A11_data.ix[A11_data.W_17 >= 3]\n",
    "A11_data_threedown = A11_data.ix[A11_data.W_17 < 3 ]"
   ]
  },
  {
   "cell_type": "code",
   "execution_count": 114,
   "metadata": {
    "collapsed": true
   },
   "outputs": [],
   "source": [
    "## 3명 이상\n",
    "A11_data_threeup_win = A11_data_threeup.ix[A11_data_threeup.W_4 == '당첨']\n",
    "A11_data_threeup_lose = A11_data_threeup.ix[A11_data_threeup.W_4 != '당첨']\n",
    "\n",
    "## 3명 미만\n",
    "A11_data_threedown_win = A11_data_threedown.ix[A11_data_threedown.W_4 == '당첨']\n",
    "A11_data_threedown_lose = A11_data_threedown.ix[A11_data_threedown.W_4 != '당첨']"
   ]
  },
  {
   "cell_type": "code",
   "execution_count": 115,
   "metadata": {
    "collapsed": false
   },
   "outputs": [
    {
     "data": {
      "text/plain": [
       "0"
      ]
     },
     "execution_count": 115,
     "metadata": {},
     "output_type": "execute_result"
    }
   ],
   "source": [
    "len(A11_data_threeup_win) # 미성년_3명이상_당첨"
   ]
  },
  {
   "cell_type": "code",
   "execution_count": 116,
   "metadata": {
    "collapsed": true
   },
   "outputs": [],
   "source": [
    "full_data['미성년_3명이상_당첨'] = len(A11_data_threeup_win)"
   ]
  },
  {
   "cell_type": "code",
   "execution_count": 117,
   "metadata": {
    "collapsed": false
   },
   "outputs": [
    {
     "data": {
      "text/plain": [
       "0"
      ]
     },
     "execution_count": 117,
     "metadata": {},
     "output_type": "execute_result"
    }
   ],
   "source": [
    "len(A11_data_threeup_lose) # 미성년_3명이상_탈락"
   ]
  },
  {
   "cell_type": "code",
   "execution_count": 118,
   "metadata": {
    "collapsed": true
   },
   "outputs": [],
   "source": [
    "full_data['미성년_3명이상_탈락'] = len(A11_data_threeup_lose)"
   ]
  },
  {
   "cell_type": "code",
   "execution_count": 119,
   "metadata": {
    "collapsed": false
   },
   "outputs": [
    {
     "data": {
      "text/plain": [
       "31"
      ]
     },
     "execution_count": 119,
     "metadata": {},
     "output_type": "execute_result"
    }
   ],
   "source": [
    "len(A11_data_threedown_win) # 미성년_3명미만_당첨"
   ]
  },
  {
   "cell_type": "code",
   "execution_count": 120,
   "metadata": {
    "collapsed": true
   },
   "outputs": [],
   "source": [
    "full_data['미성년_3명미만_당첨'] = len(A11_data_threedown_win)"
   ]
  },
  {
   "cell_type": "code",
   "execution_count": 121,
   "metadata": {
    "collapsed": false
   },
   "outputs": [
    {
     "data": {
      "text/plain": [
       "37"
      ]
     },
     "execution_count": 121,
     "metadata": {},
     "output_type": "execute_result"
    }
   ],
   "source": [
    "len(A11_data_threedown_lose) # 미성년_3명미만_탈락"
   ]
  },
  {
   "cell_type": "code",
   "execution_count": 122,
   "metadata": {
    "collapsed": true
   },
   "outputs": [],
   "source": [
    "full_data['미성년_3명미만_탈락'] = len(A11_data_threedown_lose)"
   ]
  },
  {
   "cell_type": "markdown",
   "metadata": {},
   "source": [
    "\n",
    "##### 고령자 중 당첨형태가 우선공급인 자에 대한 건설근로자여부(위에서 우(고) 만 나눈 A11_priority 활용)"
   ]
  },
  {
   "cell_type": "code",
   "execution_count": 123,
   "metadata": {
    "collapsed": true
   },
   "outputs": [],
   "source": [
    "## 우선공급 중 건설근로자 여부\n",
    "A11_priority_structY = A11_priority.ix[A11_priority.W_36 == 'Y']\n",
    "A11_priority_structN = A11_priority.ix[A11_priority.W_36 != 'Y']\n",
    "## 일반공급 중 건설근로자 여부\n",
    "A11_general_structY = A11_general.ix[A11_general.W_36 == 'Y'] \n",
    "A11_general_structN = A11_general.ix[A11_general.W_36 != 'Y']"
   ]
  },
  {
   "cell_type": "code",
   "execution_count": 124,
   "metadata": {
    "collapsed": true
   },
   "outputs": [],
   "source": [
    "# 우선공급 건설근로자 중 당첨/탈락\n",
    "A11_priority_structY_win = A11_priority_structY.ix[A11_priority_structY.W_4 =='당첨']\n",
    "A11_priority_structY_lose = A11_priority_structY.ix[A11_priority_structY.W_4 !='당첨']\n",
    "# 일반공급 건설근로자 중 당첨/탈락\n",
    "A11_general_structY_win = A11_general_structY.ix[A11_general_structY.W_4 == '당첨']\n",
    "A11_general_structY_lose = A11_general_structY.ix[A11_general_structY.W_4 != '당첨']\n",
    "# 우선공급 건설근로자 아닌 당첨/탈락\n",
    "A11_priority_structN_win = A11_priority_structN.ix[A11_priority_structN.W_4 == '당첨']\n",
    "A11_priority_structN_lose = A11_priority_structN.ix[A11_priority_structN.W_4 == '당첨']\n",
    "# 일반공급 건설근로자 아닌 당첨/탈락\n",
    "A11_general_structN_win = A11_general_structN.ix[A11_general_structN.W_4 == '당첨']\n",
    "A11_general_structN_lose = A11_general_structN.ix[A11_general_structN.W_4 != '당첨']"
   ]
  },
  {
   "cell_type": "code",
   "execution_count": 125,
   "metadata": {
    "collapsed": false,
    "scrolled": true
   },
   "outputs": [
    {
     "data": {
      "text/plain": [
       "0"
      ]
     },
     "execution_count": 125,
     "metadata": {},
     "output_type": "execute_result"
    }
   ],
   "source": [
    "len(A11_priority_structY_win) + len(A11_general_structY_win) # 건설근로자_3점_당첨"
   ]
  },
  {
   "cell_type": "code",
   "execution_count": 127,
   "metadata": {
    "collapsed": true
   },
   "outputs": [],
   "source": [
    "full_data['건설근로자_3점_당첨'] = len(A11_priority_structY_win) + len(A11_general_structY_win)"
   ]
  },
  {
   "cell_type": "code",
   "execution_count": 128,
   "metadata": {
    "collapsed": false
   },
   "outputs": [
    {
     "data": {
      "text/plain": [
       "0"
      ]
     },
     "execution_count": 128,
     "metadata": {},
     "output_type": "execute_result"
    }
   ],
   "source": [
    "len(A11_priority_structY_lose) + len(A11_general_structY_lose) # 건설근로자_3점_탈락"
   ]
  },
  {
   "cell_type": "code",
   "execution_count": 129,
   "metadata": {
    "collapsed": true
   },
   "outputs": [],
   "source": [
    "full_data['건설근로자_3점_탈락'] = len(A11_priority_structY_lose) + len(A11_general_structY_lose)"
   ]
  },
  {
   "cell_type": "code",
   "execution_count": 130,
   "metadata": {
    "collapsed": false
   },
   "outputs": [
    {
     "data": {
      "text/plain": [
       "43"
      ]
     },
     "execution_count": 130,
     "metadata": {},
     "output_type": "execute_result"
    }
   ],
   "source": [
    "len(A11_priority_structN_win) + len(A11_general_structN_win) # 건설근로자_0점_당첨"
   ]
  },
  {
   "cell_type": "code",
   "execution_count": 131,
   "metadata": {
    "collapsed": true
   },
   "outputs": [],
   "source": [
    "full_data['건설근로자_0점_당첨'] = len(A11_priority_structN_win) + len(A11_general_structN_win)"
   ]
  },
  {
   "cell_type": "code",
   "execution_count": 132,
   "metadata": {
    "collapsed": false
   },
   "outputs": [
    {
     "data": {
      "text/plain": [
       "49"
      ]
     },
     "execution_count": 132,
     "metadata": {},
     "output_type": "execute_result"
    }
   ],
   "source": [
    "len(A11_priority_structN_lose) + len(A11_general_structN_lose) # 건설근로자_0점_탈락"
   ]
  },
  {
   "cell_type": "code",
   "execution_count": 133,
   "metadata": {
    "collapsed": true
   },
   "outputs": [],
   "source": [
    "full_data['건설근로자_0점_탈락'] = len(A11_priority_structN_lose) + len(A11_general_structN_lose)"
   ]
  },
  {
   "cell_type": "markdown",
   "metadata": {},
   "source": [
    "##### 청약 불입회수 분리"
   ]
  },
  {
   "cell_type": "code",
   "execution_count": 134,
   "metadata": {
    "collapsed": true
   },
   "outputs": [],
   "source": [
    "not_save_bins = [35,47,59,200] # range 범위 지정\n",
    "not_save_group_names = ['36회이상', '48회이상', '60회이상'] # 지정할 그룹명\n",
    "not_save_categories = pd.cut(A11_data['A_46'],  not_save_bins,False, labels=not_save_group_names) # range 변수"
   ]
  },
  {
   "cell_type": "code",
   "execution_count": 135,
   "metadata": {
    "collapsed": true
   },
   "outputs": [],
   "source": [
    "A11_data['청약횟수분리'] = pd.cut(A11_data['A_46'], not_save_bins, labels=not_save_group_names) # range column 추가"
   ]
  },
  {
   "cell_type": "code",
   "execution_count": 136,
   "metadata": {
    "collapsed": true
   },
   "outputs": [],
   "source": [
    "A11_36 = A11_data.ix[A11_data.청약횟수분리 == '36회이상']\n",
    "A11_48 = A11_data.ix[A11_data.청약횟수분리 == '48회이상']\n",
    "A11_60 = A11_data.ix[A11_data.청약횟수분리 == '60회이상']"
   ]
  },
  {
   "cell_type": "code",
   "execution_count": 137,
   "metadata": {
    "collapsed": true
   },
   "outputs": [],
   "source": [
    "## 36회이상 당첨/탈락\n",
    "A11_36_win = A11_36.ix[A11_36.W_4 == '당첨']\n",
    "A11_36_lose = A11_36.ix[A11_36.W_4 != '당첨']\n",
    "## 48회이상 당첨/탈락\n",
    "A11_48_win = A11_48.ix[A11_48.W_4 == '당첨']\n",
    "A11_48_lose = A11_48.ix[A11_48.W_4 != '당첨']\n",
    "## 60회이상 당첨/탈락\n",
    "A11_60_win = A11_60.ix[A11_60.W_4 == '당첨']\n",
    "A11_60_lose = A11_60.ix[A11_60.W_4 != '당첨']"
   ]
  },
  {
   "cell_type": "code",
   "execution_count": 138,
   "metadata": {
    "collapsed": false
   },
   "outputs": [
    {
     "data": {
      "text/plain": [
       "1"
      ]
     },
     "execution_count": 138,
     "metadata": {},
     "output_type": "execute_result"
    }
   ],
   "source": [
    "len(A11_36_win) # 청약저축_36이상_당첨"
   ]
  },
  {
   "cell_type": "code",
   "execution_count": 139,
   "metadata": {
    "collapsed": true
   },
   "outputs": [],
   "source": [
    "full_data['청약저축_36이상_당첨'] = len(A11_36_win)"
   ]
  },
  {
   "cell_type": "code",
   "execution_count": 140,
   "metadata": {
    "collapsed": false
   },
   "outputs": [
    {
     "data": {
      "text/plain": [
       "2"
      ]
     },
     "execution_count": 140,
     "metadata": {},
     "output_type": "execute_result"
    }
   ],
   "source": [
    "len(A11_36_lose) # 청약저축_36이상_탈락"
   ]
  },
  {
   "cell_type": "code",
   "execution_count": 142,
   "metadata": {
    "collapsed": true
   },
   "outputs": [],
   "source": [
    "full_data['청약저축_36이상_탈락'] = len(A11_36_lose)"
   ]
  },
  {
   "cell_type": "code",
   "execution_count": 143,
   "metadata": {
    "collapsed": false
   },
   "outputs": [
    {
     "data": {
      "text/plain": [
       "1"
      ]
     },
     "execution_count": 143,
     "metadata": {},
     "output_type": "execute_result"
    }
   ],
   "source": [
    "len(A11_48_win) # 청약저축_48이상_당첨"
   ]
  },
  {
   "cell_type": "code",
   "execution_count": 144,
   "metadata": {
    "collapsed": true
   },
   "outputs": [],
   "source": [
    "full_data['청약저축_48이상_당첨'] = len(A11_48_win)"
   ]
  },
  {
   "cell_type": "code",
   "execution_count": 145,
   "metadata": {
    "collapsed": false
   },
   "outputs": [
    {
     "data": {
      "text/plain": [
       "0"
      ]
     },
     "execution_count": 145,
     "metadata": {},
     "output_type": "execute_result"
    }
   ],
   "source": [
    "len(A11_48_lose) # 청약저축_48이상_탈락"
   ]
  },
  {
   "cell_type": "code",
   "execution_count": 146,
   "metadata": {
    "collapsed": true
   },
   "outputs": [],
   "source": [
    "full_data['청약저축_48이상_탈락'] = len(A11_48_lose)"
   ]
  },
  {
   "cell_type": "code",
   "execution_count": 147,
   "metadata": {
    "collapsed": false
   },
   "outputs": [
    {
     "data": {
      "text/plain": [
       "2"
      ]
     },
     "execution_count": 147,
     "metadata": {},
     "output_type": "execute_result"
    }
   ],
   "source": [
    "len(A11_60_win) # 청약저축_60이상_당첨"
   ]
  },
  {
   "cell_type": "code",
   "execution_count": 148,
   "metadata": {
    "collapsed": true
   },
   "outputs": [],
   "source": [
    "full_data['청약저축_60이상_당첨'] = len(A11_60_win)"
   ]
  },
  {
   "cell_type": "code",
   "execution_count": 149,
   "metadata": {
    "collapsed": false
   },
   "outputs": [
    {
     "data": {
      "text/plain": [
       "5"
      ]
     },
     "execution_count": 149,
     "metadata": {},
     "output_type": "execute_result"
    }
   ],
   "source": [
    "len(A11_60_lose) # 청약저축_60이상_탈락"
   ]
  },
  {
   "cell_type": "code",
   "execution_count": 150,
   "metadata": {
    "collapsed": true
   },
   "outputs": [],
   "source": [
    "full_data['청약저축_60이상_탈락'] = len(A11_60_lose)"
   ]
  },
  {
   "cell_type": "markdown",
   "metadata": {},
   "source": [
    "###### 계약사실 분리 데이터"
   ]
  },
  {
   "cell_type": "code",
   "execution_count": 151,
   "metadata": {
    "collapsed": true
   },
   "outputs": [],
   "source": [
    "## 계약사실 분리 함수\n",
    "def f(x) :\n",
    "    if x['W_24'] == -5:\n",
    "        return \"1년이내\"\n",
    "    elif x['W_24'] == -3:\n",
    "        return \"3년이내\" \n",
    "    else:\n",
    "        return \"해당없음\""
   ]
  },
  {
   "cell_type": "code",
   "execution_count": 152,
   "metadata": {
    "collapsed": false
   },
   "outputs": [],
   "source": [
    "A11_data['계약사실구분'] = A11_data.apply(f, axis=1)"
   ]
  },
  {
   "cell_type": "markdown",
   "metadata": {},
   "source": [
    "###### 계약사실 데이터 1년이내/3년이내 나누기"
   ]
  },
  {
   "cell_type": "code",
   "execution_count": 153,
   "metadata": {
    "collapsed": false,
    "scrolled": true
   },
   "outputs": [],
   "source": [
    "A11_data_one = A11_data.ix[A11_data.계약사실구분 == \"1년이내\"]\n",
    "A11_data_three = A11_data.ix[A11_data.계약사실구분 == \"3년이내\"]"
   ]
  },
  {
   "cell_type": "code",
   "execution_count": 154,
   "metadata": {
    "collapsed": true
   },
   "outputs": [],
   "source": [
    "# 1년이내 당첨/탈락\n",
    "A11_data_one_win = A11_data_one.ix[A11_data_one.W_4 =='당첨']\n",
    "A11_data_one_lose = A11_data_one.ix[A11_data_one.W_4 !='당첨']\n",
    "# 3년이내 당첨/탈락\n",
    "A11_data_three_win = A11_data_three.ix[A11_data_three.W_4 =='당첨']\n",
    "A11_data_three_lose = A11_data_three.ix[A11_data_three.W_4 !='당첨']"
   ]
  },
  {
   "cell_type": "code",
   "execution_count": 155,
   "metadata": {
    "collapsed": false
   },
   "outputs": [
    {
     "data": {
      "text/plain": [
       "0"
      ]
     },
     "execution_count": 155,
     "metadata": {},
     "output_type": "execute_result"
    }
   ],
   "source": [
    "len(A11_data_one_win) # 계약사실_1년이내_당첨"
   ]
  },
  {
   "cell_type": "code",
   "execution_count": 156,
   "metadata": {
    "collapsed": true
   },
   "outputs": [],
   "source": [
    "full_data['계약사실_1년이내_당첨'] = len(A11_data_one_win)"
   ]
  },
  {
   "cell_type": "code",
   "execution_count": 157,
   "metadata": {
    "collapsed": false
   },
   "outputs": [
    {
     "data": {
      "text/plain": [
       "2"
      ]
     },
     "execution_count": 157,
     "metadata": {},
     "output_type": "execute_result"
    }
   ],
   "source": [
    "len(A11_data_one_lose) # 계약사실_1년이내_탈락"
   ]
  },
  {
   "cell_type": "code",
   "execution_count": 158,
   "metadata": {
    "collapsed": true
   },
   "outputs": [],
   "source": [
    "full_data['계약사실_1년이내_탈락'] = len(A11_data_one_lose)"
   ]
  },
  {
   "cell_type": "code",
   "execution_count": 159,
   "metadata": {
    "collapsed": false
   },
   "outputs": [
    {
     "data": {
      "text/plain": [
       "2"
      ]
     },
     "execution_count": 159,
     "metadata": {},
     "output_type": "execute_result"
    }
   ],
   "source": [
    "len(A11_data_three_win) # 게약사실_3년이내_당첨"
   ]
  },
  {
   "cell_type": "code",
   "execution_count": 160,
   "metadata": {
    "collapsed": true
   },
   "outputs": [],
   "source": [
    "full_data['게약사실_3년이내_당첨'] = len(A11_data_three_win)"
   ]
  },
  {
   "cell_type": "code",
   "execution_count": 161,
   "metadata": {
    "collapsed": false
   },
   "outputs": [
    {
     "data": {
      "text/plain": [
       "0"
      ]
     },
     "execution_count": 161,
     "metadata": {},
     "output_type": "execute_result"
    }
   ],
   "source": [
    "len(A11_data_three_lose) # 게약사실_3년이내_탈락"
   ]
  },
  {
   "cell_type": "code",
   "execution_count": 162,
   "metadata": {
    "collapsed": true
   },
   "outputs": [],
   "source": [
    "full_data['게약사실_3년이내_탈락'] = len(A11_data_three_lose)"
   ]
  },
  {
   "cell_type": "code",
   "execution_count": 163,
   "metadata": {
    "collapsed": true
   },
   "outputs": [],
   "source": [
    "# 장애등급을 위한 dataframe 껍데기\n",
    "A11_data_one = []\n",
    "A11_data_two = []\n",
    "A11_data_three = [] \n",
    "A11_data_four = []\n",
    "A11_data_five = []\n",
    "A11_data_six = []\n",
    "\n",
    "if A_24 == '장애인':\n",
    "    A11_data_one = A11_data.ix[A11_data.A_28 == '1급']\n",
    "    A11_data_two = A11_data.ix[A11_data.A_28 == '2급']\n",
    "    A11_data_three = A11_data.ix[A11_data.A_28 == '3급']\n",
    "    A11_data_four = A11_data.ix[(A11_data.A_28 == '4급') | (A11_data.A_28 == '5급') | (A11_data.A_28 == '6급')]"
   ]
  },
  {
   "cell_type": "code",
   "execution_count": null,
   "metadata": {
    "collapsed": true
   },
   "outputs": [],
   "source": [
    "## 1급 당첨/탈락\n",
    "A11_data_one_win = A11_data_one.ix[A11_data_one.W_4 == '당첨']\n",
    "A11_data_one_lose = A11_data_one.ix[A11_data_one.W_4 != '당첨']\n",
    "## 2급 당첨/탈락\n",
    "A11_data_two_win = A11_data_two.ix[A11_data_two.W_4 == '당첨']\n",
    "A11_data_two_lose = A11_data_two.ix[A11_data_two.W_4 != '당첨']\n",
    "## 3급 당첨/탈락\n",
    "A11_data_three_win = A11_data_three.ix[A11_data_three.W_4 == '당첨']\n",
    "A11_data_three_lose = A11_data_three.ix[A11_data_three.W_4 != '당첨']\n",
    "## 4급이하 당첨/탈락\n",
    "A11_data_four_win = A11_data_four.ix[A11_data_four.W_4 == '당첨']\n",
    "A11_data_four_lose = A11_data_four.ix[A11_data_four.W_4 != '당첨']"
   ]
  },
  {
   "cell_type": "code",
   "execution_count": null,
   "metadata": {
    "collapsed": true
   },
   "outputs": [],
   "source": [
    "len(A11_data_one_win) # 장애1등급_당첨"
   ]
  },
  {
   "cell_type": "code",
   "execution_count": null,
   "metadata": {
    "collapsed": true
   },
   "outputs": [],
   "source": [
    "full_data['장애1등급_당첨'] = len(A11_data_one_win)"
   ]
  },
  {
   "cell_type": "code",
   "execution_count": null,
   "metadata": {
    "collapsed": true
   },
   "outputs": [],
   "source": [
    "len(A11_data_one_lose) # 장애1등급_탈락"
   ]
  },
  {
   "cell_type": "code",
   "execution_count": null,
   "metadata": {
    "collapsed": true
   },
   "outputs": [],
   "source": [
    "full_data['장애1등급_탈락'] = len(A11_data_one_lose)"
   ]
  },
  {
   "cell_type": "code",
   "execution_count": null,
   "metadata": {
    "collapsed": true
   },
   "outputs": [],
   "source": [
    "len(A11_data_two_win) # 장애2등급_당첨"
   ]
  },
  {
   "cell_type": "code",
   "execution_count": null,
   "metadata": {
    "collapsed": true
   },
   "outputs": [],
   "source": [
    "full_data['장애2등급_당첨'] = len(A11_data_two_win)"
   ]
  },
  {
   "cell_type": "code",
   "execution_count": null,
   "metadata": {
    "collapsed": true
   },
   "outputs": [],
   "source": [
    "len(A11_data_two_lose) # 장애2등급_탈락"
   ]
  },
  {
   "cell_type": "code",
   "execution_count": null,
   "metadata": {
    "collapsed": true
   },
   "outputs": [],
   "source": [
    "full_data['장애2등급_탈락'] = len(A11_data_two_lose)"
   ]
  },
  {
   "cell_type": "code",
   "execution_count": null,
   "metadata": {
    "collapsed": true
   },
   "outputs": [],
   "source": [
    "len(A11_data_three_win) # 장애3등급_당첨"
   ]
  },
  {
   "cell_type": "code",
   "execution_count": null,
   "metadata": {
    "collapsed": true
   },
   "outputs": [],
   "source": [
    "full_data['장애3등급_당첨'] = len(A11_data_three_win)"
   ]
  },
  {
   "cell_type": "code",
   "execution_count": null,
   "metadata": {
    "collapsed": true
   },
   "outputs": [],
   "source": [
    "len(A11_data_three_lose) # 장애3등급_탈락"
   ]
  },
  {
   "cell_type": "code",
   "execution_count": null,
   "metadata": {
    "collapsed": true
   },
   "outputs": [],
   "source": [
    "full_data['장애3등급_탈락'] = len(A11_data_three_lose)"
   ]
  },
  {
   "cell_type": "code",
   "execution_count": null,
   "metadata": {
    "collapsed": true
   },
   "outputs": [],
   "source": [
    "len(A11_data_four_win) # 장애4등급이하_당첨"
   ]
  },
  {
   "cell_type": "code",
   "execution_count": null,
   "metadata": {
    "collapsed": true
   },
   "outputs": [],
   "source": [
    "full_data['장애4등급이하_당첨'] = len(A11_data_four_win)"
   ]
  },
  {
   "cell_type": "code",
   "execution_count": null,
   "metadata": {
    "collapsed": true
   },
   "outputs": [],
   "source": [
    "len(A11_data_four_lose) # 장애4등급이하_탈락"
   ]
  },
  {
   "cell_type": "code",
   "execution_count": null,
   "metadata": {
    "collapsed": true
   },
   "outputs": [],
   "source": [
    "full_data['장애4등급이하_탈락'] = len(A11_data_four_lose)"
   ]
  },
  {
   "cell_type": "code",
   "execution_count": null,
   "metadata": {
    "collapsed": true
   },
   "outputs": [],
   "source": [
    "A11_data_married_three = []\n",
    "A11_data_married_five = []\n",
    "A11_data_married_dang = []\n",
    "A11_data_married_ta = [] \n",
    "A11_data_married_child1 = []\n",
    "A11_data_married_child2 = []\n",
    "A11_data_married_child3 = []\n",
    "\n",
    "if A_24 == '신혼부부':\n",
    "    A11_data_married_three = A11_data.ix[A11_data.W_39 == '1순위']\n",
    "    A11_data_married_five = A11_data.ix[A11_data.W_39 == '2순위']\n",
    "    A11_data_married_dang = A11_data.ix[A11_data.W_40 == '당해']\n",
    "    A11_data_married_ta = A11_data.ix[A11_data.W_40 == '타']\n",
    "    A11_data_married_child1 = A11_data.ix[A11_data.W_41 == 1]\n",
    "    A11_data_married_child2 = A11_data.ix[A11_data.W_41 == 2]\n",
    "    A11_data_married_child3 = A11_data.ix[A11_data.W_41 >= 3]"
   ]
  },
  {
   "cell_type": "code",
   "execution_count": null,
   "metadata": {
    "collapsed": true
   },
   "outputs": [],
   "source": [
    "## 결혼 3년이내 당첨/탈락\n",
    "A11_data_married_three_win = A11_data_married_three.ix[A11_data_married_three.W_4 == '당첨']\n",
    "A11_data_married_three_lose = A11_data_married_three.ix[A11_data_married_three.W_4 != '당첨']\n",
    "## 결혼 5년이내 당첨/탈락\n",
    "A11_data_married_five_win = A11_data_married_five.ix[A11_data_married_five.W_4 == '당첨']\n",
    "A11_data_married_five_lose = A11_data_married_five.ix[A11_data_married_five.W_4 != '당첨']\n",
    "## 당해지역 거주 당첨/탈락\n",
    "A11_data_married_dang_win = A11_data_married_dang.ix[A11_data_married_dang.W_4 == '당첨']\n",
    "A11_data_married_dang_lose = A11_data_married_dang.ix[A11_data_married_dang.W_4 != '당첨']\n",
    "## 타지역 거주 당첨/탈락\n",
    "A11_data_married_ta_win = A11_data_married_ta.ix[A11_data_married_ta.W_4 == '당첨']\n",
    "A11_data_married_ta_lose = A11_data_married_ta.ix[A11_data_married_ta.W_4 != '당첨']\n",
    "## 자녀수 1명 당첨/탈락\n",
    "A11_data_married_child1_win = A11_data_married_child1.ix[A11_data_married_child1.W_4 == '당첨']\n",
    "A11_data_married_child1_lose = A11_data_married_child1.ix[A11_data_married_child1.W_4 != '당첨']\n",
    "## 자녀수 2명 당첨/탈락\n",
    "A11_data_married_child2_win = A11_data_married_child2.ix[A11_data_married_child2.W_4 == '당첨']\n",
    "A11_data_married_child2_lose = A11_data_married_child2.ix[A11_data_married_child2.W_4 != '당첨']\n",
    "## 자녀수 3명 당첨/탈락\n",
    "A11_data_married_child3_win = A11_data_married_child3.ix[A11_data_married_child3.W_4 == '당첨']\n",
    "A11_data_married_child3_lose = A11_data_married_child3.ix[A11_data_married_child3.W_4 != '당첨']"
   ]
  },
  {
   "cell_type": "code",
   "execution_count": null,
   "metadata": {
    "collapsed": true
   },
   "outputs": [],
   "source": [
    "len(A11_data_married_three_win) # 3년이내_당첨"
   ]
  },
  {
   "cell_type": "code",
   "execution_count": null,
   "metadata": {
    "collapsed": true
   },
   "outputs": [],
   "source": [
    "full_data['결혼3년이내_당첨'] = len(A11_data_married_three_win)"
   ]
  },
  {
   "cell_type": "code",
   "execution_count": null,
   "metadata": {
    "collapsed": true
   },
   "outputs": [],
   "source": [
    "len(A11_data_married_three_lose) # 3년이내_탈락"
   ]
  },
  {
   "cell_type": "code",
   "execution_count": null,
   "metadata": {
    "collapsed": true
   },
   "outputs": [],
   "source": [
    "full_data['결혼3년이내_탈락'] = len(A11_data_married_three_lose)"
   ]
  },
  {
   "cell_type": "code",
   "execution_count": null,
   "metadata": {
    "collapsed": true
   },
   "outputs": [],
   "source": [
    "len(A11_data_married_five_win) # 5년이내_당첨"
   ]
  },
  {
   "cell_type": "code",
   "execution_count": null,
   "metadata": {
    "collapsed": true
   },
   "outputs": [],
   "source": [
    "full_data['결혼5년이내_당첨'] = len(A11_data_married_five_win)"
   ]
  },
  {
   "cell_type": "code",
   "execution_count": null,
   "metadata": {
    "collapsed": true
   },
   "outputs": [],
   "source": [
    "len(A11_data_married_five_lose) # 5년이내_탈락"
   ]
  },
  {
   "cell_type": "code",
   "execution_count": null,
   "metadata": {
    "collapsed": true
   },
   "outputs": [],
   "source": [
    "full_data['결혼5년이내_탈락'] = len(A11_data_married_five_lose)"
   ]
  },
  {
   "cell_type": "code",
   "execution_count": null,
   "metadata": {
    "collapsed": true
   },
   "outputs": [],
   "source": [
    "len(A11_data_married_dang_win) # 당해거주_당첨"
   ]
  },
  {
   "cell_type": "code",
   "execution_count": null,
   "metadata": {
    "collapsed": true
   },
   "outputs": [],
   "source": [
    "full_data['당해거주_당첨'] = len(A11_data_married_dang_win)"
   ]
  },
  {
   "cell_type": "code",
   "execution_count": null,
   "metadata": {
    "collapsed": true
   },
   "outputs": [],
   "source": [
    "len(A11_data_married_dang_lose) # 당해거주_탈락"
   ]
  },
  {
   "cell_type": "code",
   "execution_count": null,
   "metadata": {
    "collapsed": true
   },
   "outputs": [],
   "source": [
    "full_data['당해거주_탈락'] = len(A11_data_married_dang_lose)"
   ]
  },
  {
   "cell_type": "code",
   "execution_count": null,
   "metadata": {
    "collapsed": true
   },
   "outputs": [],
   "source": [
    "len(A11_data_married_ta_win) # 당해미거주_당첨"
   ]
  },
  {
   "cell_type": "code",
   "execution_count": null,
   "metadata": {
    "collapsed": true
   },
   "outputs": [],
   "source": [
    "full_data['당해미거주_당첨'] = len(A11_data_married_ta_win)"
   ]
  },
  {
   "cell_type": "code",
   "execution_count": null,
   "metadata": {
    "collapsed": true
   },
   "outputs": [],
   "source": [
    "len(A11_data_married_ta_lose) # 당해미거주_탈락"
   ]
  },
  {
   "cell_type": "code",
   "execution_count": null,
   "metadata": {
    "collapsed": true
   },
   "outputs": [],
   "source": [
    "full_data['당해미거주_탈락'] = len(A11_data_married_ta_lose)"
   ]
  },
  {
   "cell_type": "code",
   "execution_count": null,
   "metadata": {
    "collapsed": true
   },
   "outputs": [],
   "source": [
    "len(A11_data_married_child1_win) # 자녀수_1_당첨"
   ]
  },
  {
   "cell_type": "code",
   "execution_count": null,
   "metadata": {
    "collapsed": true
   },
   "outputs": [],
   "source": [
    "full_data['자녀수_1_당첨'] = len(A11_data_married_child1_win)"
   ]
  },
  {
   "cell_type": "code",
   "execution_count": null,
   "metadata": {
    "collapsed": true
   },
   "outputs": [],
   "source": [
    "len(A11_data_married_child1_lose) # 자녀수_1_탈락"
   ]
  },
  {
   "cell_type": "code",
   "execution_count": null,
   "metadata": {
    "collapsed": true
   },
   "outputs": [],
   "source": [
    "full_data['자녀수_1_탈락'] = len(A11_data_married_child1_lose)"
   ]
  },
  {
   "cell_type": "code",
   "execution_count": null,
   "metadata": {
    "collapsed": true
   },
   "outputs": [],
   "source": [
    "len(A11_data_married_child2_win) # 자녀수_2_당첨"
   ]
  },
  {
   "cell_type": "code",
   "execution_count": null,
   "metadata": {
    "collapsed": true
   },
   "outputs": [],
   "source": [
    "full_data['자녀수_2_당첨'] = len(A11_data_married_child2_win)"
   ]
  },
  {
   "cell_type": "code",
   "execution_count": null,
   "metadata": {
    "collapsed": true
   },
   "outputs": [],
   "source": [
    "len(A11_data_married_child2_lose) # 자녀수_2_탈락"
   ]
  },
  {
   "cell_type": "code",
   "execution_count": null,
   "metadata": {
    "collapsed": true
   },
   "outputs": [],
   "source": [
    "full_data['자녀수_2_탈락'] = len(A11_data_married_child2_lose)"
   ]
  },
  {
   "cell_type": "code",
   "execution_count": null,
   "metadata": {
    "collapsed": true
   },
   "outputs": [],
   "source": [
    "len(A11_data_married_child3_win) # 자녀수_3_당첨"
   ]
  },
  {
   "cell_type": "code",
   "execution_count": null,
   "metadata": {
    "collapsed": true
   },
   "outputs": [],
   "source": [
    "full_data['자녀수_3_당첨'] = len(A11_data_married_child3_win)"
   ]
  },
  {
   "cell_type": "code",
   "execution_count": null,
   "metadata": {
    "collapsed": true
   },
   "outputs": [],
   "source": [
    "len(A11_data_married_child3_lose) # 자녀수_3_탈락"
   ]
  },
  {
   "cell_type": "code",
   "execution_count": null,
   "metadata": {
    "collapsed": true
   },
   "outputs": [],
   "source": [
    "full_data['자녀수_3_탈락'] = len(A11_data_married_child3_lose)"
   ]
  },
  {
   "cell_type": "code",
   "execution_count": null,
   "metadata": {
    "collapsed": true
   },
   "outputs": [],
   "source": [
    "A11_data_parent_care = []\n",
    "A11_data_parent_careless  = []\n",
    "A11_data_manufac = []\n",
    "A11_data_not_manufac = []\n",
    "A11_data_weekness_o = []\n",
    "A11_data_weekness_x = []\n",
    "\n",
    "if A_24 == '3자녀가구':\n",
    "    A11_data_parent_care = A11_data.ix[A11_data.W_30 =='Y']\n",
    "    A11_data_parent_careless = A11_data.ix[A11_data.W_30 != 'Y']\n",
    "    A11_data_manufac = A11_data.ix[A11_data.W_31 == 'Y']\n",
    "    A11_data_not_manufac = A11_data.ix[A11_data.W_31 != 'Y']\n",
    "    A11_data_weekness_o = A11_data.ix[A11_data.W_32 == 'Y']\n",
    "    A11_data_weekness_x = A11_data.ix[A11_data.W_32 != 'Y']"
   ]
  },
  {
   "cell_type": "code",
   "execution_count": null,
   "metadata": {
    "collapsed": true
   },
   "outputs": [],
   "source": [
    "## 65세부양 당첨/탈락\n",
    "A11_data_parent_care_win = A11_data_parent_care.ix[A11_data_parent_care.W_4 =='당첨']\n",
    "A11_data_parent_care_lose = A11_data_parent_care.ix[A11_data_parent_care.W_4 != '당첨']\n",
    "## 65세미부양 당첨/탈락\n",
    "A11_data_parent_careless_win = A11_data_parent_careless.ix[A11_data_parent_careless.W_4 == '당첨']\n",
    "A11_data_parent_careless_lose = A11_data_parent_careless.ix[A11_data_parent_careless.W_4 != '당첨']\n",
    "## 제조업종사 당첨/탈락\n",
    "A11_data_manufac_win = A11_data_manufac.ix[A11_data_manufac.W_4 == '당첨']\n",
    "A11_data_manufac_lose = A11_data_manufac.ix[A11_data_manufac.W_4 != '당첨']\n",
    "## 제조업미종사 당첨/탈락\n",
    "A11_data_not_manufac_win = A11_data_not_manufac.ix[A11_data_not_manufac.W_4 == '당첨']\n",
    "A11_data_not_manufac_lose = A11_data_not_manufac.ix[A11_data_not_manufac.W_4 != '당첨']\n",
    "## 취약계층 당첨/탈락\n",
    "A11_data_weekness_o_win = A11_data_weekness_o.ix[A11_data_weekness_o.W_4 =='당첨']\n",
    "A11_data_weekness_o_lose = A11_data_weekness_o.ix[A11_data_weekness_o.W_4 != '당첨']\n",
    "## 미취약계속 당첨/탈락\n",
    "A11_data_weekness_x_win = A11_data_weekness_x.ix[A11_data_weekness_x.W_4 == '당첨']\n",
    "A11_data_weekness_x_lose = A11_data_weekness_x.ix[A11_data_weekness_x.W_4 != '당첨']"
   ]
  },
  {
   "cell_type": "code",
   "execution_count": null,
   "metadata": {
    "collapsed": true
   },
   "outputs": [],
   "source": [
    "len(A11_data_parent_care_win) # 65세_부양_당첨"
   ]
  },
  {
   "cell_type": "code",
   "execution_count": null,
   "metadata": {
    "collapsed": true
   },
   "outputs": [],
   "source": [
    "full_data['65세_부양_당첨'] = len(A11_data_parent_care_win)"
   ]
  },
  {
   "cell_type": "code",
   "execution_count": null,
   "metadata": {
    "collapsed": true
   },
   "outputs": [],
   "source": [
    "len(A11_data_parent_care_lose) # 65세_부양_탈락"
   ]
  },
  {
   "cell_type": "code",
   "execution_count": null,
   "metadata": {
    "collapsed": true
   },
   "outputs": [],
   "source": [
    "full_data['65세_부양_탈락'] = len(A11_data_parent_care_lose)"
   ]
  },
  {
   "cell_type": "code",
   "execution_count": null,
   "metadata": {
    "collapsed": true
   },
   "outputs": [],
   "source": [
    "len(A11_data_parent_careless_win) # 65세_미부양_당첨"
   ]
  },
  {
   "cell_type": "code",
   "execution_count": null,
   "metadata": {
    "collapsed": true
   },
   "outputs": [],
   "source": [
    "full_data['65세_미부양_당첨'] = len(A11_data_parent_careless_win)"
   ]
  },
  {
   "cell_type": "code",
   "execution_count": null,
   "metadata": {
    "collapsed": true
   },
   "outputs": [],
   "source": [
    "len(A11_data_parent_careless_lose) # 65세_미부양_탈락"
   ]
  },
  {
   "cell_type": "code",
   "execution_count": null,
   "metadata": {
    "collapsed": true
   },
   "outputs": [],
   "source": [
    "full_data['65세_미부양_탈락'] = len(A11_data_parent_careless_lose)"
   ]
  },
  {
   "cell_type": "code",
   "execution_count": null,
   "metadata": {
    "collapsed": true
   },
   "outputs": [],
   "source": [
    "len(A11_data_manufac_win) # 제조업_근무_당첨"
   ]
  },
  {
   "cell_type": "code",
   "execution_count": null,
   "metadata": {
    "collapsed": true
   },
   "outputs": [],
   "source": [
    "full_data['제조업_근무_당첨'] = len(A11_data_manufac_win)"
   ]
  },
  {
   "cell_type": "code",
   "execution_count": null,
   "metadata": {
    "collapsed": true
   },
   "outputs": [],
   "source": [
    "len(A11_data_manufac_lose) # 제조업_근무_탈락"
   ]
  },
  {
   "cell_type": "code",
   "execution_count": null,
   "metadata": {
    "collapsed": true
   },
   "outputs": [],
   "source": [
    "full_data['제조업_근무_탈락'] = len(A11_data_manufac_lose)"
   ]
  },
  {
   "cell_type": "code",
   "execution_count": null,
   "metadata": {
    "collapsed": true
   },
   "outputs": [],
   "source": [
    "len(A11_data_not_manufac_win) # 제조업_미근무_당첨"
   ]
  },
  {
   "cell_type": "code",
   "execution_count": null,
   "metadata": {
    "collapsed": true
   },
   "outputs": [],
   "source": [
    "full_data['제조업_미근무_당첨'] = len(A11_data_not_manufac_win)"
   ]
  },
  {
   "cell_type": "code",
   "execution_count": null,
   "metadata": {
    "collapsed": true
   },
   "outputs": [],
   "source": [
    "len(A11_data_not_manufac_lose) # 제조업_미근무_탈락"
   ]
  },
  {
   "cell_type": "code",
   "execution_count": null,
   "metadata": {
    "collapsed": true
   },
   "outputs": [],
   "source": [
    "full_data['제조업_미근무_탈락'] = len(A11_data_not_manufac_lose)"
   ]
  },
  {
   "cell_type": "code",
   "execution_count": null,
   "metadata": {
    "collapsed": true
   },
   "outputs": [],
   "source": [
    "len(A11_data_weekness_o_win) # 사회취약계층_해당_당첨"
   ]
  },
  {
   "cell_type": "code",
   "execution_count": null,
   "metadata": {
    "collapsed": true
   },
   "outputs": [],
   "source": [
    "full_data['사회취약계층_해당_당첨'] = len(A11_data_weekness_o_win)"
   ]
  },
  {
   "cell_type": "code",
   "execution_count": null,
   "metadata": {
    "collapsed": true
   },
   "outputs": [],
   "source": [
    "len(A11_data_weekness_o_lose) # 사회취약계층_해당_탈락"
   ]
  },
  {
   "cell_type": "code",
   "execution_count": null,
   "metadata": {
    "collapsed": true
   },
   "outputs": [],
   "source": [
    "full_data['사회취약계층_해당_탈락'] = len(A11_data_weekness_o_lose)"
   ]
  },
  {
   "cell_type": "code",
   "execution_count": null,
   "metadata": {
    "collapsed": true
   },
   "outputs": [],
   "source": [
    "len(A11_data_weekness_x_win) # 사회취약계층_미해당_당첨"
   ]
  },
  {
   "cell_type": "code",
   "execution_count": null,
   "metadata": {
    "collapsed": true
   },
   "outputs": [],
   "source": [
    "full_data['사회취약계층_미해당_당첨'] = len(A11_data_weekness_x_win)"
   ]
  },
  {
   "cell_type": "code",
   "execution_count": null,
   "metadata": {
    "collapsed": true
   },
   "outputs": [],
   "source": [
    "len(A11_data_weekness_x_lose) # 사회취약계층_미해당_탈락"
   ]
  },
  {
   "cell_type": "code",
   "execution_count": null,
   "metadata": {
    "collapsed": true
   },
   "outputs": [],
   "source": [
    "full_data['사회취약계층_미해당_탈락'] = len(A11_data_weekness_x_lose)"
   ]
  },
  {
   "cell_type": "code",
   "execution_count": 164,
   "metadata": {
    "collapsed": false
   },
   "outputs": [
    {
     "data": {
      "text/html": [
       "<div>\n",
       "<table border=\"1\" class=\"dataframe\">\n",
       "  <thead>\n",
       "    <tr style=\"text-align: right;\">\n",
       "      <th></th>\n",
       "      <th>신청인원</th>\n",
       "      <th>커트라인점수</th>\n",
       "      <th>50%초과_당첨</th>\n",
       "      <th>50%초과_탈락</th>\n",
       "      <th>50%이하_당첨</th>\n",
       "      <th>50%이하_탈락</th>\n",
       "      <th>부양가족_1인_당첨</th>\n",
       "      <th>부양가족_1인_탈락</th>\n",
       "      <th>부양가족_2인_당첨</th>\n",
       "      <th>부양가족_2인_탈락</th>\n",
       "      <th>...</th>\n",
       "      <th>청약저축_36이상_당첨</th>\n",
       "      <th>청약저축_36이상_탈락</th>\n",
       "      <th>청약저축_48이상_당첨</th>\n",
       "      <th>청약저축_48이상_탈락</th>\n",
       "      <th>청약저축_60이상_당첨</th>\n",
       "      <th>청약저축_60이상_탈락</th>\n",
       "      <th>계약사실_1년이내_당첨</th>\n",
       "      <th>계약사실_1년이내_탈락</th>\n",
       "      <th>게약사실_3년이내_당첨</th>\n",
       "      <th>게약사실_3년이내_탈락</th>\n",
       "    </tr>\n",
       "  </thead>\n",
       "  <tbody>\n",
       "    <tr>\n",
       "      <th>0</th>\n",
       "      <td>68</td>\n",
       "      <td>0</td>\n",
       "      <td>0</td>\n",
       "      <td>0</td>\n",
       "      <td>31</td>\n",
       "      <td>37</td>\n",
       "      <td>3</td>\n",
       "      <td>3</td>\n",
       "      <td>0</td>\n",
       "      <td>0</td>\n",
       "      <td>...</td>\n",
       "      <td>1</td>\n",
       "      <td>2</td>\n",
       "      <td>1</td>\n",
       "      <td>0</td>\n",
       "      <td>2</td>\n",
       "      <td>5</td>\n",
       "      <td>0</td>\n",
       "      <td>2</td>\n",
       "      <td>2</td>\n",
       "      <td>0</td>\n",
       "    </tr>\n",
       "  </tbody>\n",
       "</table>\n",
       "<p>1 rows × 36 columns</p>\n",
       "</div>"
      ],
      "text/plain": [
       "   신청인원  커트라인점수  50%초과_당첨  50%초과_탈락  50%이하_당첨  50%이하_탈락  부양가족_1인_당첨  \\\n",
       "0    68       0         0         0        31        37           3   \n",
       "\n",
       "   부양가족_1인_탈락  부양가족_2인_당첨  부양가족_2인_탈락      ...       청약저축_36이상_당첨  \\\n",
       "0           3           0           0      ...                  1   \n",
       "\n",
       "   청약저축_36이상_탈락  청약저축_48이상_당첨  청약저축_48이상_탈락  청약저축_60이상_당첨  청약저축_60이상_탈락  \\\n",
       "0             2             1             0             2             5   \n",
       "\n",
       "   계약사실_1년이내_당첨  계약사실_1년이내_탈락  게약사실_3년이내_당첨  게약사실_3년이내_탈락  \n",
       "0             0             2             2             0  \n",
       "\n",
       "[1 rows x 36 columns]"
      ]
     },
     "execution_count": 164,
     "metadata": {},
     "output_type": "execute_result"
    }
   ],
   "source": [
    "full_data # 잘들어갔는지 확인"
   ]
  },
  {
   "cell_type": "code",
   "execution_count": 166,
   "metadata": {
    "collapsed": false
   },
   "outputs": [],
   "source": [
    "## 엑셀저장block_nm = '';A_6 = ''; A_11 = '';A_24 = '';\n",
    "filename = block_nm+\"_\"+A_6+\"_\"+A_24+\".xlsx\"\n",
    "writer = pd.ExcelWriter(filename)\n",
    "full_data.to_excel(writer,'Sheet1')\n",
    "writer.save()"
   ]
  }
 ],
 "metadata": {
  "kernelspec": {
   "display_name": "Python 3",
   "language": "python",
   "name": "python3"
  },
  "language_info": {
   "codemirror_mode": {
    "name": "ipython",
    "version": 3
   },
   "file_extension": ".py",
   "mimetype": "text/x-python",
   "name": "python",
   "nbconvert_exporter": "python",
   "pygments_lexer": "ipython3",
   "version": "3.5.1"
  }
 },
 "nbformat": 4,
 "nbformat_minor": 0
}
